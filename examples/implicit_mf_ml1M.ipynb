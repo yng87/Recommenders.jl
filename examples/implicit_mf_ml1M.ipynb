{
 "cells": [
  {
   "cell_type": "code",
   "execution_count": 1,
   "source": [
    "using DataFrames, TableOperations, Tables, Random\n",
    "using Recommender: Movielens1M, load_dataset, ratio_split, ImplicitMF, evaluate_u2i, PrecisionAtK, RecallAtK, NDCG, fit!, predict_u2i, make_u2i_dataset"
   ],
   "outputs": [],
   "metadata": {}
  },
  {
   "cell_type": "code",
   "execution_count": 2,
   "source": [
    "ml1M = Movielens1M()\n",
    "download(ml1M)\n",
    "rating, user, movie = load_dataset(ml1M);"
   ],
   "outputs": [],
   "metadata": {}
  },
  {
   "cell_type": "code",
   "execution_count": 3,
   "source": [
    "rating = rating |> TableOperations.filter(x->Tables.getcolumn(x, :rating) >= 4)"
   ],
   "outputs": [
    {
     "output_type": "execute_result",
     "data": {
      "text/plain": [
       "TableOperations.Filter{var\"#1#2\", CSV.File{false}}(var\"#1#2\"(), CSV.File(\"/Users/keisuke.yanagi/workspace/Recommender.jl/src/dataset/../../dataset/movielens1m/ratings.dat\"):\n",
       "Size: 1000209 x 4\n",
       "Tables.Schema:\n",
       " :userid     Int64\n",
       " :movieid    Int64\n",
       " :rating     Int64\n",
       " :timestamp  Int64)"
      ]
     },
     "metadata": {},
     "execution_count": 3
    }
   ],
   "metadata": {}
  },
  {
   "cell_type": "code",
   "execution_count": 4,
   "source": [
    "movie2title = Dict()\n",
    "for row in Tables.rows(movie)\n",
    "    movie2title[row[:movieid]] = row[:title]\n",
    "end\n",
    "rating = rating |> TableOperations.transform(Dict(:movieid=>x->movie2title[x]))"
   ],
   "outputs": [
    {
     "output_type": "execute_result",
     "data": {
      "text/plain": [
       "TableOperations.Transforms{false, TableOperations.Filter{var\"#1#2\", CSV.File{false}}, Dict{Symbol, var\"#3#4\"}}(TableOperations.Filter{var\"#1#2\", CSV.File{false}}(var\"#1#2\"(), CSV.File(\"/Users/keisuke.yanagi/workspace/Recommender.jl/src/dataset/../../dataset/movielens1m/ratings.dat\"):\n",
       "Size: 1000209 x 4\n",
       "Tables.Schema:\n",
       " :userid     Int64\n",
       " :movieid    Int64\n",
       " :rating     Int64\n",
       " :timestamp  Int64), Dict(:movieid => var\"#3#4\"()))"
      ]
     },
     "metadata": {},
     "execution_count": 4
    }
   ],
   "metadata": {}
  },
  {
   "cell_type": "code",
   "execution_count": 5,
   "source": [
    "Random.seed!(1234);\n",
    "train_valid_table, test_table = ratio_split(rating, 0.8)\n",
    "\n",
    "train_table, valid_table = ratio_split(train_valid_table, 0.8)\n",
    "length(Tables.rows(train_table)), length(Tables.rows(valid_table)), length(Tables.rows(test_table))"
   ],
   "outputs": [
    {
     "output_type": "execute_result",
     "data": {
      "text/plain": [
       "(368180, 92045, 115056)"
      ]
     },
     "metadata": {},
     "execution_count": 5
    }
   ],
   "metadata": {}
  },
  {
   "cell_type": "code",
   "execution_count": 6,
   "source": [
    "prec10 = PrecisionAtK(10)\n",
    "recall10 = RecallAtK(10)\n",
    "ndcg10 = NDCG(10)\n",
    "metrics = [prec10, recall10, ndcg10]"
   ],
   "outputs": [
    {
     "output_type": "execute_result",
     "data": {
      "text/plain": [
       "3-element Vector{Recommender.AbstractMetric}:\n",
       " PrecisionAtK(10)\n",
       " RecallAtK(10)\n",
       " NDCG(10)"
      ]
     },
     "metadata": {},
     "execution_count": 6
    }
   ],
   "metadata": {}
  },
  {
   "cell_type": "code",
   "execution_count": 7,
   "source": [
    "model = ImplicitMF(128, true, 0.005)"
   ],
   "outputs": [
    {
     "output_type": "execute_result",
     "data": {
      "text/plain": [
       "ImplicitMF(128, true, 0.005, nothing, nothing, nothing, nothing, nothing, nothing, nothing, nothing, nothing)"
      ]
     },
     "metadata": {},
     "execution_count": 7
    }
   ],
   "metadata": {}
  },
  {
   "cell_type": "code",
   "execution_count": 8,
   "source": [
    "evaluate_u2i(model, train_valid_table, test_table, metrics, 10, col_item=:movieid, n_epochs=256, n_negatives=8, learning_rate=0.002, drop_history=true)"
   ],
   "outputs": [
    {
     "output_type": "stream",
     "name": "stderr",
     "text": [
      "┌ Info: epoch=1: loss=Inf, val_loss=0.0\n",
      "└ @ Recommender /Users/keisuke.yanagi/workspace/Recommender.jl/src/model/implicit_mf.jl:142\n",
      "┌ Info: epoch=2: loss=0.36246173237387935, val_loss=0.0\n",
      "└ @ Recommender /Users/keisuke.yanagi/workspace/Recommender.jl/src/model/implicit_mf.jl:142\n",
      "┌ Info: epoch=3: loss=0.33172135607075137, val_loss=0.0\n",
      "└ @ Recommender /Users/keisuke.yanagi/workspace/Recommender.jl/src/model/implicit_mf.jl:142\n",
      "┌ Info: epoch=4: loss=0.31273707803755907, val_loss=0.0\n",
      "└ @ Recommender /Users/keisuke.yanagi/workspace/Recommender.jl/src/model/implicit_mf.jl:142\n",
      "┌ Info: epoch=5: loss=0.3001929955036619, val_loss=0.0\n",
      "└ @ Recommender /Users/keisuke.yanagi/workspace/Recommender.jl/src/model/implicit_mf.jl:142\n",
      "┌ Info: epoch=6: loss=0.2911181400511353, val_loss=0.0\n",
      "└ @ Recommender /Users/keisuke.yanagi/workspace/Recommender.jl/src/model/implicit_mf.jl:142\n",
      "┌ Info: epoch=7: loss=0.2838532136645056, val_loss=0.0\n",
      "└ @ Recommender /Users/keisuke.yanagi/workspace/Recommender.jl/src/model/implicit_mf.jl:142\n",
      "┌ Info: epoch=8: loss=0.2782471636777447, val_loss=0.0\n",
      "└ @ Recommender /Users/keisuke.yanagi/workspace/Recommender.jl/src/model/implicit_mf.jl:142\n",
      "┌ Info: epoch=9: loss=0.2738618815100206, val_loss=0.0\n",
      "└ @ Recommender /Users/keisuke.yanagi/workspace/Recommender.jl/src/model/implicit_mf.jl:142\n",
      "┌ Info: epoch=10: loss=0.2700124795576626, val_loss=0.0\n",
      "└ @ Recommender /Users/keisuke.yanagi/workspace/Recommender.jl/src/model/implicit_mf.jl:142\n",
      "┌ Info: epoch=11: loss=0.26673902453692955, val_loss=0.0\n",
      "└ @ Recommender /Users/keisuke.yanagi/workspace/Recommender.jl/src/model/implicit_mf.jl:142\n",
      "┌ Info: epoch=12: loss=0.2638780919235087, val_loss=0.0\n",
      "└ @ Recommender /Users/keisuke.yanagi/workspace/Recommender.jl/src/model/implicit_mf.jl:142\n"
     ]
    }
   ],
   "metadata": {}
  },
  {
   "cell_type": "code",
   "execution_count": null,
   "source": [],
   "outputs": [],
   "metadata": {}
  }
 ],
 "metadata": {
  "orig_nbformat": 4,
  "language_info": {
   "file_extension": ".jl",
   "name": "julia",
   "mimetype": "application/julia",
   "version": "1.6.0"
  },
  "kernelspec": {
   "name": "julia-1.6",
   "display_name": "Julia 1.6.0",
   "language": "julia"
  }
 },
 "nbformat": 4,
 "nbformat_minor": 2
}