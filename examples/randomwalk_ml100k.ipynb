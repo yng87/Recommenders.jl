{
 "cells": [
  {
   "cell_type": "code",
   "execution_count": 12,
   "source": [
    "using DataFrames, TableOperations, Tables, Random\n",
    "using Recommenders: Movielens100k, load_dataset, ratio_split, Randomwalk, evaluate_u2i, MeanPrecision, MeanRecall, MeanNDCG, fit!, predict_u2i,"
   ],
   "outputs": [],
   "metadata": {}
  },
  {
   "cell_type": "code",
   "execution_count": 2,
   "source": [
    "ml100k = Movielens100k()\n",
    "download(ml100k)\n",
    "rating, user, movie = load_dataset(ml100k);"
   ],
   "outputs": [],
   "metadata": {}
  },
  {
   "cell_type": "code",
   "execution_count": 3,
   "source": [
    "rating = rating |> TableOperations.transform(Dict(:rating=>x->1.))"
   ],
   "outputs": [
    {
     "output_type": "execute_result",
     "data": {
      "text/plain": [
       "TableOperations.Transforms{true, CSV.File, Dict{Symbol, var\"#1#2\"}}(CSV.File(\"/Users/keisuke.yanagi/workspace/Recommender.jl/src/dataset/../../dataset/movielens100k/u.data\"):\n",
       "Size: 100000 x 4\n",
       "Tables.Schema:\n",
       " :userid     Int64\n",
       " :movieid    Int64\n",
       " :rating     Int64\n",
       " :timestamp  Int64, Dict(:rating => var\"#1#2\"()))"
      ]
     },
     "metadata": {},
     "execution_count": 3
    }
   ],
   "metadata": {}
  },
  {
   "cell_type": "code",
   "execution_count": 4,
   "source": [
    "Random.seed!(1234);\n",
    "train_valid_table, test_table = ratio_split(rating, 0.8)\n",
    "\n",
    "train_table, valid_table = ratio_split(train_valid_table, 0.8)\n",
    "length(Tables.rows(train_table)), length(Tables.rows(valid_table)), length(Tables.rows(test_table))\n"
   ],
   "outputs": [
    {
     "output_type": "execute_result",
     "data": {
      "text/plain": [
       "(64000, 16000, 20000)"
      ]
     },
     "metadata": {},
     "execution_count": 4
    }
   ],
   "metadata": {}
  },
  {
   "cell_type": "code",
   "execution_count": 5,
   "source": [
    "prec10 = MeanPrecision(10)\n",
    "recall10 = MeanRecall(10)\n",
    "ndcg10 = MeanNDCG(10)\n",
    "metrics = [prec10, recall10, ndcg10]"
   ],
   "outputs": [
    {
     "output_type": "execute_result",
     "data": {
      "text/plain": [
       "3-element Vector{Recommenders.MeanMetric}:\n",
       " Recommenders.MeanMetric{Recommenders.Precision}(Recommenders.Precision(10, \"precision\"))\n",
       " Recommenders.MeanMetric{Recommenders.Recall}(Recommenders.Recall(10, \"recall\"))\n",
       " Recommenders.MeanMetric{Recommenders.NDCG}(Recommenders.NDCG(10, \"ndcg\"))"
      ]
     },
     "metadata": {},
     "execution_count": 5
    }
   ],
   "metadata": {}
  },
  {
   "cell_type": "code",
   "execution_count": 6,
   "source": [
    "using TreeParzen"
   ],
   "outputs": [],
   "metadata": {}
  },
  {
   "cell_type": "code",
   "execution_count": 7,
   "source": [
    "space = Dict(\n",
    "    :terminate_prob=>HP.QuantUniform(:terminate_prob, 0.1, 0.9, 0.1),\n",
    "    :total_walk_length=>HP.LogUniform(:total_walk_length, log(100), log(1e5)),\n",
    "    :min_high_visited_candidates=>HP.Choice(:min_high_visited_candidates, [10, 50, 100, 250, 500, 1000]),\n",
    "    :high_visited_count_threshold=>HP.Choice(:high_visited_count_threshold, [2, 4, 8, 16, 32, 64, Inf]),\n",
    "    :pixie_walk_length_scaling=>HP.Choice(:pixie_walk_length_scaling, [true, false]),\n",
    "    :pixie_multi_hit_boosting=>HP.Choice(:pixie_multi_hit_boosting, [true, false])\n",
    ")"
   ],
   "outputs": [
    {
     "output_type": "execute_result",
     "data": {
      "text/plain": [
       "Dict{Symbol, TreeParzen.Types.AbstractDelayed} with 6 entries:\n",
       "  :pixie_walk_length_scaling    => Choice(Param(:pixie_walk_length_scaling, Ran…\n",
       "  :pixie_multi_hit_boosting     => Choice(Param(:pixie_multi_hit_boosting, Rand…\n",
       "  :terminate_prob               => QuantUniform(:terminate_prob, QuantUniform(0…\n",
       "  :total_walk_length            => LogUniform(:total_walk_length, LogUniform(4.…\n",
       "  :min_high_visited_candidates  => Choice(Param(:min_high_visited_candidates, R…\n",
       "  :high_visited_count_threshold => Choice(Param(:high_visited_count_threshold, …"
      ]
     },
     "metadata": {},
     "execution_count": 7
    }
   ],
   "metadata": {}
  },
  {
   "cell_type": "code",
   "execution_count": 24,
   "source": [
    "function invert_output(params)\n",
    "    terminate_prob = params[:terminate_prob]\n",
    "    total_walk_length = round(Int, params[:total_walk_length])\n",
    "    min_high_visited_candidates = convert(Int, params[:min_high_visited_candidates])\n",
    "    high_visited_count_threshold = params[:high_visited_count_threshold]\n",
    "    if high_visited_count_threshold < Inf\n",
    "        high_visited_count_threshold = convert(Int, high_visited_count_threshold)\n",
    "    end\n",
    "    pixie_walk_length_scaling = params[:pixie_walk_length_scaling]\n",
    "    pixie_multi_hit_boosting = params[:pixie_multi_hit_boosting]\n",
    "\n",
    "    model = Randomwalk()\n",
    "    result = evaluate_u2i(\n",
    "        model,\n",
    "        train_table,\n",
    "        valid_table, metrics,\n",
    "        10,\n",
    "        col_user=:userid,\n",
    "        col_item=:movieid,\n",
    "        col_rating=:rating,\n",
    "        drop_history=true,\n",
    "        terminate_prob=terminate_prob,\n",
    "        total_walk_length=total_walk_length,\n",
    "        min_high_visited_candidates=min_high_visited_candidates,\n",
    "        high_visited_count_threshold=high_visited_count_threshold,\n",
    "        pixie_walk_length_scaling=pixie_walk_length_scaling,\n",
    "        pixie_multi_hit_boosting=pixie_multi_hit_boosting\n",
    "    )\n",
    "    @info params, result\n",
    "    return -result[:ndcg10]\n",
    "end"
   ],
   "outputs": [
    {
     "output_type": "execute_result",
     "data": {
      "text/plain": [
       "invert_output (generic function with 1 method)"
      ]
     },
     "metadata": {},
     "execution_count": 24
    }
   ],
   "metadata": {}
  },
  {
   "cell_type": "code",
   "execution_count": 25,
   "source": [
    "best = fmin(invert_output, space, 100, logging_interval=-1)"
   ],
   "outputs": [
    {
     "output_type": "stream",
     "name": "stderr",
     "text": [
      "┌ Info: (Dict{Symbol, Any}(:pixie_walk_length_scaling => false, :pixie_multi_hit_boosting => false, :terminate_prob => 0.4, :total_walk_length => 8418.626505476654, :min_high_visited_candidates => 1000, :high_visited_count_threshold => 64.0), (ndcg10 = 0.19117675883864965, precision10 = 0.15329787234042494, recall10 = 0.14270662871994222))\n",
      "└ @ Main In[24]:29\n",
      "┌ Info: (Dict{Symbol, Any}(:pixie_walk_length_scaling => true, :pixie_multi_hit_boosting => true, :terminate_prob => 0.8, :total_walk_length => 29101.080159576297, :min_high_visited_candidates => 50, :high_visited_count_threshold => Inf), (ndcg10 = 0.21381181471898275, precision10 = 0.1667021276595735, recall10 = 0.1588470890926771))\n",
      "└ @ Main In[24]:29\n",
      "┌ Info: (Dict{Symbol, Any}(:pixie_walk_length_scaling => false, :pixie_multi_hit_boosting => true, :terminate_prob => 0.5, :total_walk_length => 19465.099600589405, :min_high_visited_candidates => 10, :high_visited_count_threshold => 4.0), (ndcg10 = 0.20112198501695466, precision10 = 0.1597872340425525, recall10 = 0.14822718742355168))\n",
      "└ @ Main In[24]:29\n",
      "┌ Info: (Dict{Symbol, Any}(:pixie_walk_length_scaling => false, :pixie_multi_hit_boosting => true, :terminate_prob => 0.1, :total_walk_length => 61169.89876307388, :min_high_visited_candidates => 1000, :high_visited_count_threshold => 16.0), (ndcg10 = 0.16855152400322085, precision10 = 0.13659574468085064, recall10 = 0.11931525678373227))\n",
      "└ @ Main In[24]:29\n",
      "┌ Info: (Dict{Symbol, Any}(:pixie_walk_length_scaling => false, :pixie_multi_hit_boosting => true, :terminate_prob => 0.6000000000000001, :total_walk_length => 4484.573971202376, :min_high_visited_candidates => 1000, :high_visited_count_threshold => 8.0), (ndcg10 = 0.19104371299406037, precision10 = 0.15021276595744606, recall10 = 0.14196391782796447))\n",
      "└ @ Main In[24]:29\n",
      "┌ Info: (Dict{Symbol, Any}(:pixie_walk_length_scaling => true, :pixie_multi_hit_boosting => false, :terminate_prob => 0.5, :total_walk_length => 4334.905595904735, :min_high_visited_candidates => 100, :high_visited_count_threshold => 8.0), (ndcg10 = 0.18244420738854797, precision10 = 0.14478723404255275, recall10 = 0.13269996231298903))\n",
      "└ @ Main In[24]:29\n",
      "┌ Info: (Dict{Symbol, Any}(:pixie_walk_length_scaling => false, :pixie_multi_hit_boosting => true, :terminate_prob => 0.4, :total_walk_length => 1787.0661139948381, :min_high_visited_candidates => 50, :high_visited_count_threshold => 2.0), (ndcg10 = 0.16090827561386914, precision10 = 0.1292553191489358, recall10 = 0.11390598902136814))\n",
      "└ @ Main In[24]:29\n",
      "┌ Info: (Dict{Symbol, Any}(:pixie_walk_length_scaling => true, :pixie_multi_hit_boosting => false, :terminate_prob => 0.4, :total_walk_length => 126.37305228571445, :min_high_visited_candidates => 50, :high_visited_count_threshold => Inf), (ndcg10 = 0.07902403867511108, precision10 = 0.06595744680851097, recall10 = 0.04924669518781574))\n",
      "└ @ Main In[24]:29\n",
      "┌ Info: (Dict{Symbol, Any}(:pixie_walk_length_scaling => false, :pixie_multi_hit_boosting => false, :terminate_prob => 0.6000000000000001, :total_walk_length => 109.31792685583453, :min_high_visited_candidates => 1000, :high_visited_count_threshold => 16.0), (ndcg10 = 0.0681864538663396, precision10 = 0.05797872340425565, recall10 = 0.047730305612746486))\n",
      "└ @ Main In[24]:29\n",
      "┌ Info: (Dict{Symbol, Any}(:pixie_walk_length_scaling => false, :pixie_multi_hit_boosting => true, :terminate_prob => 0.7000000000000001, :total_walk_length => 38028.92215933672, :min_high_visited_candidates => 1000, :high_visited_count_threshold => 16.0), (ndcg10 = 0.2137256732519412, precision10 = 0.1678723404255311, recall10 = 0.15647277054152717))\n",
      "└ @ Main In[24]:29\n",
      "┌ Info: (Dict{Symbol, Any}(:pixie_walk_length_scaling => true, :pixie_multi_hit_boosting => false, :terminate_prob => 0.1, :total_walk_length => 243.31639050319203, :min_high_visited_candidates => 250, :high_visited_count_threshold => Inf), (ndcg10 = 0.09850016565780027, precision10 = 0.0843617021276596, recall10 = 0.05698157960270027))\n",
      "└ @ Main In[24]:29\n",
      "┌ Info: (Dict{Symbol, Any}(:pixie_walk_length_scaling => false, :pixie_multi_hit_boosting => false, :terminate_prob => 0.4, :total_walk_length => 46915.404165817316, :min_high_visited_candidates => 1000, :high_visited_count_threshold => 32.0), (ndcg10 = 0.20180735256699223, precision10 = 0.1589361702127652, recall10 = 0.14850389267607256))\n",
      "└ @ Main In[24]:29\n",
      "┌ Info: (Dict{Symbol, Any}(:pixie_walk_length_scaling => true, :pixie_multi_hit_boosting => false, :terminate_prob => 0.4, :total_walk_length => 8851.804553000004, :min_high_visited_candidates => 100, :high_visited_count_threshold => 2.0), (ndcg10 = 0.18521177522386162, precision10 = 0.1468085106382973, recall10 = 0.13484172409627532))\n",
      "└ @ Main In[24]:29\n",
      "┌ Info: (Dict{Symbol, Any}(:pixie_walk_length_scaling => false, :pixie_multi_hit_boosting => true, :terminate_prob => 0.9, :total_walk_length => 152.39174825878587, :min_high_visited_candidates => 1000, :high_visited_count_threshold => 8.0), (ndcg10 = 0.0826084499792509, precision10 = 0.06585106382978766, recall10 = 0.058697905418446175))\n",
      "└ @ Main In[24]:29\n",
      "┌ Info: (Dict{Symbol, Any}(:pixie_walk_length_scaling => true, :pixie_multi_hit_boosting => false, :terminate_prob => 0.2, :total_walk_length => 75756.58696448553, :min_high_visited_candidates => 100, :high_visited_count_threshold => 8.0), (ndcg10 = 0.18063605583951986, precision10 = 0.14382978723404202, recall10 = 0.13121483929889452))\n",
      "└ @ Main In[24]:29\n",
      "┌ Info: (Dict{Symbol, Any}(:pixie_walk_length_scaling => true, :pixie_multi_hit_boosting => false, :terminate_prob => 0.30000000000000004, :total_walk_length => 802.3195330440592, :min_high_visited_candidates => 1000, :high_visited_count_threshold => 4.0), (ndcg10 = 0.1304996555526705, precision10 = 0.10340425531914868, recall10 = 0.08593889001755023))\n",
      "└ @ Main In[24]:29\n",
      "┌ Info: (Dict{Symbol, Any}(:pixie_walk_length_scaling => false, :pixie_multi_hit_boosting => true, :terminate_prob => 0.1, :total_walk_length => 8813.895446279525, :min_high_visited_candidates => 500, :high_visited_count_threshold => 64.0), (ndcg10 = 0.1620420573414767, precision10 = 0.13148936170212727, recall10 = 0.11135921606546421))\n",
      "└ @ Main In[24]:29\n",
      "┌ Info: (Dict{Symbol, Any}(:pixie_walk_length_scaling => true, :pixie_multi_hit_boosting => false, :terminate_prob => 0.6000000000000001, :total_walk_length => 55369.31135966359, :min_high_visited_candidates => 100, :high_visited_count_threshold => 2.0), (ndcg10 = 0.2047769792310497, precision10 = 0.1601063829787226, recall10 = 0.15015960513207344))\n",
      "└ @ Main In[24]:29\n",
      "┌ Info: (Dict{Symbol, Any}(:pixie_walk_length_scaling => true, :pixie_multi_hit_boosting => false, :terminate_prob => 0.5, :total_walk_length => 37278.58034037848, :min_high_visited_candidates => 1000, :high_visited_count_threshold => 8.0), (ndcg10 = 0.19697433633196348, precision10 = 0.1547872340425526, recall10 = 0.14738764578818345))\n",
      "└ @ Main In[24]:29\n",
      "┌ Info: (Dict{Symbol, Any}(:pixie_walk_length_scaling => true, :pixie_multi_hit_boosting => true, :terminate_prob => 0.7000000000000001, :total_walk_length => 3595.935228372442, :min_high_visited_candidates => 100, :high_visited_count_threshold => 2.0), (ndcg10 = 0.19160240777107487, precision10 = 0.1521276595744673, recall10 = 0.14285425880851596))\n",
      "└ @ Main In[24]:29\n",
      "┌ Info: (Dict{Symbol, Any}(:pixie_walk_length_scaling => true, :pixie_multi_hit_boosting => true, :terminate_prob => 0.9, :total_walk_length => 20884.419173816696, :min_high_visited_candidates => 50, :high_visited_count_threshold => Inf), (ndcg10 = 0.21754786243235713, precision10 = 0.17117021276595665, recall10 = 0.16232196370556778))\n",
      "└ @ Main In[24]:29\n",
      "┌ Info: (Dict{Symbol, Any}(:pixie_walk_length_scaling => true, :pixie_multi_hit_boosting => true, :terminate_prob => 0.9, :total_walk_length => 24573.038083437936, :min_high_visited_candidates => 50, :high_visited_count_threshold => Inf), (ndcg10 = 0.21514988050661094, precision10 = 0.16851063829787144, recall10 = 0.15813110316211065))\n",
      "└ @ Main In[24]:29\n",
      "┌ Info: (Dict{Symbol, Any}(:pixie_walk_length_scaling => true, :pixie_multi_hit_boosting => true, :terminate_prob => 0.9, :total_walk_length => 17770.699113145725, :min_high_visited_candidates => 50, :high_visited_count_threshold => Inf), (ndcg10 = 0.21659743900338083, precision10 = 0.17138297872340347, recall10 = 0.16051636538860675))\n",
      "└ @ Main In[24]:29\n",
      "┌ Info: (Dict{Symbol, Any}(:pixie_walk_length_scaling => true, :pixie_multi_hit_boosting => true, :terminate_prob => 0.8, :total_walk_length => 14189.987003147971, :min_high_visited_candidates => 50, :high_visited_count_threshold => Inf), (ndcg10 = 0.212902993340602, precision10 = 0.16585106382978654, recall10 = 0.15387316428241607))\n",
      "└ @ Main In[24]:29\n",
      "┌ Info: (Dict{Symbol, Any}(:pixie_walk_length_scaling => true, :pixie_multi_hit_boosting => true, :terminate_prob => 0.8, :total_walk_length => 1284.5738016860848, :min_high_visited_candidates => 500, :high_visited_count_threshold => Inf), (ndcg10 = 0.1629109899973275, precision10 = 0.12968085106382948, recall10 = 0.11779617546236816))\n",
      "└ @ Main In[24]:29\n",
      "┌ Info: (Dict{Symbol, Any}(:pixie_walk_length_scaling => true, :pixie_multi_hit_boosting => true, :terminate_prob => 0.9, :total_walk_length => 87769.90890867572, :min_high_visited_candidates => 250, :high_visited_count_threshold => 32.0), (ndcg10 = 0.2196547360585307, precision10 = 0.17276595744680764, recall10 = 0.1613041525622977))\n",
      "└ @ Main In[24]:29\n",
      "┌ Info: (Dict{Symbol, Any}(:pixie_walk_length_scaling => true, :pixie_multi_hit_boosting => true, :terminate_prob => 0.7000000000000001, :total_walk_length => 93101.2756984399, :min_high_visited_candidates => 250, :high_visited_count_threshold => 32.0), (ndcg10 = 0.21262205068454196, precision10 = 0.16755319148936074, recall10 = 0.1577697512559037))\n",
      "└ @ Main In[24]:29\n",
      "┌ Info: (Dict{Symbol, Any}(:pixie_walk_length_scaling => true, :pixie_multi_hit_boosting => true, :terminate_prob => 0.8, :total_walk_length => 92670.27431383391, :min_high_visited_candidates => 250, :high_visited_count_threshold => 32.0), (ndcg10 = 0.21575891760794033, precision10 = 0.16989361702127567, recall10 = 0.15823122159393307))\n",
      "└ @ Main In[24]:29\n",
      "┌ Info: (Dict{Symbol, Any}(:pixie_walk_length_scaling => true, :pixie_multi_hit_boosting => true, :terminate_prob => 0.9, :total_walk_length => 10037.356207924597, :min_high_visited_candidates => 10, :high_visited_count_threshold => 32.0), (ndcg10 = 0.20812643642249573, precision10 = 0.1677659574468078, recall10 = 0.1537046160617143))\n",
      "└ @ Main In[24]:29\n",
      "┌ Info: (Dict{Symbol, Any}(:pixie_walk_length_scaling => true, :pixie_multi_hit_boosting => true, :terminate_prob => 0.8, :total_walk_length => 96628.08100242694, :min_high_visited_candidates => 250, :high_visited_count_threshold => 32.0), (ndcg10 = 0.21315686909663906, precision10 = 0.16765957446808422, recall10 = 0.157759482269197))\n",
      "└ @ Main In[24]:29\n",
      "┌ Info: (Dict{Symbol, Any}(:pixie_walk_length_scaling => true, :pixie_multi_hit_boosting => true, :terminate_prob => 0.9, :total_walk_length => 15602.85582438554, :min_high_visited_candidates => 250, :high_visited_count_threshold => 32.0), (ndcg10 = 0.20833810381568876, precision10 = 0.16521276595744597, recall10 = 0.1542339901841296))\n",
      "└ @ Main In[24]:29\n",
      "┌ Info: (Dict{Symbol, Any}(:pixie_walk_length_scaling => true, :pixie_multi_hit_boosting => true, :terminate_prob => 0.7000000000000001, :total_walk_length => 501.08006539009244, :min_high_visited_candidates => 250, :high_visited_count_threshold => 64.0), (ndcg10 = 0.12486776749156785, precision10 = 0.09787234042553172, recall10 = 0.08498709961484638))\n",
      "└ @ Main In[24]:29\n",
      "┌ Info: (Dict{Symbol, Any}(:pixie_walk_length_scaling => true, :pixie_multi_hit_boosting => true, :terminate_prob => 0.8, :total_walk_length => 28089.30125064959, :min_high_visited_candidates => 50, :high_visited_count_threshold => 4.0), (ndcg10 = 0.21419272420684324, precision10 = 0.17095744680850966, recall10 = 0.15971228725310455))\n",
      "└ @ Main In[24]:29\n",
      "┌ Info: (Dict{Symbol, Any}(:pixie_walk_length_scaling => true, :pixie_multi_hit_boosting => true, :terminate_prob => 0.9, :total_walk_length => 5533.117260673206, :min_high_visited_candidates => 50, :high_visited_count_threshold => 32.0), (ndcg10 = 0.2043967949885743, precision10 = 0.16010638297872257, recall10 = 0.1526462245047047))\n",
      "└ @ Main In[24]:29\n",
      "┌ Info: (Dict{Symbol, Any}(:pixie_walk_length_scaling => true, :pixie_multi_hit_boosting => true, :terminate_prob => 0.8, :total_walk_length => 2673.9873925955526, :min_high_visited_candidates => 500, :high_visited_count_threshold => Inf), (ndcg10 = 0.18654226482879763, precision10 = 0.14702127659574404, recall10 = 0.13363506401767963))\n",
      "└ @ Main In[24]:29\n",
      "┌ Info: (Dict{Symbol, Any}(:pixie_walk_length_scaling => true, :pixie_multi_hit_boosting => true, :terminate_prob => 0.7000000000000001, :total_walk_length => 31001.86265963162, :min_high_visited_candidates => 10, :high_visited_count_threshold => Inf), (ndcg10 = 0.2103127324089697, precision10 = 0.1671276595744673, recall10 = 0.1575052862804513))\n",
      "└ @ Main In[24]:29\n",
      "┌ Info: (Dict{Symbol, Any}(:pixie_walk_length_scaling => true, :pixie_multi_hit_boosting => true, :terminate_prob => 0.8, :total_walk_length => 21601.462947858356, :min_high_visited_candidates => 250, :high_visited_count_threshold => 32.0), (ndcg10 = 0.21247829001018004, precision10 = 0.16882978723404163, recall10 = 0.15818969042035635))\n",
      "└ @ Main In[24]:29\n",
      "┌ Info: (Dict{Symbol, Any}(:pixie_walk_length_scaling => true, :pixie_multi_hit_boosting => true, :terminate_prob => 0.6000000000000001, :total_walk_length => 96057.99630480034, :min_high_visited_candidates => 50, :high_visited_count_threshold => 4.0), (ndcg10 = 0.21059887021077311, precision10 = 0.16595744680850985, recall10 = 0.15609378865919768))\n",
      "└ @ Main In[24]:29\n",
      "┌ Info: (Dict{Symbol, Any}(:pixie_walk_length_scaling => true, :pixie_multi_hit_boosting => true, :terminate_prob => 0.9, :total_walk_length => 12806.175239779985, :min_high_visited_candidates => 250, :high_visited_count_threshold => 16.0), (ndcg10 = 0.21150728309643566, precision10 = 0.1681914893617013, recall10 = 0.16187534640469106))\n",
      "└ @ Main In[24]:29\n",
      "┌ Info: (Dict{Symbol, Any}(:pixie_walk_length_scaling => true, :pixie_multi_hit_boosting => true, :terminate_prob => 0.8, :total_walk_length => 6382.384950115521, :min_high_visited_candidates => 50, :high_visited_count_threshold => 32.0), (ndcg10 = 0.20203809974317855, precision10 = 0.15872340425531836, recall10 = 0.15064329864314355))\n",
      "└ @ Main In[24]:29\n",
      "┌ Info: (Dict{Symbol, Any}(:pixie_walk_length_scaling => true, :pixie_multi_hit_boosting => true, :terminate_prob => 0.7000000000000001, :total_walk_length => 22604.5187791622, :min_high_visited_candidates => 250, :high_visited_count_threshold => Inf), (ndcg10 = 0.20864228501925963, precision10 = 0.16563829787233958, recall10 = 0.1554282015841349))\n",
      "└ @ Main In[24]:29\n",
      "┌ Info: (Dict{Symbol, Any}(:pixie_walk_length_scaling => true, :pixie_multi_hit_boosting => true, :terminate_prob => 0.2, :total_walk_length => 71109.75280069384, :min_high_visited_candidates => 50, :high_visited_count_threshold => 32.0), (ndcg10 = 0.18189850575566738, precision10 = 0.14361702127659534, recall10 = 0.1305019057118245))\n",
      "└ @ Main In[24]:29\n",
      "┌ Info: (Dict{Symbol, Any}(:pixie_walk_length_scaling => true, :pixie_multi_hit_boosting => true, :terminate_prob => 0.9, :total_walk_length => 34148.890912781775, :min_high_visited_candidates => 250, :high_visited_count_threshold => Inf), (ndcg10 = 0.2166329501757391, precision10 = 0.17127659574468, recall10 = 0.16212513110793136))\n",
      "└ @ Main In[24]:29\n",
      "┌ Info: (Dict{Symbol, Any}(:pixie_walk_length_scaling => true, :pixie_multi_hit_boosting => true, :terminate_prob => 0.9, :total_walk_length => 47201.27788198424, :min_high_visited_candidates => 250, :high_visited_count_threshold => Inf), (ndcg10 = 0.21814274009387014, precision10 = 0.17180851063829686, recall10 = 0.1627381183454313))\n",
      "└ @ Main In[24]:29\n",
      "┌ Info: (Dict{Symbol, Any}(:pixie_walk_length_scaling => true, :pixie_multi_hit_boosting => true, :terminate_prob => 0.9, :total_walk_length => 39737.397188286544, :min_high_visited_candidates => 250, :high_visited_count_threshold => 64.0), (ndcg10 = 0.21971943001463867, precision10 = 0.1723404255319139, recall10 = 0.16439185821394145))\n",
      "└ @ Main In[24]:29\n",
      "┌ Info: (Dict{Symbol, Any}(:pixie_walk_length_scaling => true, :pixie_multi_hit_boosting => true, :terminate_prob => 0.8, :total_walk_length => 42617.55827005792, :min_high_visited_candidates => 250, :high_visited_count_threshold => 64.0), (ndcg10 = 0.2129907863828746, precision10 = 0.16755319148936076, recall10 = 0.15532579423222437))\n",
      "└ @ Main In[24]:29\n",
      "┌ Info: (Dict{Symbol, Any}(:pixie_walk_length_scaling => true, :pixie_multi_hit_boosting => true, :terminate_prob => 0.30000000000000004, :total_walk_length => 2168.2973742217723, :min_high_visited_candidates => 250, :high_visited_count_threshold => 64.0), (ndcg10 = 0.1602791412281667, precision10 = 0.12957446808510598, recall10 = 0.11344333905261944))\n",
      "└ @ Main In[24]:29\n",
      "┌ Info: (Dict{Symbol, Any}(:pixie_walk_length_scaling => true, :pixie_multi_hit_boosting => true, :terminate_prob => 0.9, :total_walk_length => 31491.766130951768, :min_high_visited_candidates => 250, :high_visited_count_threshold => 64.0), (ndcg10 = 0.2188323837353227, precision10 = 0.17265957446808425, recall10 = 0.16125627119876976))\n",
      "└ @ Main In[24]:29\n",
      "┌ Info: (Dict{Symbol, Any}(:pixie_walk_length_scaling => true, :pixie_multi_hit_boosting => true, :terminate_prob => 0.7000000000000001, :total_walk_length => 410.39967718852296, :min_high_visited_candidates => 250, :high_visited_count_threshold => 64.0), (ndcg10 = 0.11289136575731445, precision10 = 0.08904255319148931, recall10 = 0.08249701521224044))\n",
      "└ @ Main In[24]:29\n",
      "┌ Info: (Dict{Symbol, Any}(:pixie_walk_length_scaling => true, :pixie_multi_hit_boosting => true, :terminate_prob => 0.9, :total_walk_length => 11568.70111783479, :min_high_visited_candidates => 250, :high_visited_count_threshold => 64.0), (ndcg10 = 0.20569978989662424, precision10 = 0.1635106382978715, recall10 = 0.15264996941609488))\n",
      "└ @ Main In[24]:29\n",
      "┌ Info: (Dict{Symbol, Any}(:pixie_walk_length_scaling => true, :pixie_multi_hit_boosting => true, :terminate_prob => 0.6000000000000001, :total_walk_length => 99983.56145894897, :min_high_visited_candidates => 10, :high_visited_count_threshold => 64.0), (ndcg10 = 0.20960805552598413, precision10 = 0.16372340425531834, recall10 = 0.15357363100981336))\n",
      "└ @ Main In[24]:29\n",
      "┌ Info: (Dict{Symbol, Any}(:pixie_walk_length_scaling => true, :pixie_multi_hit_boosting => true, :terminate_prob => 0.8, :total_walk_length => 27488.491402342042, :min_high_visited_candidates => 250, :high_visited_count_threshold => 4.0), (ndcg10 = 0.21150746810581703, precision10 = 0.16765957446808413, recall10 = 0.15420566958861442))\n",
      "└ @ Main In[24]:29\n",
      "┌ Info: (Dict{Symbol, Any}(:pixie_walk_length_scaling => true, :pixie_multi_hit_boosting => true, :terminate_prob => 0.8, :total_walk_length => 17184.4278658928, :min_high_visited_candidates => 250, :high_visited_count_threshold => 16.0), (ndcg10 = 0.21199263067565802, precision10 = 0.1688297872340417, recall10 = 0.15634227417653704))\n",
      "└ @ Main In[24]:29\n",
      "┌ Info: (Dict{Symbol, Any}(:pixie_walk_length_scaling => true, :pixie_multi_hit_boosting => true, :terminate_prob => 0.9, :total_walk_length => 52214.08755682947, :min_high_visited_candidates => 250, :high_visited_count_threshold => 64.0), (ndcg10 = 0.22041976389052492, precision10 = 0.17414893617021168, recall10 = 0.16283166473575275))\n",
      "└ @ Main In[24]:29\n",
      "┌ Info: (Dict{Symbol, Any}(:pixie_walk_length_scaling => true, :pixie_multi_hit_boosting => true, :terminate_prob => 0.9, :total_walk_length => 54747.37938145295, :min_high_visited_candidates => 500, :high_visited_count_threshold => 64.0), (ndcg10 = 0.2212809698082448, precision10 = 0.176063829787233, recall10 = 0.16533501260594238))\n",
      "└ @ Main In[24]:29\n",
      "┌ Info: (Dict{Symbol, Any}(:pixie_walk_length_scaling => true, :pixie_multi_hit_boosting => true, :terminate_prob => 0.9, :total_walk_length => 58422.29786197618, :min_high_visited_candidates => 500, :high_visited_count_threshold => 64.0), (ndcg10 = 0.21810323476513194, precision10 = 0.17085106382978618, recall10 = 0.16022951110786113))\n",
      "└ @ Main In[24]:29\n",
      "┌ Info: (Dict{Symbol, Any}(:pixie_walk_length_scaling => true, :pixie_multi_hit_boosting => true, :terminate_prob => 0.7000000000000001, :total_walk_length => 52567.70667934343, :min_high_visited_candidates => 500, :high_visited_count_threshold => 64.0), (ndcg10 = 0.2111294463929313, precision10 = 0.16585106382978637, recall10 = 0.1546792265358878))\n",
      "└ @ Main In[24]:29\n",
      "┌ Info: (Dict{Symbol, Any}(:pixie_walk_length_scaling => false, :pixie_multi_hit_boosting => false, :terminate_prob => 0.9, :total_walk_length => 73554.9115225773, :min_high_visited_candidates => 500, :high_visited_count_threshold => 64.0), (ndcg10 = 0.22268873488678398, precision10 = 0.1749999999999991, recall10 = 0.16515506838806146))\n",
      "└ @ Main In[24]:29\n",
      "┌ Info: (Dict{Symbol, Any}(:pixie_walk_length_scaling => false, :pixie_multi_hit_boosting => false, :terminate_prob => 0.8, :total_walk_length => 1067.2807411349538, :min_high_visited_candidates => 500, :high_visited_count_threshold => 64.0), (ndcg10 = 0.16057536116047724, precision10 = 0.1256382978723401, recall10 = 0.12010617007601834))\n",
      "└ @ Main In[24]:29\n",
      "┌ Info: (Dict{Symbol, Any}(:pixie_walk_length_scaling => false, :pixie_multi_hit_boosting => false, :terminate_prob => 0.9, :total_walk_length => 72483.93657671958, :min_high_visited_candidates => 500, :high_visited_count_threshold => 64.0), (ndcg10 = 0.22459688107930706, precision10 = 0.1793617021276587, recall10 = 0.1696607598229054))\n",
      "└ @ Main In[24]:29\n",
      "┌ Info: (Dict{Symbol, Any}(:pixie_walk_length_scaling => false, :pixie_multi_hit_boosting => false, :terminate_prob => 0.6000000000000001, :total_walk_length => 79399.68190485127, :min_high_visited_candidates => 500, :high_visited_count_threshold => 64.0), (ndcg10 = 0.21310545678170786, precision10 = 0.1676595744680842, recall10 = 0.15922213994443704))\n",
      "└ @ Main In[24]:29\n",
      "┌ Info: (Dict{Symbol, Any}(:pixie_walk_length_scaling => false, :pixie_multi_hit_boosting => false, :terminate_prob => 0.9, :total_walk_length => 6806.435493279101, :min_high_visited_candidates => 500, :high_visited_count_threshold => 64.0), (ndcg10 = 0.2094120262949677, precision10 = 0.16468085106382907, recall10 = 0.15610563538108707))\n",
      "└ @ Main In[24]:29\n",
      "┌ Info: (Dict{Symbol, Any}(:pixie_walk_length_scaling => false, :pixie_multi_hit_boosting => false, :terminate_prob => 0.30000000000000004, :total_walk_length => 67029.04371744876, :min_high_visited_candidates => 500, :high_visited_count_threshold => 64.0), (ndcg10 = 0.19140964053748255, precision10 = 0.1505319148936165, recall10 = 0.1392881856652175))\n",
      "└ @ Main In[24]:29\n",
      "┌ Info: (Dict{Symbol, Any}(:pixie_walk_length_scaling => false, :pixie_multi_hit_boosting => false, :terminate_prob => 0.7000000000000001, :total_walk_length => 25677.740525175763, :min_high_visited_candidates => 500, :high_visited_count_threshold => 64.0), (ndcg10 = 0.21622765585639983, precision10 = 0.16989361702127584, recall10 = 0.1605161875825699))\n",
      "└ @ Main In[24]:29\n",
      "┌ Info: (Dict{Symbol, Any}(:pixie_walk_length_scaling => false, :pixie_multi_hit_boosting => false, :terminate_prob => 0.2, :total_walk_length => 44738.87781363817, :min_high_visited_candidates => 500, :high_visited_count_threshold => 64.0), (ndcg10 = 0.18476913941010098, precision10 = 0.1449999999999996, recall10 = 0.13220421701109158))\n",
      "└ @ Main In[24]:29\n",
      "┌ Info: (Dict{Symbol, Any}(:pixie_walk_length_scaling => false, :pixie_multi_hit_boosting => false, :terminate_prob => 0.9, :total_walk_length => 33014.64902036168, :min_high_visited_candidates => 500, :high_visited_count_threshold => 64.0), (ndcg10 = 0.22339508641719782, precision10 = 0.17606382978723303, recall10 = 0.16775277814194292))\n",
      "└ @ Main In[24]:29\n",
      "┌ Info: (Dict{Symbol, Any}(:pixie_walk_length_scaling => false, :pixie_multi_hit_boosting => false, :terminate_prob => 0.9, :total_walk_length => 33917.73294227822, :min_high_visited_candidates => 500, :high_visited_count_threshold => 64.0), (ndcg10 = 0.22243245701916056, precision10 = 0.17627659574468005, recall10 = 0.1649346592292125))\n",
      "└ @ Main In[24]:29\n",
      "┌ Info: (Dict{Symbol, Any}(:pixie_walk_length_scaling => false, :pixie_multi_hit_boosting => false, :terminate_prob => 0.9, :total_walk_length => 26027.66595948549, :min_high_visited_candidates => 500, :high_visited_count_threshold => 64.0), (ndcg10 = 0.22326338571468993, precision10 = 0.17648936170212678, recall10 = 0.16783969901181825))\n",
      "└ @ Main In[24]:29\n",
      "┌ Info: (Dict{Symbol, Any}(:pixie_walk_length_scaling => false, :pixie_multi_hit_boosting => false, :terminate_prob => 0.9, :total_walk_length => 12819.143417110448, :min_high_visited_candidates => 500, :high_visited_count_threshold => 64.0), (ndcg10 = 0.21542566644295968, precision10 = 0.17095744680850958, recall10 = 0.1609744766530719))\n",
      "└ @ Main In[24]:29\n",
      "┌ Info: (Dict{Symbol, Any}(:pixie_walk_length_scaling => false, :pixie_multi_hit_boosting => false, :terminate_prob => 0.9, :total_walk_length => 35555.20351627706, :min_high_visited_candidates => 500, :high_visited_count_threshold => 64.0), (ndcg10 = 0.22335524690225947, precision10 = 0.17627659574468002, recall10 = 0.16524798456126472))\n",
      "└ @ Main In[24]:29\n",
      "┌ Info: (Dict{Symbol, Any}(:pixie_walk_length_scaling => false, :pixie_multi_hit_boosting => false, :terminate_prob => 0.9, :total_walk_length => 16569.99948493553, :min_high_visited_candidates => 500, :high_visited_count_threshold => 64.0), (ndcg10 = 0.21624938777037456, precision10 = 0.17351063829787136, recall10 = 0.16143197979192886))\n",
      "└ @ Main In[24]:29\n",
      "┌ Info: (Dict{Symbol, Any}(:pixie_walk_length_scaling => false, :pixie_multi_hit_boosting => false, :terminate_prob => 0.8, :total_walk_length => 37265.3561521367, :min_high_visited_candidates => 500, :high_visited_count_threshold => 64.0), (ndcg10 = 0.21741243594463852, precision10 = 0.17202127659574368, recall10 = 0.1637496248071905))\n",
      "└ @ Main In[24]:29\n",
      "┌ Info: (Dict{Symbol, Any}(:pixie_walk_length_scaling => false, :pixie_multi_hit_boosting => false, :terminate_prob => 0.9, :total_walk_length => 23555.128633816286, :min_high_visited_candidates => 500, :high_visited_count_threshold => 64.0), (ndcg10 = 0.22368630671612033, precision10 = 0.17787234042553113, recall10 = 0.16963192599905114))\n",
      "└ @ Main In[24]:29\n",
      "┌ Info: (Dict{Symbol, Any}(:pixie_walk_length_scaling => false, :pixie_multi_hit_boosting => false, :terminate_prob => 0.9, :total_walk_length => 32304.44694627261, :min_high_visited_candidates => 500, :high_visited_count_threshold => 64.0), (ndcg10 = 0.22313321638817646, precision10 = 0.17648936170212678, recall10 = 0.1660614576248709))\n",
      "└ @ Main In[24]:29\n",
      "┌ Info: (Dict{Symbol, Any}(:pixie_walk_length_scaling => false, :pixie_multi_hit_boosting => false, :terminate_prob => 0.8, :total_walk_length => 24430.151167956916, :min_high_visited_candidates => 500, :high_visited_count_threshold => 64.0), (ndcg10 = 0.21669541497596467, precision10 = 0.17202127659574368, recall10 = 0.16347578758057504))\n",
      "└ @ Main In[24]:29\n",
      "┌ Info: (Dict{Symbol, Any}(:pixie_walk_length_scaling => false, :pixie_multi_hit_boosting => false, :terminate_prob => 0.9, :total_walk_length => 30768.464834965485, :min_high_visited_candidates => 500, :high_visited_count_threshold => 64.0), (ndcg10 = 0.22500639168475814, precision10 = 0.17627659574468002, recall10 = 0.167679237148081))\n",
      "└ @ Main In[24]:29\n",
      "┌ Info: (Dict{Symbol, Any}(:pixie_walk_length_scaling => false, :pixie_multi_hit_boosting => false, :terminate_prob => 0.9, :total_walk_length => 34433.96692104747, :min_high_visited_candidates => 500, :high_visited_count_threshold => 64.0), (ndcg10 = 0.22312868938743977, precision10 = 0.1763829787234033, recall10 = 0.16569136366396595))\n",
      "└ @ Main In[24]:29\n",
      "┌ Info: (Dict{Symbol, Any}(:pixie_walk_length_scaling => false, :pixie_multi_hit_boosting => false, :terminate_prob => 0.8, :total_walk_length => 33465.06099045953, :min_high_visited_candidates => 500, :high_visited_count_threshold => 64.0), (ndcg10 = 0.21962426965291973, precision10 = 0.17372340425531818, recall10 = 0.16499779802992))\n",
      "└ @ Main In[24]:29\n",
      "┌ Info: (Dict{Symbol, Any}(:pixie_walk_length_scaling => false, :pixie_multi_hit_boosting => false, :terminate_prob => 0.9, :total_walk_length => 10830.827254113501, :min_high_visited_candidates => 500, :high_visited_count_threshold => 64.0), (ndcg10 = 0.21313835165362235, precision10 = 0.16999999999999924, recall10 = 0.15959467764418592))\n",
      "└ @ Main In[24]:29\n",
      "┌ Info: (Dict{Symbol, Any}(:pixie_walk_length_scaling => false, :pixie_multi_hit_boosting => false, :terminate_prob => 0.8, :total_walk_length => 14309.647775975436, :min_high_visited_candidates => 500, :high_visited_count_threshold => 64.0), (ndcg10 = 0.2155140480329356, precision10 = 0.17287234042553087, recall10 = 0.15864065551212442))\n",
      "└ @ Main In[24]:29\n",
      "┌ Info: (Dict{Symbol, Any}(:pixie_walk_length_scaling => false, :pixie_multi_hit_boosting => false, :terminate_prob => 0.9, :total_walk_length => 20661.26852211375, :min_high_visited_candidates => 500, :high_visited_count_threshold => 64.0), (ndcg10 = 0.22223079846335134, precision10 = 0.1768085106382971, recall10 = 0.16617719139933476))\n",
      "└ @ Main In[24]:29\n",
      "┌ Info: (Dict{Symbol, Any}(:pixie_walk_length_scaling => false, :pixie_multi_hit_boosting => false, :terminate_prob => 0.9, :total_walk_length => 82569.29813224856, :min_high_visited_candidates => 500, :high_visited_count_threshold => 64.0), (ndcg10 = 0.2239229364247374, precision10 = 0.17702127659574363, recall10 = 0.1676975869874074))\n",
      "└ @ Main In[24]:29\n",
      "┌ Info: (Dict{Symbol, Any}(:pixie_walk_length_scaling => false, :pixie_multi_hit_boosting => false, :terminate_prob => 0.7000000000000001, :total_walk_length => 83026.67968496068, :min_high_visited_candidates => 500, :high_visited_count_threshold => 64.0), (ndcg10 = 0.21825454735385208, precision10 = 0.17329787234042465, recall10 = 0.16402658706734807))\n",
      "└ @ Main In[24]:29\n",
      "┌ Info: (Dict{Symbol, Any}(:pixie_walk_length_scaling => false, :pixie_multi_hit_boosting => false, :terminate_prob => 0.8, :total_walk_length => 65481.50324418315, :min_high_visited_candidates => 500, :high_visited_count_threshold => 64.0), (ndcg10 = 0.22144868488759128, precision10 = 0.1752127659574458, recall10 = 0.164804810268633))\n",
      "└ @ Main In[24]:29\n",
      "┌ Info: (Dict{Symbol, Any}(:pixie_walk_length_scaling => false, :pixie_multi_hit_boosting => false, :terminate_prob => 0.9, :total_walk_length => 81655.49585075771, :min_high_visited_candidates => 500, :high_visited_count_threshold => 64.0), (ndcg10 = 0.22282028873678555, precision10 = 0.1749999999999991, recall10 = 0.16634291554882355))\n",
      "└ @ Main In[24]:29\n",
      "┌ Info: (Dict{Symbol, Any}(:pixie_walk_length_scaling => false, :pixie_multi_hit_boosting => false, :terminate_prob => 0.8, :total_walk_length => 62045.81580873911, :min_high_visited_candidates => 500, :high_visited_count_threshold => 2.0), (ndcg10 = 0.22010578652820365, precision10 = 0.17404255319148837, recall10 = 0.16485651561875755))\n",
      "└ @ Main In[24]:29\n",
      "┌ Info: (Dict{Symbol, Any}(:pixie_walk_length_scaling => false, :pixie_multi_hit_boosting => false, :terminate_prob => 0.9, :total_walk_length => 82197.03503072662, :min_high_visited_candidates => 500, :high_visited_count_threshold => 64.0), (ndcg10 = 0.22277559737327293, precision10 = 0.17638297872340322, recall10 = 0.16673259536883286))\n",
      "└ @ Main In[24]:29\n",
      "┌ Info: (Dict{Symbol, Any}(:pixie_walk_length_scaling => false, :pixie_multi_hit_boosting => false, :terminate_prob => 0.7000000000000001, :total_walk_length => 82719.57760427576, :min_high_visited_candidates => 500, :high_visited_count_threshold => 16.0), (ndcg10 = 0.21787748072883745, precision10 = 0.17042553191489276, recall10 = 0.16179854303920863))\n",
      "└ @ Main In[24]:29\n",
      "┌ Info: (Dict{Symbol, Any}(:pixie_walk_length_scaling => false, :pixie_multi_hit_boosting => false, :terminate_prob => 0.9, :total_walk_length => 51307.194995273785, :min_high_visited_candidates => 500, :high_visited_count_threshold => 64.0), (ndcg10 = 0.22566031879814602, precision10 = 0.17521276595744578, recall10 = 0.16641901004585183))\n",
      "└ @ Main In[24]:29\n",
      "┌ Info: (Dict{Symbol, Any}(:pixie_walk_length_scaling => false, :pixie_multi_hit_boosting => false, :terminate_prob => 0.8, :total_walk_length => 19295.96269289416, :min_high_visited_candidates => 500, :high_visited_count_threshold => 4.0), (ndcg10 = 0.21295454214912174, precision10 = 0.17170212765957343, recall10 = 0.1631750301726145))\n",
      "└ @ Main In[24]:29\n",
      "┌ Info: (Dict{Symbol, Any}(:pixie_walk_length_scaling => false, :pixie_multi_hit_boosting => false, :terminate_prob => 0.9, :total_walk_length => 41160.22706903369, :min_high_visited_candidates => 500, :high_visited_count_threshold => 64.0), (ndcg10 = 0.22190747848460837, precision10 = 0.1767021276595736, recall10 = 0.16743142015563342))\n",
      "└ @ Main In[24]:29\n",
      "┌ Info: (Dict{Symbol, Any}(:pixie_walk_length_scaling => false, :pixie_multi_hit_boosting => false, :terminate_prob => 0.7000000000000001, :total_walk_length => 47782.98626724396, :min_high_visited_candidates => 500, :high_visited_count_threshold => 2.0), (ndcg10 = 0.21454050894563548, precision10 = 0.17031914893616937, recall10 = 0.16131991060618653))\n",
      "└ @ Main In[24]:29\n",
      "┌ Info: (Dict{Symbol, Any}(:pixie_walk_length_scaling => false, :pixie_multi_hit_boosting => false, :terminate_prob => 0.9, :total_walk_length => 7007.667803770298, :min_high_visited_candidates => 500, :high_visited_count_threshold => 64.0), (ndcg10 = 0.21548566565308463, precision10 = 0.17244680851063762, recall10 = 0.16361536922458933))\n",
      "└ @ Main In[24]:29\n",
      "┌ Info: (Dict{Symbol, Any}(:pixie_walk_length_scaling => false, :pixie_multi_hit_boosting => false, :terminate_prob => 0.9, :total_walk_length => 61811.40315592715, :min_high_visited_candidates => 500, :high_visited_count_threshold => 64.0), (ndcg10 = 0.22356327452575755, precision10 = 0.17585106382978619, recall10 = 0.1665453178312818))\n",
      "└ @ Main In[24]:29\n",
      "┌ Info: (Dict{Symbol, Any}(:pixie_walk_length_scaling => false, :pixie_multi_hit_boosting => false, :terminate_prob => 0.8, :total_walk_length => 32597.11538058007, :min_high_visited_candidates => 10, :high_visited_count_threshold => 64.0), (ndcg10 = 0.2199847280636134, precision10 = 0.1726595744680841, recall10 = 0.16369506023368982))\n",
      "└ @ Main In[24]:29\n",
      "┌ Info: (Dict{Symbol, Any}(:pixie_walk_length_scaling => false, :pixie_multi_hit_boosting => false, :terminate_prob => 0.9, :total_walk_length => 62841.55506497863, :min_high_visited_candidates => 500, :high_visited_count_threshold => 64.0), (ndcg10 = 0.22273571056844305, precision10 = 0.17521276595744603, recall10 = 0.16521206350452522))\n",
      "└ @ Main In[24]:29\n",
      "┌ Info: (Dict{Symbol, Any}(:pixie_walk_length_scaling => false, :pixie_multi_hit_boosting => false, :terminate_prob => 0.6000000000000001, :total_walk_length => 24106.77003977448, :min_high_visited_candidates => 500, :high_visited_count_threshold => 16.0), (ndcg10 = 0.21559138099392583, precision10 = 0.1691489361702117, recall10 = 0.1591822291635345))\n",
      "└ @ Main In[24]:29\n",
      "┌ Info: (Dict{Symbol, Any}(:pixie_walk_length_scaling => false, :pixie_multi_hit_boosting => false, :terminate_prob => 0.9, :total_walk_length => 5468.282264226948, :min_high_visited_candidates => 500, :high_visited_count_threshold => 64.0), (ndcg10 = 0.21041238144327748, precision10 = 0.16648936170212672, recall10 = 0.1585979929847402))\n",
      "└ @ Main In[24]:29\n",
      "┌ Info: (Dict{Symbol, Any}(:pixie_walk_length_scaling => false, :pixie_multi_hit_boosting => false, :terminate_prob => 0.8, :total_walk_length => 50716.693235028826, :min_high_visited_candidates => 10, :high_visited_count_threshold => 64.0), (ndcg10 = 0.2216013499374186, precision10 = 0.1743617021276587, recall10 = 0.16394278357393602))\n",
      "└ @ Main In[24]:29\n",
      "┌ Info: (Dict{Symbol, Any}(:pixie_walk_length_scaling => false, :pixie_multi_hit_boosting => false, :terminate_prob => 0.7000000000000001, :total_walk_length => 14489.149878976608, :min_high_visited_candidates => 500, :high_visited_count_threshold => 2.0), (ndcg10 = 0.21741554294531404, precision10 = 0.17202127659574368, recall10 = 0.16431759859511605))\n",
      "└ @ Main In[24]:29\n",
      "┌ Info: fmin: 100 / 100 trials carried out\n",
      "└ @ TreeParzen.API /Users/keisuke.yanagi/.julia/packages/TreeParzen/pg8LV/src/API.jl:176\n",
      "┌ Info: Successfully completed fmin \n",
      "└ @ TreeParzen.API /Users/keisuke.yanagi/.julia/packages/TreeParzen/pg8LV/src/API.jl:231\n"
     ]
    },
    {
     "output_type": "execute_result",
     "data": {
      "text/plain": [
       "Dict{Symbol, Any} with 6 entries:\n",
       "  :pixie_walk_length_scaling    => false\n",
       "  :pixie_multi_hit_boosting     => false\n",
       "  :terminate_prob               => 0.9\n",
       "  :total_walk_length            => 51307.2\n",
       "  :min_high_visited_candidates  => 500\n",
       "  :high_visited_count_threshold => 64.0"
      ]
     },
     "metadata": {},
     "execution_count": 25
    }
   ],
   "metadata": {}
  },
  {
   "cell_type": "code",
   "execution_count": 26,
   "source": [
    "model = Randomwalk()\n",
    "\n",
    "terminate_prob = best[:terminate_prob]\n",
    "total_walk_length = round(Int, best[:total_walk_length])\n",
    "min_high_visited_candidates = convert(Int, best[:min_high_visited_candidates])\n",
    "high_visited_count_threshold = best[:high_visited_count_threshold]\n",
    "if high_visited_count_threshold < Inf\n",
    "    high_visited_count_threshold = convert(Int, high_visited_count_threshold)\n",
    "end\n",
    "pixie_walk_length_scaling = best[:pixie_walk_length_scaling]\n",
    "pixie_multi_hit_boosting = best[:pixie_multi_hit_boosting]\n",
    "\n",
    "result = evaluate_u2i(\n",
    "    model,\n",
    "    train_valid_table,\n",
    "    test_table, metrics,\n",
    "    10,\n",
    "    col_user=:userid,\n",
    "    col_item=:movieid,\n",
    "    col_rating=:rating,\n",
    "    drop_history=true,\n",
    "    terminate_prob=terminate_prob,\n",
    "    total_walk_length=total_walk_length,\n",
    "    min_high_visited_candidates=min_high_visited_candidates,\n",
    "    high_visited_count_threshold=high_visited_count_threshold,\n",
    "    pixie_walk_length_scaling=pixie_walk_length_scaling,\n",
    "    pixie_multi_hit_boosting=pixie_multi_hit_boosting\n",
    ")"
   ],
   "outputs": [
    {
     "output_type": "execute_result",
     "data": {
      "text/plain": [
       "(ndcg10 = 0.3254783289314545,\n",
       " precision10 = 0.26341463414634075,\n",
       " recall10 = 0.18283663305964448,)"
      ]
     },
     "metadata": {},
     "execution_count": 26
    }
   ],
   "metadata": {}
  },
  {
   "cell_type": "code",
   "execution_count": null,
   "source": [],
   "outputs": [],
   "metadata": {}
  }
 ],
 "metadata": {
  "kernelspec": {
   "name": "julia-1.6",
   "display_name": "Julia 1.6.0",
   "language": "julia"
  },
  "language_info": {
   "file_extension": ".jl",
   "name": "julia",
   "mimetype": "application/julia",
   "version": "1.6.0"
  },
  "orig_nbformat": 2,
  "interpreter": {
   "hash": "f62af6671f35730163be90a87b8e97b9066fc95b883f1028997e4df817c92215"
  }
 },
 "nbformat": 4,
 "nbformat_minor": 2
}