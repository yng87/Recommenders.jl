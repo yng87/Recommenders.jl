{
 "cells": [
  {
   "cell_type": "code",
   "execution_count": 2,
   "source": [
    "using DataFrames\n",
    "using Recommender: Movielens1M, load_dataset, ratio_split, ItemkNN, fit!, predict, evaluate, PrecisionAtK, make_u2i_dataset"
   ],
   "outputs": [],
   "metadata": {}
  },
  {
   "cell_type": "code",
   "execution_count": 3,
   "source": [
    "ml1m = Movielens1M()\n",
    "download(ml1m)\n",
    "rating, user, movie = load_dataset(ml1m);"
   ],
   "outputs": [],
   "metadata": {}
  },
  {
   "cell_type": "code",
   "execution_count": 4,
   "source": [
    "df = DataFrame(rating)\n",
    "first(df, 10)"
   ],
   "outputs": [
    {
     "output_type": "execute_result",
     "data": {
      "text/plain": [
       "\u001b[1m10×4 DataFrame\u001b[0m\n",
       "\u001b[1m Row \u001b[0m│\u001b[1m userid \u001b[0m\u001b[1m movieid \u001b[0m\u001b[1m rating \u001b[0m\u001b[1m timestamp \u001b[0m\n",
       "\u001b[1m     \u001b[0m│\u001b[90m Int64  \u001b[0m\u001b[90m Int64   \u001b[0m\u001b[90m Int64  \u001b[0m\u001b[90m Int64     \u001b[0m\n",
       "─────┼────────────────────────────────────\n",
       "   1 │      1     1193       5  978300760\n",
       "   2 │      1      661       3  978302109\n",
       "   3 │      1      914       3  978301968\n",
       "   4 │      1     3408       4  978300275\n",
       "   5 │      1     2355       5  978824291\n",
       "   6 │      1     1197       3  978302268\n",
       "   7 │      1     1287       5  978302039\n",
       "   8 │      1     2804       5  978300719\n",
       "   9 │      1      594       4  978302268\n",
       "  10 │      1      919       4  978301368"
      ],
      "text/latex": [
       "\\begin{tabular}{r|cccc}\n",
       "\t& userid & movieid & rating & timestamp\\\\\n",
       "\t\\hline\n",
       "\t& Int64 & Int64 & Int64 & Int64\\\\\n",
       "\t\\hline\n",
       "\t1 & 1 & 1193 & 5 & 978300760 \\\\\n",
       "\t2 & 1 & 661 & 3 & 978302109 \\\\\n",
       "\t3 & 1 & 914 & 3 & 978301968 \\\\\n",
       "\t4 & 1 & 3408 & 4 & 978300275 \\\\\n",
       "\t5 & 1 & 2355 & 5 & 978824291 \\\\\n",
       "\t6 & 1 & 1197 & 3 & 978302268 \\\\\n",
       "\t7 & 1 & 1287 & 5 & 978302039 \\\\\n",
       "\t8 & 1 & 2804 & 5 & 978300719 \\\\\n",
       "\t9 & 1 & 594 & 4 & 978302268 \\\\\n",
       "\t10 & 1 & 919 & 4 & 978301368 \\\\\n",
       "\\end{tabular}\n"
      ],
      "text/html": [
       "<table class=\"data-frame\"><thead><tr><th></th><th>userid</th><th>movieid</th><th>rating</th><th>timestamp</th></tr><tr><th></th><th>Int64</th><th>Int64</th><th>Int64</th><th>Int64</th></tr></thead><tbody><p>10 rows × 4 columns</p><tr><th>1</th><td>1</td><td>1193</td><td>5</td><td>978300760</td></tr><tr><th>2</th><td>1</td><td>661</td><td>3</td><td>978302109</td></tr><tr><th>3</th><td>1</td><td>914</td><td>3</td><td>978301968</td></tr><tr><th>4</th><td>1</td><td>3408</td><td>4</td><td>978300275</td></tr><tr><th>5</th><td>1</td><td>2355</td><td>5</td><td>978824291</td></tr><tr><th>6</th><td>1</td><td>1197</td><td>3</td><td>978302268</td></tr><tr><th>7</th><td>1</td><td>1287</td><td>5</td><td>978302039</td></tr><tr><th>8</th><td>1</td><td>2804</td><td>5</td><td>978300719</td></tr><tr><th>9</th><td>1</td><td>594</td><td>4</td><td>978302268</td></tr><tr><th>10</th><td>1</td><td>919</td><td>4</td><td>978301368</td></tr></tbody></table>"
      ]
     },
     "metadata": {},
     "execution_count": 4
    }
   ],
   "metadata": {}
  },
  {
   "cell_type": "code",
   "execution_count": 5,
   "source": [
    "df = df[df.rating.>=4, :]\n",
    "first(df, 10)"
   ],
   "outputs": [
    {
     "output_type": "execute_result",
     "data": {
      "text/plain": [
       "\u001b[1m10×4 DataFrame\u001b[0m\n",
       "\u001b[1m Row \u001b[0m│\u001b[1m userid \u001b[0m\u001b[1m movieid \u001b[0m\u001b[1m rating \u001b[0m\u001b[1m timestamp \u001b[0m\n",
       "\u001b[1m     \u001b[0m│\u001b[90m Int64  \u001b[0m\u001b[90m Int64   \u001b[0m\u001b[90m Int64  \u001b[0m\u001b[90m Int64     \u001b[0m\n",
       "─────┼────────────────────────────────────\n",
       "   1 │      1     1193       5  978300760\n",
       "   2 │      1     3408       4  978300275\n",
       "   3 │      1     2355       5  978824291\n",
       "   4 │      1     1287       5  978302039\n",
       "   5 │      1     2804       5  978300719\n",
       "   6 │      1      594       4  978302268\n",
       "   7 │      1      919       4  978301368\n",
       "   8 │      1      595       5  978824268\n",
       "   9 │      1      938       4  978301752\n",
       "  10 │      1     2398       4  978302281"
      ],
      "text/latex": [
       "\\begin{tabular}{r|cccc}\n",
       "\t& userid & movieid & rating & timestamp\\\\\n",
       "\t\\hline\n",
       "\t& Int64 & Int64 & Int64 & Int64\\\\\n",
       "\t\\hline\n",
       "\t1 & 1 & 1193 & 5 & 978300760 \\\\\n",
       "\t2 & 1 & 3408 & 4 & 978300275 \\\\\n",
       "\t3 & 1 & 2355 & 5 & 978824291 \\\\\n",
       "\t4 & 1 & 1287 & 5 & 978302039 \\\\\n",
       "\t5 & 1 & 2804 & 5 & 978300719 \\\\\n",
       "\t6 & 1 & 594 & 4 & 978302268 \\\\\n",
       "\t7 & 1 & 919 & 4 & 978301368 \\\\\n",
       "\t8 & 1 & 595 & 5 & 978824268 \\\\\n",
       "\t9 & 1 & 938 & 4 & 978301752 \\\\\n",
       "\t10 & 1 & 2398 & 4 & 978302281 \\\\\n",
       "\\end{tabular}\n"
      ],
      "text/html": [
       "<table class=\"data-frame\"><thead><tr><th></th><th>userid</th><th>movieid</th><th>rating</th><th>timestamp</th></tr><tr><th></th><th>Int64</th><th>Int64</th><th>Int64</th><th>Int64</th></tr></thead><tbody><p>10 rows × 4 columns</p><tr><th>1</th><td>1</td><td>1193</td><td>5</td><td>978300760</td></tr><tr><th>2</th><td>1</td><td>3408</td><td>4</td><td>978300275</td></tr><tr><th>3</th><td>1</td><td>2355</td><td>5</td><td>978824291</td></tr><tr><th>4</th><td>1</td><td>1287</td><td>5</td><td>978302039</td></tr><tr><th>5</th><td>1</td><td>2804</td><td>5</td><td>978300719</td></tr><tr><th>6</th><td>1</td><td>594</td><td>4</td><td>978302268</td></tr><tr><th>7</th><td>1</td><td>919</td><td>4</td><td>978301368</td></tr><tr><th>8</th><td>1</td><td>595</td><td>5</td><td>978824268</td></tr><tr><th>9</th><td>1</td><td>938</td><td>4</td><td>978301752</td></tr><tr><th>10</th><td>1</td><td>2398</td><td>4</td><td>978302281</td></tr></tbody></table>"
      ]
     },
     "metadata": {},
     "execution_count": 5
    }
   ],
   "metadata": {}
  },
  {
   "cell_type": "code",
   "execution_count": 6,
   "source": [
    "df[!, :rating] .= 1\n",
    "first(df, 10)"
   ],
   "outputs": [
    {
     "output_type": "execute_result",
     "data": {
      "text/plain": [
       "\u001b[1m10×4 DataFrame\u001b[0m\n",
       "\u001b[1m Row \u001b[0m│\u001b[1m userid \u001b[0m\u001b[1m movieid \u001b[0m\u001b[1m rating \u001b[0m\u001b[1m timestamp \u001b[0m\n",
       "\u001b[1m     \u001b[0m│\u001b[90m Int64  \u001b[0m\u001b[90m Int64   \u001b[0m\u001b[90m Int64  \u001b[0m\u001b[90m Int64     \u001b[0m\n",
       "─────┼────────────────────────────────────\n",
       "   1 │      1     1193       1  978300760\n",
       "   2 │      1     3408       1  978300275\n",
       "   3 │      1     2355       1  978824291\n",
       "   4 │      1     1287       1  978302039\n",
       "   5 │      1     2804       1  978300719\n",
       "   6 │      1      594       1  978302268\n",
       "   7 │      1      919       1  978301368\n",
       "   8 │      1      595       1  978824268\n",
       "   9 │      1      938       1  978301752\n",
       "  10 │      1     2398       1  978302281"
      ],
      "text/latex": [
       "\\begin{tabular}{r|cccc}\n",
       "\t& userid & movieid & rating & timestamp\\\\\n",
       "\t\\hline\n",
       "\t& Int64 & Int64 & Int64 & Int64\\\\\n",
       "\t\\hline\n",
       "\t1 & 1 & 1193 & 1 & 978300760 \\\\\n",
       "\t2 & 1 & 3408 & 1 & 978300275 \\\\\n",
       "\t3 & 1 & 2355 & 1 & 978824291 \\\\\n",
       "\t4 & 1 & 1287 & 1 & 978302039 \\\\\n",
       "\t5 & 1 & 2804 & 1 & 978300719 \\\\\n",
       "\t6 & 1 & 594 & 1 & 978302268 \\\\\n",
       "\t7 & 1 & 919 & 1 & 978301368 \\\\\n",
       "\t8 & 1 & 595 & 1 & 978824268 \\\\\n",
       "\t9 & 1 & 938 & 1 & 978301752 \\\\\n",
       "\t10 & 1 & 2398 & 1 & 978302281 \\\\\n",
       "\\end{tabular}\n"
      ],
      "text/html": [
       "<table class=\"data-frame\"><thead><tr><th></th><th>userid</th><th>movieid</th><th>rating</th><th>timestamp</th></tr><tr><th></th><th>Int64</th><th>Int64</th><th>Int64</th><th>Int64</th></tr></thead><tbody><p>10 rows × 4 columns</p><tr><th>1</th><td>1</td><td>1193</td><td>1</td><td>978300760</td></tr><tr><th>2</th><td>1</td><td>3408</td><td>1</td><td>978300275</td></tr><tr><th>3</th><td>1</td><td>2355</td><td>1</td><td>978824291</td></tr><tr><th>4</th><td>1</td><td>1287</td><td>1</td><td>978302039</td></tr><tr><th>5</th><td>1</td><td>2804</td><td>1</td><td>978300719</td></tr><tr><th>6</th><td>1</td><td>594</td><td>1</td><td>978302268</td></tr><tr><th>7</th><td>1</td><td>919</td><td>1</td><td>978301368</td></tr><tr><th>8</th><td>1</td><td>595</td><td>1</td><td>978824268</td></tr><tr><th>9</th><td>1</td><td>938</td><td>1</td><td>978301752</td></tr><tr><th>10</th><td>1</td><td>2398</td><td>1</td><td>978302281</td></tr></tbody></table>"
      ]
     },
     "metadata": {},
     "execution_count": 6
    }
   ],
   "metadata": {}
  },
  {
   "cell_type": "code",
   "execution_count": 7,
   "source": [
    "df = ratio_split(df, train_ratio = 0.6, valid_ratio=0.2);"
   ],
   "outputs": [],
   "metadata": {}
  },
  {
   "cell_type": "code",
   "execution_count": 8,
   "source": [
    "df_train = df[df.data_split.==:train, :]\n",
    "df_valid = df[df.data_split.==:valid, :]\n",
    "df_test = df[df.data_split.==:test, :]\n",
    "df_train_valid = df[df.data_split.!=:test, :]\n",
    "first(df_train, 10)"
   ],
   "outputs": [
    {
     "output_type": "execute_result",
     "data": {
      "text/plain": [
       "\u001b[1m10×5 DataFrame\u001b[0m\n",
       "\u001b[1m Row \u001b[0m│\u001b[1m userid \u001b[0m\u001b[1m movieid \u001b[0m\u001b[1m rating \u001b[0m\u001b[1m timestamp \u001b[0m\u001b[1m data_split \u001b[0m\n",
       "\u001b[1m     \u001b[0m│\u001b[90m Int64  \u001b[0m\u001b[90m Int64   \u001b[0m\u001b[90m Int64  \u001b[0m\u001b[90m Int64     \u001b[0m\u001b[90m Symbol     \u001b[0m\n",
       "─────┼────────────────────────────────────────────────\n",
       "   1 │      1     1193       1  978300760  train\n",
       "   2 │      1     1287       1  978302039  train\n",
       "   3 │      1     2804       1  978300719  train\n",
       "   4 │      1      594       1  978302268  train\n",
       "   5 │      1      919       1  978301368  train\n",
       "   6 │      1      595       1  978824268  train\n",
       "   7 │      1      938       1  978301752  train\n",
       "   8 │      1     2398       1  978302281  train\n",
       "   9 │      1     1035       1  978301753  train\n",
       "  10 │      1     2791       1  978302188  train"
      ],
      "text/latex": [
       "\\begin{tabular}{r|ccccc}\n",
       "\t& userid & movieid & rating & timestamp & data\\_split\\\\\n",
       "\t\\hline\n",
       "\t& Int64 & Int64 & Int64 & Int64 & Symbol\\\\\n",
       "\t\\hline\n",
       "\t1 & 1 & 1193 & 1 & 978300760 & train \\\\\n",
       "\t2 & 1 & 1287 & 1 & 978302039 & train \\\\\n",
       "\t3 & 1 & 2804 & 1 & 978300719 & train \\\\\n",
       "\t4 & 1 & 594 & 1 & 978302268 & train \\\\\n",
       "\t5 & 1 & 919 & 1 & 978301368 & train \\\\\n",
       "\t6 & 1 & 595 & 1 & 978824268 & train \\\\\n",
       "\t7 & 1 & 938 & 1 & 978301752 & train \\\\\n",
       "\t8 & 1 & 2398 & 1 & 978302281 & train \\\\\n",
       "\t9 & 1 & 1035 & 1 & 978301753 & train \\\\\n",
       "\t10 & 1 & 2791 & 1 & 978302188 & train \\\\\n",
       "\\end{tabular}\n"
      ],
      "text/html": [
       "<table class=\"data-frame\"><thead><tr><th></th><th>userid</th><th>movieid</th><th>rating</th><th>timestamp</th><th>data_split</th></tr><tr><th></th><th>Int64</th><th>Int64</th><th>Int64</th><th>Int64</th><th>Symbol</th></tr></thead><tbody><p>10 rows × 5 columns</p><tr><th>1</th><td>1</td><td>1193</td><td>1</td><td>978300760</td><td>train</td></tr><tr><th>2</th><td>1</td><td>1287</td><td>1</td><td>978302039</td><td>train</td></tr><tr><th>3</th><td>1</td><td>2804</td><td>1</td><td>978300719</td><td>train</td></tr><tr><th>4</th><td>1</td><td>594</td><td>1</td><td>978302268</td><td>train</td></tr><tr><th>5</th><td>1</td><td>919</td><td>1</td><td>978301368</td><td>train</td></tr><tr><th>6</th><td>1</td><td>595</td><td>1</td><td>978824268</td><td>train</td></tr><tr><th>7</th><td>1</td><td>938</td><td>1</td><td>978301752</td><td>train</td></tr><tr><th>8</th><td>1</td><td>2398</td><td>1</td><td>978302281</td><td>train</td></tr><tr><th>9</th><td>1</td><td>1035</td><td>1</td><td>978301753</td><td>train</td></tr><tr><th>10</th><td>1</td><td>2791</td><td>1</td><td>978302188</td><td>train</td></tr></tbody></table>"
      ]
     },
     "metadata": {},
     "execution_count": 8
    }
   ],
   "metadata": {}
  },
  {
   "cell_type": "code",
   "execution_count": 9,
   "source": [
    "nrow(df_train), nrow(df_valid), nrow(df_test)"
   ],
   "outputs": [
    {
     "output_type": "execute_result",
     "data": {
      "text/plain": [
       "(345168, 115056, 115057)"
      ]
     },
     "metadata": {},
     "execution_count": 9
    }
   ],
   "metadata": {}
  },
  {
   "cell_type": "code",
   "execution_count": 10,
   "source": [
    "metric = PrecisionAtK(10)"
   ],
   "outputs": [
    {
     "output_type": "execute_result",
     "data": {
      "text/plain": [
       "PrecisionAtK(10)"
      ]
     },
     "metadata": {},
     "execution_count": 10
    }
   ],
   "metadata": {}
  },
  {
   "cell_type": "code",
   "execution_count": 11,
   "source": [
    "using TreeParzen"
   ],
   "outputs": [],
   "metadata": {}
  },
  {
   "cell_type": "code",
   "execution_count": 12,
   "source": [
    "space = Dict(\n",
    "    :topk=>HP.QuantUniform(:topk, 10., 500., 1.),\n",
    "    :shrink=>HP.LogUniform(:shrink, log(1e-3), log(1e3)),\n",
    "    :weighting=>HP.Choice(:weighting, \n",
    "        [\n",
    "            Dict(:weighting=>:dummy, :weighting_at_inference=>false),\n",
    "            Dict(:weighting=>:tfidf, :weighting_at_inference=>false),\n",
    "            Dict(:weighting=>:bm25, :weighting_at_inference=>HP.Choice(:weighting_at_inference, [true, false]))\n",
    "        ]\n",
    "    ),\n",
    "    :normalize=>HP.Choice(:normalize, [true, false])\n",
    ")"
   ],
   "outputs": [
    {
     "output_type": "execute_result",
     "data": {
      "text/plain": [
       "Dict{Symbol, TreeParzen.Types.AbstractDelayed} with 4 entries:\n",
       "  :weighting => Choice(Param(:weighting, RandIndex(3)), Dict{Symbol, Any}[Dict(…\n",
       "  :topk      => QuantUniform(:topk, QuantUniform(10.0, 500.0, 1.0))\n",
       "  :normalize => Choice(Param(:normalize, RandIndex(2)), Bool[1, 0])\n",
       "  :shrink    => LogUniform(:shrink, LogUniform(-6.90776, 6.90776))"
      ]
     },
     "metadata": {},
     "execution_count": 12
    }
   ],
   "metadata": {}
  },
  {
   "cell_type": "code",
   "execution_count": null,
   "source": [],
   "outputs": [],
   "metadata": {}
  },
  {
   "cell_type": "code",
   "execution_count": 13,
   "source": [
    "function invert_output(params)\n",
    "    k = convert(Int, params[:topk])\n",
    "    model = ItemkNN(k, params[:shrink],params[:weighting][:weighting],params[:weighting][:weighting_at_inference],params[:normalize])\n",
    "    result = evaluate(model, df_train, df_valid, metric, 10, col_user=:userid, col_item=:movieid, col_rating=:rating, drop_history=false)\n",
    "    @show params, result\n",
    "    return -result\n",
    "end"
   ],
   "outputs": [
    {
     "output_type": "execute_result",
     "data": {
      "text/plain": [
       "invert_output (generic function with 1 method)"
      ]
     },
     "metadata": {},
     "execution_count": 13
    }
   ],
   "metadata": {}
  },
  {
   "cell_type": "code",
   "execution_count": 14,
   "source": [
    "best = fmin(invert_output, space, 10, logging_interval=-1)"
   ],
   "outputs": [
    {
     "output_type": "stream",
     "name": "stdout",
     "text": [
      "(params, result) = (Dict{Symbol, Any}(:weighting => Dict{Symbol, Any}(:weighting => :tfidf, :weighting_at_inference => false), :topk => 292.0, :normalize => true, :shrink => 84.63887548570325), 0.1119819518716625)\n"
     ]
    }
   ],
   "metadata": {}
  },
  {
   "cell_type": "code",
   "execution_count": null,
   "source": [
    "best_model = ItemkNN(convert(Int, best[:topk]), best[:shrink],best[:weighting][:weighting],best[:weighting][:weighting_at_inference],best[:normalize])\n",
    "evaluate(best_model, df_train_valid, df_test, metric, 10, col_user=:userid, col_item=:movieid, col_rating=:rating)"
   ],
   "outputs": [
    {
     "output_type": "error",
     "ename": "LoadError",
     "evalue": "UndefVarError: best not defined",
     "traceback": [
      "UndefVarError: best not defined",
      "",
      "Stacktrace:",
      " [1] top-level scope",
      "   @ In[1]:1",
      " [2] eval",
      "   @ ./boot.jl:360 [inlined]",
      " [3] include_string(mapexpr::typeof(REPL.softscope), mod::Module, code::String, filename::String)",
      "   @ Base ./loading.jl:1094"
     ]
    }
   ],
   "metadata": {}
  },
  {
   "cell_type": "code",
   "execution_count": null,
   "source": [],
   "outputs": [],
   "metadata": {}
  }
 ],
 "metadata": {
  "kernelspec": {
   "display_name": "Julia 1.6.0",
   "language": "julia",
   "name": "julia-1.6"
  },
  "language_info": {
   "file_extension": ".jl",
   "mimetype": "application/julia",
   "name": "julia",
   "version": "1.6.0"
  },
  "orig_nbformat": 2
 },
 "nbformat": 4,
 "nbformat_minor": 2
}