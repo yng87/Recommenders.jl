{
 "cells": [
  {
   "cell_type": "code",
   "execution_count": 1,
   "source": [
    "using DataFrames, TableOperations, Tables, Random\n",
    "using Recommenders: Movielens1M, load_dataset, ratio_split, ItemkNN, evaluate_u2i, MeanPrecision, MeanRecall, MeanNDCG"
   ],
   "outputs": [],
   "metadata": {}
  },
  {
   "cell_type": "code",
   "execution_count": 2,
   "source": [
    "ml1M = Movielens1M()\n",
    "download(ml1M)\n",
    "rating, user, movie = load_dataset(ml1M);"
   ],
   "outputs": [],
   "metadata": {}
  },
  {
   "cell_type": "code",
   "execution_count": 3,
   "source": [
    "rating = rating |> TableOperations.transform(Dict(:rating=>x->1.))"
   ],
   "outputs": [
    {
     "output_type": "execute_result",
     "data": {
      "text/plain": [
       "TableOperations.Transforms{true, CSV.File{false}, Dict{Symbol, var\"#1#2\"}}(CSV.File(\"/Users/keisuke.yanagi/workspace/Recommenders.jl/src/dataset/../../dataset/movielens1m/ratings.dat\"):\n",
       "Size: 1000209 x 4\n",
       "Tables.Schema:\n",
       " :userid     Int64\n",
       " :movieid    Int64\n",
       " :rating     Int64\n",
       " :timestamp  Int64, Dict(:rating => var\"#1#2\"()))"
      ]
     },
     "metadata": {},
     "execution_count": 3
    }
   ],
   "metadata": {}
  },
  {
   "cell_type": "code",
   "execution_count": 4,
   "source": [
    "Random.seed!(1234);\n",
    "train_valid_table, test_table = ratio_split(rating, 0.8)\n",
    "\n",
    "train_table, valid_table = ratio_split(train_valid_table, 0.8)\n",
    "length(Tables.rows(train_table)), length(Tables.rows(valid_table)), length(Tables.rows(test_table))\n"
   ],
   "outputs": [
    {
     "output_type": "execute_result",
     "data": {
      "text/plain": [
       "(640134, 160033, 200042)"
      ]
     },
     "metadata": {},
     "execution_count": 4
    }
   ],
   "metadata": {}
  },
  {
   "cell_type": "code",
   "execution_count": 5,
   "source": [
    "prec10 = MeanPrecision(10)\n",
    "recall10 = MeanRecall(10)\n",
    "ndcg10 = MeanNDCG(10)\n",
    "metrics = [prec10, recall10, ndcg10]"
   ],
   "outputs": [
    {
     "output_type": "execute_result",
     "data": {
      "text/plain": [
       "3-element Vector{Recommenders.MeanMetric}:\n",
       " Recommenders.MeanMetric{Recommenders.Precision}(Recommenders.Precision(10, \"precision\"))\n",
       " Recommenders.MeanMetric{Recommenders.Recall}(Recommenders.Recall(10, \"recall\"))\n",
       " Recommenders.MeanMetric{Recommenders.NDCG}(Recommenders.NDCG(10, \"ndcg\"))"
      ]
     },
     "metadata": {},
     "execution_count": 5
    }
   ],
   "metadata": {}
  },
  {
   "cell_type": "code",
   "execution_count": 6,
   "source": [
    "using TreeParzen"
   ],
   "outputs": [],
   "metadata": {}
  },
  {
   "cell_type": "code",
   "execution_count": 7,
   "source": [
    "space = Dict(\n",
    "    :topk=>HP.QuantUniform(:topk, 10., 500., 1.),\n",
    "    :shrink=>HP.LogUniform(:shrink, log(1e-3), log(1e3)),\n",
    "    :weighting=>HP.Choice(:weighting, \n",
    "        [\n",
    "            Dict(:weighting=>:dummy, :weighting_at_inference=>false),\n",
    "            Dict(:weighting=>:tfidf, :weighting_at_inference=>false),\n",
    "            Dict(:weighting=>:bm25, :weighting_at_inference=>HP.Choice(:weighting_at_inference, [true, false]))\n",
    "        ]\n",
    "    ),\n",
    "    :normalize=>HP.Choice(:normalize, [true, false]),\n",
    "    :normalize_similarity=>HP.Choice(:normalize_similarity, [true, false])\n",
    ")"
   ],
   "outputs": [
    {
     "output_type": "execute_result",
     "data": {
      "text/plain": [
       "Dict{Symbol, TreeParzen.Types.AbstractDelayed} with 5 entries:\n",
       "  :weighting            => Choice(Param(:weighting, RandIndex(3)), Dict{Symbol,…\n",
       "  :topk                 => QuantUniform(:topk, QuantUniform(10.0, 500.0, 1.0))\n",
       "  :normalize            => Choice(Param(:normalize, RandIndex(2)), Bool[1, 0])\n",
       "  :normalize_similarity => Choice(Param(:normalize_similarity, RandIndex(2)), B…\n",
       "  :shrink               => LogUniform(:shrink, LogUniform(-6.90776, 6.90776))"
      ]
     },
     "metadata": {},
     "execution_count": 7
    }
   ],
   "metadata": {}
  },
  {
   "cell_type": "code",
   "execution_count": 8,
   "source": [
    "function invert_output(params)\n",
    "    k = convert(Int, params[:topk])\n",
    "    model = ItemkNN(k, params[:shrink],params[:weighting][:weighting],params[:weighting][:weighting_at_inference],params[:normalize],params[:normalize_similarity])\n",
    "    result = evaluate_u2i(model, train_table, valid_table, metrics, 10, col_user=:userid, col_item=:movieid, col_rating=:rating, drop_history=true)\n",
    "    @info params, result\n",
    "    return -result[:ndcg10]\n",
    "end"
   ],
   "outputs": [
    {
     "output_type": "execute_result",
     "data": {
      "text/plain": [
       "invert_output (generic function with 1 method)"
      ]
     },
     "metadata": {},
     "execution_count": 8
    }
   ],
   "metadata": {}
  },
  {
   "cell_type": "code",
   "execution_count": 9,
   "source": [
    "best = fmin(invert_output, space, 100, logging_interval=-1)"
   ],
   "outputs": [
    {
     "output_type": "stream",
     "name": "stderr",
     "text": [
      "┌ Info: (Dict{Symbol, Any}(:weighting => Dict{Symbol, Any}(:weighting => :bm25, :weighting_at_inference => false), :topk => 486.0, :normalize => true, :normalize_similarity => false, :shrink => 0.015910234017397357), (ndcg10 = 0.21896030345055192, precision10 = 0.1900198938992067, recall10 = 0.11545900221409211))\n",
      "└ @ Main In[8]:5\n",
      "┌ Info: (Dict{Symbol, Any}(:weighting => Dict{Symbol, Any}(:weighting => :dummy, :weighting_at_inference => false), :topk => 417.0, :normalize => false, :normalize_similarity => false, :shrink => 0.5673740885280141), (ndcg10 = 0.1619520908466506, precision10 = 0.14142904509284215, recall10 = 0.0754406617408898))\n",
      "└ @ Main In[8]:5\n",
      "┌ Info: (Dict{Symbol, Any}(:weighting => Dict{Symbol, Any}(:weighting => :tfidf, :weighting_at_inference => false), :topk => 390.0, :normalize => true, :normalize_similarity => false, :shrink => 9.556256657892986), (ndcg10 = 0.2158780204181549, precision10 = 0.18746684350132897, recall10 = 0.11287998740571903))\n",
      "└ @ Main In[8]:5\n",
      "┌ Info: (Dict{Symbol, Any}(:weighting => Dict{Symbol, Any}(:weighting => :dummy, :weighting_at_inference => false), :topk => 163.0, :normalize => true, :normalize_similarity => false, :shrink => 1.0622280283871552), (ndcg10 = 0.18995129836901176, precision10 = 0.16674403183024372, recall10 = 0.09501184398038483))\n",
      "└ @ Main In[8]:5\n",
      "┌ Info: (Dict{Symbol, Any}(:weighting => Dict{Symbol, Any}(:weighting => :tfidf, :weighting_at_inference => false), :topk => 483.0, :normalize => true, :normalize_similarity => false, :shrink => 0.5596399666058733), (ndcg10 = 0.21740720304588299, precision10 = 0.18842838196286735, recall10 = 0.11453282143048814))\n",
      "└ @ Main In[8]:5\n",
      "┌ Info: (Dict{Symbol, Any}(:weighting => Dict{Symbol, Any}(:weighting => :tfidf, :weighting_at_inference => false), :topk => 202.0, :normalize => true, :normalize_similarity => true, :shrink => 509.5692648418456), (ndcg10 = 0.21477620953834098, precision10 = 0.1864389920424432, recall10 = 0.11184667959498876))\n",
      "└ @ Main In[8]:5\n",
      "┌ Info: (Dict{Symbol, Any}(:weighting => Dict{Symbol, Any}(:weighting => :dummy, :weighting_at_inference => false), :topk => 255.0, :normalize => false, :normalize_similarity => true, :shrink => 0.7117155720634846), (ndcg10 = 0.16643406310373018, precision10 = 0.1449933687002695, recall10 = 0.07788378745852922))\n",
      "└ @ Main In[8]:5\n",
      "┌ Info: (Dict{Symbol, Any}(:weighting => Dict{Symbol, Any}(:weighting => :bm25, :weighting_at_inference => true), :topk => 180.0, :normalize => true, :normalize_similarity => true, :shrink => 33.1172578714555), (ndcg10 = 0.22214291886589027, precision10 = 0.19477785145888785, recall10 = 0.12068903274773107))\n",
      "└ @ Main In[8]:5\n",
      "┌ Info: (Dict{Symbol, Any}(:weighting => Dict{Symbol, Any}(:weighting => :bm25, :weighting_at_inference => true), :topk => 165.0, :normalize => true, :normalize_similarity => true, :shrink => 592.1883597271325), (ndcg10 = 0.22215178827582097, precision10 = 0.19477785145888774, recall10 = 0.12126842383973203))\n",
      "└ @ Main In[8]:5\n",
      "┌ Info: (Dict{Symbol, Any}(:weighting => Dict{Symbol, Any}(:weighting => :tfidf, :weighting_at_inference => false), :topk => 283.0, :normalize => false, :normalize_similarity => false, :shrink => 0.3206230633601602), (ndcg10 = 0.16825525152421505, precision10 = 0.1458885941644606, recall10 = 0.08004034550098407))\n",
      "└ @ Main In[8]:5\n",
      "┌ Info: (Dict{Symbol, Any}(:weighting => Dict{Symbol, Any}(:weighting => :dummy, :weighting_at_inference => false), :topk => 374.0, :normalize => false, :normalize_similarity => true, :shrink => 0.2965368128345214), (ndcg10 = 0.16639164077619326, precision10 = 0.14494363395225887, recall10 = 0.07800937551526763))\n",
      "└ @ Main In[8]:5\n",
      "┌ Info: (Dict{Symbol, Any}(:weighting => Dict{Symbol, Any}(:weighting => :tfidf, :weighting_at_inference => false), :topk => 314.0, :normalize => false, :normalize_similarity => true, :shrink => 70.71658574601032), (ndcg10 = 0.17663553667378432, precision10 = 0.15220490716180812, recall10 = 0.08533331983557597))\n",
      "└ @ Main In[8]:5\n",
      "┌ Info: (Dict{Symbol, Any}(:weighting => Dict{Symbol, Any}(:weighting => :dummy, :weighting_at_inference => false), :topk => 219.0, :normalize => true, :normalize_similarity => true, :shrink => 0.06605149224207398), (ndcg10 = 0.1916706333127994, precision10 = 0.16808687002653033, recall10 = 0.09647961350219113))\n",
      "└ @ Main In[8]:5\n",
      "┌ Info: (Dict{Symbol, Any}(:weighting => Dict{Symbol, Any}(:weighting => :dummy, :weighting_at_inference => false), :topk => 146.0, :normalize => false, :normalize_similarity => false, :shrink => 110.32120694875357), (ndcg10 = 0.16182048073812286, precision10 = 0.14132957559682088, recall10 = 0.0750965497604952))\n",
      "└ @ Main In[8]:5\n",
      "┌ Info: (Dict{Symbol, Any}(:weighting => Dict{Symbol, Any}(:weighting => :bm25, :weighting_at_inference => false), :topk => 81.0, :normalize => false, :normalize_similarity => false, :shrink => 0.050541506247887044), (ndcg10 = 0.2180879190831348, precision10 = 0.19060013262599684, recall10 = 0.12123293432478525))\n",
      "└ @ Main In[8]:5\n",
      "┌ Info: (Dict{Symbol, Any}(:weighting => Dict{Symbol, Any}(:weighting => :dummy, :weighting_at_inference => false), :topk => 295.0, :normalize => true, :normalize_similarity => true, :shrink => 0.02713197432326762), (ndcg10 = 0.19140056093664226, precision10 = 0.16745689655172918, recall10 = 0.09682484050026983))\n",
      "└ @ Main In[8]:5\n",
      "┌ Info: (Dict{Symbol, Any}(:weighting => Dict{Symbol, Any}(:weighting => :dummy, :weighting_at_inference => false), :topk => 480.0, :normalize => false, :normalize_similarity => false, :shrink => 1.1731638405705045), (ndcg10 = 0.16195396830331785, precision10 = 0.14142904509284215, recall10 = 0.0754406617408898))\n",
      "└ @ Main In[8]:5\n",
      "┌ Info: (Dict{Symbol, Any}(:weighting => Dict{Symbol, Any}(:weighting => :dummy, :weighting_at_inference => false), :topk => 481.0, :normalize => true, :normalize_similarity => true, :shrink => 0.009380088845848138), (ndcg10 = 0.1953448096605274, precision10 = 0.1705570291777238, recall10 = 0.10005431201571907))\n",
      "└ @ Main In[8]:5\n",
      "┌ Info: (Dict{Symbol, Any}(:weighting => Dict{Symbol, Any}(:weighting => :bm25, :weighting_at_inference => false), :topk => 213.0, :normalize => true, :normalize_similarity => false, :shrink => 23.880366858016146), (ndcg10 = 0.21479269919243288, precision10 = 0.18633952254642178, recall10 = 0.11171600563991058))\n",
      "└ @ Main In[8]:5\n",
      "┌ Info: (Dict{Symbol, Any}(:weighting => Dict{Symbol, Any}(:weighting => :tfidf, :weighting_at_inference => false), :topk => 440.0, :normalize => false, :normalize_similarity => false, :shrink => 186.28136501422227), (ndcg10 = 0.16829368755916888, precision10 = 0.14592175066313434, recall10 = 0.0800607895979944))\n",
      "└ @ Main In[8]:5\n",
      "┌ Info: (Dict{Symbol, Any}(:weighting => Dict{Symbol, Any}(:weighting => :bm25, :weighting_at_inference => true), :topk => 24.0, :normalize => true, :normalize_similarity => true, :shrink => 703.7783683010623), (ndcg10 = 0.2027123514190327, precision10 = 0.17657493368700664, recall10 = 0.11237627988893531))\n",
      "└ @ Main In[8]:5\n",
      "┌ Info: (Dict{Symbol, Any}(:weighting => Dict{Symbol, Any}(:weighting => :bm25, :weighting_at_inference => true), :topk => 84.0, :normalize => true, :normalize_similarity => true, :shrink => 7.2736745833586145), (ndcg10 = 0.22727969866025824, precision10 = 0.19850795755968312, recall10 = 0.12438373034412568))\n",
      "└ @ Main In[8]:5\n",
      "┌ Info: (Dict{Symbol, Any}(:weighting => Dict{Symbol, Any}(:weighting => :bm25, :weighting_at_inference => true), :topk => 98.0, :normalize => true, :normalize_similarity => true, :shrink => 8.606330104230048), (ndcg10 = 0.22712244509787574, precision10 = 0.1986240053050413, recall10 = 0.12407858561186876))\n",
      "└ @ Main In[8]:5\n",
      "┌ Info: (Dict{Symbol, Any}(:weighting => Dict{Symbol, Any}(:weighting => :bm25, :weighting_at_inference => true), :topk => 13.0, :normalize => true, :normalize_similarity => true, :shrink => 0.0010064200520881232), (ndcg10 = 0.19992663976096897, precision10 = 0.17418766578249706, recall10 = 0.10917743200819637))\n",
      "└ @ Main In[8]:5\n",
      "┌ Info: (Dict{Symbol, Any}(:weighting => Dict{Symbol, Any}(:weighting => :bm25, :weighting_at_inference => true), :topk => 96.0, :normalize => true, :normalize_similarity => true, :shrink => 4.43466733197491), (ndcg10 = 0.22715501707093472, precision10 = 0.19850795755968323, recall10 = 0.12462701155987842))\n",
      "└ @ Main In[8]:5\n",
      "┌ Info: (Dict{Symbol, Any}(:weighting => Dict{Symbol, Any}(:weighting => :bm25, :weighting_at_inference => true), :topk => 55.0, :normalize => true, :normalize_similarity => true, :shrink => 3.2832726062099145), (ndcg10 = 0.2249203375232103, precision10 = 0.19650198938992097, recall10 = 0.1238244060330082))\n",
      "└ @ Main In[8]:5\n",
      "┌ Info: (Dict{Symbol, Any}(:weighting => Dict{Symbol, Any}(:weighting => :bm25, :weighting_at_inference => true), :topk => 116.0, :normalize => true, :normalize_similarity => true, :shrink => 3.330587015882369), (ndcg10 = 0.22610783732217551, precision10 = 0.1976127320954926, recall10 = 0.12380382135472516))\n",
      "└ @ Main In[8]:5\n",
      "┌ Info: (Dict{Symbol, Any}(:weighting => Dict{Symbol, Any}(:weighting => :bm25, :weighting_at_inference => true), :topk => 46.0, :normalize => true, :normalize_similarity => true, :shrink => 3.4671498720810603), (ndcg10 = 0.22358147949167376, precision10 = 0.19454575596817092, recall10 = 0.12336221464442937))\n",
      "└ @ Main In[8]:5\n",
      "┌ Info: (Dict{Symbol, Any}(:weighting => Dict{Symbol, Any}(:weighting => :bm25, :weighting_at_inference => true), :topk => 118.0, :normalize => true, :normalize_similarity => true, :shrink => 12.528581556946014), (ndcg10 = 0.22588458047341012, precision10 = 0.19706564986737574, recall10 = 0.12352231632301289))\n",
      "└ @ Main In[8]:5\n",
      "┌ Info: (Dict{Symbol, Any}(:weighting => Dict{Symbol, Any}(:weighting => :bm25, :weighting_at_inference => true), :topk => 76.0, :normalize => true, :normalize_similarity => true, :shrink => 0.1773011598968688), (ndcg10 = 0.22691827618346042, precision10 = 0.19834217506631485, recall10 = 0.12450034101955815))\n",
      "└ @ Main In[8]:5\n",
      "┌ Info: (Dict{Symbol, Any}(:weighting => Dict{Symbol, Any}(:weighting => :bm25, :weighting_at_inference => true), :topk => 131.0, :normalize => true, :normalize_similarity => true, :shrink => 2.6708786547566565), (ndcg10 = 0.22512983746066173, precision10 = 0.19661803713528048, recall10 = 0.12227714254638955))\n",
      "└ @ Main In[8]:5\n",
      "┌ Info: (Dict{Symbol, Any}(:weighting => Dict{Symbol, Any}(:weighting => :bm25, :weighting_at_inference => true), :topk => 97.0, :normalize => true, :normalize_similarity => true, :shrink => 28.83783313568762), (ndcg10 = 0.22733845094522362, precision10 = 0.1990384615384631, recall10 = 0.12490881441352446))\n",
      "└ @ Main In[8]:5\n",
      "┌ Info: (Dict{Symbol, Any}(:weighting => Dict{Symbol, Any}(:weighting => :bm25, :weighting_at_inference => true), :topk => 101.0, :normalize => true, :normalize_similarity => true, :shrink => 40.082960401174326), (ndcg10 = 0.22669759001571366, precision10 = 0.1983090185676407, recall10 = 0.12374596620937717))\n",
      "└ @ Main In[8]:5\n",
      "┌ Info: (Dict{Symbol, Any}(:weighting => Dict{Symbol, Any}(:weighting => :bm25, :weighting_at_inference => true), :topk => 47.0, :normalize => true, :normalize_similarity => true, :shrink => 150.66726203105105), (ndcg10 = 0.22247140471574764, precision10 = 0.19316976127321103, recall10 = 0.12302926501036122))\n",
      "└ @ Main In[8]:5\n",
      "┌ Info: (Dict{Symbol, Any}(:weighting => Dict{Symbol, Any}(:weighting => :bm25, :weighting_at_inference => true), :topk => 76.0, :normalize => true, :normalize_similarity => true, :shrink => 18.119625801271), (ndcg10 = 0.22679760768107807, precision10 = 0.19880636604774687, recall10 = 0.12470515731593747))\n",
      "└ @ Main In[8]:5\n",
      "┌ Info: (Dict{Symbol, Any}(:weighting => Dict{Symbol, Any}(:weighting => :bm25, :weighting_at_inference => true), :topk => 98.0, :normalize => true, :normalize_similarity => true, :shrink => 6.923829490325163), (ndcg10 = 0.22696211158099644, precision10 = 0.1984416445623358, recall10 = 0.12406850419148337))\n",
      "└ @ Main In[8]:5\n",
      "┌ Info: (Dict{Symbol, Any}(:weighting => Dict{Symbol, Any}(:weighting => :bm25, :weighting_at_inference => true), :topk => 15.0, :normalize => true, :normalize_similarity => true, :shrink => 343.45841885824336), (ndcg10 = 0.19797981443972096, precision10 = 0.1722645888594208, recall10 = 0.1094171615102351))\n",
      "└ @ Main In[8]:5\n",
      "┌ Info: (Dict{Symbol, Any}(:weighting => Dict{Symbol, Any}(:weighting => :bm25, :weighting_at_inference => true), :topk => 343.0, :normalize => true, :normalize_similarity => true, :shrink => 1.6931947089617603), (ndcg10 = 0.21725982327747959, precision10 = 0.19040119363395488, recall10 = 0.11634186694668637))\n",
      "└ @ Main In[8]:5\n",
      "┌ Info: (Dict{Symbol, Any}(:weighting => Dict{Symbol, Any}(:weighting => :bm25, :weighting_at_inference => true), :topk => 96.0, :normalize => true, :normalize_similarity => true, :shrink => 6.837922620638429), (ndcg10 = 0.22721148244372416, precision10 = 0.19878978779840997, recall10 = 0.12476858635677773))\n",
      "└ @ Main In[8]:5\n",
      "┌ Info: (Dict{Symbol, Any}(:weighting => Dict{Symbol, Any}(:weighting => :bm25, :weighting_at_inference => true), :topk => 140.0, :normalize => true, :normalize_similarity => true, :shrink => 5.61203116018013), (ndcg10 = 0.2243610244554022, precision10 = 0.1961206896551748, recall10 = 0.1220647187558254))\n",
      "└ @ Main In[8]:5\n",
      "┌ Info: (Dict{Symbol, Any}(:weighting => Dict{Symbol, Any}(:weighting => :bm25, :weighting_at_inference => true), :topk => 244.0, :normalize => true, :normalize_similarity => true, :shrink => 72.29499057638834), (ndcg10 = 0.21953161746515784, precision10 = 0.19232427055703152, recall10 = 0.11820071656167616))\n",
      "└ @ Main In[8]:5\n",
      "┌ Info: (Dict{Symbol, Any}(:weighting => Dict{Symbol, Any}(:weighting => :bm25, :weighting_at_inference => true), :topk => 66.0, :normalize => true, :normalize_similarity => true, :shrink => 15.222435638395735), (ndcg10 = 0.22611435445272465, precision10 = 0.1975464190981445, recall10 = 0.12449144311672149))\n",
      "└ @ Main In[8]:5\n",
      "┌ Info: (Dict{Symbol, Any}(:weighting => Dict{Symbol, Any}(:weighting => :bm25, :weighting_at_inference => true), :topk => 105.0, :normalize => true, :normalize_similarity => true, :shrink => 51.515687212101334), (ndcg10 = 0.22676291358822362, precision10 = 0.19762931034482903, recall10 = 0.12363312242156985))\n",
      "└ @ Main In[8]:5\n",
      "┌ Info: (Dict{Symbol, Any}(:weighting => Dict{Symbol, Any}(:weighting => :bm25, :weighting_at_inference => true), :topk => 35.0, :normalize => true, :normalize_similarity => true, :shrink => 0.00287941458533143), (ndcg10 = 0.22086608135161373, precision10 = 0.19258952254642012, recall10 = 0.12127082098533122))\n",
      "└ @ Main In[8]:5\n",
      "┌ Info: (Dict{Symbol, Any}(:weighting => Dict{Symbol, Any}(:weighting => :bm25, :weighting_at_inference => true), :topk => 85.0, :normalize => true, :normalize_similarity => true, :shrink => 0.15040642980480204), (ndcg10 = 0.227307138438499, precision10 = 0.1984416445623358, recall10 = 0.12461235491922641))\n",
      "└ @ Main In[8]:5\n",
      "┌ Info: (Dict{Symbol, Any}(:weighting => Dict{Symbol, Any}(:weighting => :bm25, :weighting_at_inference => true), :topk => 66.0, :normalize => true, :normalize_similarity => true, :shrink => 0.07542592905608174), (ndcg10 = 0.22597135076679448, precision10 = 0.19738063660477587, recall10 = 0.124597031899868))\n",
      "└ @ Main In[8]:5\n",
      "┌ Info: (Dict{Symbol, Any}(:weighting => Dict{Symbol, Any}(:weighting => :bm25, :weighting_at_inference => true), :topk => 189.0, :normalize => true, :normalize_similarity => true, :shrink => 0.005931270234201655), (ndcg10 = 0.22158326093503086, precision10 = 0.19408156498673976, recall10 = 0.11999510112085972))\n",
      "└ @ Main In[8]:5\n",
      "┌ Info: (Dict{Symbol, Any}(:weighting => Dict{Symbol, Any}(:weighting => :tfidf, :weighting_at_inference => false), :topk => 111.0, :normalize => true, :normalize_similarity => true, :shrink => 0.13435894397743203), (ndcg10 = 0.22537957371786665, precision10 = 0.1965019893899222, recall10 = 0.12066764163773532))\n",
      "└ @ Main In[8]:5\n",
      "┌ Info: (Dict{Symbol, Any}(:weighting => Dict{Symbol, Any}(:weighting => :bm25, :weighting_at_inference => true), :topk => 240.0, :normalize => true, :normalize_similarity => true, :shrink => 0.16135502476272942), (ndcg10 = 0.21953393743392668, precision10 = 0.1920424403183046, recall10 = 0.11717017897894201))\n",
      "└ @ Main In[8]:5\n",
      "┌ Info: (Dict{Symbol, Any}(:weighting => Dict{Symbol, Any}(:weighting => :bm25, :weighting_at_inference => true), :topk => 96.0, :normalize => true, :normalize_similarity => true, :shrink => 2.0267344167962915), (ndcg10 = 0.22720347919162986, precision10 = 0.19855769230769382, recall10 = 0.12465658883039851))\n",
      "└ @ Main In[8]:5\n",
      "┌ Info: (Dict{Symbol, Any}(:weighting => Dict{Symbol, Any}(:weighting => :bm25, :weighting_at_inference => true), :topk => 86.0, :normalize => true, :normalize_similarity => true, :shrink => 0.03396623520574514), (ndcg10 = 0.22794523273111741, precision10 = 0.19913793103448424, recall10 = 0.12477075395885676))\n",
      "└ @ Main In[8]:5\n",
      "┌ Info: (Dict{Symbol, Any}(:weighting => Dict{Symbol, Any}(:weighting => :bm25, :weighting_at_inference => true), :topk => 161.0, :normalize => true, :normalize_similarity => true, :shrink => 0.0022962437928499843), (ndcg10 = 0.22281600889140393, precision10 = 0.19510941644562554, recall10 = 0.12106933162189337))\n",
      "└ @ Main In[8]:5\n",
      "┌ Info: (Dict{Symbol, Any}(:weighting => Dict{Symbol, Any}(:weighting => :tfidf, :weighting_at_inference => false), :topk => 125.0, :normalize => true, :normalize_similarity => true, :shrink => 0.0021576527690298475), (ndcg10 = 0.22371440911460824, precision10 = 0.1950431034482779, recall10 = 0.11850347288889913))\n",
      "└ @ Main In[8]:5\n",
      "┌ Info: (Dict{Symbol, Any}(:weighting => Dict{Symbol, Any}(:weighting => :bm25, :weighting_at_inference => true), :topk => 94.0, :normalize => true, :normalize_similarity => true, :shrink => 0.0010282360909959114), (ndcg10 = 0.22762724071920315, precision10 = 0.19900530503978886, recall10 = 0.12485245664991114))\n",
      "└ @ Main In[8]:5\n",
      "┌ Info: (Dict{Symbol, Any}(:weighting => Dict{Symbol, Any}(:weighting => :bm25, :weighting_at_inference => false), :topk => 62.0, :normalize => false, :normalize_similarity => false, :shrink => 0.0013917000183904986), (ndcg10 = 0.2123496143925442, precision10 = 0.18559350132626276, recall10 = 0.11808947405339701))\n",
      "└ @ Main In[8]:5\n",
      "┌ Info: (Dict{Symbol, Any}(:weighting => Dict{Symbol, Any}(:weighting => :bm25, :weighting_at_inference => true), :topk => 91.0, :normalize => true, :normalize_similarity => true, :shrink => 0.005082593812324045), (ndcg10 = 0.22777629862174323, precision10 = 0.1989058355437676, recall10 = 0.12481253040181133))\n",
      "└ @ Main In[8]:5\n",
      "┌ Info: (Dict{Symbol, Any}(:weighting => Dict{Symbol, Any}(:weighting => :bm25, :weighting_at_inference => true), :topk => 147.0, :normalize => true, :normalize_similarity => true, :shrink => 0.030560341684745224), (ndcg10 = 0.22365424368799314, precision10 = 0.19550729442971052, recall10 = 0.12117597970442522))\n",
      "└ @ Main In[8]:5\n",
      "┌ Info: (Dict{Symbol, Any}(:weighting => Dict{Symbol, Any}(:weighting => :bm25, :weighting_at_inference => true), :topk => 88.0, :normalize => true, :normalize_similarity => true, :shrink => 0.004804646895513574), (ndcg10 = 0.22768155341092902, precision10 = 0.19867374005305158, recall10 = 0.124368747156493))\n",
      "└ @ Main In[8]:5\n",
      "┌ Info: (Dict{Symbol, Any}(:weighting => Dict{Symbol, Any}(:weighting => :tfidf, :weighting_at_inference => false), :topk => 88.0, :normalize => true, :normalize_similarity => true, :shrink => 0.005176697794595675), (ndcg10 = 0.22517735180158252, precision10 = 0.19683355437665961, recall10 = 0.12067455207240044))\n",
      "└ @ Main In[8]:5\n",
      "┌ Info: (Dict{Symbol, Any}(:weighting => Dict{Symbol, Any}(:weighting => :bm25, :weighting_at_inference => true), :topk => 277.0, :normalize => true, :normalize_similarity => true, :shrink => 0.011599294408697537), (ndcg10 = 0.21835823412035904, precision10 = 0.19149535809018803, recall10 = 0.11680082935505672))\n",
      "└ @ Main In[8]:5\n",
      "┌ Info: (Dict{Symbol, Any}(:weighting => Dict{Symbol, Any}(:weighting => :bm25, :weighting_at_inference => true), :topk => 38.0, :normalize => true, :normalize_similarity => true, :shrink => 0.0038268265030291138), (ndcg10 = 0.22156136401072582, precision10 = 0.1929874005305055, recall10 = 0.1217300755810407))\n",
      "└ @ Main In[8]:5\n",
      "┌ Info: (Dict{Symbol, Any}(:weighting => Dict{Symbol, Any}(:weighting => :bm25, :weighting_at_inference => true), :topk => 126.0, :normalize => true, :normalize_similarity => true, :shrink => 0.09710777717576788), (ndcg10 = 0.22550679720371525, precision10 = 0.19711538461538666, recall10 = 0.12256738013484347))\n",
      "└ @ Main In[8]:5\n",
      "┌ Info: (Dict{Symbol, Any}(:weighting => Dict{Symbol, Any}(:weighting => :tfidf, :weighting_at_inference => false), :topk => 179.0, :normalize => false, :normalize_similarity => false, :shrink => 0.03113199787387426), (ndcg10 = 0.16824397740781336, precision10 = 0.14592175066313437, recall10 = 0.07996319532193226))\n",
      "└ @ Main In[8]:5\n",
      "┌ Info: (Dict{Symbol, Any}(:weighting => Dict{Symbol, Any}(:weighting => :bm25, :weighting_at_inference => true), :topk => 225.0, :normalize => true, :normalize_similarity => true, :shrink => 0.0013533605234208389), (ndcg10 = 0.2195166757548538, precision10 = 0.19260610079575852, recall10 = 0.11812005922285397))\n",
      "└ @ Main In[8]:5\n",
      "┌ Info: (Dict{Symbol, Any}(:weighting => Dict{Symbol, Any}(:weighting => :bm25, :weighting_at_inference => true), :topk => 108.0, :normalize => true, :normalize_similarity => true, :shrink => 0.021287948525841285), (ndcg10 = 0.2270000394846892, precision10 = 0.198226127320956, recall10 = 0.1242505742402235))\n",
      "└ @ Main In[8]:5\n",
      "┌ Info: (Dict{Symbol, Any}(:weighting => Dict{Symbol, Any}(:weighting => :bm25, :weighting_at_inference => true), :topk => 71.0, :normalize => true, :normalize_similarity => true, :shrink => 0.006621169125364486), (ndcg10 = 0.22663997639538255, precision10 = 0.19837533156498818, recall10 = 0.12440427353717523))\n",
      "└ @ Main In[8]:5\n",
      "┌ Info: (Dict{Symbol, Any}(:weighting => Dict{Symbol, Any}(:weighting => :bm25, :weighting_at_inference => true), :topk => 85.0, :normalize => true, :normalize_similarity => true, :shrink => 0.008293038020794417), (ndcg10 = 0.22730467591106654, precision10 = 0.19842506631299892, recall10 = 0.12459187133193246))\n",
      "└ @ Main In[8]:5\n",
      "┌ Info: (Dict{Symbol, Any}(:weighting => Dict{Symbol, Any}(:weighting => :bm25, :weighting_at_inference => true), :topk => 98.0, :normalize => true, :normalize_similarity => true, :shrink => 0.004201769086353175), (ndcg10 = 0.22711972695905686, precision10 = 0.1985908488063675, recall10 = 0.12417823840158901))\n",
      "└ @ Main In[8]:5\n",
      "┌ Info: (Dict{Symbol, Any}(:weighting => Dict{Symbol, Any}(:weighting => :bm25, :weighting_at_inference => true), :topk => 28.0, :normalize => true, :normalize_similarity => true, :shrink => 0.05029712870224809), (ndcg10 = 0.2182979528034622, precision10 = 0.18987068965517429, recall10 = 0.11995090627217325))\n",
      "└ @ Main In[8]:5\n",
      "┌ Info: (Dict{Symbol, Any}(:weighting => Dict{Symbol, Any}(:weighting => :bm25, :weighting_at_inference => true), :topk => 111.0, :normalize => true, :normalize_similarity => true, :shrink => 0.013143018312469943), (ndcg10 = 0.2266622714202206, precision10 = 0.19809350132626105, recall10 = 0.12408990743780117))\n",
      "└ @ Main In[8]:5\n",
      "┌ Info: (Dict{Symbol, Any}(:weighting => Dict{Symbol, Any}(:weighting => :bm25, :weighting_at_inference => true), :topk => 90.0, :normalize => true, :normalize_similarity => true, :shrink => 0.01852527271527538), (ndcg10 = 0.22786834526826186, precision10 = 0.19882294429708378, recall10 = 0.12476233502959842))\n",
      "└ @ Main In[8]:5\n",
      "┌ Info: (Dict{Symbol, Any}(:weighting => Dict{Symbol, Any}(:weighting => :bm25, :weighting_at_inference => true), :topk => 139.0, :normalize => true, :normalize_similarity => true, :shrink => 0.01601249810170665), (ndcg10 = 0.2246954671778083, precision10 = 0.19648541114058599, recall10 = 0.1220503156231941))\n",
      "└ @ Main In[8]:5\n",
      "┌ Info: (Dict{Symbol, Any}(:weighting => Dict{Symbol, Any}(:weighting => :bm25, :weighting_at_inference => true), :topk => 87.0, :normalize => true, :normalize_similarity => true, :shrink => 0.11376083625961238), (ndcg10 = 0.22738916341999824, precision10 = 0.19869031830238856, recall10 = 0.12472695284301293))\n",
      "└ @ Main In[8]:5\n",
      "┌ Info: (Dict{Symbol, Any}(:weighting => Dict{Symbol, Any}(:weighting => :bm25, :weighting_at_inference => true), :topk => 50.0, :normalize => true, :normalize_similarity => true, :shrink => 0.24139663193063965), (ndcg10 = 0.22425398656345474, precision10 = 0.19525862068965588, recall10 = 0.12343485467897392))\n",
      "└ @ Main In[8]:5\n",
      "┌ Info: (Dict{Symbol, Any}(:weighting => Dict{Symbol, Any}(:weighting => :bm25, :weighting_at_inference => true), :topk => 94.0, :normalize => true, :normalize_similarity => true, :shrink => 0.008342779565415693), (ndcg10 = 0.22762724071920315, precision10 = 0.19900530503978886, recall10 = 0.12485245664991114))\n",
      "└ @ Main In[8]:5\n",
      "┌ Info: (Dict{Symbol, Any}(:weighting => Dict{Symbol, Any}(:weighting => :bm25, :weighting_at_inference => true), :topk => 74.0, :normalize => true, :normalize_similarity => true, :shrink => 0.008081198871394779), (ndcg10 = 0.22680227370787634, precision10 = 0.1980603448275879, recall10 = 0.12438667097954634))\n",
      "└ @ Main In[8]:5\n",
      "┌ Info: (Dict{Symbol, Any}(:weighting => Dict{Symbol, Any}(:weighting => :bm25, :weighting_at_inference => true), :topk => 10.0, :normalize => true, :normalize_similarity => true, :shrink => 0.0036910797209896043), (ndcg10 = 0.19279175375086616, precision10 = 0.16785477453581396, recall10 = 0.10396686860626578))\n",
      "└ @ Main In[8]:5\n",
      "┌ Info: (Dict{Symbol, Any}(:weighting => Dict{Symbol, Any}(:weighting => :bm25, :weighting_at_inference => true), :topk => 113.0, :normalize => true, :normalize_similarity => true, :shrink => 0.020387853045892086), (ndcg10 = 0.2266853055237309, precision10 = 0.1980603448275879, recall10 = 0.12422157932614225))\n",
      "└ @ Main In[8]:5\n",
      "┌ Info: (Dict{Symbol, Any}(:weighting => Dict{Symbol, Any}(:weighting => :bm25, :weighting_at_inference => true), :topk => 153.0, :normalize => true, :normalize_similarity => true, :shrink => 0.04599525260266557), (ndcg10 = 0.22367921217743852, precision10 = 0.19595490716180616, recall10 = 0.1219368838304739))\n",
      "└ @ Main In[8]:5\n",
      "┌ Info: (Dict{Symbol, Any}(:weighting => Dict{Symbol, Any}(:weighting => :bm25, :weighting_at_inference => true), :topk => 133.0, :normalize => true, :normalize_similarity => true, :shrink => 0.001509023417448132), (ndcg10 = 0.22540659608234934, precision10 = 0.197065649867376, recall10 = 0.12214155079030116))\n",
      "└ @ Main In[8]:5\n",
      "┌ Info: (Dict{Symbol, Any}(:weighting => Dict{Symbol, Any}(:weighting => :bm25, :weighting_at_inference => true), :topk => 192.0, :normalize => true, :normalize_similarity => true, :shrink => 0.09155068317502583), (ndcg10 = 0.2213231529354908, precision10 = 0.1941478779840872, recall10 = 0.11985045396407557))\n",
      "└ @ Main In[8]:5\n",
      "┌ Info: (Dict{Symbol, Any}(:weighting => Dict{Symbol, Any}(:weighting => :bm25, :weighting_at_inference => true), :topk => 91.0, :normalize => true, :normalize_similarity => true, :shrink => 0.020587699560297847), (ndcg10 = 0.22777586204428046, precision10 = 0.1989058355437676, recall10 = 0.12481253040181133))\n",
      "└ @ Main In[8]:5\n",
      "┌ Info: (Dict{Symbol, Any}(:weighting => Dict{Symbol, Any}(:weighting => :bm25, :weighting_at_inference => true), :topk => 91.0, :normalize => true, :normalize_similarity => true, :shrink => 0.007330425393717004), (ndcg10 = 0.22777629862174323, precision10 = 0.1989058355437676, recall10 = 0.12481253040181133))\n",
      "└ @ Main In[8]:5\n",
      "┌ Info: (Dict{Symbol, Any}(:weighting => Dict{Symbol, Any}(:weighting => :bm25, :weighting_at_inference => true), :topk => 122.0, :normalize => true, :normalize_similarity => true, :shrink => 0.02162007766869678), (ndcg10 = 0.22560432138284026, precision10 = 0.19696618037135477, recall10 = 0.12277164253587017))\n",
      "└ @ Main In[8]:5\n",
      "┌ Info: (Dict{Symbol, Any}(:weighting => Dict{Symbol, Any}(:weighting => :bm25, :weighting_at_inference => true), :topk => 61.0, :normalize => true, :normalize_similarity => true, :shrink => 0.2169222590265785), (ndcg10 = 0.22589359430734351, precision10 = 0.1969827586206912, recall10 = 0.12448984536068598))\n",
      "└ @ Main In[8]:5\n",
      "┌ Info: (Dict{Symbol, Any}(:weighting => Dict{Symbol, Any}(:weighting => :bm25, :weighting_at_inference => true), :topk => 176.0, :normalize => true, :normalize_similarity => true, :shrink => 0.009258463312970814), (ndcg10 = 0.22250317997377386, precision10 = 0.19515915119363592, recall10 = 0.1212976685764578))\n",
      "└ @ Main In[8]:5\n",
      "┌ Info: (Dict{Symbol, Any}(:weighting => Dict{Symbol, Any}(:weighting => :bm25, :weighting_at_inference => true), :topk => 85.0, :normalize => true, :normalize_similarity => true, :shrink => 0.002374062780355526), (ndcg10 = 0.22730467591106654, precision10 = 0.19842506631299892, recall10 = 0.12459187133193246))\n",
      "└ @ Main In[8]:5\n",
      "┌ Info: (Dict{Symbol, Any}(:weighting => Dict{Symbol, Any}(:weighting => :bm25, :weighting_at_inference => true), :topk => 86.0, :normalize => true, :normalize_similarity => true, :shrink => 0.0018817738042468859), (ndcg10 = 0.22794523273111741, precision10 = 0.19913793103448424, recall10 = 0.12477075395885676))\n",
      "└ @ Main In[8]:5\n",
      "┌ Info: (Dict{Symbol, Any}(:weighting => Dict{Symbol, Any}(:weighting => :bm25, :weighting_at_inference => true), :topk => 71.0, :normalize => true, :normalize_similarity => true, :shrink => 0.006715101736926783), (ndcg10 = 0.22663997639538255, precision10 = 0.19837533156498818, recall10 = 0.12440427353717523))\n",
      "└ @ Main In[8]:5\n",
      "┌ Info: (Dict{Symbol, Any}(:weighting => Dict{Symbol, Any}(:weighting => :bm25, :weighting_at_inference => true), :topk => 91.0, :normalize => true, :normalize_similarity => true, :shrink => 0.1225271198215118), (ndcg10 = 0.2277523474674849, precision10 = 0.19887267904509387, recall10 = 0.12480048552604561))\n",
      "└ @ Main In[8]:5\n",
      "┌ Info: (Dict{Symbol, Any}(:weighting => Dict{Symbol, Any}(:weighting => :bm25, :weighting_at_inference => true), :topk => 106.0, :normalize => true, :normalize_similarity => true, :shrink => 0.040437365589461524), (ndcg10 = 0.22678445768102748, precision10 = 0.19787798408488202, recall10 = 0.12374548273070712))\n",
      "└ @ Main In[8]:5\n",
      "┌ Info: (Dict{Symbol, Any}(:weighting => Dict{Symbol, Any}(:weighting => :bm25, :weighting_at_inference => true), :topk => 195.0, :normalize => true, :normalize_similarity => true, :shrink => 0.0016612011746531604), (ndcg10 = 0.221294049707255, precision10 = 0.19399867374005555, recall10 = 0.11987625443126006))\n",
      "└ @ Main In[8]:5\n",
      "┌ Info: (Dict{Symbol, Any}(:weighting => Dict{Symbol, Any}(:weighting => :tfidf, :weighting_at_inference => false), :topk => 54.0, :normalize => true, :normalize_similarity => true, :shrink => 0.4008121005667375), (ndcg10 = 0.22814501496590142, precision10 = 0.19900530503978947, recall10 = 0.12339840784902056))\n",
      "└ @ Main In[8]:5\n",
      "┌ Info: (Dict{Symbol, Any}(:weighting => Dict{Symbol, Any}(:weighting => :tfidf, :weighting_at_inference => false), :topk => 22.0, :normalize => true, :normalize_similarity => true, :shrink => 0.3536007164119212), (ndcg10 = 0.22888129059314904, precision10 = 0.19965185676392658, recall10 = 0.12476936057512766))\n",
      "└ @ Main In[8]:5\n",
      "┌ Info: (Dict{Symbol, Any}(:weighting => Dict{Symbol, Any}(:weighting => :tfidf, :weighting_at_inference => false), :topk => 54.0, :normalize => true, :normalize_similarity => true, :shrink => 0.37444630234089715), (ndcg10 = 0.22814754439540727, precision10 = 0.19900530503978947, recall10 = 0.12339840784902056))\n",
      "└ @ Main In[8]:5\n",
      "┌ Info: (Dict{Symbol, Any}(:weighting => Dict{Symbol, Any}(:weighting => :tfidf, :weighting_at_inference => false), :topk => 27.0, :normalize => false, :normalize_similarity => false, :shrink => 1.5025694166836057), (ndcg10 = 0.16541820075705632, precision10 = 0.14326923076923512, recall10 = 0.07841232681727989))\n",
      "└ @ Main In[8]:5\n",
      "┌ Info: (Dict{Symbol, Any}(:weighting => Dict{Symbol, Any}(:weighting => :tfidf, :weighting_at_inference => false), :topk => 40.0, :normalize => true, :normalize_similarity => true, :shrink => 0.3567403081227257), (ndcg10 = 0.22934981421786638, precision10 = 0.19938660477453699, recall10 = 0.12434509901992383))\n",
      "└ @ Main In[8]:5\n",
      "┌ Info: (Dict{Symbol, Any}(:weighting => Dict{Symbol, Any}(:weighting => :tfidf, :weighting_at_inference => false), :topk => 48.0, :normalize => true, :normalize_similarity => true, :shrink => 0.7230981219056241), (ndcg10 = 0.22853260276218196, precision10 = 0.19830901856764063, recall10 = 0.12329974446073326))\n",
      "└ @ Main In[8]:5\n",
      "┌ Info: (Dict{Symbol, Any}(:weighting => Dict{Symbol, Any}(:weighting => :tfidf, :weighting_at_inference => false), :topk => 47.0, :normalize => true, :normalize_similarity => true, :shrink => 0.8140395397382582), (ndcg10 = 0.22835833303606534, precision10 = 0.19815981432360874, recall10 = 0.12368485208396462))\n",
      "└ @ Main In[8]:5\n",
      "┌ Info: (Dict{Symbol, Any}(:weighting => Dict{Symbol, Any}(:weighting => :tfidf, :weighting_at_inference => false), :topk => 43.0, :normalize => true, :normalize_similarity => true, :shrink => 0.4537352305010543), (ndcg10 = 0.22963395772486866, precision10 = 0.1991876657824951, recall10 = 0.12393476564117972))\n",
      "└ @ Main In[8]:5\n",
      "┌ Info: fmin: 100 / 100 trials carried out\n",
      "└ @ TreeParzen.API /Users/keisuke.yanagi/.julia/packages/TreeParzen/Iw2mh/src/API.jl:176\n",
      "┌ Info: Successfully completed fmin \n",
      "└ @ TreeParzen.API /Users/keisuke.yanagi/.julia/packages/TreeParzen/Iw2mh/src/API.jl:231\n"
     ]
    },
    {
     "output_type": "execute_result",
     "data": {
      "text/plain": [
       "Dict{Symbol, Any} with 5 entries:\n",
       "  :weighting            => Dict{Symbol, Any}(:weighting=>:tfidf, :weighting_at_…\n",
       "  :topk                 => 43.0\n",
       "  :normalize            => true\n",
       "  :normalize_similarity => true\n",
       "  :shrink               => 0.453735"
      ]
     },
     "metadata": {},
     "execution_count": 9
    }
   ],
   "metadata": {}
  },
  {
   "cell_type": "code",
   "execution_count": 10,
   "source": [
    "best_model = ItemkNN(convert(Int, best[:topk]), best[:shrink],best[:weighting][:weighting],best[:weighting][:weighting_at_inference],best[:normalize],best[:normalize_similarity])\n",
    "evaluate_u2i(best_model, train_valid_table, test_table, metrics, 10, col_user=:userid, col_item=:movieid, col_rating=:rating, drop_history=true)"
   ],
   "outputs": [
    {
     "output_type": "execute_result",
     "data": {
      "text/plain": [
       "(ndcg10 = 0.37343299247542416,\n",
       " precision10 = 0.3311309819506524,\n",
       " recall10 = 0.14892059741684313,)"
      ]
     },
     "metadata": {},
     "execution_count": 10
    }
   ],
   "metadata": {}
  },
  {
   "cell_type": "code",
   "execution_count": null,
   "source": [],
   "outputs": [],
   "metadata": {}
  }
 ],
 "metadata": {
  "kernelspec": {
   "name": "julia-1.6",
   "display_name": "Julia 1.6.0",
   "language": "julia"
  },
  "language_info": {
   "file_extension": ".jl",
   "name": "julia",
   "mimetype": "application/julia",
   "version": "1.6.0"
  },
  "orig_nbformat": 2,
  "interpreter": {
   "hash": "767d51c1340bd893661ea55ea3124f6de3c7a262a8b4abca0554b478b1e2ff90"
  }
 },
 "nbformat": 4,
 "nbformat_minor": 2
}