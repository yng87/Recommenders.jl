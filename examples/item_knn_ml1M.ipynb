{
 "cells": [
  {
   "cell_type": "code",
   "execution_count": 1,
   "source": [
    "using DataFrames, TableOperations, Tables, Random\n",
    "using Recommender: Movielens1M, load_dataset, ratio_split, ItemkNN, evaluate_u2i, PrecisionAtK, RecallAtK, NDCG"
   ],
   "outputs": [],
   "metadata": {}
  },
  {
   "cell_type": "code",
   "execution_count": 2,
   "source": [
    "ml1M = Movielens1M()\n",
    "download(ml1M)\n",
    "rating, user, movie = load_dataset(ml1M);"
   ],
   "outputs": [],
   "metadata": {}
  },
  {
   "cell_type": "code",
   "execution_count": 3,
   "source": [
    "rating = rating |> TableOperations.filter(x->Tables.getcolumn(x, :rating) >= 4)"
   ],
   "outputs": [
    {
     "output_type": "execute_result",
     "data": {
      "text/plain": [
       "TableOperations.Filter{var\"#1#2\", CSV.File{false}}(var\"#1#2\"(), CSV.File(\"/Users/keisuke.yanagi/workspace/Recommender.jl/src/dataset/../../dataset/movielens1m/ratings.dat\"):\n",
       "Size: 1000209 x 4\n",
       "Tables.Schema:\n",
       " :userid     Int64\n",
       " :movieid    Int64\n",
       " :rating     Int64\n",
       " :timestamp  Int64)"
      ]
     },
     "metadata": {},
     "execution_count": 3
    }
   ],
   "metadata": {}
  },
  {
   "cell_type": "code",
   "execution_count": 4,
   "source": [
    "Random.seed!(1234);\n",
    "train_valid_table, test_table = ratio_split(rating, 0.8)\n",
    "\n",
    "train_table, valid_table = ratio_split(train_valid_table, 0.8)\n",
    "length(Tables.rows(train_table)), length(Tables.rows(valid_table)), length(Tables.rows(test_table))\n"
   ],
   "outputs": [
    {
     "output_type": "execute_result",
     "data": {
      "text/plain": [
       "(368180, 92045, 115056)"
      ]
     },
     "metadata": {},
     "execution_count": 4
    }
   ],
   "metadata": {}
  },
  {
   "cell_type": "code",
   "execution_count": 5,
   "source": [
    "prec10 = PrecisionAtK(10)\n",
    "recall10 = RecallAtK(10)\n",
    "ndcg10 = NDCG(10)\n",
    "metrics = [prec10, recall10, ndcg10]"
   ],
   "outputs": [
    {
     "output_type": "execute_result",
     "data": {
      "text/plain": [
       "3-element Vector{Recommender.AbstractMetric}:\n",
       " PrecisionAtK(10)\n",
       " RecallAtK(10)\n",
       " NDCG(10)"
      ]
     },
     "metadata": {},
     "execution_count": 5
    }
   ],
   "metadata": {}
  },
  {
   "cell_type": "code",
   "execution_count": 6,
   "source": [
    "using TreeParzen"
   ],
   "outputs": [],
   "metadata": {}
  },
  {
   "cell_type": "code",
   "execution_count": 7,
   "source": [
    "space = Dict(\n",
    "    :topk=>HP.QuantUniform(:topk, 10., 500., 1.),\n",
    "    :shrink=>HP.LogUniform(:shrink, log(1e-3), log(1e3)),\n",
    "    :weighting=>HP.Choice(:weighting, \n",
    "        [\n",
    "            Dict(:weighting=>:dummy, :weighting_at_inference=>false),\n",
    "            Dict(:weighting=>:tfidf, :weighting_at_inference=>false),\n",
    "            Dict(:weighting=>:bm25, :weighting_at_inference=>HP.Choice(:weighting_at_inference, [true, false]))\n",
    "        ]\n",
    "    ),\n",
    "    :normalize=>HP.Choice(:normalize, [true, false])\n",
    ")"
   ],
   "outputs": [
    {
     "output_type": "execute_result",
     "data": {
      "text/plain": [
       "Dict{Symbol, TreeParzen.Types.AbstractDelayed} with 4 entries:\n",
       "  :weighting => Choice(Param(:weighting, RandIndex(3)), Dict{Symbol, Any}[Dict(…\n",
       "  :topk      => QuantUniform(:topk, QuantUniform(10.0, 500.0, 1.0))\n",
       "  :normalize => Choice(Param(:normalize, RandIndex(2)), Bool[1, 0])\n",
       "  :shrink    => LogUniform(:shrink, LogUniform(-6.90776, 6.90776))"
      ]
     },
     "metadata": {},
     "execution_count": 7
    }
   ],
   "metadata": {}
  },
  {
   "cell_type": "code",
   "execution_count": 8,
   "source": [
    "function invert_output(params)\n",
    "    k = convert(Int, params[:topk])\n",
    "    model = ItemkNN(k, params[:shrink],params[:weighting][:weighting],params[:weighting][:weighting_at_inference],params[:normalize])\n",
    "    result = evaluate_u2i(model, train_table, valid_table, metrics, 10, col_user=:userid, col_item=:movieid, col_rating=:rating, drop_history=true)\n",
    "    @show params, result\n",
    "    return -result[end]\n",
    "end"
   ],
   "outputs": [
    {
     "output_type": "execute_result",
     "data": {
      "text/plain": [
       "invert_output (generic function with 1 method)"
      ]
     },
     "metadata": {},
     "execution_count": 8
    }
   ],
   "metadata": {}
  },
  {
   "cell_type": "code",
   "execution_count": 9,
   "source": [
    "best = fmin(invert_output, space, 10, logging_interval=-1)"
   ],
   "outputs": [
    {
     "output_type": "stream",
     "name": "stdout",
     "text": [
      "(params, result) = (Dict{Symbol, Any}(:weighting => Dict{Symbol, Any}(:weighting => :dummy, :weighting_at_inference => false), :topk => 169.0, :normalize => false, :shrink => 16.017417359959115), (NDCG(10) = 0.14253987482751188, RecallAtK(10) = 0.09982980385839621, PrecisionAtK(10) = 0.11393939393939774))\n",
      "(params, result) = (Dict{Symbol, Any}(:weighting => Dict{Symbol, Any}(:weighting => :tfidf, :weighting_at_inference => false), :topk => 83.0, :normalize => false, :shrink => 0.39519389644223507), (NDCG(10) = 0.14809223995768842, RecallAtK(10) = 0.10366217192874787, PrecisionAtK(10) = 0.11666666666667036))\n",
      "(params, result) = (Dict{Symbol, Any}(:weighting => Dict{Symbol, Any}(:weighting => :dummy, :weighting_at_inference => false), :topk => 223.0, :normalize => false, :shrink => 0.002473051357496883), (NDCG(10) = 0.14224808802765485, RecallAtK(10) = 0.09957322568075015, PrecisionAtK(10) = 0.11373737373737744))\n",
      "(params, result) = (Dict{Symbol, Any}(:weighting => Dict{Symbol, Any}(:weighting => :bm25, :weighting_at_inference => false), :topk => 361.0, :normalize => true, :shrink => 1.4049660810099809), (NDCG(10) = 0.18974940462520992, RecallAtK(10) = 0.13652778683553654, PrecisionAtK(10) = 0.14744107744108229))\n",
      "(params, result) = (Dict{Symbol, Any}(:weighting => Dict{Symbol, Any}(:weighting => :bm25, :weighting_at_inference => false), :topk => 93.0, :normalize => true, :shrink => 0.0014238800831763352), (NDCG(10) = 0.18788695513481865, RecallAtK(10) = 0.13637563628490812, PrecisionAtK(10) = 0.1469191919191971))\n",
      "(params, result) = (Dict{Symbol, Any}(:weighting => Dict{Symbol, Any}(:weighting => :tfidf, :weighting_at_inference => false), :topk => 148.0, :normalize => true, :shrink => 6.079921033920776), (NDCG(10) = 0.18659327707978135, RecallAtK(10) = 0.1332491626952305, PrecisionAtK(10) = 0.14478114478114973))\n",
      "(params, result) = (Dict{Symbol, Any}(:weighting => Dict{Symbol, Any}(:weighting => :bm25, :weighting_at_inference => false), :topk => 425.0, :normalize => false, :shrink => 3.542387467789375), (NDCG(10) = 0.1876074543117361, RecallAtK(10) = 0.14047256716621204, PrecisionAtK(10) = 0.14905723905724416))\n",
      "(params, result) = (Dict{Symbol, Any}(:weighting => Dict{Symbol, Any}(:weighting => :dummy, :weighting_at_inference => false), :topk => 393.0, :normalize => true, :shrink => 3.186086383721437), (NDCG(10) = 0.17596961835277858, RecallAtK(10) = 0.1260960066731493, PrecisionAtK(10) = 0.1397138047138092))\n",
      "(params, result) = (Dict{Symbol, Any}(:weighting => Dict{Symbol, Any}(:weighting => :bm25, :weighting_at_inference => false), :topk => 11.0, :normalize => true, :shrink => 1.111670149654069), (NDCG(10) = 0.1911403187011101, RecallAtK(10) = 0.13901979252441873, PrecisionAtK(10) = 0.15065656565657068))\n",
      "(params, result) = (Dict{Symbol, Any}(:weighting => Dict{Symbol, Any}(:weighting => :tfidf, :weighting_at_inference => false), :topk => 308.0, :normalize => true, :shrink => 0.7359601913115392), (NDCG(10) = 0.18845997407342283, RecallAtK(10) = 0.13616055864814958, PrecisionAtK(10) = 0.146986531986537))\n"
     ]
    },
    {
     "output_type": "stream",
     "name": "stderr",
     "text": [
      "┌ Info: fmin: 10 / 10 trials carried out\n",
      "└ @ TreeParzen.API /Users/keisuke.yanagi/.julia/packages/TreeParzen/Iw2mh/src/API.jl:176\n",
      "┌ Info: Successfully completed fmin \n",
      "└ @ TreeParzen.API /Users/keisuke.yanagi/.julia/packages/TreeParzen/Iw2mh/src/API.jl:231\n"
     ]
    },
    {
     "output_type": "execute_result",
     "data": {
      "text/plain": [
       "Dict{Symbol, Any} with 4 entries:\n",
       "  :weighting => Dict{Symbol, Any}(:weighting=>:bm25, :weighting_at_inference=>f…\n",
       "  :topk      => 11.0\n",
       "  :normalize => true\n",
       "  :shrink    => 1.11167"
      ]
     },
     "metadata": {},
     "execution_count": 9
    }
   ],
   "metadata": {}
  },
  {
   "cell_type": "code",
   "execution_count": 10,
   "source": [
    "best_model = ItemkNN(convert(Int, best[:topk]), best[:shrink],best[:weighting][:weighting],best[:weighting][:weighting_at_inference],best[:normalize])\n",
    "evaluate_u2i(best_model, train_valid_table, test_table, metrics, 10, col_user=:userid, col_item=:movieid, col_rating=:rating, drop_history=true)"
   ],
   "outputs": [
    {
     "output_type": "execute_result",
     "data": {
      "text/plain": [
       "(NDCG(10) = 0.28450441935831566,\n",
       " RecallAtK(10) = 0.1646981999476594,\n",
       " PrecisionAtK(10) = 0.22940388479571405,)"
      ]
     },
     "metadata": {},
     "execution_count": 10
    }
   ],
   "metadata": {}
  },
  {
   "cell_type": "code",
   "execution_count": null,
   "source": [],
   "outputs": [],
   "metadata": {}
  }
 ],
 "metadata": {
  "kernelspec": {
   "display_name": "Julia 1.6.0",
   "language": "julia",
   "name": "julia-1.6"
  },
  "language_info": {
   "file_extension": ".jl",
   "mimetype": "application/julia",
   "name": "julia",
   "version": "1.6.0"
  },
  "orig_nbformat": 2
 },
 "nbformat": 4,
 "nbformat_minor": 2
}