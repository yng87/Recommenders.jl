{
 "cells": [
  {
   "cell_type": "code",
   "execution_count": 1,
   "source": [
    "using DataFrames, TableOperations, Tables, Random\n",
    "using Recommender: Movielens100k, load_dataset, ratio_split, ImplicitMF, evaluate_u2i, PrecisionAtK, fit!, predict_u2i,make_u2i_dataset"
   ],
   "outputs": [],
   "metadata": {}
  },
  {
   "cell_type": "code",
   "execution_count": 2,
   "source": [
    "ml100k = Movielens100k()\n",
    "download(ml100k)\n",
    "rating, user, movie = load_dataset(ml100k);"
   ],
   "outputs": [],
   "metadata": {}
  },
  {
   "cell_type": "code",
   "execution_count": 3,
   "source": [
    "rating = rating |> TableOperations.filter(x->Tables.getcolumn(x, :rating) >= 4)"
   ],
   "outputs": [
    {
     "output_type": "execute_result",
     "data": {
      "text/plain": [
       "TableOperations.Filter{var\"#1#2\", CSV.File{false}}(var\"#1#2\"(), CSV.File(\"/Users/keisuke.yanagi/workspace/Recommender.jl/src/dataset/../../dataset/movielens100k/u.data\"):\n",
       "Size: 100000 x 4\n",
       "Tables.Schema:\n",
       " :userid     Int64\n",
       " :movieid    Int64\n",
       " :rating     Int64\n",
       " :timestamp  Int64)"
      ]
     },
     "metadata": {},
     "execution_count": 3
    }
   ],
   "metadata": {}
  },
  {
   "cell_type": "code",
   "execution_count": 4,
   "source": [
    "movie2title = Dict()\n",
    "for row in Tables.rows(movie)\n",
    "    movie2title[row[:movieid]] = row[:movie_title]\n",
    "end\n",
    "rating = rating |> TableOperations.transform(Dict(:movieid=>x->movie2title[x]))"
   ],
   "outputs": [
    {
     "output_type": "execute_result",
     "data": {
      "text/plain": [
       "TableOperations.Transforms{false, TableOperations.Filter{var\"#1#2\", CSV.File{false}}, Dict{Symbol, var\"#3#4\"}}(TableOperations.Filter{var\"#1#2\", CSV.File{false}}(var\"#1#2\"(), CSV.File(\"/Users/keisuke.yanagi/workspace/Recommender.jl/src/dataset/../../dataset/movielens100k/u.data\"):\n",
       "Size: 100000 x 4\n",
       "Tables.Schema:\n",
       " :userid     Int64\n",
       " :movieid    Int64\n",
       " :rating     Int64\n",
       " :timestamp  Int64), Dict(:movieid => var\"#3#4\"()))"
      ]
     },
     "metadata": {},
     "execution_count": 4
    }
   ],
   "metadata": {}
  },
  {
   "cell_type": "code",
   "execution_count": 5,
   "source": [
    "Random.seed!(1234);\n",
    "train_valid_table, test_table = ratio_split(rating, 0.8)\n",
    "\n",
    "train_table, valid_table = ratio_split(train_valid_table, 0.8)\n",
    "length(Tables.rows(train_table)), length(Tables.rows(valid_table)), length(Tables.rows(test_table))"
   ],
   "outputs": [
    {
     "output_type": "execute_result",
     "data": {
      "text/plain": [
       "(35440, 8860, 11075)"
      ]
     },
     "metadata": {},
     "execution_count": 5
    }
   ],
   "metadata": {}
  },
  {
   "cell_type": "code",
   "execution_count": 6,
   "source": [
    "metric = PrecisionAtK(10)"
   ],
   "outputs": [
    {
     "output_type": "execute_result",
     "data": {
      "text/plain": [
       "PrecisionAtK(10)"
      ]
     },
     "metadata": {},
     "execution_count": 6
    }
   ],
   "metadata": {}
  },
  {
   "cell_type": "code",
   "execution_count": 7,
   "source": [
    "model = ImplicitMF(128, true, 0.005)"
   ],
   "outputs": [
    {
     "output_type": "execute_result",
     "data": {
      "text/plain": [
       "ImplicitMF(128, true, 0.005, nothing, nothing, nothing, nothing, nothing, nothing, nothing, nothing, nothing)"
      ]
     },
     "metadata": {},
     "execution_count": 7
    }
   ],
   "metadata": {}
  },
  {
   "cell_type": "code",
   "execution_count": 8,
   "source": [
    "evaluate_u2i(model, train_table, valid_table, metric, 10, col_item=:movieid, n_epochs=256, valid_table=valid_table, n_negatives=8, learning_rate=0.002,drop_history=true)"
   ],
   "outputs": [
    {
     "output_type": "stream",
     "name": "stderr",
     "text": [
      "┌ Info: epoch=1: loss=Inf, val_loss=1.413728485314081\n",
      "└ @ Recommender /Users/keisuke.yanagi/workspace/Recommender.jl/src/model/implicit_mf.jl:142\n",
      "┌ Info: epoch=2: loss=0.43117636642919416, val_loss=1.365224390198098\n",
      "└ @ Recommender /Users/keisuke.yanagi/workspace/Recommender.jl/src/model/implicit_mf.jl:142\n",
      "┌ Info: epoch=3: loss=0.4068890908350818, val_loss=1.3967756289309956\n",
      "└ @ Recommender /Users/keisuke.yanagi/workspace/Recommender.jl/src/model/implicit_mf.jl:142\n",
      "┌ Info: epoch=4: loss=0.38816468365990225, val_loss=1.4109755282638323\n",
      "└ @ Recommender /Users/keisuke.yanagi/workspace/Recommender.jl/src/model/implicit_mf.jl:142\n",
      "┌ Info: epoch=5: loss=0.3738417218477318, val_loss=1.4057231943291455\n",
      "└ @ Recommender /Users/keisuke.yanagi/workspace/Recommender.jl/src/model/implicit_mf.jl:142\n",
      "┌ Info: epoch=6: loss=0.3613032214681201, val_loss=1.3978394076697478\n",
      "└ @ Recommender /Users/keisuke.yanagi/workspace/Recommender.jl/src/model/implicit_mf.jl:142\n",
      "┌ Info: epoch=7: loss=0.35124567643179416, val_loss=1.4021235984328433\n",
      "└ @ Recommender /Users/keisuke.yanagi/workspace/Recommender.jl/src/model/implicit_mf.jl:142\n",
      "┌ Info: epoch=8: loss=0.34282075418386637, val_loss=1.4177885428285653\n",
      "└ @ Recommender /Users/keisuke.yanagi/workspace/Recommender.jl/src/model/implicit_mf.jl:142\n",
      "┌ Info: epoch=9: loss=0.3351443011075102, val_loss=1.4114204621514939\n",
      "└ @ Recommender /Users/keisuke.yanagi/workspace/Recommender.jl/src/model/implicit_mf.jl:142\n",
      "┌ Info: epoch=10: loss=0.3284187153859607, val_loss=1.4083029109218272\n",
      "└ @ Recommender /Users/keisuke.yanagi/workspace/Recommender.jl/src/model/implicit_mf.jl:142\n",
      "┌ Info: epoch=11: loss=0.3223949338277293, val_loss=1.4225903015764336\n",
      "└ @ Recommender /Users/keisuke.yanagi/workspace/Recommender.jl/src/model/implicit_mf.jl:142\n",
      "┌ Info: epoch=12: loss=0.31673341451891096, val_loss=1.4078840475039385\n",
      "└ @ Recommender /Users/keisuke.yanagi/workspace/Recommender.jl/src/model/implicit_mf.jl:142\n",
      "┌ Info: epoch=13: loss=0.3122954219226586, val_loss=1.4137431604046826\n",
      "└ @ Recommender /Users/keisuke.yanagi/workspace/Recommender.jl/src/model/implicit_mf.jl:142\n",
      "┌ Info: epoch=14: loss=0.3076372561000515, val_loss=1.4139570647769961\n",
      "└ @ Recommender /Users/keisuke.yanagi/workspace/Recommender.jl/src/model/implicit_mf.jl:142\n",
      "┌ Info: epoch=15: loss=0.30392121571985786, val_loss=1.4050955601344224\n",
      "└ @ Recommender /Users/keisuke.yanagi/workspace/Recommender.jl/src/model/implicit_mf.jl:142\n",
      "┌ Info: epoch=16: loss=0.30018414601555554, val_loss=1.4091858624903277\n",
      "└ @ Recommender /Users/keisuke.yanagi/workspace/Recommender.jl/src/model/implicit_mf.jl:142\n",
      "┌ Info: epoch=17: loss=0.2969126916558804, val_loss=1.3991772829620865\n",
      "└ @ Recommender /Users/keisuke.yanagi/workspace/Recommender.jl/src/model/implicit_mf.jl:142\n",
      "┌ Info: epoch=18: loss=0.2936816896237699, val_loss=1.4089585420367987\n",
      "└ @ Recommender /Users/keisuke.yanagi/workspace/Recommender.jl/src/model/implicit_mf.jl:142\n",
      "┌ Info: epoch=19: loss=0.29073252455268783, val_loss=1.3911226606096356\n",
      "└ @ Recommender /Users/keisuke.yanagi/workspace/Recommender.jl/src/model/implicit_mf.jl:142\n",
      "┌ Info: epoch=20: loss=0.28847947372685717, val_loss=1.395478976453775\n",
      "└ @ Recommender /Users/keisuke.yanagi/workspace/Recommender.jl/src/model/implicit_mf.jl:142\n",
      "┌ Info: epoch=21: loss=0.28547726080536256, val_loss=1.3950170228978749\n",
      "└ @ Recommender /Users/keisuke.yanagi/workspace/Recommender.jl/src/model/implicit_mf.jl:142\n",
      "┌ Info: epoch=22: loss=0.2830995512846836, val_loss=1.393712147920166\n",
      "└ @ Recommender /Users/keisuke.yanagi/workspace/Recommender.jl/src/model/implicit_mf.jl:142\n",
      "┌ Info: epoch=23: loss=0.28052710524012353, val_loss=1.385236325050468\n",
      "└ @ Recommender /Users/keisuke.yanagi/workspace/Recommender.jl/src/model/implicit_mf.jl:142\n",
      "┌ Info: epoch=24: loss=0.27859357285547626, val_loss=1.3711828573810612\n",
      "└ @ Recommender /Users/keisuke.yanagi/workspace/Recommender.jl/src/model/implicit_mf.jl:142\n",
      "┌ Info: epoch=25: loss=0.2767472149771972, val_loss=1.3780451978673869\n",
      "└ @ Recommender /Users/keisuke.yanagi/workspace/Recommender.jl/src/model/implicit_mf.jl:142\n",
      "┌ Info: epoch=26: loss=0.2746063454329411, val_loss=1.3654636147838748\n",
      "└ @ Recommender /Users/keisuke.yanagi/workspace/Recommender.jl/src/model/implicit_mf.jl:142\n",
      "┌ Info: epoch=27: loss=0.27330137545323746, val_loss=1.3690962803955435\n",
      "└ @ Recommender /Users/keisuke.yanagi/workspace/Recommender.jl/src/model/implicit_mf.jl:142\n",
      "┌ Info: epoch=28: loss=0.27076596042503626, val_loss=1.3570178416032852\n",
      "└ @ Recommender /Users/keisuke.yanagi/workspace/Recommender.jl/src/model/implicit_mf.jl:142\n",
      "┌ Info: epoch=29: loss=0.2690158246498061, val_loss=1.361827497641554\n",
      "└ @ Recommender /Users/keisuke.yanagi/workspace/Recommender.jl/src/model/implicit_mf.jl:142\n",
      "┌ Info: epoch=30: loss=0.26715296853196374, val_loss=1.3514011931993313\n",
      "└ @ Recommender /Users/keisuke.yanagi/workspace/Recommender.jl/src/model/implicit_mf.jl:142\n",
      "┌ Info: epoch=31: loss=0.2656515961670221, val_loss=1.349709811482753\n",
      "└ @ Recommender /Users/keisuke.yanagi/workspace/Recommender.jl/src/model/implicit_mf.jl:142\n",
      "┌ Info: epoch=32: loss=0.2640075538146822, val_loss=1.3356209661072043\n",
      "└ @ Recommender /Users/keisuke.yanagi/workspace/Recommender.jl/src/model/implicit_mf.jl:142\n"
     ]
    }
   ],
   "metadata": {}
  },
  {
   "cell_type": "code",
   "execution_count": null,
   "source": [],
   "outputs": [],
   "metadata": {}
  }
 ],
 "metadata": {
  "orig_nbformat": 4,
  "language_info": {
   "file_extension": ".jl",
   "name": "julia",
   "mimetype": "application/julia",
   "version": "1.6.0"
  },
  "kernelspec": {
   "name": "julia-1.6",
   "display_name": "Julia 1.6.0",
   "language": "julia"
  }
 },
 "nbformat": 4,
 "nbformat_minor": 2
}