{
 "cells": [
  {
   "cell_type": "code",
   "execution_count": 1,
   "source": [
    "using DataFrames\n",
    "using Recommender: Movielens100k, load_dataset, ratio_split, ItemkNN, fit!, predict, evaluate, PrecisionAtK"
   ],
   "outputs": [],
   "metadata": {}
  },
  {
   "cell_type": "code",
   "execution_count": 2,
   "source": [
    "ml100k = Movielens100k()\n",
    "download(ml100k)\n",
    "rating, user, movie = load_dataset(ml100k);"
   ],
   "outputs": [],
   "metadata": {}
  },
  {
   "cell_type": "code",
   "execution_count": 3,
   "source": [
    "df = DataFrame(rating)\n",
    "first(df, 10)"
   ],
   "outputs": [
    {
     "output_type": "execute_result",
     "data": {
      "text/plain": [
       "\u001b[1m10×4 DataFrame\u001b[0m\n",
       "\u001b[1m Row \u001b[0m│\u001b[1m userid \u001b[0m\u001b[1m movieid \u001b[0m\u001b[1m rating \u001b[0m\u001b[1m timestamp \u001b[0m\n",
       "\u001b[1m     \u001b[0m│\u001b[90m Int64  \u001b[0m\u001b[90m Int64   \u001b[0m\u001b[90m Int64  \u001b[0m\u001b[90m Int64     \u001b[0m\n",
       "─────┼────────────────────────────────────\n",
       "   1 │    196      242       3  881250949\n",
       "   2 │    186      302       3  891717742\n",
       "   3 │     22      377       1  878887116\n",
       "   4 │    244       51       2  880606923\n",
       "   5 │    166      346       1  886397596\n",
       "   6 │    298      474       4  884182806\n",
       "   7 │    115      265       2  881171488\n",
       "   8 │    253      465       5  891628467\n",
       "   9 │    305      451       3  886324817\n",
       "  10 │      6       86       3  883603013"
      ],
      "text/latex": [
       "\\begin{tabular}{r|cccc}\n",
       "\t& userid & movieid & rating & timestamp\\\\\n",
       "\t\\hline\n",
       "\t& Int64 & Int64 & Int64 & Int64\\\\\n",
       "\t\\hline\n",
       "\t1 & 196 & 242 & 3 & 881250949 \\\\\n",
       "\t2 & 186 & 302 & 3 & 891717742 \\\\\n",
       "\t3 & 22 & 377 & 1 & 878887116 \\\\\n",
       "\t4 & 244 & 51 & 2 & 880606923 \\\\\n",
       "\t5 & 166 & 346 & 1 & 886397596 \\\\\n",
       "\t6 & 298 & 474 & 4 & 884182806 \\\\\n",
       "\t7 & 115 & 265 & 2 & 881171488 \\\\\n",
       "\t8 & 253 & 465 & 5 & 891628467 \\\\\n",
       "\t9 & 305 & 451 & 3 & 886324817 \\\\\n",
       "\t10 & 6 & 86 & 3 & 883603013 \\\\\n",
       "\\end{tabular}\n"
      ],
      "text/html": [
       "<table class=\"data-frame\"><thead><tr><th></th><th>userid</th><th>movieid</th><th>rating</th><th>timestamp</th></tr><tr><th></th><th>Int64</th><th>Int64</th><th>Int64</th><th>Int64</th></tr></thead><tbody><p>10 rows × 4 columns</p><tr><th>1</th><td>196</td><td>242</td><td>3</td><td>881250949</td></tr><tr><th>2</th><td>186</td><td>302</td><td>3</td><td>891717742</td></tr><tr><th>3</th><td>22</td><td>377</td><td>1</td><td>878887116</td></tr><tr><th>4</th><td>244</td><td>51</td><td>2</td><td>880606923</td></tr><tr><th>5</th><td>166</td><td>346</td><td>1</td><td>886397596</td></tr><tr><th>6</th><td>298</td><td>474</td><td>4</td><td>884182806</td></tr><tr><th>7</th><td>115</td><td>265</td><td>2</td><td>881171488</td></tr><tr><th>8</th><td>253</td><td>465</td><td>5</td><td>891628467</td></tr><tr><th>9</th><td>305</td><td>451</td><td>3</td><td>886324817</td></tr><tr><th>10</th><td>6</td><td>86</td><td>3</td><td>883603013</td></tr></tbody></table>"
      ]
     },
     "metadata": {},
     "execution_count": 3
    }
   ],
   "metadata": {}
  },
  {
   "cell_type": "code",
   "execution_count": 4,
   "source": [
    "df = df[df.rating.>=4, :]\n",
    "first(df, 10)"
   ],
   "outputs": [
    {
     "output_type": "execute_result",
     "data": {
      "text/plain": [
       "\u001b[1m10×4 DataFrame\u001b[0m\n",
       "\u001b[1m Row \u001b[0m│\u001b[1m userid \u001b[0m\u001b[1m movieid \u001b[0m\u001b[1m rating \u001b[0m\u001b[1m timestamp \u001b[0m\n",
       "\u001b[1m     \u001b[0m│\u001b[90m Int64  \u001b[0m\u001b[90m Int64   \u001b[0m\u001b[90m Int64  \u001b[0m\u001b[90m Int64     \u001b[0m\n",
       "─────┼────────────────────────────────────\n",
       "   1 │    298      474       4  884182806\n",
       "   2 │    253      465       5  891628467\n",
       "   3 │    286     1014       5  879781125\n",
       "   4 │    200      222       5  876042340\n",
       "   5 │    122      387       5  879270459\n",
       "   6 │    291     1042       4  874834944\n",
       "   7 │    119      392       4  886176814\n",
       "   8 │    167      486       4  892738452\n",
       "   9 │    299      144       4  877881320\n",
       "  10 │    308        1       4  887736532"
      ],
      "text/latex": [
       "\\begin{tabular}{r|cccc}\n",
       "\t& userid & movieid & rating & timestamp\\\\\n",
       "\t\\hline\n",
       "\t& Int64 & Int64 & Int64 & Int64\\\\\n",
       "\t\\hline\n",
       "\t1 & 298 & 474 & 4 & 884182806 \\\\\n",
       "\t2 & 253 & 465 & 5 & 891628467 \\\\\n",
       "\t3 & 286 & 1014 & 5 & 879781125 \\\\\n",
       "\t4 & 200 & 222 & 5 & 876042340 \\\\\n",
       "\t5 & 122 & 387 & 5 & 879270459 \\\\\n",
       "\t6 & 291 & 1042 & 4 & 874834944 \\\\\n",
       "\t7 & 119 & 392 & 4 & 886176814 \\\\\n",
       "\t8 & 167 & 486 & 4 & 892738452 \\\\\n",
       "\t9 & 299 & 144 & 4 & 877881320 \\\\\n",
       "\t10 & 308 & 1 & 4 & 887736532 \\\\\n",
       "\\end{tabular}\n"
      ],
      "text/html": [
       "<table class=\"data-frame\"><thead><tr><th></th><th>userid</th><th>movieid</th><th>rating</th><th>timestamp</th></tr><tr><th></th><th>Int64</th><th>Int64</th><th>Int64</th><th>Int64</th></tr></thead><tbody><p>10 rows × 4 columns</p><tr><th>1</th><td>298</td><td>474</td><td>4</td><td>884182806</td></tr><tr><th>2</th><td>253</td><td>465</td><td>5</td><td>891628467</td></tr><tr><th>3</th><td>286</td><td>1014</td><td>5</td><td>879781125</td></tr><tr><th>4</th><td>200</td><td>222</td><td>5</td><td>876042340</td></tr><tr><th>5</th><td>122</td><td>387</td><td>5</td><td>879270459</td></tr><tr><th>6</th><td>291</td><td>1042</td><td>4</td><td>874834944</td></tr><tr><th>7</th><td>119</td><td>392</td><td>4</td><td>886176814</td></tr><tr><th>8</th><td>167</td><td>486</td><td>4</td><td>892738452</td></tr><tr><th>9</th><td>299</td><td>144</td><td>4</td><td>877881320</td></tr><tr><th>10</th><td>308</td><td>1</td><td>4</td><td>887736532</td></tr></tbody></table>"
      ]
     },
     "metadata": {},
     "execution_count": 4
    }
   ],
   "metadata": {}
  },
  {
   "cell_type": "code",
   "execution_count": 5,
   "source": [
    "df[!, :rating] .= 1\n",
    "first(df, 10)"
   ],
   "outputs": [
    {
     "output_type": "execute_result",
     "data": {
      "text/plain": [
       "\u001b[1m10×4 DataFrame\u001b[0m\n",
       "\u001b[1m Row \u001b[0m│\u001b[1m userid \u001b[0m\u001b[1m movieid \u001b[0m\u001b[1m rating \u001b[0m\u001b[1m timestamp \u001b[0m\n",
       "\u001b[1m     \u001b[0m│\u001b[90m Int64  \u001b[0m\u001b[90m Int64   \u001b[0m\u001b[90m Int64  \u001b[0m\u001b[90m Int64     \u001b[0m\n",
       "─────┼────────────────────────────────────\n",
       "   1 │    298      474       1  884182806\n",
       "   2 │    253      465       1  891628467\n",
       "   3 │    286     1014       1  879781125\n",
       "   4 │    200      222       1  876042340\n",
       "   5 │    122      387       1  879270459\n",
       "   6 │    291     1042       1  874834944\n",
       "   7 │    119      392       1  886176814\n",
       "   8 │    167      486       1  892738452\n",
       "   9 │    299      144       1  877881320\n",
       "  10 │    308        1       1  887736532"
      ],
      "text/latex": [
       "\\begin{tabular}{r|cccc}\n",
       "\t& userid & movieid & rating & timestamp\\\\\n",
       "\t\\hline\n",
       "\t& Int64 & Int64 & Int64 & Int64\\\\\n",
       "\t\\hline\n",
       "\t1 & 298 & 474 & 1 & 884182806 \\\\\n",
       "\t2 & 253 & 465 & 1 & 891628467 \\\\\n",
       "\t3 & 286 & 1014 & 1 & 879781125 \\\\\n",
       "\t4 & 200 & 222 & 1 & 876042340 \\\\\n",
       "\t5 & 122 & 387 & 1 & 879270459 \\\\\n",
       "\t6 & 291 & 1042 & 1 & 874834944 \\\\\n",
       "\t7 & 119 & 392 & 1 & 886176814 \\\\\n",
       "\t8 & 167 & 486 & 1 & 892738452 \\\\\n",
       "\t9 & 299 & 144 & 1 & 877881320 \\\\\n",
       "\t10 & 308 & 1 & 1 & 887736532 \\\\\n",
       "\\end{tabular}\n"
      ],
      "text/html": [
       "<table class=\"data-frame\"><thead><tr><th></th><th>userid</th><th>movieid</th><th>rating</th><th>timestamp</th></tr><tr><th></th><th>Int64</th><th>Int64</th><th>Int64</th><th>Int64</th></tr></thead><tbody><p>10 rows × 4 columns</p><tr><th>1</th><td>298</td><td>474</td><td>1</td><td>884182806</td></tr><tr><th>2</th><td>253</td><td>465</td><td>1</td><td>891628467</td></tr><tr><th>3</th><td>286</td><td>1014</td><td>1</td><td>879781125</td></tr><tr><th>4</th><td>200</td><td>222</td><td>1</td><td>876042340</td></tr><tr><th>5</th><td>122</td><td>387</td><td>1</td><td>879270459</td></tr><tr><th>6</th><td>291</td><td>1042</td><td>1</td><td>874834944</td></tr><tr><th>7</th><td>119</td><td>392</td><td>1</td><td>886176814</td></tr><tr><th>8</th><td>167</td><td>486</td><td>1</td><td>892738452</td></tr><tr><th>9</th><td>299</td><td>144</td><td>1</td><td>877881320</td></tr><tr><th>10</th><td>308</td><td>1</td><td>1</td><td>887736532</td></tr></tbody></table>"
      ]
     },
     "metadata": {},
     "execution_count": 5
    }
   ],
   "metadata": {}
  },
  {
   "cell_type": "code",
   "execution_count": 6,
   "source": [
    "df = ratio_split(df, train_ratio = 0.6, valid_ratio=0.2);"
   ],
   "outputs": [],
   "metadata": {}
  },
  {
   "cell_type": "code",
   "execution_count": 7,
   "source": [
    "df_train = df[df.data_split.==:train, :]\n",
    "df_valid = df[df.data_split.==:valid, :]\n",
    "df_test = df[df.data_split.==:test, :]\n",
    "df_train_valid = df[df.data_split.!=:test, :]\n",
    "first(df_train, 10)"
   ],
   "outputs": [
    {
     "output_type": "execute_result",
     "data": {
      "text/plain": [
       "\u001b[1m10×5 DataFrame\u001b[0m\n",
       "\u001b[1m Row \u001b[0m│\u001b[1m userid \u001b[0m\u001b[1m movieid \u001b[0m\u001b[1m rating \u001b[0m\u001b[1m timestamp \u001b[0m\u001b[1m data_split \u001b[0m\n",
       "\u001b[1m     \u001b[0m│\u001b[90m Int64  \u001b[0m\u001b[90m Int64   \u001b[0m\u001b[90m Int64  \u001b[0m\u001b[90m Int64     \u001b[0m\u001b[90m Symbol     \u001b[0m\n",
       "─────┼────────────────────────────────────────────────\n",
       "   1 │    298      474       1  884182806  train\n",
       "   2 │    253      465       1  891628467  train\n",
       "   3 │    286     1014       1  879781125  train\n",
       "   4 │    200      222       1  876042340  train\n",
       "   5 │    291     1042       1  874834944  train\n",
       "   6 │    119      392       1  886176814  train\n",
       "   7 │    167      486       1  892738452  train\n",
       "   8 │    160      234       1  876861185  train\n",
       "   9 │    301       98       1  882075827  train\n",
       "  10 │    290       88       1  880731963  train"
      ],
      "text/latex": [
       "\\begin{tabular}{r|ccccc}\n",
       "\t& userid & movieid & rating & timestamp & data\\_split\\\\\n",
       "\t\\hline\n",
       "\t& Int64 & Int64 & Int64 & Int64 & Symbol\\\\\n",
       "\t\\hline\n",
       "\t1 & 298 & 474 & 1 & 884182806 & train \\\\\n",
       "\t2 & 253 & 465 & 1 & 891628467 & train \\\\\n",
       "\t3 & 286 & 1014 & 1 & 879781125 & train \\\\\n",
       "\t4 & 200 & 222 & 1 & 876042340 & train \\\\\n",
       "\t5 & 291 & 1042 & 1 & 874834944 & train \\\\\n",
       "\t6 & 119 & 392 & 1 & 886176814 & train \\\\\n",
       "\t7 & 167 & 486 & 1 & 892738452 & train \\\\\n",
       "\t8 & 160 & 234 & 1 & 876861185 & train \\\\\n",
       "\t9 & 301 & 98 & 1 & 882075827 & train \\\\\n",
       "\t10 & 290 & 88 & 1 & 880731963 & train \\\\\n",
       "\\end{tabular}\n"
      ],
      "text/html": [
       "<table class=\"data-frame\"><thead><tr><th></th><th>userid</th><th>movieid</th><th>rating</th><th>timestamp</th><th>data_split</th></tr><tr><th></th><th>Int64</th><th>Int64</th><th>Int64</th><th>Int64</th><th>Symbol</th></tr></thead><tbody><p>10 rows × 5 columns</p><tr><th>1</th><td>298</td><td>474</td><td>1</td><td>884182806</td><td>train</td></tr><tr><th>2</th><td>253</td><td>465</td><td>1</td><td>891628467</td><td>train</td></tr><tr><th>3</th><td>286</td><td>1014</td><td>1</td><td>879781125</td><td>train</td></tr><tr><th>4</th><td>200</td><td>222</td><td>1</td><td>876042340</td><td>train</td></tr><tr><th>5</th><td>291</td><td>1042</td><td>1</td><td>874834944</td><td>train</td></tr><tr><th>6</th><td>119</td><td>392</td><td>1</td><td>886176814</td><td>train</td></tr><tr><th>7</th><td>167</td><td>486</td><td>1</td><td>892738452</td><td>train</td></tr><tr><th>8</th><td>160</td><td>234</td><td>1</td><td>876861185</td><td>train</td></tr><tr><th>9</th><td>301</td><td>98</td><td>1</td><td>882075827</td><td>train</td></tr><tr><th>10</th><td>290</td><td>88</td><td>1</td><td>880731963</td><td>train</td></tr></tbody></table>"
      ]
     },
     "metadata": {},
     "execution_count": 7
    }
   ],
   "metadata": {}
  },
  {
   "cell_type": "code",
   "execution_count": 8,
   "source": [
    "nrow(df_train), nrow(df_valid), nrow(df_test)"
   ],
   "outputs": [
    {
     "output_type": "execute_result",
     "data": {
      "text/plain": [
       "(33225, 11075, 11075)"
      ]
     },
     "metadata": {},
     "execution_count": 8
    }
   ],
   "metadata": {}
  },
  {
   "cell_type": "code",
   "execution_count": 9,
   "source": [
    "metric = PrecisionAtK(10)"
   ],
   "outputs": [
    {
     "output_type": "execute_result",
     "data": {
      "text/plain": [
       "PrecisionAtK(10)"
      ]
     },
     "metadata": {},
     "execution_count": 9
    }
   ],
   "metadata": {}
  },
  {
   "cell_type": "code",
   "execution_count": 10,
   "source": [
    "using TreeParzen"
   ],
   "outputs": [],
   "metadata": {}
  },
  {
   "cell_type": "code",
   "execution_count": 11,
   "source": [
    "space = Dict(\n",
    "    :topk=>HP.QuantUniform(:topk, 10., 500., 1.),\n",
    "    :shrink=>HP.LogUniform(:shrink, log(1e-3), log(1e3)),\n",
    "    :weighting=>HP.Choice(:weighting, \n",
    "        [\n",
    "            Dict(:weighting=>:dummy, :weighting_at_inference=>false),\n",
    "            Dict(:weighting=>:tfidf, :weighting_at_inference=>false),\n",
    "            Dict(:weighting=>:bm25, :weighting_at_inference=>HP.Choice(:weighting_at_inference, [true, false]))\n",
    "        ]\n",
    "    ),\n",
    "    :normalize=>HP.Choice(:normalize, [true, false])\n",
    ")"
   ],
   "outputs": [
    {
     "output_type": "execute_result",
     "data": {
      "text/plain": [
       "Dict{Symbol, TreeParzen.Types.AbstractDelayed} with 4 entries:\n",
       "  :weighting => Choice(Param(:weighting, RandIndex(3)), Dict{Symbol, Any}[Dict(…\n",
       "  :topk      => QuantUniform(:topk, QuantUniform(10.0, 500.0, 1.0))\n",
       "  :normalize => Choice(Param(:normalize, RandIndex(2)), Bool[1, 0])\n",
       "  :shrink    => LogUniform(:shrink, LogUniform(-6.90776, 6.90776))"
      ]
     },
     "metadata": {},
     "execution_count": 11
    }
   ],
   "metadata": {}
  },
  {
   "cell_type": "code",
   "execution_count": 12,
   "source": [
    "function invert_output(params)\n",
    "    k = convert(Int, params[:topk])\n",
    "    model = ItemkNN(k, params[:shrink],params[:weighting][:weighting],params[:weighting][:weighting_at_inference],params[:normalize])\n",
    "    result = evaluate(model, df_train, df_valid, metric, 10, col_user=:userid, col_item=:movieid, col_rating=:rating, drop_history=true)\n",
    "    @show params, result\n",
    "    return -result\n",
    "end"
   ],
   "outputs": [
    {
     "output_type": "execute_result",
     "data": {
      "text/plain": [
       "invert_output (generic function with 1 method)"
      ]
     },
     "metadata": {},
     "execution_count": 12
    }
   ],
   "metadata": {}
  },
  {
   "cell_type": "code",
   "execution_count": 13,
   "source": [
    "best = fmin(invert_output, space, 100, logging_interval=-1)"
   ],
   "outputs": [
    {
     "output_type": "stream",
     "name": "stdout",
     "text": [
      "(params, result) = (Dict{Symbol, Any}(:weighting => Dict{Symbol, Any}(:weighting => :dummy, :weighting_at_inference => false), :topk => 167.0, :normalize => false, :shrink => 0.12622484504271506), 0.0885371179039301)\n",
      "(params, result) = (Dict{Symbol, Any}(:weighting => Dict{Symbol, Any}(:weighting => :dummy, :weighting_at_inference => false), :topk => 305.0, :normalize => true, :shrink => 1.4357190684736283), 0.08427947598253273)\n",
      "(params, result) = (Dict{Symbol, Any}(:weighting => Dict{Symbol, Any}(:weighting => :tfidf, :weighting_at_inference => false), :topk => 220.0, :normalize => true, :shrink => 477.74161071799284), 0.09639737991266349)\n",
      "(params, result) = (Dict{Symbol, Any}(:weighting => Dict{Symbol, Any}(:weighting => :bm25, :weighting_at_inference => true), :topk => 399.0, :normalize => false, :shrink => 0.02241927104568523), 0.037336244541484855)\n",
      "(params, result) = (Dict{Symbol, Any}(:weighting => Dict{Symbol, Any}(:weighting => :dummy, :weighting_at_inference => false), :topk => 454.0, :normalize => false, :shrink => 12.757134890647045), 0.08886462882096065)\n",
      "(params, result) = (Dict{Symbol, Any}(:weighting => Dict{Symbol, Any}(:weighting => :bm25, :weighting_at_inference => true), :topk => 346.0, :normalize => false, :shrink => 0.028766301117813683), 0.03744541484716172)\n",
      "(params, result) = (Dict{Symbol, Any}(:weighting => Dict{Symbol, Any}(:weighting => :dummy, :weighting_at_inference => false), :topk => 180.0, :normalize => false, :shrink => 0.012090456490831663), 0.08842794759825323)\n",
      "(params, result) = (Dict{Symbol, Any}(:weighting => Dict{Symbol, Any}(:weighting => :dummy, :weighting_at_inference => false), :topk => 357.0, :normalize => true, :shrink => 0.03813963922526143), 0.08286026200873367)\n",
      "(params, result) = (Dict{Symbol, Any}(:weighting => Dict{Symbol, Any}(:weighting => :bm25, :weighting_at_inference => true), :topk => 393.0, :normalize => true, :shrink => 14.989877632763069), 0.051528384279476244)\n",
      "(params, result) = (Dict{Symbol, Any}(:weighting => Dict{Symbol, Any}(:weighting => :tfidf, :weighting_at_inference => false), :topk => 49.0, :normalize => false, :shrink => 0.27096723615281115), 0.09486899563318751)\n",
      "(params, result) = (Dict{Symbol, Any}(:weighting => Dict{Symbol, Any}(:weighting => :tfidf, :weighting_at_inference => false), :topk => 277.0, :normalize => false, :shrink => 0.1958699279348597), 0.09683406113537091)\n",
      "(params, result) = (Dict{Symbol, Any}(:weighting => Dict{Symbol, Any}(:weighting => :tfidf, :weighting_at_inference => false), :topk => 295.0, :normalize => true, :shrink => 0.07002124846917072), 0.07947598253275123)\n",
      "(params, result) = (Dict{Symbol, Any}(:weighting => Dict{Symbol, Any}(:weighting => :tfidf, :weighting_at_inference => false), :topk => 330.0, :normalize => true, :shrink => 7.496087182658155), 0.08187772925764199)\n",
      "(params, result) = (Dict{Symbol, Any}(:weighting => Dict{Symbol, Any}(:weighting => :bm25, :weighting_at_inference => true), :topk => 302.0, :normalize => false, :shrink => 0.002635931435997297), 0.037227074235808004)\n",
      "(params, result) = (Dict{Symbol, Any}(:weighting => Dict{Symbol, Any}(:weighting => :tfidf, :weighting_at_inference => false), :topk => 414.0, :normalize => false, :shrink => 577.5980858381179), 0.09716157205240147)\n",
      "(params, result) = (Dict{Symbol, Any}(:weighting => Dict{Symbol, Any}(:weighting => :tfidf, :weighting_at_inference => false), :topk => 401.0, :normalize => false, :shrink => 858.3544021749836), 0.09705240174672461)\n",
      "(params, result) = (Dict{Symbol, Any}(:weighting => Dict{Symbol, Any}(:weighting => :tfidf, :weighting_at_inference => false), :topk => 365.0, :normalize => false, :shrink => 0.261403419257173), 0.09705240174672461)\n",
      "(params, result) = (Dict{Symbol, Any}(:weighting => Dict{Symbol, Any}(:weighting => :bm25, :weighting_at_inference => true), :topk => 200.0, :normalize => false, :shrink => 0.11229562759098691), 0.03908296943231457)\n",
      "(params, result) = (Dict{Symbol, Any}(:weighting => Dict{Symbol, Any}(:weighting => :tfidf, :weighting_at_inference => false), :topk => 63.0, :normalize => true, :shrink => 106.85178594867119), 0.0856986899563319)\n",
      "(params, result) = (Dict{Symbol, Any}(:weighting => Dict{Symbol, Any}(:weighting => :dummy, :weighting_at_inference => false), :topk => 218.0, :normalize => false, :shrink => 125.23366688435739), 0.08864628820960695)\n",
      "(params, result) = (Dict{Symbol, Any}(:weighting => Dict{Symbol, Any}(:weighting => :tfidf, :weighting_at_inference => false), :topk => 497.0, :normalize => false, :shrink => 987.8083955415879), 0.09716157205240147)\n",
      "(params, result) = (Dict{Symbol, Any}(:weighting => Dict{Symbol, Any}(:weighting => :tfidf, :weighting_at_inference => false), :topk => 489.0, :normalize => false, :shrink => 176.77223747664934), 0.09716157205240147)\n",
      "(params, result) = (Dict{Symbol, Any}(:weighting => Dict{Symbol, Any}(:weighting => :tfidf, :weighting_at_inference => false), :topk => 479.0, :normalize => false, :shrink => 42.202819179726525), 0.09716157205240147)\n",
      "(params, result) = (Dict{Symbol, Any}(:weighting => Dict{Symbol, Any}(:weighting => :tfidf, :weighting_at_inference => false), :topk => 427.0, :normalize => false, :shrink => 979.9978326913866), 0.09716157205240147)\n",
      "(params, result) = (Dict{Symbol, Any}(:weighting => Dict{Symbol, Any}(:weighting => :tfidf, :weighting_at_inference => false), :topk => 499.0, :normalize => false, :shrink => 2.8192555438944935), 0.09716157205240147)\n",
      "(params, result) = (Dict{Symbol, Any}(:weighting => Dict{Symbol, Any}(:weighting => :tfidf, :weighting_at_inference => false), :topk => 452.0, :normalize => false, :shrink => 399.7591921398615), 0.09716157205240147)\n",
      "(params, result) = (Dict{Symbol, Any}(:weighting => Dict{Symbol, Any}(:weighting => :tfidf, :weighting_at_inference => false), :topk => 100.0, :normalize => false, :shrink => 58.801802236337124), 0.09672489082969407)\n",
      "(params, result) = (Dict{Symbol, Any}(:weighting => Dict{Symbol, Any}(:weighting => :tfidf, :weighting_at_inference => false), :topk => 460.0, :normalize => false, :shrink => 328.15815829218553), 0.09716157205240147)\n",
      "(params, result) = (Dict{Symbol, Any}(:weighting => Dict{Symbol, Any}(:weighting => :tfidf, :weighting_at_inference => false), :topk => 439.0, :normalize => false, :shrink => 30.8501592407148), 0.09716157205240147)\n",
      "(params, result) = (Dict{Symbol, Any}(:weighting => Dict{Symbol, Any}(:weighting => :tfidf, :weighting_at_inference => false), :topk => 491.0, :normalize => false, :shrink => 4.1899332042170165), 0.09716157205240147)\n",
      "(params, result) = (Dict{Symbol, Any}(:weighting => Dict{Symbol, Any}(:weighting => :tfidf, :weighting_at_inference => false), :topk => 495.0, :normalize => false, :shrink => 861.7001814829569), 0.09716157205240147)\n",
      "(params, result) = (Dict{Symbol, Any}(:weighting => Dict{Symbol, Any}(:weighting => :tfidf, :weighting_at_inference => false), :topk => 250.0, :normalize => false, :shrink => 0.0011423838637003793), 0.09683406113537092)\n",
      "(params, result) = (Dict{Symbol, Any}(:weighting => Dict{Symbol, Any}(:weighting => :tfidf, :weighting_at_inference => false), :topk => 417.0, :normalize => false, :shrink => 0.6409645642563445), 0.09716157205240147)\n",
      "(params, result) = (Dict{Symbol, Any}(:weighting => Dict{Symbol, Any}(:weighting => :bm25, :weighting_at_inference => false), :topk => 469.0, :normalize => false, :shrink => 241.35512948305717), 0.06604803493449825)\n",
      "(params, result) = (Dict{Symbol, Any}(:weighting => Dict{Symbol, Any}(:weighting => :tfidf, :weighting_at_inference => false), :topk => 375.0, :normalize => false, :shrink => 51.28522992701523), 0.09705240174672461)\n",
      "(params, result) = (Dict{Symbol, Any}(:weighting => Dict{Symbol, Any}(:weighting => :tfidf, :weighting_at_inference => false), :topk => 129.0, :normalize => false, :shrink => 26.331076812974537), 0.09694323144104777)\n",
      "(params, result) = (Dict{Symbol, Any}(:weighting => Dict{Symbol, Any}(:weighting => :tfidf, :weighting_at_inference => false), :topk => 419.0, :normalize => false, :shrink => 584.6527637212027), 0.09716157205240147)\n",
      "(params, result) = (Dict{Symbol, Any}(:weighting => Dict{Symbol, Any}(:weighting => :tfidf, :weighting_at_inference => false), :topk => 490.0, :normalize => false, :shrink => 178.29257622951152), 0.09716157205240147)\n",
      "(params, result) = (Dict{Symbol, Any}(:weighting => Dict{Symbol, Any}(:weighting => :tfidf, :weighting_at_inference => false), :topk => 336.0, :normalize => true, :shrink => 2.644761193994733), 0.08100436681222717)\n",
      "(params, result) = (Dict{Symbol, Any}(:weighting => Dict{Symbol, Any}(:weighting => :tfidf, :weighting_at_inference => false), :topk => 441.0, :normalize => false, :shrink => 942.4172727933394), 0.09716157205240147)\n",
      "(params, result) = (Dict{Symbol, Any}(:weighting => Dict{Symbol, Any}(:weighting => :tfidf, :weighting_at_inference => false), :topk => 469.0, :normalize => false, :shrink => 0.6756406030143897), 0.09716157205240147)\n",
      "(params, result) = (Dict{Symbol, Any}(:weighting => Dict{Symbol, Any}(:weighting => :tfidf, :weighting_at_inference => false), :topk => 434.0, :normalize => false, :shrink => 63.05745307474333), 0.09716157205240147)\n",
      "(params, result) = (Dict{Symbol, Any}(:weighting => Dict{Symbol, Any}(:weighting => :bm25, :weighting_at_inference => false), :topk => 380.0, :normalize => false, :shrink => 363.1164374063874), 0.06550218340611398)\n",
      "(params, result) = (Dict{Symbol, Any}(:weighting => Dict{Symbol, Any}(:weighting => :dummy, :weighting_at_inference => false), :topk => 499.0, :normalize => false, :shrink => 109.43884202960531), 0.08886462882096065)\n",
      "(params, result) = (Dict{Symbol, Any}(:weighting => Dict{Symbol, Any}(:weighting => :tfidf, :weighting_at_inference => false), :topk => 423.0, :normalize => false, :shrink => 999.6877236618375), 0.09716157205240147)\n",
      "(params, result) = (Dict{Symbol, Any}(:weighting => Dict{Symbol, Any}(:weighting => :tfidf, :weighting_at_inference => false), :topk => 20.0, :normalize => true, :shrink => 4.190126033039079), 0.08417030567685596)\n",
      "(params, result) = (Dict{Symbol, Any}(:weighting => Dict{Symbol, Any}(:weighting => :tfidf, :weighting_at_inference => false), :topk => 262.0, :normalize => false, :shrink => 0.00571410326434485), 0.09683406113537091)\n",
      "(params, result) = (Dict{Symbol, Any}(:weighting => Dict{Symbol, Any}(:weighting => :tfidf, :weighting_at_inference => false), :topk => 479.0, :normalize => false, :shrink => 18.756871253445127), 0.09716157205240147)\n",
      "(params, result) = (Dict{Symbol, Any}(:weighting => Dict{Symbol, Any}(:weighting => :tfidf, :weighting_at_inference => false), :topk => 439.0, :normalize => false, :shrink => 227.43743456803836), 0.09716157205240147)\n",
      "(params, result) = (Dict{Symbol, Any}(:weighting => Dict{Symbol, Any}(:weighting => :tfidf, :weighting_at_inference => false), :topk => 498.0, :normalize => false, :shrink => 619.9796232225793), 0.09716157205240147)\n",
      "(params, result) = (Dict{Symbol, Any}(:weighting => Dict{Symbol, Any}(:weighting => :tfidf, :weighting_at_inference => false), :topk => 419.0, :normalize => false, :shrink => 33.00983181418642), 0.09716157205240147)\n",
      "(params, result) = (Dict{Symbol, Any}(:weighting => Dict{Symbol, Any}(:weighting => :tfidf, :weighting_at_inference => false), :topk => 318.0, :normalize => false, :shrink => 7.946009784236641), 0.09694323144104776)\n",
      "(params, result) = (Dict{Symbol, Any}(:weighting => Dict{Symbol, Any}(:weighting => :bm25, :weighting_at_inference => false), :topk => 450.0, :normalize => false, :shrink => 0.8849703066055222), 0.06572052401746767)\n",
      "(params, result) = (Dict{Symbol, Any}(:weighting => Dict{Symbol, Any}(:weighting => :dummy, :weighting_at_inference => false), :topk => 478.0, :normalize => false, :shrink => 275.6085530511253), 0.08886462882096065)\n",
      "(params, result) = (Dict{Symbol, Any}(:weighting => Dict{Symbol, Any}(:weighting => :tfidf, :weighting_at_inference => false), :topk => 414.0, :normalize => true, :shrink => 973.1958072009637), 0.09901746724890802)\n",
      "(params, result) = (Dict{Symbol, Any}(:weighting => Dict{Symbol, Any}(:weighting => :tfidf, :weighting_at_inference => false), :topk => 384.0, :normalize => true, :shrink => 1.6597972626225657), 0.0814410480349346)\n",
      "(params, result) = (Dict{Symbol, Any}(:weighting => Dict{Symbol, Any}(:weighting => :tfidf, :weighting_at_inference => false), :topk => 285.0, :normalize => true, :shrink => 640.4128391657594), 0.09781659388646258)\n",
      "(params, result) = (Dict{Symbol, Any}(:weighting => Dict{Symbol, Any}(:weighting => :tfidf, :weighting_at_inference => false), :topk => 154.0, :normalize => true, :shrink => 0.4204113160189855), 0.07925764192139755)\n",
      "(params, result) = (Dict{Symbol, Any}(:weighting => Dict{Symbol, Any}(:weighting => :tfidf, :weighting_at_inference => false), :topk => 238.0, :normalize => true, :shrink => 613.9182816663106), 0.09759825327510892)\n",
      "(params, result) = (Dict{Symbol, Any}(:weighting => Dict{Symbol, Any}(:weighting => :tfidf, :weighting_at_inference => false), :topk => 268.0, :normalize => true, :shrink => 707.8887152579163), 0.09836244541484691)\n",
      "(params, result) = (Dict{Symbol, Any}(:weighting => Dict{Symbol, Any}(:weighting => :tfidf, :weighting_at_inference => false), :topk => 132.0, :normalize => true, :shrink => 78.87731349041263), 0.08777292576419211)\n",
      "(params, result) = (Dict{Symbol, Any}(:weighting => Dict{Symbol, Any}(:weighting => :dummy, :weighting_at_inference => false), :topk => 271.0, :normalize => true, :shrink => 172.66568970518082), 0.09159388646288198)\n",
      "(params, result) = (Dict{Symbol, Any}(:weighting => Dict{Symbol, Any}(:weighting => :tfidf, :weighting_at_inference => false), :topk => 239.0, :normalize => true, :shrink => 23.431778748497557), 0.08286026200873366)\n",
      "(params, result) = (Dict{Symbol, Any}(:weighting => Dict{Symbol, Any}(:weighting => :bm25, :weighting_at_inference => true), :topk => 94.0, :normalize => true, :shrink => 569.3595999669838), 0.04792576419214)\n",
      "(params, result) = (Dict{Symbol, Any}(:weighting => Dict{Symbol, Any}(:weighting => :tfidf, :weighting_at_inference => false), :topk => 200.0, :normalize => true, :shrink => 37.334505624281306), 0.08395196506550223)\n",
      "(params, result) = (Dict{Symbol, Any}(:weighting => Dict{Symbol, Any}(:weighting => :tfidf, :weighting_at_inference => false), :topk => 280.0, :normalize => true, :shrink => 722.2690053579497), 0.0985807860262006)\n",
      "(params, result) = (Dict{Symbol, Any}(:weighting => Dict{Symbol, Any}(:weighting => :tfidf, :weighting_at_inference => false), :topk => 258.0, :normalize => true, :shrink => 766.610314086764), 0.09825327510917004)\n",
      "(params, result) = (Dict{Symbol, Any}(:weighting => Dict{Symbol, Any}(:weighting => :tfidf, :weighting_at_inference => false), :topk => 286.0, :normalize => true, :shrink => 970.5387434250914), 0.09890829694323115)\n",
      "(params, result) = (Dict{Symbol, Any}(:weighting => Dict{Symbol, Any}(:weighting => :tfidf, :weighting_at_inference => false), :topk => 250.0, :normalize => true, :shrink => 789.1876414464739), 0.0981441048034932)\n",
      "(params, result) = (Dict{Symbol, Any}(:weighting => Dict{Symbol, Any}(:weighting => :tfidf, :weighting_at_inference => false), :topk => 288.0, :normalize => true, :shrink => 442.75653519992767), 0.09705240174672458)\n",
      "(params, result) = (Dict{Symbol, Any}(:weighting => Dict{Symbol, Any}(:weighting => :tfidf, :weighting_at_inference => false), :topk => 235.0, :normalize => true, :shrink => 869.7591730390257), 0.09803493449781635)\n",
      "(params, result) = (Dict{Symbol, Any}(:weighting => Dict{Symbol, Any}(:weighting => :tfidf, :weighting_at_inference => false), :topk => 319.0, :normalize => true, :shrink => 990.1330899077611), 0.09879912663755434)\n",
      "(params, result) = (Dict{Symbol, Any}(:weighting => Dict{Symbol, Any}(:weighting => :tfidf, :weighting_at_inference => false), :topk => 325.0, :normalize => true, :shrink => 157.58540350530703), 0.09148471615720508)\n",
      "(params, result) = (Dict{Symbol, Any}(:weighting => Dict{Symbol, Any}(:weighting => :tfidf, :weighting_at_inference => false), :topk => 360.0, :normalize => true, :shrink => 336.2315244368918), 0.09617903930130978)\n",
      "(params, result) = (Dict{Symbol, Any}(:weighting => Dict{Symbol, Any}(:weighting => :tfidf, :weighting_at_inference => false), :topk => 309.0, :normalize => true, :shrink => 77.89024815084201), 0.08875545851528376)\n",
      "(params, result) = (Dict{Symbol, Any}(:weighting => Dict{Symbol, Any}(:weighting => :tfidf, :weighting_at_inference => false), :topk => 347.0, :normalize => true, :shrink => 969.3066596942722), 0.09912663755458487)\n",
      "(params, result) = (Dict{Symbol, Any}(:weighting => Dict{Symbol, Any}(:weighting => :tfidf, :weighting_at_inference => false), :topk => 410.0, :normalize => true, :shrink => 6.493830542701715), 0.08220524017467258)\n",
      "(params, result) = (Dict{Symbol, Any}(:weighting => Dict{Symbol, Any}(:weighting => :tfidf, :weighting_at_inference => false), :topk => 364.0, :normalize => true, :shrink => 44.95053412442804), 0.08700873362445413)\n",
      "(params, result) = (Dict{Symbol, Any}(:weighting => Dict{Symbol, Any}(:weighting => :tfidf, :weighting_at_inference => false), :topk => 346.0, :normalize => true, :shrink => 965.0992757439917), 0.099017467248908)\n",
      "(params, result) = (Dict{Symbol, Any}(:weighting => Dict{Symbol, Any}(:weighting => :tfidf, :weighting_at_inference => false), :topk => 343.0, :normalize => true, :shrink => 790.8944606105687), 0.09847161572052372)\n",
      "(params, result) = (Dict{Symbol, Any}(:weighting => Dict{Symbol, Any}(:weighting => :tfidf, :weighting_at_inference => false), :topk => 286.0, :normalize => true, :shrink => 11.410120730975791), 0.08198689956331885)\n",
      "(params, result) = (Dict{Symbol, Any}(:weighting => Dict{Symbol, Any}(:weighting => :tfidf, :weighting_at_inference => false), :topk => 351.0, :normalize => true, :shrink => 736.6414391731787), 0.09847161572052374)\n",
      "(params, result) = (Dict{Symbol, Any}(:weighting => Dict{Symbol, Any}(:weighting => :tfidf, :weighting_at_inference => false), :topk => 432.0, :normalize => true, :shrink => 728.0186837227692), 0.0987991266375543)\n",
      "(params, result) = (Dict{Symbol, Any}(:weighting => Dict{Symbol, Any}(:weighting => :tfidf, :weighting_at_inference => false), :topk => 346.0, :normalize => true, :shrink => 977.3540172858587), 0.09890829694323117)\n",
      "(params, result) = (Dict{Symbol, Any}(:weighting => Dict{Symbol, Any}(:weighting => :tfidf, :weighting_at_inference => false), :topk => 340.0, :normalize => true, :shrink => 188.9407879763558), 0.09312227074235788)\n",
      "(params, result) = (Dict{Symbol, Any}(:weighting => Dict{Symbol, Any}(:weighting => :tfidf, :weighting_at_inference => false), :topk => 372.0, :normalize => true, :shrink => 74.6905353891935), 0.08810043668122267)\n",
      "(params, result) = (Dict{Symbol, Any}(:weighting => Dict{Symbol, Any}(:weighting => :tfidf, :weighting_at_inference => false), :topk => 316.0, :normalize => true, :shrink => 994.2675626367502), 0.09890829694323118)\n",
      "(params, result) = (Dict{Symbol, Any}(:weighting => Dict{Symbol, Any}(:weighting => :dummy, :weighting_at_inference => false), :topk => 312.0, :normalize => true, :shrink => 454.7093441285902), 0.09006550218340605)\n",
      "(params, result) = (Dict{Symbol, Any}(:weighting => Dict{Symbol, Any}(:weighting => :tfidf, :weighting_at_inference => false), :topk => 408.0, :normalize => true, :shrink => 297.39055226848643), 0.09552401746724866)\n",
      "(params, result) = (Dict{Symbol, Any}(:weighting => Dict{Symbol, Any}(:weighting => :tfidf, :weighting_at_inference => false), :topk => 349.0, :normalize => true, :shrink => 720.1370497500109), 0.09836244541484689)\n",
      "(params, result) = (Dict{Symbol, Any}(:weighting => Dict{Symbol, Any}(:weighting => :tfidf, :weighting_at_inference => false), :topk => 426.0, :normalize => true, :shrink => 138.91719203990846), 0.09246724890829676)\n",
      "(params, result) = (Dict{Symbol, Any}(:weighting => Dict{Symbol, Any}(:weighting => :tfidf, :weighting_at_inference => false), :topk => 348.0, :normalize => true, :shrink => 913.7732960300591), 0.09890829694323112)\n",
      "(params, result) = (Dict{Symbol, Any}(:weighting => Dict{Symbol, Any}(:weighting => :tfidf, :weighting_at_inference => false), :topk => 388.0, :normalize => true, :shrink => 21.25974245149248), 0.08548034934497817)\n",
      "(params, result) = (Dict{Symbol, Any}(:weighting => Dict{Symbol, Any}(:weighting => :bm25, :weighting_at_inference => true), :topk => 329.0, :normalize => true, :shrink => 232.11784107194944), 0.046397379912663995)\n",
      "(params, result) = (Dict{Symbol, Any}(:weighting => Dict{Symbol, Any}(:weighting => :tfidf, :weighting_at_inference => false), :topk => 351.0, :normalize => true, :shrink => 939.4067017537967), 0.09912663755458484)\n",
      "(params, result) = (Dict{Symbol, Any}(:weighting => Dict{Symbol, Any}(:weighting => :tfidf, :weighting_at_inference => false), :topk => 402.0, :normalize => true, :shrink => 91.26514866437861), 0.09061135371179027)\n",
      "(params, result) = (Dict{Symbol, Any}(:weighting => Dict{Symbol, Any}(:weighting => :dummy, :weighting_at_inference => false), :topk => 257.0, :normalize => true, :shrink => 648.2488977002662), 0.09006550218340607)\n",
      "(params, result) = (Dict{Symbol, Any}(:weighting => Dict{Symbol, Any}(:weighting => :tfidf, :weighting_at_inference => false), :topk => 372.0, :normalize => true, :shrink => 988.0966877865164), 0.09879912663755434)\n",
      "(params, result) = (Dict{Symbol, Any}(:weighting => Dict{Symbol, Any}(:weighting => :tfidf, :weighting_at_inference => false), :topk => 356.0, :normalize => true, :shrink => 972.4515586982354), 0.09912663755458487)\n",
      "(params, result) = (Dict{Symbol, Any}(:weighting => Dict{Symbol, Any}(:weighting => :tfidf, :weighting_at_inference => false), :topk => 355.0, :normalize => true, :shrink => 0.0011801726221424991), 0.0806768558951966)\n"
     ]
    },
    {
     "output_type": "stream",
     "name": "stderr",
     "text": [
      "┌ Info: fmin: 100 / 100 trials carried out\n",
      "└ @ TreeParzen.API /Users/keisuke.yanagi/.julia/packages/TreeParzen/Iw2mh/src/API.jl:176\n",
      "┌ Info: Successfully completed fmin \n",
      "└ @ TreeParzen.API /Users/keisuke.yanagi/.julia/packages/TreeParzen/Iw2mh/src/API.jl:231\n"
     ]
    },
    {
     "output_type": "execute_result",
     "data": {
      "text/plain": [
       "Dict{Symbol, Any} with 4 entries:\n",
       "  :weighting => Dict{Symbol, Any}(:weighting=>:tfidf, :weighting_at_inference=>…\n",
       "  :topk      => 347.0\n",
       "  :normalize => true\n",
       "  :shrink    => 969.307"
      ]
     },
     "metadata": {},
     "execution_count": 13
    }
   ],
   "metadata": {}
  },
  {
   "cell_type": "code",
   "execution_count": 14,
   "source": [
    "best_model = ItemkNN(convert(Int, best[:topk]), best[:shrink],best[:weighting][:weighting],best[:weighting][:weighting_at_inference],best[:normalize])\n",
    "evaluate(best_model, df_train_valid, df_test, metric, 10, col_user=:userid, col_item=:movieid, col_rating=:rating)"
   ],
   "outputs": [
    {
     "output_type": "execute_result",
     "data": {
      "text/plain": [
       "0.110237068965517"
      ]
     },
     "metadata": {},
     "execution_count": 14
    }
   ],
   "metadata": {}
  },
  {
   "cell_type": "code",
   "execution_count": null,
   "source": [],
   "outputs": [],
   "metadata": {}
  }
 ],
 "metadata": {
  "kernelspec": {
   "display_name": "Julia 1.6.0",
   "language": "julia",
   "name": "julia-1.6"
  },
  "language_info": {
   "file_extension": ".jl",
   "mimetype": "application/julia",
   "name": "julia",
   "version": "1.6.0"
  },
  "orig_nbformat": 2
 },
 "nbformat": 4,
 "nbformat_minor": 2
}