{
 "cells": [
  {
   "cell_type": "code",
   "execution_count": 1,
   "source": [
    "using DataFrames, TableOperations, Tables, Random\n",
    "using Recommender: Movielens100k, load_dataset, ratio_split, ItemkNN, evaluate_u2i, PrecisionAtK, RecallAtK, NDCG, fit!, predict_u2i"
   ],
   "outputs": [],
   "metadata": {}
  },
  {
   "cell_type": "code",
   "execution_count": 2,
   "source": [
    "ml100k = Movielens100k()\n",
    "download(ml100k)\n",
    "rating, user, movie = load_dataset(ml100k);"
   ],
   "outputs": [],
   "metadata": {}
  },
  {
   "cell_type": "code",
   "execution_count": 3,
   "source": [
    "rating = rating |> TableOperations.filter(x->Tables.getcolumn(x, :rating) >= 4)\n",
    "rating = rating |> TableOperations.transform(Dict(:rating=>x->1))"
   ],
   "outputs": [
    {
     "output_type": "execute_result",
     "data": {
      "text/plain": [
       "TableOperations.Transforms{false, TableOperations.Filter{var\"#1#2\", CSV.File{false}}, Dict{Symbol, var\"#3#4\"}}(TableOperations.Filter{var\"#1#2\", CSV.File{false}}(var\"#1#2\"(), CSV.File(\"/Users/keisuke.yanagi/workspace/Recommender.jl/src/dataset/../../dataset/movielens100k/u.data\"):\n",
       "Size: 100000 x 4\n",
       "Tables.Schema:\n",
       " :userid     Int64\n",
       " :movieid    Int64\n",
       " :rating     Int64\n",
       " :timestamp  Int64), Dict(:rating => var\"#3#4\"()))"
      ]
     },
     "metadata": {},
     "execution_count": 3
    }
   ],
   "metadata": {}
  },
  {
   "cell_type": "code",
   "execution_count": 4,
   "source": [
    "movie2title = Dict()\n",
    "for row in Tables.rows(movie)\n",
    "    movie2title[row[:movieid]] = row[:movie_title]\n",
    "end\n",
    "rating = rating |> TableOperations.transform(Dict(:movieid=>x->movie2title[x]))"
   ],
   "outputs": [
    {
     "output_type": "execute_result",
     "data": {
      "text/plain": [
       "TableOperations.Transforms{false, TableOperations.Transforms{false, TableOperations.Filter{var\"#1#2\", CSV.File{false}}, Dict{Symbol, var\"#3#4\"}}, Dict{Symbol, var\"#5#6\"}}(TableOperations.Transforms{false, TableOperations.Filter{var\"#1#2\", CSV.File{false}}, Dict{Symbol, var\"#3#4\"}}(TableOperations.Filter{var\"#1#2\", CSV.File{false}}(var\"#1#2\"(), CSV.File(\"/Users/keisuke.yanagi/workspace/Recommender.jl/src/dataset/../../dataset/movielens100k/u.data\"):\n",
       "Size: 100000 x 4\n",
       "Tables.Schema:\n",
       " :userid     Int64\n",
       " :movieid    Int64\n",
       " :rating     Int64\n",
       " :timestamp  Int64), Dict(:rating => var\"#3#4\"())), Dict(:movieid => var\"#5#6\"()))"
      ]
     },
     "metadata": {},
     "execution_count": 4
    }
   ],
   "metadata": {}
  },
  {
   "cell_type": "code",
   "execution_count": 5,
   "source": [
    "Random.seed!(1234);\n",
    "train_valid_table, test_table = ratio_split(rating, 0.8)\n",
    "\n",
    "train_table, valid_table = ratio_split(train_valid_table, 0.8)\n",
    "length(Tables.rows(train_table)), length(Tables.rows(valid_table)), length(Tables.rows(test_table))\n"
   ],
   "outputs": [
    {
     "output_type": "execute_result",
     "data": {
      "text/plain": [
       "(35440, 8860, 11075)"
      ]
     },
     "metadata": {},
     "execution_count": 5
    }
   ],
   "metadata": {}
  },
  {
   "cell_type": "code",
   "execution_count": 6,
   "source": [
    "prec10 = PrecisionAtK(10)\n",
    "recall10 = RecallAtK(10)\n",
    "ndcg10 = NDCG(10)\n",
    "metrics = [prec10, recall10, ndcg10]"
   ],
   "outputs": [
    {
     "output_type": "execute_result",
     "data": {
      "text/plain": [
       "3-element Vector{Recommender.AbstractMetric}:\n",
       " PrecisionAtK(10)\n",
       " RecallAtK(10)\n",
       " NDCG(10)"
      ]
     },
     "metadata": {},
     "execution_count": 6
    }
   ],
   "metadata": {}
  },
  {
   "cell_type": "code",
   "execution_count": 7,
   "source": [
    "using TreeParzen"
   ],
   "outputs": [],
   "metadata": {}
  },
  {
   "cell_type": "code",
   "execution_count": 8,
   "source": [
    "space = Dict(\n",
    "    :topk=>HP.QuantUniform(:topk, 10., 500., 1.),\n",
    "    :shrink=>HP.LogUniform(:shrink, log(1e-3), log(1e3)),\n",
    "    :weighting=>HP.Choice(:weighting, \n",
    "        [\n",
    "            Dict(:weighting=>:dummy, :weighting_at_inference=>false),\n",
    "            Dict(:weighting=>:tfidf, :weighting_at_inference=>false),\n",
    "            Dict(:weighting=>:bm25, :weighting_at_inference=>HP.Choice(:weighting_at_inference, [true, false]))\n",
    "        ]\n",
    "    ),\n",
    "    :normalize=>HP.Choice(:normalize, [true, false]),\n",
    "    :normalize_similarity=>HP.Choice(:normalize_similarity, [true, false])\n",
    ")"
   ],
   "outputs": [
    {
     "output_type": "execute_result",
     "data": {
      "text/plain": [
       "Dict{Symbol, TreeParzen.Types.AbstractDelayed} with 5 entries:\n",
       "  :weighting            => Choice(Param(:weighting, RandIndex(3)), Dict{Symbol,…\n",
       "  :topk                 => QuantUniform(:topk, QuantUniform(10.0, 500.0, 1.0))\n",
       "  :normalize            => Choice(Param(:normalize, RandIndex(2)), Bool[1, 0])\n",
       "  :normalize_similarity => Choice(Param(:normalize_similarity, RandIndex(2)), B…\n",
       "  :shrink               => LogUniform(:shrink, LogUniform(-6.90776, 6.90776))"
      ]
     },
     "metadata": {},
     "execution_count": 8
    }
   ],
   "metadata": {}
  },
  {
   "cell_type": "code",
   "execution_count": 9,
   "source": [
    "function invert_output(params)\n",
    "    k = convert(Int, params[:topk])\n",
    "    model = ItemkNN(k, params[:shrink],params[:weighting][:weighting],params[:weighting][:weighting_at_inference],params[:normalize],params[:normalize_similarity])\n",
    "    result = evaluate_u2i(model, train_table, valid_table, metrics, 10, col_user=:userid, col_item=:movieid, col_rating=:rating, drop_history=true)\n",
    "    @show params, result\n",
    "    return -result[end]\n",
    "end"
   ],
   "outputs": [
    {
     "output_type": "execute_result",
     "data": {
      "text/plain": [
       "invert_output (generic function with 1 method)"
      ]
     },
     "metadata": {},
     "execution_count": 9
    }
   ],
   "metadata": {}
  },
  {
   "cell_type": "code",
   "execution_count": 10,
   "source": [
    "best = fmin(invert_output, space, 20, logging_interval=-1)"
   ],
   "outputs": [
    {
     "output_type": "stream",
     "name": "stdout",
     "text": [
      "(params, result) = (Dict{Symbol, Any}(:weighting => Dict{Symbol, Any}(:weighting => :bm25, :weighting_at_inference => false), :topk => 326.0, :normalize => false, :normalize_similarity => true, :shrink => 4.881008704229105), (NDCG(10) = 0.18504434322533067, RecallAtK(10) = 0.1773478885693898, PrecisionAtK(10) = 0.13555555555555507))\n",
      "(params, result) = (Dict{Symbol, Any}(:weighting => Dict{Symbol, Any}(:weighting => :dummy, :weighting_at_inference => false), :topk => 482.0, :normalize => false, :normalize_similarity => true, :shrink => 693.233059620366), (NDCG(10) = 0.1644122158220496, RecallAtK(10) = 0.14623336394315384, PrecisionAtK(10) = 0.11444444444444414))\n",
      "(params, result) = (Dict{Symbol, Any}(:weighting => Dict{Symbol, Any}(:weighting => :tfidf, :weighting_at_inference => false), :topk => 210.0, :normalize => true, :normalize_similarity => false, :shrink => 0.027243650448104388), (NDCG(10) = 0.1864393533755157, RecallAtK(10) = 0.17331698156740594, PrecisionAtK(10) = 0.13055555555555515))\n",
      "(params, result) = (Dict{Symbol, Any}(:weighting => Dict{Symbol, Any}(:weighting => :bm25, :weighting_at_inference => true), :topk => 416.0, :normalize => false, :normalize_similarity => false, :shrink => 1.1295458653728592), (NDCG(10) = 0.17364394918431442, RecallAtK(10) = 0.16964959192371123, PrecisionAtK(10) = 0.12999999999999973))\n",
      "(params, result) = (Dict{Symbol, Any}(:weighting => Dict{Symbol, Any}(:weighting => :dummy, :weighting_at_inference => false), :topk => 202.0, :normalize => false, :normalize_similarity => true, :shrink => 19.98376475688196), (NDCG(10) = 0.1639933772835159, RecallAtK(10) = 0.14580121229246623, PrecisionAtK(10) = 0.11433333333333304))\n",
      "(params, result) = (Dict{Symbol, Any}(:weighting => Dict{Symbol, Any}(:weighting => :tfidf, :weighting_at_inference => false), :topk => 162.0, :normalize => false, :normalize_similarity => true, :shrink => 19.474884450076562), (NDCG(10) = 0.17159361925882013, RecallAtK(10) = 0.1554064151102252, PrecisionAtK(10) = 0.11755555555555519))\n",
      "(params, result) = (Dict{Symbol, Any}(:weighting => Dict{Symbol, Any}(:weighting => :bm25, :weighting_at_inference => false), :topk => 348.0, :normalize => false, :normalize_similarity => false, :shrink => 0.08841142423377392), (NDCG(10) = 0.1868135974303508, RecallAtK(10) = 0.17660039839089056, PrecisionAtK(10) = 0.13655555555555512))\n",
      "(params, result) = (Dict{Symbol, Any}(:weighting => Dict{Symbol, Any}(:weighting => :dummy, :weighting_at_inference => false), :topk => 473.0, :normalize => false, :normalize_similarity => true, :shrink => 0.0028157581595767245), (NDCG(10) = 0.16438428596179858, RecallAtK(10) = 0.14623336394315384, PrecisionAtK(10) = 0.11444444444444414))\n",
      "(params, result) = (Dict{Symbol, Any}(:weighting => Dict{Symbol, Any}(:weighting => :tfidf, :weighting_at_inference => false), :topk => 376.0, :normalize => false, :normalize_similarity => true, :shrink => 0.0011758132539063694), (NDCG(10) = 0.17216887187204868, RecallAtK(10) = 0.15661997527544066, PrecisionAtK(10) = 0.117333333333333))\n",
      "(params, result) = (Dict{Symbol, Any}(:weighting => Dict{Symbol, Any}(:weighting => :tfidf, :weighting_at_inference => false), :topk => 381.0, :normalize => true, :normalize_similarity => true, :shrink => 0.7665272759884095), (NDCG(10) = 0.1915140981260627, RecallAtK(10) = 0.17909622372361056, PrecisionAtK(10) = 0.1355555555555551))\n",
      "(params, result) = (Dict{Symbol, Any}(:weighting => Dict{Symbol, Any}(:weighting => :dummy, :weighting_at_inference => false), :topk => 284.0, :normalize => true, :normalize_similarity => false, :shrink => 647.0383557839028), (NDCG(10) = 0.15583755272400682, RecallAtK(10) = 0.13448006136365045, PrecisionAtK(10) = 0.1097777777777775))\n",
      "(params, result) = (Dict{Symbol, Any}(:weighting => Dict{Symbol, Any}(:weighting => :bm25, :weighting_at_inference => false), :topk => 437.0, :normalize => false, :normalize_similarity => true, :shrink => 806.1296147116107), (NDCG(10) = 0.18606416444065918, RecallAtK(10) = 0.18203773370105955, PrecisionAtK(10) = 0.13699999999999962))\n",
      "(params, result) = (Dict{Symbol, Any}(:weighting => Dict{Symbol, Any}(:weighting => :tfidf, :weighting_at_inference => false), :topk => 458.0, :normalize => false, :normalize_similarity => true, :shrink => 0.7858045130947957), (NDCG(10) = 0.17181973532665168, RecallAtK(10) = 0.1567187407075394, PrecisionAtK(10) = 0.117333333333333))\n",
      "(params, result) = (Dict{Symbol, Any}(:weighting => Dict{Symbol, Any}(:weighting => :bm25, :weighting_at_inference => false), :topk => 196.0, :normalize => true, :normalize_similarity => false, :shrink => 312.67059551490786), (NDCG(10) = 0.1914735267754197, RecallAtK(10) = 0.17841349733653933, PrecisionAtK(10) = 0.1347777777777774))\n",
      "(params, result) = (Dict{Symbol, Any}(:weighting => Dict{Symbol, Any}(:weighting => :dummy, :weighting_at_inference => false), :topk => 338.0, :normalize => false, :normalize_similarity => true, :shrink => 56.02677216465986), (NDCG(10) = 0.16404260191626927, RecallAtK(10) = 0.14564848739994396, PrecisionAtK(10) = 0.11433333333333302))\n",
      "(params, result) = (Dict{Symbol, Any}(:weighting => Dict{Symbol, Any}(:weighting => :dummy, :weighting_at_inference => false), :topk => 403.0, :normalize => false, :normalize_similarity => true, :shrink => 0.021346630539912564), (NDCG(10) = 0.16422163099548073, RecallAtK(10) = 0.1459897572412138, PrecisionAtK(10) = 0.11444444444444415))\n",
      "(params, result) = (Dict{Symbol, Any}(:weighting => Dict{Symbol, Any}(:weighting => :bm25, :weighting_at_inference => false), :topk => 160.0, :normalize => true, :normalize_similarity => false, :shrink => 5.574207719501242), (NDCG(10) = 0.1857443672594256, RecallAtK(10) = 0.17286737825478643, PrecisionAtK(10) = 0.1301111111111107))\n",
      "(params, result) = (Dict{Symbol, Any}(:weighting => Dict{Symbol, Any}(:weighting => :dummy, :weighting_at_inference => false), :topk => 363.0, :normalize => false, :normalize_similarity => false, :shrink => 0.012150959073116474), (NDCG(10) = 0.15111236538299902, RecallAtK(10) = 0.1298690243990619, PrecisionAtK(10) = 0.10666666666666642))\n",
      "(params, result) = (Dict{Symbol, Any}(:weighting => Dict{Symbol, Any}(:weighting => :dummy, :weighting_at_inference => false), :topk => 402.0, :normalize => false, :normalize_similarity => true, :shrink => 0.0016130006382433367), (NDCG(10) = 0.16422163099548073, RecallAtK(10) = 0.1459897572412138, PrecisionAtK(10) = 0.11444444444444415))\n",
      "(params, result) = (Dict{Symbol, Any}(:weighting => Dict{Symbol, Any}(:weighting => :tfidf, :weighting_at_inference => false), :topk => 259.0, :normalize => true, :normalize_similarity => false, :shrink => 0.0013891030483491268), (NDCG(10) = 0.18786650794714835, RecallAtK(10) = 0.17423154719276612, PrecisionAtK(10) = 0.1316666666666663))\n"
     ]
    },
    {
     "output_type": "stream",
     "name": "stderr",
     "text": [
      "┌ Info: fmin: 20 / 20 trials carried out\n",
      "└ @ TreeParzen.API /Users/keisuke.yanagi/.julia/packages/TreeParzen/Iw2mh/src/API.jl:176\n",
      "┌ Info: Successfully completed fmin \n",
      "└ @ TreeParzen.API /Users/keisuke.yanagi/.julia/packages/TreeParzen/Iw2mh/src/API.jl:231\n"
     ]
    },
    {
     "output_type": "execute_result",
     "data": {
      "text/plain": [
       "Dict{Symbol, Any} with 5 entries:\n",
       "  :weighting            => Dict{Symbol, Any}(:weighting=>:bm25, :weighting_at_i…\n",
       "  :topk                 => 437.0\n",
       "  :normalize            => false\n",
       "  :normalize_similarity => true\n",
       "  :shrink               => 806.13"
      ]
     },
     "metadata": {},
     "execution_count": 10
    }
   ],
   "metadata": {}
  },
  {
   "cell_type": "code",
   "execution_count": 11,
   "source": [
    "best_model = ItemkNN(convert(Int, best[:topk]), best[:shrink],best[:weighting][:weighting],best[:weighting][:weighting_at_inference],best[:normalize],best[:normalize_similarity])\n",
    "evaluate_u2i(best_model, train_valid_table, test_table, metrics, 10, col_user=:userid, col_item=:movieid, col_rating=:rating, drop_history=true)"
   ],
   "outputs": [
    {
     "output_type": "execute_result",
     "data": {
      "text/plain": [
       "(NDCG(10) = 0.27386134742249735,\n",
       " RecallAtK(10) = 0.21942670069034934,\n",
       " PrecisionAtK(10) = 0.21086956521739053,)"
      ]
     },
     "metadata": {},
     "execution_count": 11
    }
   ],
   "metadata": {}
  },
  {
   "cell_type": "code",
   "execution_count": null,
   "source": [],
   "outputs": [],
   "metadata": {}
  }
 ],
 "metadata": {
  "kernelspec": {
   "display_name": "Julia 1.6.0",
   "language": "julia",
   "name": "julia-1.6"
  },
  "language_info": {
   "file_extension": ".jl",
   "mimetype": "application/julia",
   "name": "julia",
   "version": "1.6.0"
  },
  "orig_nbformat": 2
 },
 "nbformat": 4,
 "nbformat_minor": 2
}