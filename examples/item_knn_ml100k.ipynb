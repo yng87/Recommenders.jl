{
 "cells": [
  {
   "cell_type": "code",
   "execution_count": 1,
   "source": [
    "using DataFrames\n",
    "using Recommender: Movielens100k, load_dataset, leave_one_out_split, ItemkNN, fit!, predict, evaluate, RecallAtK"
   ],
   "outputs": [],
   "metadata": {}
  },
  {
   "cell_type": "code",
   "execution_count": null,
   "source": [
    "ml100k = Movielens100k()\n",
    "download(ml100k)\n",
    "rating, user, movie = load_dataset(ml100k);"
   ],
   "outputs": [],
   "metadata": {}
  },
  {
   "cell_type": "code",
   "execution_count": null,
   "source": [
    "df = DataFrame(rating)\n",
    "first(df, 10)"
   ],
   "outputs": [
    {
     "output_type": "execute_result",
     "data": {
      "text/plain": [
       "\u001b[1m10×4 DataFrame\u001b[0m\n",
       "\u001b[1m Row \u001b[0m│\u001b[1m userid \u001b[0m\u001b[1m movieid \u001b[0m\u001b[1m rating \u001b[0m\u001b[1m timestamp \u001b[0m\n",
       "\u001b[1m     \u001b[0m│\u001b[90m Int64  \u001b[0m\u001b[90m Int64   \u001b[0m\u001b[90m Int64  \u001b[0m\u001b[90m Int64     \u001b[0m\n",
       "─────┼────────────────────────────────────\n",
       "   1 │    196      242       3  881250949\n",
       "   2 │    186      302       3  891717742\n",
       "   3 │     22      377       1  878887116\n",
       "   4 │    244       51       2  880606923\n",
       "   5 │    166      346       1  886397596\n",
       "   6 │    298      474       4  884182806\n",
       "   7 │    115      265       2  881171488\n",
       "   8 │    253      465       5  891628467\n",
       "   9 │    305      451       3  886324817\n",
       "  10 │      6       86       3  883603013"
      ],
      "text/latex": [
       "\\begin{tabular}{r|cccc}\n",
       "\t& userid & movieid & rating & timestamp\\\\\n",
       "\t\\hline\n",
       "\t& Int64 & Int64 & Int64 & Int64\\\\\n",
       "\t\\hline\n",
       "\t1 & 196 & 242 & 3 & 881250949 \\\\\n",
       "\t2 & 186 & 302 & 3 & 891717742 \\\\\n",
       "\t3 & 22 & 377 & 1 & 878887116 \\\\\n",
       "\t4 & 244 & 51 & 2 & 880606923 \\\\\n",
       "\t5 & 166 & 346 & 1 & 886397596 \\\\\n",
       "\t6 & 298 & 474 & 4 & 884182806 \\\\\n",
       "\t7 & 115 & 265 & 2 & 881171488 \\\\\n",
       "\t8 & 253 & 465 & 5 & 891628467 \\\\\n",
       "\t9 & 305 & 451 & 3 & 886324817 \\\\\n",
       "\t10 & 6 & 86 & 3 & 883603013 \\\\\n",
       "\\end{tabular}\n"
      ],
      "text/html": [
       "<table class=\"data-frame\"><thead><tr><th></th><th>userid</th><th>movieid</th><th>rating</th><th>timestamp</th></tr><tr><th></th><th>Int64</th><th>Int64</th><th>Int64</th><th>Int64</th></tr></thead><tbody><p>10 rows × 4 columns</p><tr><th>1</th><td>196</td><td>242</td><td>3</td><td>881250949</td></tr><tr><th>2</th><td>186</td><td>302</td><td>3</td><td>891717742</td></tr><tr><th>3</th><td>22</td><td>377</td><td>1</td><td>878887116</td></tr><tr><th>4</th><td>244</td><td>51</td><td>2</td><td>880606923</td></tr><tr><th>5</th><td>166</td><td>346</td><td>1</td><td>886397596</td></tr><tr><th>6</th><td>298</td><td>474</td><td>4</td><td>884182806</td></tr><tr><th>7</th><td>115</td><td>265</td><td>2</td><td>881171488</td></tr><tr><th>8</th><td>253</td><td>465</td><td>5</td><td>891628467</td></tr><tr><th>9</th><td>305</td><td>451</td><td>3</td><td>886324817</td></tr><tr><th>10</th><td>6</td><td>86</td><td>3</td><td>883603013</td></tr></tbody></table>"
      ]
     },
     "metadata": {},
     "execution_count": 3
    }
   ],
   "metadata": {}
  },
  {
   "cell_type": "code",
   "execution_count": null,
   "source": [
    "df[!, :rating] .= 1\n",
    "first(df, 10)"
   ],
   "outputs": [
    {
     "output_type": "execute_result",
     "data": {
      "text/plain": [
       "\u001b[1m10×4 DataFrame\u001b[0m\n",
       "\u001b[1m Row \u001b[0m│\u001b[1m userid \u001b[0m\u001b[1m movieid \u001b[0m\u001b[1m rating \u001b[0m\u001b[1m timestamp \u001b[0m\n",
       "\u001b[1m     \u001b[0m│\u001b[90m Int64  \u001b[0m\u001b[90m Int64   \u001b[0m\u001b[90m Int64  \u001b[0m\u001b[90m Int64     \u001b[0m\n",
       "─────┼────────────────────────────────────\n",
       "   1 │    196      242       1  881250949\n",
       "   2 │    186      302       1  891717742\n",
       "   3 │     22      377       1  878887116\n",
       "   4 │    244       51       1  880606923\n",
       "   5 │    166      346       1  886397596\n",
       "   6 │    298      474       1  884182806\n",
       "   7 │    115      265       1  881171488\n",
       "   8 │    253      465       1  891628467\n",
       "   9 │    305      451       1  886324817\n",
       "  10 │      6       86       1  883603013"
      ],
      "text/latex": [
       "\\begin{tabular}{r|cccc}\n",
       "\t& userid & movieid & rating & timestamp\\\\\n",
       "\t\\hline\n",
       "\t& Int64 & Int64 & Int64 & Int64\\\\\n",
       "\t\\hline\n",
       "\t1 & 196 & 242 & 1 & 881250949 \\\\\n",
       "\t2 & 186 & 302 & 1 & 891717742 \\\\\n",
       "\t3 & 22 & 377 & 1 & 878887116 \\\\\n",
       "\t4 & 244 & 51 & 1 & 880606923 \\\\\n",
       "\t5 & 166 & 346 & 1 & 886397596 \\\\\n",
       "\t6 & 298 & 474 & 1 & 884182806 \\\\\n",
       "\t7 & 115 & 265 & 1 & 881171488 \\\\\n",
       "\t8 & 253 & 465 & 1 & 891628467 \\\\\n",
       "\t9 & 305 & 451 & 1 & 886324817 \\\\\n",
       "\t10 & 6 & 86 & 1 & 883603013 \\\\\n",
       "\\end{tabular}\n"
      ],
      "text/html": [
       "<table class=\"data-frame\"><thead><tr><th></th><th>userid</th><th>movieid</th><th>rating</th><th>timestamp</th></tr><tr><th></th><th>Int64</th><th>Int64</th><th>Int64</th><th>Int64</th></tr></thead><tbody><p>10 rows × 4 columns</p><tr><th>1</th><td>196</td><td>242</td><td>1</td><td>881250949</td></tr><tr><th>2</th><td>186</td><td>302</td><td>1</td><td>891717742</td></tr><tr><th>3</th><td>22</td><td>377</td><td>1</td><td>878887116</td></tr><tr><th>4</th><td>244</td><td>51</td><td>1</td><td>880606923</td></tr><tr><th>5</th><td>166</td><td>346</td><td>1</td><td>886397596</td></tr><tr><th>6</th><td>298</td><td>474</td><td>1</td><td>884182806</td></tr><tr><th>7</th><td>115</td><td>265</td><td>1</td><td>881171488</td></tr><tr><th>8</th><td>253</td><td>465</td><td>1</td><td>891628467</td></tr><tr><th>9</th><td>305</td><td>451</td><td>1</td><td>886324817</td></tr><tr><th>10</th><td>6</td><td>86</td><td>1</td><td>883603013</td></tr></tbody></table>"
      ]
     },
     "metadata": {},
     "execution_count": 4
    }
   ],
   "metadata": {}
  },
  {
   "cell_type": "code",
   "execution_count": null,
   "source": [
    "df = leave_one_out_split(df, col_group = :userid, col_sort = :timestamp);"
   ],
   "outputs": [],
   "metadata": {}
  },
  {
   "cell_type": "code",
   "execution_count": null,
   "source": [
    "df_train = df[df.data_split.==:train, :]\n",
    "df_valid = df[df.data_split.==:valid, :]\n",
    "df_test = df[df.data_split.==:test, :]\n",
    "first(df_train, 10)"
   ],
   "outputs": [
    {
     "output_type": "execute_result",
     "data": {
      "text/plain": [
       "\u001b[1m10×5 DataFrame\u001b[0m\n",
       "\u001b[1m Row \u001b[0m│\u001b[1m userid \u001b[0m\u001b[1m movieid \u001b[0m\u001b[1m rating \u001b[0m\u001b[1m timestamp \u001b[0m\u001b[1m data_split \u001b[0m\n",
       "\u001b[1m     \u001b[0m│\u001b[90m Int64  \u001b[0m\u001b[90m Int64   \u001b[0m\u001b[90m Int64  \u001b[0m\u001b[90m Int64     \u001b[0m\u001b[90m Symbol     \u001b[0m\n",
       "─────┼────────────────────────────────────────────────\n",
       "   1 │    196     1118       1  881252128  train\n",
       "   2 │    196      108       1  881252110  train\n",
       "   3 │    196      411       1  881252090  train\n",
       "   4 │    196      580       1  881252056  train\n",
       "   5 │    196       67       1  881252017  train\n",
       "   6 │    196      692       1  881252017  train\n",
       "   7 │    196       25       1  881251955  train\n",
       "   8 │    196       13       1  881251955  train\n",
       "   9 │    196      762       1  881251955  train\n",
       "  10 │    196      845       1  881251954  train"
      ],
      "text/latex": [
       "\\begin{tabular}{r|ccccc}\n",
       "\t& userid & movieid & rating & timestamp & data\\_split\\\\\n",
       "\t\\hline\n",
       "\t& Int64 & Int64 & Int64 & Int64 & Symbol\\\\\n",
       "\t\\hline\n",
       "\t1 & 196 & 1118 & 1 & 881252128 & train \\\\\n",
       "\t2 & 196 & 108 & 1 & 881252110 & train \\\\\n",
       "\t3 & 196 & 411 & 1 & 881252090 & train \\\\\n",
       "\t4 & 196 & 580 & 1 & 881252056 & train \\\\\n",
       "\t5 & 196 & 67 & 1 & 881252017 & train \\\\\n",
       "\t6 & 196 & 692 & 1 & 881252017 & train \\\\\n",
       "\t7 & 196 & 25 & 1 & 881251955 & train \\\\\n",
       "\t8 & 196 & 13 & 1 & 881251955 & train \\\\\n",
       "\t9 & 196 & 762 & 1 & 881251955 & train \\\\\n",
       "\t10 & 196 & 845 & 1 & 881251954 & train \\\\\n",
       "\\end{tabular}\n"
      ],
      "text/html": [
       "<table class=\"data-frame\"><thead><tr><th></th><th>userid</th><th>movieid</th><th>rating</th><th>timestamp</th><th>data_split</th></tr><tr><th></th><th>Int64</th><th>Int64</th><th>Int64</th><th>Int64</th><th>Symbol</th></tr></thead><tbody><p>10 rows × 5 columns</p><tr><th>1</th><td>196</td><td>1118</td><td>1</td><td>881252128</td><td>train</td></tr><tr><th>2</th><td>196</td><td>108</td><td>1</td><td>881252110</td><td>train</td></tr><tr><th>3</th><td>196</td><td>411</td><td>1</td><td>881252090</td><td>train</td></tr><tr><th>4</th><td>196</td><td>580</td><td>1</td><td>881252056</td><td>train</td></tr><tr><th>5</th><td>196</td><td>67</td><td>1</td><td>881252017</td><td>train</td></tr><tr><th>6</th><td>196</td><td>692</td><td>1</td><td>881252017</td><td>train</td></tr><tr><th>7</th><td>196</td><td>25</td><td>1</td><td>881251955</td><td>train</td></tr><tr><th>8</th><td>196</td><td>13</td><td>1</td><td>881251955</td><td>train</td></tr><tr><th>9</th><td>196</td><td>762</td><td>1</td><td>881251955</td><td>train</td></tr><tr><th>10</th><td>196</td><td>845</td><td>1</td><td>881251954</td><td>train</td></tr></tbody></table>"
      ]
     },
     "metadata": {},
     "execution_count": 6
    }
   ],
   "metadata": {}
  },
  {
   "cell_type": "code",
   "execution_count": null,
   "source": [
    "recall100 = RecallAtK(100)"
   ],
   "outputs": [
    {
     "output_type": "execute_result",
     "data": {
      "text/plain": [
       "RecallAtK(100)"
      ]
     },
     "metadata": {},
     "execution_count": 7
    }
   ],
   "metadata": {}
  },
  {
   "cell_type": "code",
   "execution_count": null,
   "source": [
    "using TreeParzen"
   ],
   "outputs": [],
   "metadata": {}
  },
  {
   "cell_type": "code",
   "execution_count": null,
   "source": [
    "space = Dict(\n",
    "    :topk=>HP.QuantUniform(:topk, 10., 500., 1.),\n",
    "    :shrink=>HP.LogUniform(:shrink, log(1e-3), log(1e3)),\n",
    "    :weighting=>HP.Choice(:weighting, \n",
    "        [\n",
    "            Dict(:weighting=>:dummy, :weighting_at_inference=>false),\n",
    "            Dict(:weighting=>:tfidf, :weighting_at_inference=>false),\n",
    "            Dict(:weighting=>:bm25, :weighting_at_inference=>HP.Choice(:weighting_at_inference, [true, false]))\n",
    "        ]\n",
    "    ),\n",
    "    :normalize=>HP.Choice(:normalize, [true, false])\n",
    ")"
   ],
   "outputs": [
    {
     "output_type": "execute_result",
     "data": {
      "text/plain": [
       "Dict{Symbol, TreeParzen.Types.AbstractDelayed} with 4 entries:\n",
       "  :weighting => Choice(Param(:weighting, RandIndex(3)), Dict{Symbol, Any}[Dict(…\n",
       "  :topk      => QuantUniform(:topk, QuantUniform(10.0, 500.0, 1.0))\n",
       "  :normalize => Choice(Param(:normalize, RandIndex(2)), Bool[1, 0])\n",
       "  :shrink    => LogUniform(:shrink, LogUniform(-6.90776, 6.90776))"
      ]
     },
     "metadata": {},
     "execution_count": 9
    }
   ],
   "metadata": {}
  },
  {
   "cell_type": "code",
   "execution_count": null,
   "source": [
    "function invert_output(params)\n",
    "    k = convert(Int, params[:topk])\n",
    "    model = ItemkNN(k, params[:shrink],params[:weighting][:weighting],params[:weighting][:weighting_at_inference],params[:normalize])\n",
    "    result = evaluate(model, df_train, df_valid, recall100, 100, col_user=:userid, col_item=:movieid, col_rating=:rating)\n",
    "    @show params, result\n",
    "    return -result\n",
    "end"
   ],
   "outputs": [
    {
     "output_type": "execute_result",
     "data": {
      "text/plain": [
       "invert_output (generic function with 1 method)"
      ]
     },
     "metadata": {},
     "execution_count": 10
    }
   ],
   "metadata": {}
  },
  {
   "cell_type": "code",
   "execution_count": null,
   "source": [
    "best = fmin(invert_output, space, 100, logging_interval=-1)"
   ],
   "outputs": [
    {
     "output_type": "stream",
     "name": "stdout",
     "text": [
      "params = Dict{Symbol, Any}(:weighting => Dict{Symbol, Any}(:weighting => :bm25, :weighting_at_inference => false), :topk => 139.0, :normalize => true, :shrink => 1.831248046147268)\n",
      "(params, result) = (Dict{Symbol, Any}(:weighting => Dict{Symbol, Any}(:weighting => :bm25, :weighting_at_inference => false), :topk => 139.0, :normalize => true, :shrink => 1.831248046147268), 0.37751855779427357)\n"
     ]
    },
    {
     "output_type": "stream",
     "name": "stderr",
     "text": [
      "┌ Info: fmin: 1 / 1 trials carried out\n",
      "└ @ TreeParzen.API /Users/keisuke.yanagi/.julia/packages/TreeParzen/Iw2mh/src/API.jl:176\n",
      "┌ Info: Successfully completed fmin \n",
      "└ @ TreeParzen.API /Users/keisuke.yanagi/.julia/packages/TreeParzen/Iw2mh/src/API.jl:231\n"
     ]
    },
    {
     "output_type": "execute_result",
     "data": {
      "text/plain": [
       "Dict{Symbol, Any} with 4 entries:\n",
       "  :weighting => Dict{Symbol, Any}(:weighting=>:bm25, :weighting_at_inference=>f…\n",
       "  :topk      => 139.0\n",
       "  :normalize => true\n",
       "  :shrink    => 1.83125"
      ]
     },
     "metadata": {},
     "execution_count": 11
    }
   ],
   "metadata": {}
  },
  {
   "cell_type": "code",
   "execution_count": null,
   "source": [
    "best_model = ItemkNN(convert(Int, best[:topk]), best[:shrink],best[:weighting],best[:weighting_at_inference],best[:normalize])\n",
    "evaluate(best_model, df_train_valid, df_test, recall100, 100, col_user=:userid, col_item=:movieid, col_rating=:rating)"
   ],
   "outputs": [
    {
     "output_type": "error",
     "ename": "LoadError",
     "evalue": "KeyError: key :weighting_at_inference not found",
     "traceback": [
      "KeyError: key :weighting_at_inference not found",
      "",
      "Stacktrace:",
      " [1] getindex(h::Dict{Symbol, Any}, key::Symbol)",
      "   @ Base ./dict.jl:482",
      " [2] top-level scope",
      "   @ In[12]:1",
      " [3] eval",
      "   @ ./boot.jl:360 [inlined]",
      " [4] include_string(mapexpr::typeof(REPL.softscope), mod::Module, code::String, filename::String)",
      "   @ Base ./loading.jl:1094"
     ]
    }
   ],
   "metadata": {}
  },
  {
   "cell_type": "code",
   "execution_count": null,
   "source": [],
   "outputs": [],
   "metadata": {}
  }
 ],
 "metadata": {
  "kernelspec": {
   "display_name": "Julia 1.6.0",
   "language": "julia",
   "name": "julia-1.6"
  },
  "language_info": {
   "file_extension": ".jl",
   "mimetype": "application/julia",
   "name": "julia",
   "version": "1.6.0"
  },
  "orig_nbformat": 2
 },
 "nbformat": 4,
 "nbformat_minor": 2
}