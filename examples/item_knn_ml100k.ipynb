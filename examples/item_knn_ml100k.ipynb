{
 "cells": [
  {
   "cell_type": "code",
   "execution_count": 1,
   "source": [
    "using DataFrames\n",
    "using Recommender: Movielens100k, load_dataset, leave_one_out_split, ItemkNN, fit!, predict, evaluate, RecallAtK"
   ],
   "outputs": [],
   "metadata": {}
  },
  {
   "cell_type": "code",
   "execution_count": 2,
   "source": [
    "ml100k = Movielens100k()\n",
    "download(ml100k)\n",
    "rating, user, movie = load_dataset(ml100k);"
   ],
   "outputs": [],
   "metadata": {}
  },
  {
   "cell_type": "code",
   "execution_count": 3,
   "source": [
    "df = DataFrame(rating)\n",
    "first(df, 10)"
   ],
   "outputs": [
    {
     "output_type": "execute_result",
     "data": {
      "text/plain": [
       "\u001b[1m10×4 DataFrame\u001b[0m\n",
       "\u001b[1m Row \u001b[0m│\u001b[1m userid \u001b[0m\u001b[1m movieid \u001b[0m\u001b[1m rating \u001b[0m\u001b[1m timestamp \u001b[0m\n",
       "\u001b[1m     \u001b[0m│\u001b[90m Int64  \u001b[0m\u001b[90m Int64   \u001b[0m\u001b[90m Int64  \u001b[0m\u001b[90m Int64     \u001b[0m\n",
       "─────┼────────────────────────────────────\n",
       "   1 │    196      242       3  881250949\n",
       "   2 │    186      302       3  891717742\n",
       "   3 │     22      377       1  878887116\n",
       "   4 │    244       51       2  880606923\n",
       "   5 │    166      346       1  886397596\n",
       "   6 │    298      474       4  884182806\n",
       "   7 │    115      265       2  881171488\n",
       "   8 │    253      465       5  891628467\n",
       "   9 │    305      451       3  886324817\n",
       "  10 │      6       86       3  883603013"
      ],
      "text/latex": [
       "\\begin{tabular}{r|cccc}\n",
       "\t& userid & movieid & rating & timestamp\\\\\n",
       "\t\\hline\n",
       "\t& Int64 & Int64 & Int64 & Int64\\\\\n",
       "\t\\hline\n",
       "\t1 & 196 & 242 & 3 & 881250949 \\\\\n",
       "\t2 & 186 & 302 & 3 & 891717742 \\\\\n",
       "\t3 & 22 & 377 & 1 & 878887116 \\\\\n",
       "\t4 & 244 & 51 & 2 & 880606923 \\\\\n",
       "\t5 & 166 & 346 & 1 & 886397596 \\\\\n",
       "\t6 & 298 & 474 & 4 & 884182806 \\\\\n",
       "\t7 & 115 & 265 & 2 & 881171488 \\\\\n",
       "\t8 & 253 & 465 & 5 & 891628467 \\\\\n",
       "\t9 & 305 & 451 & 3 & 886324817 \\\\\n",
       "\t10 & 6 & 86 & 3 & 883603013 \\\\\n",
       "\\end{tabular}\n"
      ],
      "text/html": [
       "<table class=\"data-frame\"><thead><tr><th></th><th>userid</th><th>movieid</th><th>rating</th><th>timestamp</th></tr><tr><th></th><th>Int64</th><th>Int64</th><th>Int64</th><th>Int64</th></tr></thead><tbody><p>10 rows × 4 columns</p><tr><th>1</th><td>196</td><td>242</td><td>3</td><td>881250949</td></tr><tr><th>2</th><td>186</td><td>302</td><td>3</td><td>891717742</td></tr><tr><th>3</th><td>22</td><td>377</td><td>1</td><td>878887116</td></tr><tr><th>4</th><td>244</td><td>51</td><td>2</td><td>880606923</td></tr><tr><th>5</th><td>166</td><td>346</td><td>1</td><td>886397596</td></tr><tr><th>6</th><td>298</td><td>474</td><td>4</td><td>884182806</td></tr><tr><th>7</th><td>115</td><td>265</td><td>2</td><td>881171488</td></tr><tr><th>8</th><td>253</td><td>465</td><td>5</td><td>891628467</td></tr><tr><th>9</th><td>305</td><td>451</td><td>3</td><td>886324817</td></tr><tr><th>10</th><td>6</td><td>86</td><td>3</td><td>883603013</td></tr></tbody></table>"
      ]
     },
     "metadata": {},
     "execution_count": 3
    }
   ],
   "metadata": {}
  },
  {
   "cell_type": "code",
   "execution_count": 4,
   "source": [
    "df[!, :rating] .= 1\n",
    "first(df, 10)"
   ],
   "outputs": [
    {
     "output_type": "execute_result",
     "data": {
      "text/plain": [
       "\u001b[1m10×4 DataFrame\u001b[0m\n",
       "\u001b[1m Row \u001b[0m│\u001b[1m userid \u001b[0m\u001b[1m movieid \u001b[0m\u001b[1m rating \u001b[0m\u001b[1m timestamp \u001b[0m\n",
       "\u001b[1m     \u001b[0m│\u001b[90m Int64  \u001b[0m\u001b[90m Int64   \u001b[0m\u001b[90m Int64  \u001b[0m\u001b[90m Int64     \u001b[0m\n",
       "─────┼────────────────────────────────────\n",
       "   1 │    196      242       1  881250949\n",
       "   2 │    186      302       1  891717742\n",
       "   3 │     22      377       1  878887116\n",
       "   4 │    244       51       1  880606923\n",
       "   5 │    166      346       1  886397596\n",
       "   6 │    298      474       1  884182806\n",
       "   7 │    115      265       1  881171488\n",
       "   8 │    253      465       1  891628467\n",
       "   9 │    305      451       1  886324817\n",
       "  10 │      6       86       1  883603013"
      ],
      "text/latex": [
       "\\begin{tabular}{r|cccc}\n",
       "\t& userid & movieid & rating & timestamp\\\\\n",
       "\t\\hline\n",
       "\t& Int64 & Int64 & Int64 & Int64\\\\\n",
       "\t\\hline\n",
       "\t1 & 196 & 242 & 1 & 881250949 \\\\\n",
       "\t2 & 186 & 302 & 1 & 891717742 \\\\\n",
       "\t3 & 22 & 377 & 1 & 878887116 \\\\\n",
       "\t4 & 244 & 51 & 1 & 880606923 \\\\\n",
       "\t5 & 166 & 346 & 1 & 886397596 \\\\\n",
       "\t6 & 298 & 474 & 1 & 884182806 \\\\\n",
       "\t7 & 115 & 265 & 1 & 881171488 \\\\\n",
       "\t8 & 253 & 465 & 1 & 891628467 \\\\\n",
       "\t9 & 305 & 451 & 1 & 886324817 \\\\\n",
       "\t10 & 6 & 86 & 1 & 883603013 \\\\\n",
       "\\end{tabular}\n"
      ],
      "text/html": [
       "<table class=\"data-frame\"><thead><tr><th></th><th>userid</th><th>movieid</th><th>rating</th><th>timestamp</th></tr><tr><th></th><th>Int64</th><th>Int64</th><th>Int64</th><th>Int64</th></tr></thead><tbody><p>10 rows × 4 columns</p><tr><th>1</th><td>196</td><td>242</td><td>1</td><td>881250949</td></tr><tr><th>2</th><td>186</td><td>302</td><td>1</td><td>891717742</td></tr><tr><th>3</th><td>22</td><td>377</td><td>1</td><td>878887116</td></tr><tr><th>4</th><td>244</td><td>51</td><td>1</td><td>880606923</td></tr><tr><th>5</th><td>166</td><td>346</td><td>1</td><td>886397596</td></tr><tr><th>6</th><td>298</td><td>474</td><td>1</td><td>884182806</td></tr><tr><th>7</th><td>115</td><td>265</td><td>1</td><td>881171488</td></tr><tr><th>8</th><td>253</td><td>465</td><td>1</td><td>891628467</td></tr><tr><th>9</th><td>305</td><td>451</td><td>1</td><td>886324817</td></tr><tr><th>10</th><td>6</td><td>86</td><td>1</td><td>883603013</td></tr></tbody></table>"
      ]
     },
     "metadata": {},
     "execution_count": 4
    }
   ],
   "metadata": {}
  },
  {
   "cell_type": "code",
   "execution_count": 5,
   "source": [
    "df = leave_one_out_split(df, col_group = :userid, col_sort = :timestamp);"
   ],
   "outputs": [],
   "metadata": {}
  },
  {
   "cell_type": "code",
   "execution_count": 6,
   "source": [
    "df_train = df[df.data_split.==:train, :]\n",
    "df_valid = df[df.data_split.==:valid, :]\n",
    "df_test = df[df.data_split.==:test, :]\n",
    "first(df_train, 10)"
   ],
   "outputs": [
    {
     "output_type": "execute_result",
     "data": {
      "text/plain": [
       "\u001b[1m10×5 DataFrame\u001b[0m\n",
       "\u001b[1m Row \u001b[0m│\u001b[1m userid \u001b[0m\u001b[1m movieid \u001b[0m\u001b[1m rating \u001b[0m\u001b[1m timestamp \u001b[0m\u001b[1m data_split \u001b[0m\n",
       "\u001b[1m     \u001b[0m│\u001b[90m Int64  \u001b[0m\u001b[90m Int64   \u001b[0m\u001b[90m Int64  \u001b[0m\u001b[90m Int64     \u001b[0m\u001b[90m Symbol     \u001b[0m\n",
       "─────┼────────────────────────────────────────────────\n",
       "   1 │    196     1118       1  881252128  train\n",
       "   2 │    196      108       1  881252110  train\n",
       "   3 │    196      411       1  881252090  train\n",
       "   4 │    196      580       1  881252056  train\n",
       "   5 │    196       67       1  881252017  train\n",
       "   6 │    196      692       1  881252017  train\n",
       "   7 │    196       25       1  881251955  train\n",
       "   8 │    196       13       1  881251955  train\n",
       "   9 │    196      762       1  881251955  train\n",
       "  10 │    196      845       1  881251954  train"
      ],
      "text/latex": [
       "\\begin{tabular}{r|ccccc}\n",
       "\t& userid & movieid & rating & timestamp & data\\_split\\\\\n",
       "\t\\hline\n",
       "\t& Int64 & Int64 & Int64 & Int64 & Symbol\\\\\n",
       "\t\\hline\n",
       "\t1 & 196 & 1118 & 1 & 881252128 & train \\\\\n",
       "\t2 & 196 & 108 & 1 & 881252110 & train \\\\\n",
       "\t3 & 196 & 411 & 1 & 881252090 & train \\\\\n",
       "\t4 & 196 & 580 & 1 & 881252056 & train \\\\\n",
       "\t5 & 196 & 67 & 1 & 881252017 & train \\\\\n",
       "\t6 & 196 & 692 & 1 & 881252017 & train \\\\\n",
       "\t7 & 196 & 25 & 1 & 881251955 & train \\\\\n",
       "\t8 & 196 & 13 & 1 & 881251955 & train \\\\\n",
       "\t9 & 196 & 762 & 1 & 881251955 & train \\\\\n",
       "\t10 & 196 & 845 & 1 & 881251954 & train \\\\\n",
       "\\end{tabular}\n"
      ],
      "text/html": [
       "<table class=\"data-frame\"><thead><tr><th></th><th>userid</th><th>movieid</th><th>rating</th><th>timestamp</th><th>data_split</th></tr><tr><th></th><th>Int64</th><th>Int64</th><th>Int64</th><th>Int64</th><th>Symbol</th></tr></thead><tbody><p>10 rows × 5 columns</p><tr><th>1</th><td>196</td><td>1118</td><td>1</td><td>881252128</td><td>train</td></tr><tr><th>2</th><td>196</td><td>108</td><td>1</td><td>881252110</td><td>train</td></tr><tr><th>3</th><td>196</td><td>411</td><td>1</td><td>881252090</td><td>train</td></tr><tr><th>4</th><td>196</td><td>580</td><td>1</td><td>881252056</td><td>train</td></tr><tr><th>5</th><td>196</td><td>67</td><td>1</td><td>881252017</td><td>train</td></tr><tr><th>6</th><td>196</td><td>692</td><td>1</td><td>881252017</td><td>train</td></tr><tr><th>7</th><td>196</td><td>25</td><td>1</td><td>881251955</td><td>train</td></tr><tr><th>8</th><td>196</td><td>13</td><td>1</td><td>881251955</td><td>train</td></tr><tr><th>9</th><td>196</td><td>762</td><td>1</td><td>881251955</td><td>train</td></tr><tr><th>10</th><td>196</td><td>845</td><td>1</td><td>881251954</td><td>train</td></tr></tbody></table>"
      ]
     },
     "metadata": {},
     "execution_count": 6
    }
   ],
   "metadata": {}
  },
  {
   "cell_type": "code",
   "execution_count": 7,
   "source": [
    "recall100 = RecallAtK(100)"
   ],
   "outputs": [
    {
     "output_type": "execute_result",
     "data": {
      "text/plain": [
       "RecallAtK(100)"
      ]
     },
     "metadata": {},
     "execution_count": 7
    }
   ],
   "metadata": {}
  },
  {
   "cell_type": "code",
   "execution_count": 8,
   "source": [
    "using TreeParzen"
   ],
   "outputs": [],
   "metadata": {}
  },
  {
   "cell_type": "code",
   "execution_count": 9,
   "source": [
    "space = Dict(\n",
    "    :topk=>HP.QuantUniform(:topk, 10., 500., 1.),\n",
    "    :shrink=>HP.LogUniform(:shrink, log(1e-3), log(1e3)),\n",
    "    :weighting=>HP.Choice(:weighting, \n",
    "        [\n",
    "            Dict(:weighting=>:dummy, :weighting_at_inference=>false),\n",
    "            Dict(:weighting=>:tfidf, :weighting_at_inference=>false),\n",
    "            Dict(:weighting=>:bm25, :weighting_at_inference=>HP.Choice(:weighting_at_inference, [true, false]))\n",
    "        ]\n",
    "    ),\n",
    "    :normalize=>HP.Choice(:normalize, [true, false])\n",
    ")"
   ],
   "outputs": [
    {
     "output_type": "execute_result",
     "data": {
      "text/plain": [
       "Dict{Symbol, TreeParzen.Types.AbstractDelayed} with 4 entries:\n",
       "  :weighting => Choice(Param(:weighting, RandIndex(3)), Dict{Symbol, Any}[Dict(…\n",
       "  :topk      => QuantUniform(:topk, QuantUniform(10.0, 500.0, 1.0))\n",
       "  :normalize => Choice(Param(:normalize, RandIndex(2)), Bool[1, 0])\n",
       "  :shrink    => LogUniform(:shrink, LogUniform(-6.90776, 6.90776))"
      ]
     },
     "metadata": {},
     "execution_count": 9
    }
   ],
   "metadata": {}
  },
  {
   "cell_type": "code",
   "execution_count": 10,
   "source": [
    "function invert_output(params)\n",
    "    k = convert(Int, params[:topk])\n",
    "    model = ItemkNN(k, params[:shrink],params[:weighting][:weighting],params[:weighting][:weighting_at_inference],params[:normalize])\n",
    "    result = evaluate(model, df_train, df_valid, recall100, 100, col_user=:userid, col_item=:movieid, col_rating=:rating)\n",
    "    @show params, result\n",
    "    return -result\n",
    "end"
   ],
   "outputs": [
    {
     "output_type": "execute_result",
     "data": {
      "text/plain": [
       "invert_output (generic function with 1 method)"
      ]
     },
     "metadata": {},
     "execution_count": 10
    }
   ],
   "metadata": {}
  },
  {
   "cell_type": "code",
   "execution_count": 11,
   "source": [
    "best = fmin(invert_output, space, 100, logging_interval=-1)"
   ],
   "outputs": [
    {
     "output_type": "stream",
     "name": "stdout",
     "text": [
      "(params, result) = (Dict{Symbol, Any}(:weighting => Dict{Symbol, Any}(:weighting => :tfidf, :weighting_at_inference => false), :topk => 222.0, :normalize => true, :shrink => 6.1046803020445), 0.3488865323435843)\n",
      "(params, result) = (Dict{Symbol, Any}(:weighting => Dict{Symbol, Any}(:weighting => :dummy, :weighting_at_inference => false), :topk => 294.0, :normalize => true, :shrink => 0.001231267962883468), 0.34146341463414637)\n",
      "(params, result) = (Dict{Symbol, Any}(:weighting => Dict{Symbol, Any}(:weighting => :bm25, :weighting_at_inference => true), :topk => 423.0, :normalize => false, :shrink => 229.7255056249962), 0.24072110286320256)\n",
      "(params, result) = (Dict{Symbol, Any}(:weighting => Dict{Symbol, Any}(:weighting => :dummy, :weighting_at_inference => false), :topk => 209.0, :normalize => true, :shrink => 87.26781622625424), 0.26299045599151644)\n",
      "(params, result) = (Dict{Symbol, Any}(:weighting => Dict{Symbol, Any}(:weighting => :bm25, :weighting_at_inference => true), :topk => 335.0, :normalize => false, :shrink => 7.406707651040897), 0.25556733828207845)\n",
      "(params, result) = (Dict{Symbol, Any}(:weighting => Dict{Symbol, Any}(:weighting => :tfidf, :weighting_at_inference => false), :topk => 351.0, :normalize => true, :shrink => 584.5306117780618), 0.25344644750795337)\n",
      "(params, result) = (Dict{Symbol, Any}(:weighting => Dict{Symbol, Any}(:weighting => :bm25, :weighting_at_inference => false), :topk => 365.0, :normalize => true, :shrink => 195.20026165101916), 0.3107104984093319)\n",
      "(params, result) = (Dict{Symbol, Any}(:weighting => Dict{Symbol, Any}(:weighting => :bm25, :weighting_at_inference => false), :topk => 151.0, :normalize => true, :shrink => 106.61320524739978), 0.3605514316012725)\n",
      "(params, result) = (Dict{Symbol, Any}(:weighting => Dict{Symbol, Any}(:weighting => :dummy, :weighting_at_inference => false), :topk => 247.0, :normalize => true, :shrink => 589.9657896633774), 0.2523860021208908)\n",
      "(params, result) = (Dict{Symbol, Any}(:weighting => Dict{Symbol, Any}(:weighting => :bm25, :weighting_at_inference => true), :topk => 299.0, :normalize => true, :shrink => 0.0048252145685412666), 0.31283138918345704)\n",
      "(params, result) = (Dict{Symbol, Any}(:weighting => Dict{Symbol, Any}(:weighting => :tfidf, :weighting_at_inference => false), :topk => 479.0, :normalize => false, :shrink => 0.020704170205303404), 0.13043478260869565)\n",
      "(params, result) = (Dict{Symbol, Any}(:weighting => Dict{Symbol, Any}(:weighting => :bm25, :weighting_at_inference => false), :topk => 121.0, :normalize => false, :shrink => 0.0028214808187435633), 0.3266171792152704)\n",
      "(params, result) = (Dict{Symbol, Any}(:weighting => Dict{Symbol, Any}(:weighting => :bm25, :weighting_at_inference => true), :topk => 412.0, :normalize => false, :shrink => 0.4770747126160949), 0.23860021208907742)\n",
      "(params, result) = (Dict{Symbol, Any}(:weighting => Dict{Symbol, Any}(:weighting => :bm25, :weighting_at_inference => false), :topk => 167.0, :normalize => false, :shrink => 209.48843569187656), 0.3213149522799576)\n",
      "(params, result) = (Dict{Symbol, Any}(:weighting => Dict{Symbol, Any}(:weighting => :bm25, :weighting_at_inference => true), :topk => 69.0, :normalize => true, :shrink => 42.66940916462966), 0.352067868504772)\n",
      "(params, result) = (Dict{Symbol, Any}(:weighting => Dict{Symbol, Any}(:weighting => :bm25, :weighting_at_inference => false), :topk => 395.0, :normalize => false, :shrink => 0.002759398363553479), 0.2926829268292683)\n",
      "(params, result) = (Dict{Symbol, Any}(:weighting => Dict{Symbol, Any}(:weighting => :bm25, :weighting_at_inference => false), :topk => 200.0, :normalize => true, :shrink => 0.35151525293316965), 0.3637327677624602)\n",
      "(params, result) = (Dict{Symbol, Any}(:weighting => Dict{Symbol, Any}(:weighting => :tfidf, :weighting_at_inference => false), :topk => 203.0, :normalize => false, :shrink => 679.294483206291), 0.0010604453870625664)\n",
      "(params, result) = (Dict{Symbol, Any}(:weighting => Dict{Symbol, Any}(:weighting => :bm25, :weighting_at_inference => false), :topk => 73.0, :normalize => true, :shrink => 0.002974418599728601), 0.3944856839872747)\n",
      "(params, result) = (Dict{Symbol, Any}(:weighting => Dict{Symbol, Any}(:weighting => :bm25, :weighting_at_inference => true), :topk => 393.0, :normalize => false, :shrink => 1.52513444060339), 0.2523860021208908)\n",
      "(params, result) = (Dict{Symbol, Any}(:weighting => Dict{Symbol, Any}(:weighting => :dummy, :weighting_at_inference => false), :topk => 50.0, :normalize => true, :shrink => 0.10021973803847092), 0.4050901378579003)\n",
      "(params, result) = (Dict{Symbol, Any}(:weighting => Dict{Symbol, Any}(:weighting => :dummy, :weighting_at_inference => false), :topk => 20.0, :normalize => true, :shrink => 0.07925528215822489), 0.3425238600212089)\n",
      "(params, result) = (Dict{Symbol, Any}(:weighting => Dict{Symbol, Any}(:weighting => :dummy, :weighting_at_inference => false), :topk => 12.0, :normalize => true, :shrink => 0.024686361564773884), 0.18769883351007424)\n",
      "(params, result) = (Dict{Symbol, Any}(:weighting => Dict{Symbol, Any}(:weighting => :dummy, :weighting_at_inference => false), :topk => 70.0, :normalize => true, :shrink => 0.06344175313845939), 0.3934252386002121)\n",
      "(params, result) = (Dict{Symbol, Any}(:weighting => Dict{Symbol, Any}(:weighting => :dummy, :weighting_at_inference => false), :topk => 59.0, :normalize => true, :shrink => 0.01016818754972197), 0.40402969247083775)\n",
      "(params, result) = (Dict{Symbol, Any}(:weighting => Dict{Symbol, Any}(:weighting => :dummy, :weighting_at_inference => false), :topk => 112.0, :normalize => true, :shrink => 0.01481942733250891), 0.3955461293743372)\n",
      "(params, result) = (Dict{Symbol, Any}(:weighting => Dict{Symbol, Any}(:weighting => :dummy, :weighting_at_inference => false), :topk => 30.0, :normalize => true, :shrink => 0.19447299291053305), 0.3828207847295864)\n",
      "(params, result) = (Dict{Symbol, Any}(:weighting => Dict{Symbol, Any}(:weighting => :dummy, :weighting_at_inference => false), :topk => 108.0, :normalize => true, :shrink => 1.934032466423459), 0.383881230116649)\n",
      "(params, result) = (Dict{Symbol, Any}(:weighting => Dict{Symbol, Any}(:weighting => :dummy, :weighting_at_inference => false), :topk => 46.0, :normalize => true, :shrink => 0.007877365500179832), 0.4093319194061506)\n",
      "(params, result) = (Dict{Symbol, Any}(:weighting => Dict{Symbol, Any}(:weighting => :dummy, :weighting_at_inference => false), :topk => 154.0, :normalize => true, :shrink => 0.07853526987671179), 0.38812301166489926)\n",
      "(params, result) = (Dict{Symbol, Any}(:weighting => Dict{Symbol, Any}(:weighting => :dummy, :weighting_at_inference => false), :topk => 43.0, :normalize => true, :shrink => 0.007219603586842829), 0.4019088016967126)\n",
      "(params, result) = (Dict{Symbol, Any}(:weighting => Dict{Symbol, Any}(:weighting => :dummy, :weighting_at_inference => false), :topk => 91.0, :normalize => true, :shrink => 0.0011596927474713159), 0.391304347826087)\n",
      "(params, result) = (Dict{Symbol, Any}(:weighting => Dict{Symbol, Any}(:weighting => :dummy, :weighting_at_inference => false), :topk => 45.0, :normalize => true, :shrink => 0.03839406706345575), 0.4050901378579003)\n",
      "(params, result) = (Dict{Symbol, Any}(:weighting => Dict{Symbol, Any}(:weighting => :dummy, :weighting_at_inference => false), :topk => 46.0, :normalize => true, :shrink => 0.18878975287668295), 0.41145281018027574)\n",
      "(params, result) = (Dict{Symbol, Any}(:weighting => Dict{Symbol, Any}(:weighting => :dummy, :weighting_at_inference => false), :topk => 135.0, :normalize => true, :shrink => 0.1554007021744278), 0.38494167550371156)\n",
      "(params, result) = (Dict{Symbol, Any}(:weighting => Dict{Symbol, Any}(:weighting => :dummy, :weighting_at_inference => false), :topk => 177.0, :normalize => true, :shrink => 4.493322214224736), 0.3722163308589608)\n",
      "(params, result) = (Dict{Symbol, Any}(:weighting => Dict{Symbol, Any}(:weighting => :dummy, :weighting_at_inference => false), :topk => 41.0, :normalize => true, :shrink => 19.87239874300162), 0.17179215270413573)\n",
      "(params, result) = (Dict{Symbol, Any}(:weighting => Dict{Symbol, Any}(:weighting => :dummy, :weighting_at_inference => false), :topk => 87.0, :normalize => true, :shrink => 0.009066282296045064), 0.39766702014846234)\n",
      "(params, result) = (Dict{Symbol, Any}(:weighting => Dict{Symbol, Any}(:weighting => :dummy, :weighting_at_inference => false), :topk => 98.0, :normalize => true, :shrink => 0.7286628929949799), 0.3860021208907741)\n",
      "(params, result) = (Dict{Symbol, Any}(:weighting => Dict{Symbol, Any}(:weighting => :tfidf, :weighting_at_inference => false), :topk => 53.0, :normalize => true, :shrink => 0.033656436914654794), 0.3997879109225875)\n",
      "(params, result) = (Dict{Symbol, Any}(:weighting => Dict{Symbol, Any}(:weighting => :dummy, :weighting_at_inference => false), :topk => 268.0, :normalize => true, :shrink => 0.04021538432862652), 0.3563096500530223)\n",
      "(params, result) = (Dict{Symbol, Any}(:weighting => Dict{Symbol, Any}(:weighting => :tfidf, :weighting_at_inference => false), :topk => 11.0, :normalize => true, :shrink => 0.00958359393542848), 0.256627783669141)\n",
      "(params, result) = (Dict{Symbol, Any}(:weighting => Dict{Symbol, Any}(:weighting => :dummy, :weighting_at_inference => false), :topk => 492.0, :normalize => true, :shrink => 0.16625508913704132), 0.3117709437963945)\n",
      "(params, result) = (Dict{Symbol, Any}(:weighting => Dict{Symbol, Any}(:weighting => :dummy, :weighting_at_inference => false), :topk => 84.0, :normalize => true, :shrink => 0.0010154534943528878), 0.39766702014846234)\n",
      "(params, result) = (Dict{Symbol, Any}(:weighting => Dict{Symbol, Any}(:weighting => :dummy, :weighting_at_inference => false), :topk => 51.0, :normalize => true, :shrink => 0.04090309286635249), 0.4061505832449629)\n",
      "(params, result) = (Dict{Symbol, Any}(:weighting => Dict{Symbol, Any}(:weighting => :dummy, :weighting_at_inference => false), :topk => 132.0, :normalize => true, :shrink => 2.8984528367699425), 0.3796394485683987)\n",
      "(params, result) = (Dict{Symbol, Any}(:weighting => Dict{Symbol, Any}(:weighting => :dummy, :weighting_at_inference => false), :topk => 51.0, :normalize => true, :shrink => 0.8411084571530378), 0.40827147401908803)\n",
      "(params, result) = (Dict{Symbol, Any}(:weighting => Dict{Symbol, Any}(:weighting => :dummy, :weighting_at_inference => false), :topk => 51.0, :normalize => true, :shrink => 0.31345259125564157), 0.4029692470837752)\n",
      "(params, result) = (Dict{Symbol, Any}(:weighting => Dict{Symbol, Any}(:weighting => :dummy, :weighting_at_inference => false), :topk => 181.0, :normalize => true, :shrink => 0.8291703822822569), 0.3743372216330859)\n",
      "(params, result) = (Dict{Symbol, Any}(:weighting => Dict{Symbol, Any}(:weighting => :tfidf, :weighting_at_inference => false), :topk => 238.0, :normalize => true, :shrink => 0.016914261215105492), 0.35418875927889715)\n",
      "(params, result) = (Dict{Symbol, Any}(:weighting => Dict{Symbol, Any}(:weighting => :dummy, :weighting_at_inference => false), :topk => 58.0, :normalize => true, :shrink => 13.205876237301888), 0.2682926829268293)\n",
      "(params, result) = (Dict{Symbol, Any}(:weighting => Dict{Symbol, Any}(:weighting => :dummy, :weighting_at_inference => false), :topk => 88.0, :normalize => true, :shrink => 0.0019427270328670754), 0.39766702014846234)\n",
      "(params, result) = (Dict{Symbol, Any}(:weighting => Dict{Symbol, Any}(:weighting => :dummy, :weighting_at_inference => false), :topk => 29.0, :normalize => true, :shrink => 0.005338979986519907), 0.37645811240721105)\n",
      "(params, result) = (Dict{Symbol, Any}(:weighting => Dict{Symbol, Any}(:weighting => :dummy, :weighting_at_inference => false), :topk => 143.0, :normalize => true, :shrink => 0.05149739499283027), 0.3860021208907741)\n",
      "(params, result) = (Dict{Symbol, Any}(:weighting => Dict{Symbol, Any}(:weighting => :dummy, :weighting_at_inference => false), :topk => 106.0, :normalize => false, :shrink => 0.12192936795986418), 0.012725344644750796)\n",
      "(params, result) = (Dict{Symbol, Any}(:weighting => Dict{Symbol, Any}(:weighting => :dummy, :weighting_at_inference => false), :topk => 274.0, :normalize => true, :shrink => 0.2663970625776248), 0.35100742311770944)\n",
      "(params, result) = (Dict{Symbol, Any}(:weighting => Dict{Symbol, Any}(:weighting => :tfidf, :weighting_at_inference => false), :topk => 76.0, :normalize => true, :shrink => 1.151526852417182), 0.39766702014846234)\n",
      "(params, result) = (Dict{Symbol, Any}(:weighting => Dict{Symbol, Any}(:weighting => :dummy, :weighting_at_inference => false), :topk => 128.0, :normalize => true, :shrink => 0.0014487905350388536), 0.383881230116649)\n",
      "(params, result) = (Dict{Symbol, Any}(:weighting => Dict{Symbol, Any}(:weighting => :dummy, :weighting_at_inference => false), :topk => 40.0, :normalize => true, :shrink => 0.006240561422729097), 0.40084835630965004)\n",
      "(params, result) = (Dict{Symbol, Any}(:weighting => Dict{Symbol, Any}(:weighting => :tfidf, :weighting_at_inference => false), :topk => 164.0, :normalize => true, :shrink => 0.5954743084753786), 0.37857900318133614)\n",
      "(params, result) = (Dict{Symbol, Any}(:weighting => Dict{Symbol, Any}(:weighting => :dummy, :weighting_at_inference => false), :topk => 454.0, :normalize => true, :shrink => 0.02866258117607036), 0.3244962884411453)\n",
      "(params, result) = (Dict{Symbol, Any}(:weighting => Dict{Symbol, Any}(:weighting => :dummy, :weighting_at_inference => false), :topk => 83.0, :normalize => true, :shrink => 0.013630360491367321), 0.39660657476139977)\n",
      "(params, result) = (Dict{Symbol, Any}(:weighting => Dict{Symbol, Any}(:weighting => :dummy, :weighting_at_inference => false), :topk => 187.0, :normalize => false, :shrink => 3.2084484499558474), 0.0021208907741251328)\n",
      "(params, result) = (Dict{Symbol, Any}(:weighting => Dict{Symbol, Any}(:weighting => :dummy, :weighting_at_inference => false), :topk => 93.0, :normalize => true, :shrink => 0.004198537581470667), 0.39236479321314954)\n",
      "(params, result) = (Dict{Symbol, Any}(:weighting => Dict{Symbol, Any}(:weighting => :tfidf, :weighting_at_inference => false), :topk => 31.0, :normalize => true, :shrink => 0.05157442764397262), 0.3902439024390244)\n",
      "(params, result) = (Dict{Symbol, Any}(:weighting => Dict{Symbol, Any}(:weighting => :dummy, :weighting_at_inference => false), :topk => 53.0, :normalize => true, :shrink => 0.09847134174140579), 0.4019088016967126)\n",
      "(params, result) = (Dict{Symbol, Any}(:weighting => Dict{Symbol, Any}(:weighting => :dummy, :weighting_at_inference => false), :topk => 49.0, :normalize => true, :shrink => 0.9967736148254299), 0.4061505832449629)\n",
      "(params, result) = (Dict{Symbol, Any}(:weighting => Dict{Symbol, Any}(:weighting => :dummy, :weighting_at_inference => false), :topk => 51.0, :normalize => true, :shrink => 1.2639841152444455), 0.4050901378579003)\n",
      "(params, result) = (Dict{Symbol, Any}(:weighting => Dict{Symbol, Any}(:weighting => :dummy, :weighting_at_inference => false), :topk => 77.0, :normalize => true, :shrink => 1.0967668448560832), 0.39660657476139977)\n",
      "(params, result) = (Dict{Symbol, Any}(:weighting => Dict{Symbol, Any}(:weighting => :dummy, :weighting_at_inference => false), :topk => 59.0, :normalize => true, :shrink => 0.26204768656400346), 0.4019088016967126)\n",
      "(params, result) = (Dict{Symbol, Any}(:weighting => Dict{Symbol, Any}(:weighting => :dummy, :weighting_at_inference => false), :topk => 118.0, :normalize => true, :shrink => 0.38392893835688885), 0.391304347826087)\n",
      "(params, result) = (Dict{Symbol, Any}(:weighting => Dict{Symbol, Any}(:weighting => :dummy, :weighting_at_inference => false), :topk => 48.0, :normalize => true, :shrink => 10.7011016287355), 0.271474019088017)\n",
      "(params, result) = (Dict{Symbol, Any}(:weighting => Dict{Symbol, Any}(:weighting => :dummy, :weighting_at_inference => false), :topk => 65.0, :normalize => true, :shrink => 0.012374311604888876), 0.39660657476139977)\n",
      "(params, result) = (Dict{Symbol, Any}(:weighting => Dict{Symbol, Any}(:weighting => :dummy, :weighting_at_inference => false), :topk => 10.0, :normalize => true, :shrink => 2.430137345741132), 0.08377518557794274)\n",
      "(params, result) = (Dict{Symbol, Any}(:weighting => Dict{Symbol, Any}(:weighting => :dummy, :weighting_at_inference => false), :topk => 28.0, :normalize => true, :shrink => 1.1514300906525756), 0.37327677624602335)\n",
      "(params, result) = (Dict{Symbol, Any}(:weighting => Dict{Symbol, Any}(:weighting => :dummy, :weighting_at_inference => false), :topk => 102.0, :normalize => true, :shrink => 0.006869708317085832), 0.3955461293743372)\n",
      "(params, result) = (Dict{Symbol, Any}(:weighting => Dict{Symbol, Any}(:weighting => :dummy, :weighting_at_inference => false), :topk => 83.0, :normalize => true, :shrink => 0.10851871324767384), 0.3987274655355249)\n",
      "(params, result) = (Dict{Symbol, Any}(:weighting => Dict{Symbol, Any}(:weighting => :dummy, :weighting_at_inference => false), :topk => 144.0, :normalize => true, :shrink => 0.22239169421104485), 0.38176033934252385)\n",
      "(params, result) = (Dict{Symbol, Any}(:weighting => Dict{Symbol, Any}(:weighting => :dummy, :weighting_at_inference => false), :topk => 92.0, :normalize => true, :shrink => 31.81352500347606), 0.2301166489925769)\n",
      "(params, result) = (Dict{Symbol, Any}(:weighting => Dict{Symbol, Any}(:weighting => :dummy, :weighting_at_inference => false), :topk => 61.0, :normalize => true, :shrink => 0.11337487641361724), 0.39766702014846234)\n",
      "(params, result) = (Dict{Symbol, Any}(:weighting => Dict{Symbol, Any}(:weighting => :dummy, :weighting_at_inference => false), :topk => 44.0, :normalize => true, :shrink => 0.574452815824138), 0.4061505832449629)\n",
      "(params, result) = (Dict{Symbol, Any}(:weighting => Dict{Symbol, Any}(:weighting => :dummy, :weighting_at_inference => false), :topk => 39.0, :normalize => true, :shrink => 0.6093447771848639), 0.3934252386002121)\n",
      "(params, result) = (Dict{Symbol, Any}(:weighting => Dict{Symbol, Any}(:weighting => :dummy, :weighting_at_inference => false), :topk => 80.0, :normalize => true, :shrink => 0.4241608816119788), 0.40402969247083775)\n",
      "(params, result) = (Dict{Symbol, Any}(:weighting => Dict{Symbol, Any}(:weighting => :dummy, :weighting_at_inference => false), :topk => 119.0, :normalize => true, :shrink => 0.001823017871932186), 0.3944856839872747)\n",
      "(params, result) = (Dict{Symbol, Any}(:weighting => Dict{Symbol, Any}(:weighting => :dummy, :weighting_at_inference => false), :topk => 80.0, :normalize => true, :shrink => 0.06346951831620583), 0.40402969247083775)\n",
      "(params, result) = (Dict{Symbol, Any}(:weighting => Dict{Symbol, Any}(:weighting => :dummy, :weighting_at_inference => false), :topk => 19.0, :normalize => true, :shrink => 0.8148169731531734), 0.3425238600212089)\n",
      "(params, result) = (Dict{Symbol, Any}(:weighting => Dict{Symbol, Any}(:weighting => :tfidf, :weighting_at_inference => false), :topk => 225.0, :normalize => true, :shrink => 0.04069988665816858), 0.35418875927889715)\n",
      "(params, result) = (Dict{Symbol, Any}(:weighting => Dict{Symbol, Any}(:weighting => :dummy, :weighting_at_inference => false), :topk => 61.0, :normalize => true, :shrink => 4.48797260835519), 0.37751855779427357)\n",
      "(params, result) = (Dict{Symbol, Any}(:weighting => Dict{Symbol, Any}(:weighting => :dummy, :weighting_at_inference => false), :topk => 158.0, :normalize => true, :shrink => 0.06035645088685207), 0.3860021208907741)\n",
      "(params, result) = (Dict{Symbol, Any}(:weighting => Dict{Symbol, Any}(:weighting => :dummy, :weighting_at_inference => false), :topk => 78.0, :normalize => true, :shrink => 1.4158842521685953), 0.3944856839872747)\n",
      "(params, result) = (Dict{Symbol, Any}(:weighting => Dict{Symbol, Any}(:weighting => :dummy, :weighting_at_inference => false), :topk => 144.0, :normalize => true, :shrink => 0.09020484884681612), 0.3828207847295864)\n",
      "(params, result) = (Dict{Symbol, Any}(:weighting => Dict{Symbol, Any}(:weighting => :dummy, :weighting_at_inference => false), :topk => 114.0, :normalize => true, :shrink => 0.1338710326550494), 0.3934252386002121)\n",
      "(params, result) = (Dict{Symbol, Any}(:weighting => Dict{Symbol, Any}(:weighting => :dummy, :weighting_at_inference => false), :topk => 38.0, :normalize => true, :shrink => 1.820084827652215), 0.38812301166489926)\n",
      "(params, result) = (Dict{Symbol, Any}(:weighting => Dict{Symbol, Any}(:weighting => :dummy, :weighting_at_inference => false), :topk => 73.0, :normalize => true, :shrink => 0.48196160554662765), 0.40084835630965004)\n",
      "(params, result) = (Dict{Symbol, Any}(:weighting => Dict{Symbol, Any}(:weighting => :tfidf, :weighting_at_inference => false), :topk => 50.0, :normalize => true, :shrink => 0.00800467052862817), 0.3902439024390244)\n",
      "(params, result) = (Dict{Symbol, Any}(:weighting => Dict{Symbol, Any}(:weighting => :dummy, :weighting_at_inference => false), :topk => 100.0, :normalize => false, :shrink => 0.011056992404234557), 0.014846235418875928)\n",
      "(params, result) = (Dict{Symbol, Any}(:weighting => Dict{Symbol, Any}(:weighting => :dummy, :weighting_at_inference => false), :topk => 127.0, :normalize => true, :shrink => 0.3466320220880546), 0.38918345705196183)\n",
      "(params, result) = (Dict{Symbol, Any}(:weighting => Dict{Symbol, Any}(:weighting => :dummy, :weighting_at_inference => false), :topk => 82.0, :normalize => true, :shrink => 0.00223086710246119), 0.4029692470837752)\n",
      "(params, result) = (Dict{Symbol, Any}(:weighting => Dict{Symbol, Any}(:weighting => :dummy, :weighting_at_inference => false), :topk => 83.0, :normalize => true, :shrink => 0.22928005218018474), 0.4029692470837752)\n",
      "(params, result) = (Dict{Symbol, Any}(:weighting => Dict{Symbol, Any}(:weighting => :dummy, :weighting_at_inference => false), :topk => 21.0, :normalize => true, :shrink => 0.003929701726666498), 0.352067868504772)\n"
     ]
    },
    {
     "output_type": "stream",
     "name": "stderr",
     "text": [
      "┌ Info: fmin: 100 / 100 trials carried out\n",
      "└ @ TreeParzen.API /Users/keisuke.yanagi/.julia/packages/TreeParzen/Iw2mh/src/API.jl:176\n",
      "┌ Info: Successfully completed fmin \n",
      "└ @ TreeParzen.API /Users/keisuke.yanagi/.julia/packages/TreeParzen/Iw2mh/src/API.jl:231\n"
     ]
    },
    {
     "output_type": "execute_result",
     "data": {
      "text/plain": [
       "Dict{Symbol, Any} with 4 entries:\n",
       "  :weighting => Dict{Symbol, Any}(:weighting=>:dummy, :weighting_at_inference=>…\n",
       "  :topk      => 46.0\n",
       "  :normalize => true\n",
       "  :shrink    => 0.18879"
      ]
     },
     "metadata": {},
     "execution_count": 11
    }
   ],
   "metadata": {}
  },
  {
   "cell_type": "code",
   "execution_count": 13,
   "source": [
    "best_model = ItemkNN(convert(Int, best[:topk]), best[:shrink],best[:weighting][:weighting],best[:weighting][:weighting_at_inference],best[:normalize])\n",
    "evaluate(best_model, df_train_valid, df_test, recall100, 100, col_user=:userid, col_item=:movieid, col_rating=:rating)"
   ],
   "outputs": [
    {
     "output_type": "execute_result",
     "data": {
      "text/plain": [
       "0.36585365853658536"
      ]
     },
     "metadata": {},
     "execution_count": 13
    }
   ],
   "metadata": {}
  },
  {
   "cell_type": "code",
   "execution_count": null,
   "source": [],
   "outputs": [],
   "metadata": {}
  }
 ],
 "metadata": {
  "kernelspec": {
   "display_name": "Julia 1.6.0",
   "language": "julia",
   "name": "julia-1.6"
  },
  "language_info": {
   "file_extension": ".jl",
   "mimetype": "application/julia",
   "name": "julia",
   "version": "1.6.0"
  },
  "orig_nbformat": 2
 },
 "nbformat": 4,
 "nbformat_minor": 2
}