{
 "cells": [
  {
   "cell_type": "code",
   "execution_count": 1,
   "source": [
    "using DataFrames, TableOperations, Tables, Random\n",
    "using Recommender: Movielens100k, load_dataset, ratio_split, ItemkNN, evaluate_u2i, MeanPrecision, MeanRecall, MeanNDCG"
   ],
   "outputs": [],
   "metadata": {}
  },
  {
   "cell_type": "code",
   "execution_count": 2,
   "source": [
    "ml100k = Movielens100k()\n",
    "download(ml100k)\n",
    "rating, user, movie = load_dataset(ml100k);"
   ],
   "outputs": [],
   "metadata": {}
  },
  {
   "cell_type": "code",
   "execution_count": 3,
   "source": [
    "rating = rating |> TableOperations.transform(Dict(:rating=>x->1.))"
   ],
   "outputs": [
    {
     "output_type": "execute_result",
     "data": {
      "text/plain": [
       "TableOperations.Transforms{true, CSV.File{false}, Dict{Symbol, var\"#1#2\"}}(CSV.File(\"/Users/keisuke.yanagi/workspace/Recommender.jl/src/dataset/../../dataset/movielens100k/u.data\"):\n",
       "Size: 100000 x 4\n",
       "Tables.Schema:\n",
       " :userid     Int64\n",
       " :movieid    Int64\n",
       " :rating     Int64\n",
       " :timestamp  Int64, Dict(:rating => var\"#1#2\"()))"
      ]
     },
     "metadata": {},
     "execution_count": 3
    }
   ],
   "metadata": {}
  },
  {
   "cell_type": "code",
   "execution_count": 4,
   "source": [
    "Random.seed!(1234);\n",
    "train_valid_table, test_table = ratio_split(rating, 0.8)\n",
    "\n",
    "train_table, valid_table = ratio_split(train_valid_table, 0.8)\n",
    "length(Tables.rows(train_table)), length(Tables.rows(valid_table)), length(Tables.rows(test_table))\n"
   ],
   "outputs": [
    {
     "output_type": "execute_result",
     "data": {
      "text/plain": [
       "(64000, 16000, 20000)"
      ]
     },
     "metadata": {},
     "execution_count": 4
    }
   ],
   "metadata": {}
  },
  {
   "cell_type": "code",
   "execution_count": 5,
   "source": [
    "prec10 = MeanPrecision(10)\n",
    "recall10 = MeanRecall(10)\n",
    "ndcg10 = MeanNDCG(10)\n",
    "metrics = [prec10, recall10, ndcg10]"
   ],
   "outputs": [
    {
     "output_type": "execute_result",
     "data": {
      "text/plain": [
       "3-element Vector{Recommender.MeanMetric}:\n",
       " Recommender.MeanMetric{Recommender.Precision}(Recommender.Precision(10, \"precision\"))\n",
       " Recommender.MeanMetric{Recommender.Recall}(Recommender.Recall(10, \"recall\"))\n",
       " Recommender.MeanMetric{Recommender.NDCG}(Recommender.NDCG(10, \"ndcg\"))"
      ]
     },
     "metadata": {},
     "execution_count": 5
    }
   ],
   "metadata": {}
  },
  {
   "cell_type": "code",
   "execution_count": 6,
   "source": [
    "using TreeParzen"
   ],
   "outputs": [],
   "metadata": {}
  },
  {
   "cell_type": "code",
   "execution_count": 7,
   "source": [
    "space = Dict(\n",
    "    :topk=>HP.QuantUniform(:topk, 10., 500., 1.),\n",
    "    :shrink=>HP.LogUniform(:shrink, log(1e-3), log(1e3)),\n",
    "    :weighting=>HP.Choice(:weighting, \n",
    "        [\n",
    "            Dict(:weighting=>:dummy, :weighting_at_inference=>false),\n",
    "            Dict(:weighting=>:tfidf, :weighting_at_inference=>false),\n",
    "            Dict(:weighting=>:bm25, :weighting_at_inference=>HP.Choice(:weighting_at_inference, [true, false]))\n",
    "        ]\n",
    "    ),\n",
    "    :normalize=>HP.Choice(:normalize, [true, false]),\n",
    "    :normalize_similarity=>HP.Choice(:normalize_similarity, [true, false])\n",
    ")"
   ],
   "outputs": [
    {
     "output_type": "execute_result",
     "data": {
      "text/plain": [
       "Dict{Symbol, TreeParzen.Types.AbstractDelayed} with 5 entries:\n",
       "  :weighting            => Choice(Param(:weighting, RandIndex(3)), Dict{Symbol,…\n",
       "  :topk                 => QuantUniform(:topk, QuantUniform(10.0, 500.0, 1.0))\n",
       "  :normalize            => Choice(Param(:normalize, RandIndex(2)), Bool[1, 0])\n",
       "  :normalize_similarity => Choice(Param(:normalize_similarity, RandIndex(2)), B…\n",
       "  :shrink               => LogUniform(:shrink, LogUniform(-6.90776, 6.90776))"
      ]
     },
     "metadata": {},
     "execution_count": 7
    }
   ],
   "metadata": {}
  },
  {
   "cell_type": "code",
   "execution_count": 8,
   "source": [
    "function invert_output(params)\n",
    "    k = convert(Int, params[:topk])\n",
    "    model = ItemkNN(k, params[:shrink],params[:weighting][:weighting],params[:weighting][:weighting_at_inference],params[:normalize],params[:normalize_similarity])\n",
    "    result = evaluate_u2i(model, train_table, valid_table, metrics, 10, col_user=:userid, col_item=:movieid, col_rating=:rating, drop_history=true)\n",
    "    @info params, result\n",
    "    return -result[:ndcg10]\n",
    "end"
   ],
   "outputs": [
    {
     "output_type": "execute_result",
     "data": {
      "text/plain": [
       "invert_output (generic function with 1 method)"
      ]
     },
     "metadata": {},
     "execution_count": 8
    }
   ],
   "metadata": {}
  },
  {
   "cell_type": "code",
   "execution_count": 9,
   "source": [
    "best = fmin(invert_output, space, 100, logging_interval=-1)"
   ],
   "outputs": [
    {
     "output_type": "stream",
     "name": "stderr",
     "text": [
      "┌ Info: (Dict{Symbol, Any}(:weighting => Dict{Symbol, Any}(:weighting => :bm25, :weighting_at_inference => true), :topk => 244.0, :normalize => false, :normalize_similarity => true, :shrink => 0.08889649400194267), (ndcg10 = 0.2352782433710405, precision10 = 0.19617021276595664, recall10 = 0.16726506459396742))\n",
      "└ @ Main In[8]:5\n",
      "┌ Info: (Dict{Symbol, Any}(:weighting => Dict{Symbol, Any}(:weighting => :dummy, :weighting_at_inference => false), :topk => 439.0, :normalize => true, :normalize_similarity => false, :shrink => 255.10416104188548), (ndcg10 = 0.21904387894039185, precision10 = 0.17351063829787158, recall10 = 0.14910090825488115))\n",
      "└ @ Main In[8]:5\n",
      "┌ Info: (Dict{Symbol, Any}(:weighting => Dict{Symbol, Any}(:weighting => :tfidf, :weighting_at_inference => false), :topk => 203.0, :normalize => false, :normalize_similarity => true, :shrink => 0.0012425645571008473), (ndcg10 = 0.2285782440878047, precision10 = 0.18180851063829703, recall10 = 0.16640877284141148))\n",
      "└ @ Main In[8]:5\n",
      "┌ Info: (Dict{Symbol, Any}(:weighting => Dict{Symbol, Any}(:weighting => :dummy, :weighting_at_inference => false), :topk => 52.0, :normalize => true, :normalize_similarity => false, :shrink => 0.0028112266166039905), (ndcg10 = 0.23340428767250554, precision10 = 0.18308510638297806, recall10 = 0.1673188503160992))\n",
      "└ @ Main In[8]:5\n",
      "┌ Info: (Dict{Symbol, Any}(:weighting => Dict{Symbol, Any}(:weighting => :tfidf, :weighting_at_inference => false), :topk => 214.0, :normalize => true, :normalize_similarity => true, :shrink => 7.087327223871402), (ndcg10 = 0.2582379464238945, precision10 = 0.20148936170212664, recall10 = 0.1865440599948403))\n",
      "└ @ Main In[8]:5\n",
      "┌ Info: (Dict{Symbol, Any}(:weighting => Dict{Symbol, Any}(:weighting => :bm25, :weighting_at_inference => false), :topk => 229.0, :normalize => false, :normalize_similarity => false, :shrink => 144.80001574679065), (ndcg10 = 0.2497978649227217, precision10 = 0.20531914893616904, recall10 = 0.17797028196724413))\n",
      "└ @ Main In[8]:5\n",
      "┌ Info: (Dict{Symbol, Any}(:weighting => Dict{Symbol, Any}(:weighting => :dummy, :weighting_at_inference => false), :topk => 100.0, :normalize => true, :normalize_similarity => true, :shrink => 0.18715606722102013), (ndcg10 = 0.24188325477627742, precision10 = 0.1895744680851055, recall10 = 0.17362829854813086))\n",
      "└ @ Main In[8]:5\n",
      "┌ Info: (Dict{Symbol, Any}(:weighting => Dict{Symbol, Any}(:weighting => :bm25, :weighting_at_inference => false), :topk => 358.0, :normalize => true, :normalize_similarity => true, :shrink => 0.002582779009313792), (ndcg10 = 0.25934285445021404, precision10 = 0.2047872340425523, recall10 = 0.18921283250760043))\n",
      "└ @ Main In[8]:5\n",
      "┌ Info: (Dict{Symbol, Any}(:weighting => Dict{Symbol, Any}(:weighting => :dummy, :weighting_at_inference => false), :topk => 409.0, :normalize => false, :normalize_similarity => true, :shrink => 11.15286458102084), (ndcg10 = 0.22000049979090108, precision10 = 0.17595744680850978, recall10 = 0.15370826154262485))\n",
      "└ @ Main In[8]:5\n",
      "┌ Info: (Dict{Symbol, Any}(:weighting => Dict{Symbol, Any}(:weighting => :bm25, :weighting_at_inference => false), :topk => 407.0, :normalize => false, :normalize_similarity => true, :shrink => 12.873037853757337), (ndcg10 = 0.24925740527004694, precision10 = 0.20957446808510538, recall10 = 0.18056429017312378))\n",
      "└ @ Main In[8]:5\n",
      "┌ Info: (Dict{Symbol, Any}(:weighting => Dict{Symbol, Any}(:weighting => :bm25, :weighting_at_inference => true), :topk => 297.0, :normalize => true, :normalize_similarity => false, :shrink => 0.8010281926410224), (ndcg10 = 0.25264290830356695, precision10 = 0.20085106382978637, recall10 = 0.18547557129258277))\n",
      "└ @ Main In[8]:5\n",
      "┌ Info: (Dict{Symbol, Any}(:weighting => Dict{Symbol, Any}(:weighting => :tfidf, :weighting_at_inference => false), :topk => 263.0, :normalize => true, :normalize_similarity => false, :shrink => 0.0013364041006199991), (ndcg10 = 0.25225947425294837, precision10 = 0.19819148936170122, recall10 = 0.18340899105601433))\n",
      "└ @ Main In[8]:5\n",
      "┌ Info: (Dict{Symbol, Any}(:weighting => Dict{Symbol, Any}(:weighting => :tfidf, :weighting_at_inference => false), :topk => 138.0, :normalize => true, :normalize_similarity => true, :shrink => 0.0032267879690756887), (ndcg10 = 0.2561271991391986, precision10 = 0.19999999999999915, recall10 = 0.1872803607799393))\n",
      "└ @ Main In[8]:5\n",
      "┌ Info: (Dict{Symbol, Any}(:weighting => Dict{Symbol, Any}(:weighting => :tfidf, :weighting_at_inference => false), :topk => 467.0, :normalize => false, :normalize_similarity => true, :shrink => 0.1759468285542923), (ndcg10 = 0.22830304327726123, precision10 = 0.18127659574468, recall10 = 0.1665175708343824))\n",
      "└ @ Main In[8]:5\n",
      "┌ Info: (Dict{Symbol, Any}(:weighting => Dict{Symbol, Any}(:weighting => :bm25, :weighting_at_inference => false), :topk => 345.0, :normalize => false, :normalize_similarity => false, :shrink => 0.039665607057597044), (ndcg10 = 0.2492259560653164, precision10 = 0.20734042553191376, recall10 = 0.1773174226648599))\n",
      "└ @ Main In[8]:5\n",
      "┌ Info: (Dict{Symbol, Any}(:weighting => Dict{Symbol, Any}(:weighting => :tfidf, :weighting_at_inference => false), :topk => 191.0, :normalize => false, :normalize_similarity => true, :shrink => 250.2030468024594), (ndcg10 = 0.22861961969547254, precision10 = 0.18180851063829703, recall10 = 0.16632752712040436))\n",
      "└ @ Main In[8]:5\n",
      "┌ Info: (Dict{Symbol, Any}(:weighting => Dict{Symbol, Any}(:weighting => :bm25, :weighting_at_inference => true), :topk => 211.0, :normalize => true, :normalize_similarity => false, :shrink => 818.1226940498697), (ndcg10 = 0.24871607895406106, precision10 = 0.2035106382978712, recall10 = 0.17976651963572587))\n",
      "└ @ Main In[8]:5\n",
      "┌ Info: (Dict{Symbol, Any}(:weighting => Dict{Symbol, Any}(:weighting => :tfidf, :weighting_at_inference => false), :topk => 139.0, :normalize => false, :normalize_similarity => false, :shrink => 0.09899095038862474), (ndcg10 = 0.22040194299719992, precision10 = 0.17446808510638198, recall10 = 0.15690151723840096))\n",
      "└ @ Main In[8]:5\n",
      "┌ Info: (Dict{Symbol, Any}(:weighting => Dict{Symbol, Any}(:weighting => :bm25, :weighting_at_inference => false), :topk => 43.0, :normalize => false, :normalize_similarity => true, :shrink => 10.632881743431115), (ndcg10 = 0.2294433218232718, precision10 = 0.19117021276595672, recall10 = 0.1679189475145408))\n",
      "└ @ Main In[8]:5\n",
      "┌ Info: (Dict{Symbol, Any}(:weighting => Dict{Symbol, Any}(:weighting => :bm25, :weighting_at_inference => true), :topk => 439.0, :normalize => true, :normalize_similarity => false, :shrink => 0.05341687453623977), (ndcg10 = 0.2554808279011451, precision10 = 0.20436170212765878, recall10 = 0.1880934094333908))\n",
      "└ @ Main In[8]:5\n",
      "┌ Info: (Dict{Symbol, Any}(:weighting => Dict{Symbol, Any}(:weighting => :tfidf, :weighting_at_inference => false), :topk => 353.0, :normalize => true, :normalize_similarity => true, :shrink => 2.3105538395447796), (ndcg10 = 0.2586240718144842, precision10 = 0.20425531914893538, recall10 = 0.18859975310898264))\n",
      "└ @ Main In[8]:5\n",
      "┌ Info: (Dict{Symbol, Any}(:weighting => Dict{Symbol, Any}(:weighting => :tfidf, :weighting_at_inference => false), :topk => 346.0, :normalize => true, :normalize_similarity => true, :shrink => 0.013402948663749217), (ndcg10 = 0.25803201012776816, precision10 = 0.20287234042553112, recall10 = 0.18757530945750928))\n",
      "└ @ Main In[8]:5\n",
      "┌ Info: (Dict{Symbol, Any}(:weighting => Dict{Symbol, Any}(:weighting => :tfidf, :weighting_at_inference => false), :topk => 344.0, :normalize => true, :normalize_similarity => true, :shrink => 2.203167861057871), (ndcg10 = 0.25801401694010356, precision10 = 0.20319148936170126, recall10 = 0.18771048276526286))\n",
      "└ @ Main In[8]:5\n",
      "┌ Info: (Dict{Symbol, Any}(:weighting => Dict{Symbol, Any}(:weighting => :bm25, :weighting_at_inference => true), :topk => 294.0, :normalize => true, :normalize_similarity => true, :shrink => 0.6926204815752278), (ndcg10 = 0.2516063605370561, precision10 = 0.2021276595744671, recall10 = 0.18368057971119156))\n",
      "└ @ Main In[8]:5\n",
      "┌ Info: (Dict{Symbol, Any}(:weighting => Dict{Symbol, Any}(:weighting => :bm25, :weighting_at_inference => true), :topk => 488.0, :normalize => true, :normalize_similarity => true, :shrink => 46.12626227628972), (ndcg10 = 0.25183548581179277, precision10 = 0.2043617021276587, recall10 = 0.18356767932820447))\n",
      "└ @ Main In[8]:5\n",
      "┌ Info: (Dict{Symbol, Any}(:weighting => Dict{Symbol, Any}(:weighting => :tfidf, :weighting_at_inference => false), :topk => 386.0, :normalize => true, :normalize_similarity => true, :shrink => 2.0279399058391645), (ndcg10 = 0.25680463304458045, precision10 = 0.20265957446808433, recall10 = 0.18763216031804977))\n",
      "└ @ Main In[8]:5\n",
      "┌ Info: (Dict{Symbol, Any}(:weighting => Dict{Symbol, Any}(:weighting => :dummy, :weighting_at_inference => false), :topk => 297.0, :normalize => true, :normalize_similarity => true, :shrink => 0.011286761396775083), (ndcg10 = 0.24065594715470465, precision10 = 0.18819148936170121, recall10 = 0.17377775123383668))\n",
      "└ @ Main In[8]:5\n",
      "┌ Info: (Dict{Symbol, Any}(:weighting => Dict{Symbol, Any}(:weighting => :bm25, :weighting_at_inference => true), :topk => 371.0, :normalize => true, :normalize_similarity => true, :shrink => 0.3716263407522711), (ndcg10 = 0.2522838720862917, precision10 = 0.20436170212765872, recall10 = 0.1855166140482781))\n",
      "└ @ Main In[8]:5\n",
      "┌ Info: (Dict{Symbol, Any}(:weighting => Dict{Symbol, Any}(:weighting => :tfidf, :weighting_at_inference => false), :topk => 311.0, :normalize => true, :normalize_similarity => true, :shrink => 2.61617783240122), (ndcg10 = 0.25782078880454107, precision10 = 0.20276595744680756, recall10 = 0.18751353048275182))\n",
      "└ @ Main In[8]:5\n",
      "┌ Info: (Dict{Symbol, Any}(:weighting => Dict{Symbol, Any}(:weighting => :tfidf, :weighting_at_inference => false), :topk => 485.0, :normalize => true, :normalize_similarity => true, :shrink => 33.790270557870954), (ndcg10 = 0.2590938806375941, precision10 = 0.20489361702127573, recall10 = 0.18924544397309423))\n",
      "└ @ Main In[8]:5\n",
      "┌ Info: (Dict{Symbol, Any}(:weighting => Dict{Symbol, Any}(:weighting => :tfidf, :weighting_at_inference => false), :topk => 496.0, :normalize => true, :normalize_similarity => true, :shrink => 880.404792540767), (ndcg10 = 0.24962992743200416, precision10 = 0.19851063829787158, recall10 = 0.18143733552029764))\n",
      "└ @ Main In[8]:5\n",
      "┌ Info: (Dict{Symbol, Any}(:weighting => Dict{Symbol, Any}(:weighting => :tfidf, :weighting_at_inference => false), :topk => 451.0, :normalize => true, :normalize_similarity => true, :shrink => 33.12108925800419), (ndcg10 = 0.2577897557691675, precision10 = 0.20361702127659487, recall10 = 0.18809584776114172))\n",
      "└ @ Main In[8]:5\n",
      "┌ Info: (Dict{Symbol, Any}(:weighting => Dict{Symbol, Any}(:weighting => :dummy, :weighting_at_inference => false), :topk => 408.0, :normalize => true, :normalize_similarity => true, :shrink => 3.6989133001783623), (ndcg10 = 0.24501541057551945, precision10 = 0.19138297872340332, recall10 = 0.17605953439881153))\n",
      "└ @ Main In[8]:5\n",
      "┌ Info: (Dict{Symbol, Any}(:weighting => Dict{Symbol, Any}(:weighting => :tfidf, :weighting_at_inference => false), :topk => 322.0, :normalize => true, :normalize_similarity => true, :shrink => 54.16745216630885), (ndcg10 = 0.2586686308830628, precision10 = 0.2040425531914884, recall10 = 0.18807816998788374))\n",
      "└ @ Main In[8]:5\n",
      "┌ Info: (Dict{Symbol, Any}(:weighting => Dict{Symbol, Any}(:weighting => :bm25, :weighting_at_inference => true), :topk => 495.0, :normalize => true, :normalize_similarity => true, :shrink => 113.51683486539494), (ndcg10 = 0.2533058580942554, precision10 = 0.20627659574467977, recall10 = 0.18598645309272183))\n",
      "└ @ Main In[8]:5\n",
      "┌ Info: (Dict{Symbol, Any}(:weighting => Dict{Symbol, Any}(:weighting => :tfidf, :weighting_at_inference => false), :topk => 374.0, :normalize => true, :normalize_similarity => true, :shrink => 27.398395980444405), (ndcg10 = 0.258637139429747, precision10 = 0.20361702127659476, recall10 = 0.1881842733450131))\n",
      "└ @ Main In[8]:5\n",
      "┌ Info: (Dict{Symbol, Any}(:weighting => Dict{Symbol, Any}(:weighting => :tfidf, :weighting_at_inference => false), :topk => 326.0, :normalize => true, :normalize_similarity => true, :shrink => 0.013497702257427103), (ndcg10 = 0.2576407614765306, precision10 = 0.20244680851063743, recall10 = 0.18729202183115318))\n",
      "└ @ Main In[8]:5\n",
      "┌ Info: (Dict{Symbol, Any}(:weighting => Dict{Symbol, Any}(:weighting => :tfidf, :weighting_at_inference => false), :topk => 459.0, :normalize => true, :normalize_similarity => true, :shrink => 17.24873680305441), (ndcg10 = 0.25727269205399855, precision10 = 0.2029787234042544, recall10 = 0.18839985425296757))\n",
      "└ @ Main In[8]:5\n",
      "┌ Info: (Dict{Symbol, Any}(:weighting => Dict{Symbol, Any}(:weighting => :bm25, :weighting_at_inference => true), :topk => 378.0, :normalize => true, :normalize_similarity => true, :shrink => 4.671101363113948), (ndcg10 = 0.25226714019569213, precision10 = 0.20414893617021185, recall10 = 0.18423836579670885))\n",
      "└ @ Main In[8]:5\n",
      "┌ Info: (Dict{Symbol, Any}(:weighting => Dict{Symbol, Any}(:weighting => :tfidf, :weighting_at_inference => false), :topk => 260.0, :normalize => true, :normalize_similarity => true, :shrink => 96.9806551428723), (ndcg10 = 0.25704677780522317, precision10 = 0.2009574468085097, recall10 = 0.18573445028925387))\n",
      "└ @ Main In[8]:5\n",
      "┌ Info: (Dict{Symbol, Any}(:weighting => Dict{Symbol, Any}(:weighting => :tfidf, :weighting_at_inference => false), :topk => 319.0, :normalize => true, :normalize_similarity => true, :shrink => 422.3446051843512), (ndcg10 = 0.2542023862860529, precision10 = 0.2020212765957438, recall10 = 0.18405630450701607))\n",
      "└ @ Main In[8]:5\n",
      "┌ Info: (Dict{Symbol, Any}(:weighting => Dict{Symbol, Any}(:weighting => :bm25, :weighting_at_inference => true), :topk => 469.0, :normalize => true, :normalize_similarity => true, :shrink => 28.23146830523059), (ndcg10 = 0.25109826713720573, precision10 = 0.20329787234042476, recall10 = 0.18412676735005232))\n",
      "└ @ Main In[8]:5\n",
      "┌ Info: (Dict{Symbol, Any}(:weighting => Dict{Symbol, Any}(:weighting => :tfidf, :weighting_at_inference => false), :topk => 424.0, :normalize => true, :normalize_similarity => true, :shrink => 1.773291206516042), (ndcg10 = 0.25847257925745726, precision10 = 0.20489361702127562, recall10 = 0.18883126524081773))\n",
      "└ @ Main In[8]:5\n",
      "┌ Info: (Dict{Symbol, Any}(:weighting => Dict{Symbol, Any}(:weighting => :dummy, :weighting_at_inference => false), :topk => 164.0, :normalize => true, :normalize_similarity => true, :shrink => 0.006263907483831819), (ndcg10 = 0.24189928862977442, precision10 = 0.18957446808510547, recall10 = 0.17487904021921682))\n",
      "└ @ Main In[8]:5\n",
      "┌ Info: (Dict{Symbol, Any}(:weighting => Dict{Symbol, Any}(:weighting => :tfidf, :weighting_at_inference => false), :topk => 274.0, :normalize => true, :normalize_similarity => true, :shrink => 0.023708319557059255), (ndcg10 = 0.25736852730506277, precision10 = 0.2023404255319141, recall10 = 0.18591032477463568))\n",
      "└ @ Main In[8]:5\n",
      "┌ Info: (Dict{Symbol, Any}(:weighting => Dict{Symbol, Any}(:weighting => :tfidf, :weighting_at_inference => false), :topk => 368.0, :normalize => true, :normalize_similarity => true, :shrink => 1.135176538454345), (ndcg10 = 0.2577091949411697, precision10 = 0.20287234042553115, recall10 = 0.18822833687456297))\n",
      "└ @ Main In[8]:5\n",
      "┌ Info: (Dict{Symbol, Any}(:weighting => Dict{Symbol, Any}(:weighting => :tfidf, :weighting_at_inference => false), :topk => 389.0, :normalize => true, :normalize_similarity => true, :shrink => 6.744753369064296), (ndcg10 = 0.25721247809567915, precision10 = 0.20319148936170134, recall10 = 0.1878754014548609))\n",
      "└ @ Main In[8]:5\n",
      "┌ Info: (Dict{Symbol, Any}(:weighting => Dict{Symbol, Any}(:weighting => :bm25, :weighting_at_inference => true), :topk => 334.0, :normalize => true, :normalize_similarity => true, :shrink => 1.3289965254183929), (ndcg10 = 0.2510892209945477, precision10 = 0.20297872340425446, recall10 = 0.18327119745842574))\n",
      "└ @ Main In[8]:5\n",
      "┌ Info: (Dict{Symbol, Any}(:weighting => Dict{Symbol, Any}(:weighting => :tfidf, :weighting_at_inference => false), :topk => 475.0, :normalize => true, :normalize_similarity => true, :shrink => 59.771564768062625), (ndcg10 = 0.25856943280344485, precision10 = 0.20478723404255234, recall10 = 0.18955078272950857))\n",
      "└ @ Main In[8]:5\n",
      "┌ Info: (Dict{Symbol, Any}(:weighting => Dict{Symbol, Any}(:weighting => :tfidf, :weighting_at_inference => false), :topk => 428.0, :normalize => true, :normalize_similarity => true, :shrink => 67.0440008343328), (ndcg10 = 0.2575540280740489, precision10 = 0.20340425531914816, recall10 = 0.1881677398432175))\n",
      "└ @ Main In[8]:5\n",
      "┌ Info: (Dict{Symbol, Any}(:weighting => Dict{Symbol, Any}(:weighting => :bm25, :weighting_at_inference => true), :topk => 355.0, :normalize => true, :normalize_similarity => true, :shrink => 0.4423442960858234), (ndcg10 = 0.25206090000118303, precision10 = 0.20468085106382883, recall10 = 0.1855993193307696))\n",
      "└ @ Main In[8]:5\n",
      "┌ Info: (Dict{Symbol, Any}(:weighting => Dict{Symbol, Any}(:weighting => :tfidf, :weighting_at_inference => false), :topk => 399.0, :normalize => true, :normalize_similarity => true, :shrink => 20.19644370512853), (ndcg10 = 0.25824883559112777, precision10 = 0.203936170212765, recall10 = 0.18908203971505622))\n",
      "└ @ Main In[8]:5\n",
      "┌ Info: (Dict{Symbol, Any}(:weighting => Dict{Symbol, Any}(:weighting => :tfidf, :weighting_at_inference => false), :topk => 425.0, :normalize => true, :normalize_similarity => true, :shrink => 448.2042094732886), (ndcg10 = 0.2558863390212061, precision10 = 0.20425531914893533, recall10 = 0.18602974489027))\n",
      "└ @ Main In[8]:5\n",
      "┌ Info: (Dict{Symbol, Any}(:weighting => Dict{Symbol, Any}(:weighting => :dummy, :weighting_at_inference => false), :topk => 449.0, :normalize => true, :normalize_similarity => true, :shrink => 39.66923646991766), (ndcg10 = 0.24616843600549052, precision10 = 0.19446808510638214, recall10 = 0.17820679404327103))\n",
      "└ @ Main In[8]:5\n",
      "┌ Info: (Dict{Symbol, Any}(:weighting => Dict{Symbol, Any}(:weighting => :tfidf, :weighting_at_inference => false), :topk => 280.0, :normalize => true, :normalize_similarity => true, :shrink => 21.349031773363965), (ndcg10 = 0.25809422889908323, precision10 = 0.20287234042553104, recall10 = 0.18664691010437692))\n",
      "└ @ Main In[8]:5\n",
      "┌ Info: (Dict{Symbol, Any}(:weighting => Dict{Symbol, Any}(:weighting => :bm25, :weighting_at_inference => true), :topk => 356.0, :normalize => true, :normalize_similarity => true, :shrink => 5.689826958005611), (ndcg10 = 0.25381139104740214, precision10 = 0.20606382978723314, recall10 = 0.1867379320674602))\n",
      "└ @ Main In[8]:5\n",
      "┌ Info: (Dict{Symbol, Any}(:weighting => Dict{Symbol, Any}(:weighting => :tfidf, :weighting_at_inference => false), :topk => 485.0, :normalize => true, :normalize_similarity => true, :shrink => 0.003730498520864264), (ndcg10 = 0.2579115836647322, precision10 = 0.20382978723404155, recall10 = 0.18787891381322194))\n",
      "└ @ Main In[8]:5\n",
      "┌ Info: (Dict{Symbol, Any}(:weighting => Dict{Symbol, Any}(:weighting => :tfidf, :weighting_at_inference => false), :topk => 479.0, :normalize => true, :normalize_similarity => true, :shrink => 20.99570401945692), (ndcg10 = 0.2579184900369108, precision10 = 0.2041489361702119, recall10 = 0.1885992071954794))\n",
      "└ @ Main In[8]:5\n",
      "┌ Info: (Dict{Symbol, Any}(:weighting => Dict{Symbol, Any}(:weighting => :tfidf, :weighting_at_inference => false), :topk => 314.0, :normalize => true, :normalize_similarity => true, :shrink => 0.02250359613777375), (ndcg10 = 0.2572362994467946, precision10 = 0.20223404255319052, recall10 = 0.18664793690949089))\n",
      "└ @ Main In[8]:5\n",
      "┌ Info: (Dict{Symbol, Any}(:weighting => Dict{Symbol, Any}(:weighting => :bm25, :weighting_at_inference => true), :topk => 396.0, :normalize => true, :normalize_similarity => true, :shrink => 0.0017220573150066318), (ndcg10 = 0.25224990417141774, precision10 = 0.20521276595744598, recall10 = 0.18502658900117838))\n",
      "└ @ Main In[8]:5\n",
      "┌ Info: (Dict{Symbol, Any}(:weighting => Dict{Symbol, Any}(:weighting => :tfidf, :weighting_at_inference => false), :topk => 241.0, :normalize => true, :normalize_similarity => true, :shrink => 0.3364532057618936), (ndcg10 = 0.2576107185120705, precision10 = 0.2013829787234033, recall10 = 0.1867566919808693))\n",
      "└ @ Main In[8]:5\n",
      "┌ Info: (Dict{Symbol, Any}(:weighting => Dict{Symbol, Any}(:weighting => :tfidf, :weighting_at_inference => false), :topk => 74.0, :normalize => true, :normalize_similarity => true, :shrink => 76.94940288435004), (ndcg10 = 0.2555422380648413, precision10 = 0.19957446808510562, recall10 = 0.18546792734691317))\n",
      "└ @ Main In[8]:5\n",
      "┌ Info: (Dict{Symbol, Any}(:weighting => Dict{Symbol, Any}(:weighting => :dummy, :weighting_at_inference => false), :topk => 15.0, :normalize => false, :normalize_similarity => false, :shrink => 2.594292810108565), (ndcg10 = 0.20651796485851748, precision10 = 0.1657446808510632, recall10 = 0.14032132467912))\n",
      "└ @ Main In[8]:5\n",
      "┌ Info: (Dict{Symbol, Any}(:weighting => Dict{Symbol, Any}(:weighting => :tfidf, :weighting_at_inference => false), :topk => 278.0, :normalize => true, :normalize_similarity => true, :shrink => 0.005125772505511088), (ndcg10 = 0.25738100216972126, precision10 = 0.20234042553191411, recall10 = 0.18620617907611467))\n",
      "└ @ Main In[8]:5\n",
      "┌ Info: (Dict{Symbol, Any}(:weighting => Dict{Symbol, Any}(:weighting => :bm25, :weighting_at_inference => true), :topk => 426.0, :normalize => true, :normalize_similarity => true, :shrink => 188.53926525844315), (ndcg10 = 0.25177864603388317, precision10 = 0.20489361702127537, recall10 = 0.18408323060205972))\n",
      "└ @ Main In[8]:5\n",
      "┌ Info: (Dict{Symbol, Any}(:weighting => Dict{Symbol, Any}(:weighting => :tfidf, :weighting_at_inference => false), :topk => 367.0, :normalize => true, :normalize_similarity => true, :shrink => 514.3605065909836), (ndcg10 = 0.2540148810340417, precision10 = 0.20265957446808425, recall10 = 0.1837529685205678))\n",
      "└ @ Main In[8]:5\n",
      "┌ Info: (Dict{Symbol, Any}(:weighting => Dict{Symbol, Any}(:weighting => :tfidf, :weighting_at_inference => false), :topk => 310.0, :normalize => true, :normalize_similarity => true, :shrink => 53.15022218529054), (ndcg10 = 0.25735733563754476, precision10 = 0.20223404255319047, recall10 = 0.1869471218686215))\n",
      "└ @ Main In[8]:5\n",
      "┌ Info: (Dict{Symbol, Any}(:weighting => Dict{Symbol, Any}(:weighting => :tfidf, :weighting_at_inference => false), :topk => 332.0, :normalize => true, :normalize_similarity => true, :shrink => 18.071797314665748), (ndcg10 = 0.2570623144471358, precision10 = 0.2029787234042544, recall10 = 0.18690897361832426))\n",
      "└ @ Main In[8]:5\n",
      "┌ Info: (Dict{Symbol, Any}(:weighting => Dict{Symbol, Any}(:weighting => :tfidf, :weighting_at_inference => false), :topk => 276.0, :normalize => true, :normalize_similarity => true, :shrink => 63.137668818180394), (ndcg10 = 0.25705759703273673, precision10 = 0.20170212765957346, recall10 = 0.18593609846506004))\n",
      "└ @ Main In[8]:5\n",
      "┌ Info: (Dict{Symbol, Any}(:weighting => Dict{Symbol, Any}(:weighting => :tfidf, :weighting_at_inference => false), :topk => 174.0, :normalize => true, :normalize_similarity => true, :shrink => 27.13423761848906), (ndcg10 = 0.2582032368107057, precision10 = 0.20170212765957352, recall10 = 0.18698365944151515))\n",
      "└ @ Main In[8]:5\n",
      "┌ Info: (Dict{Symbol, Any}(:weighting => Dict{Symbol, Any}(:weighting => :tfidf, :weighting_at_inference => false), :topk => 235.0, :normalize => true, :normalize_similarity => true, :shrink => 8.262278005899946), (ndcg10 = 0.25772057111682123, precision10 = 0.20127659574467993, recall10 = 0.18663715363959357))\n",
      "└ @ Main In[8]:5\n",
      "┌ Info: (Dict{Symbol, Any}(:weighting => Dict{Symbol, Any}(:weighting => :tfidf, :weighting_at_inference => false), :topk => 288.0, :normalize => true, :normalize_similarity => true, :shrink => 3.826854405482723), (ndcg10 = 0.2574769423674209, precision10 = 0.20255319148936085, recall10 = 0.18671237132457735))\n",
      "└ @ Main In[8]:5\n",
      "┌ Info: (Dict{Symbol, Any}(:weighting => Dict{Symbol, Any}(:weighting => :tfidf, :weighting_at_inference => false), :topk => 230.0, :normalize => true, :normalize_similarity => true, :shrink => 1.3557833629426266), (ndcg10 = 0.25843389571889114, precision10 = 0.20202127659574368, recall10 = 0.187454367854486))\n",
      "└ @ Main In[8]:5\n",
      "┌ Info: (Dict{Symbol, Any}(:weighting => Dict{Symbol, Any}(:weighting => :tfidf, :weighting_at_inference => false), :topk => 253.0, :normalize => true, :normalize_similarity => true, :shrink => 20.5524166768758), (ndcg10 = 0.25744865698518715, precision10 = 0.20223404255319066, recall10 = 0.186332839701813))\n",
      "└ @ Main In[8]:5\n",
      "┌ Info: (Dict{Symbol, Any}(:weighting => Dict{Symbol, Any}(:weighting => :tfidf, :weighting_at_inference => false), :topk => 224.0, :normalize => true, :normalize_similarity => true, :shrink => 315.7478996191588), (ndcg10 = 0.256666950751449, precision10 = 0.20244680851063743, recall10 = 0.18551157285820719))\n",
      "└ @ Main In[8]:5\n",
      "┌ Info: (Dict{Symbol, Any}(:weighting => Dict{Symbol, Any}(:weighting => :tfidf, :weighting_at_inference => false), :topk => 306.0, :normalize => true, :normalize_similarity => true, :shrink => 82.01336269344473), (ndcg10 = 0.25819381395680424, precision10 = 0.20287234042553096, recall10 = 0.18663051149822735))\n",
      "└ @ Main In[8]:5\n",
      "┌ Info: (Dict{Symbol, Any}(:weighting => Dict{Symbol, Any}(:weighting => :tfidf, :weighting_at_inference => false), :topk => 330.0, :normalize => true, :normalize_similarity => true, :shrink => 149.10623043316068), (ndcg10 = 0.2582943924904434, precision10 = 0.20404255319148853, recall10 = 0.18747501366000827))\n",
      "└ @ Main In[8]:5\n",
      "┌ Info: (Dict{Symbol, Any}(:weighting => Dict{Symbol, Any}(:weighting => :tfidf, :weighting_at_inference => false), :topk => 327.0, :normalize => true, :normalize_similarity => true, :shrink => 105.98759144597186), (ndcg10 = 0.2581623118824712, precision10 = 0.2032978723404247, recall10 = 0.18721163164644283))\n",
      "└ @ Main In[8]:5\n",
      "┌ Info: (Dict{Symbol, Any}(:weighting => Dict{Symbol, Any}(:weighting => :tfidf, :weighting_at_inference => false), :topk => 180.0, :normalize => true, :normalize_similarity => true, :shrink => 710.845384886091), (ndcg10 = 0.24947429210114236, precision10 = 0.19872340425531845, recall10 = 0.17935510196428248))\n",
      "└ @ Main In[8]:5\n",
      "┌ Info: (Dict{Symbol, Any}(:weighting => Dict{Symbol, Any}(:weighting => :tfidf, :weighting_at_inference => false), :topk => 337.0, :normalize => true, :normalize_similarity => true, :shrink => 8.207704326086976), (ndcg10 = 0.25831002113879176, precision10 = 0.20287234042553104, recall10 = 0.18750921997907305))\n",
      "└ @ Main In[8]:5\n",
      "┌ Info: (Dict{Symbol, Any}(:weighting => Dict{Symbol, Any}(:weighting => :tfidf, :weighting_at_inference => false), :topk => 363.0, :normalize => true, :normalize_similarity => true, :shrink => 32.74444424452485), (ndcg10 = 0.2591056622764693, precision10 = 0.20436170212765864, recall10 = 0.18916739244965258))\n",
      "└ @ Main In[8]:5\n",
      "┌ Info: (Dict{Symbol, Any}(:weighting => Dict{Symbol, Any}(:weighting => :tfidf, :weighting_at_inference => false), :topk => 480.0, :normalize => true, :normalize_similarity => true, :shrink => 32.45421694895795), (ndcg10 = 0.25847017363588237, precision10 = 0.20404255319148848, recall10 = 0.18850985160288194))\n",
      "└ @ Main In[8]:5\n",
      "┌ Info: (Dict{Symbol, Any}(:weighting => Dict{Symbol, Any}(:weighting => :tfidf, :weighting_at_inference => false), :topk => 443.0, :normalize => true, :normalize_similarity => true, :shrink => 14.801007996254718), (ndcg10 = 0.25790235803050415, precision10 = 0.20382978723404155, recall10 = 0.188055267327803))\n",
      "└ @ Main In[8]:5\n",
      "┌ Info: (Dict{Symbol, Any}(:weighting => Dict{Symbol, Any}(:weighting => :tfidf, :weighting_at_inference => false), :topk => 458.0, :normalize => true, :normalize_similarity => true, :shrink => 1.7135852496800543), (ndcg10 = 0.2580896139712691, precision10 = 0.20414893617021176, recall10 = 0.18752287253695524))\n",
      "└ @ Main In[8]:5\n",
      "┌ Info: (Dict{Symbol, Any}(:weighting => Dict{Symbol, Any}(:weighting => :tfidf, :weighting_at_inference => false), :topk => 384.0, :normalize => true, :normalize_similarity => true, :shrink => 8.014547194203198), (ndcg10 = 0.2579857916854956, precision10 = 0.20340425531914813, recall10 = 0.18792142767530495))\n",
      "└ @ Main In[8]:5\n",
      "┌ Info: (Dict{Symbol, Any}(:weighting => Dict{Symbol, Any}(:weighting => :tfidf, :weighting_at_inference => false), :topk => 360.0, :normalize => true, :normalize_similarity => true, :shrink => 3.8579049760204307), (ndcg10 = 0.2578252220753729, precision10 = 0.20308510638297791, recall10 = 0.1881519746068059))\n",
      "└ @ Main In[8]:5\n",
      "┌ Info: (Dict{Symbol, Any}(:weighting => Dict{Symbol, Any}(:weighting => :tfidf, :weighting_at_inference => false), :topk => 398.0, :normalize => true, :normalize_similarity => true, :shrink => 26.21436353764364), (ndcg10 = 0.25847901172917326, precision10 = 0.20382978723404163, recall10 = 0.18898493185283635))\n",
      "└ @ Main In[8]:5\n",
      "┌ Info: (Dict{Symbol, Any}(:weighting => Dict{Symbol, Any}(:weighting => :tfidf, :weighting_at_inference => false), :topk => 398.0, :normalize => true, :normalize_similarity => true, :shrink => 1.6481396752795654), (ndcg10 = 0.2569571710202321, precision10 = 0.2029787234042545, recall10 = 0.18834946119652207))\n",
      "└ @ Main In[8]:5\n",
      "┌ Info: (Dict{Symbol, Any}(:weighting => Dict{Symbol, Any}(:weighting => :bm25, :weighting_at_inference => true), :topk => 457.0, :normalize => true, :normalize_similarity => true, :shrink => 0.8724562209764758), (ndcg10 = 0.2505377112548074, precision10 = 0.2024468085106374, recall10 = 0.18336850375177113))\n",
      "└ @ Main In[8]:5\n",
      "┌ Info: (Dict{Symbol, Any}(:weighting => Dict{Symbol, Any}(:weighting => :tfidf, :weighting_at_inference => false), :topk => 376.0, :normalize => true, :normalize_similarity => true, :shrink => 155.35611086493276), (ndcg10 = 0.25843192463755216, precision10 = 0.20351063829787153, recall10 = 0.18731101969977024))\n",
      "└ @ Main In[8]:5\n",
      "┌ Info: (Dict{Symbol, Any}(:weighting => Dict{Symbol, Any}(:weighting => :tfidf, :weighting_at_inference => false), :topk => 321.0, :normalize => true, :normalize_similarity => true, :shrink => 0.22250141126060977), (ndcg10 = 0.2568917769522755, precision10 = 0.20159574468085015, recall10 = 0.1869072319013355))\n",
      "└ @ Main In[8]:5\n",
      "┌ Info: (Dict{Symbol, Any}(:weighting => Dict{Symbol, Any}(:weighting => :tfidf, :weighting_at_inference => false), :topk => 476.0, :normalize => true, :normalize_similarity => true, :shrink => 0.6079155557476733), (ndcg10 = 0.2579934868660333, precision10 = 0.20382978723404155, recall10 = 0.18802020279346957))\n",
      "└ @ Main In[8]:5\n",
      "┌ Info: (Dict{Symbol, Any}(:weighting => Dict{Symbol, Any}(:weighting => :tfidf, :weighting_at_inference => false), :topk => 340.0, :normalize => true, :normalize_similarity => true, :shrink => 126.06062421041608), (ndcg10 = 0.2580321088349889, precision10 = 0.2041489361702119, recall10 = 0.18748353747257773))\n",
      "└ @ Main In[8]:5\n",
      "┌ Info: (Dict{Symbol, Any}(:weighting => Dict{Symbol, Any}(:weighting => :dummy, :weighting_at_inference => false), :topk => 417.0, :normalize => true, :normalize_similarity => true, :shrink => 35.30493719922195), (ndcg10 = 0.24708059230678714, precision10 = 0.19499999999999917, recall10 = 0.17876632330101186))\n",
      "└ @ Main In[8]:5\n",
      "┌ Info: (Dict{Symbol, Any}(:weighting => Dict{Symbol, Any}(:weighting => :bm25, :weighting_at_inference => true), :topk => 435.0, :normalize => false, :normalize_similarity => true, :shrink => 586.4110594500602), (ndcg10 = 0.23165736866445766, precision10 = 0.19606382978723336, recall10 = 0.1636642964377965))\n",
      "└ @ Main In[8]:5\n",
      "┌ Info: (Dict{Symbol, Any}(:weighting => Dict{Symbol, Any}(:weighting => :tfidf, :weighting_at_inference => false), :topk => 268.0, :normalize => true, :normalize_similarity => true, :shrink => 3.432996908604847), (ndcg10 = 0.257722956013868, precision10 = 0.2024468085106374, recall10 = 0.18595084046128668))\n",
      "└ @ Main In[8]:5\n",
      "┌ Info: (Dict{Symbol, Any}(:weighting => Dict{Symbol, Any}(:weighting => :tfidf, :weighting_at_inference => false), :topk => 382.0, :normalize => true, :normalize_similarity => true, :shrink => 6.536839443727386), (ndcg10 = 0.25729000869464225, precision10 = 0.20276595744680775, recall10 = 0.1873975416210147))\n",
      "└ @ Main In[8]:5\n",
      "┌ Info: (Dict{Symbol, Any}(:weighting => Dict{Symbol, Any}(:weighting => :tfidf, :weighting_at_inference => false), :topk => 366.0, :normalize => true, :normalize_similarity => true, :shrink => 8.422952170238847), (ndcg10 = 0.2574317521062753, precision10 = 0.20212765957446727, recall10 = 0.18778804636861643))\n",
      "└ @ Main In[8]:5\n",
      "┌ Info: (Dict{Symbol, Any}(:weighting => Dict{Symbol, Any}(:weighting => :bm25, :weighting_at_inference => true), :topk => 305.0, :normalize => true, :normalize_similarity => true, :shrink => 0.5264497634211864), (ndcg10 = 0.2520457394025544, precision10 = 0.20276595744680756, recall10 = 0.18357576917673407))\n",
      "└ @ Main In[8]:5\n",
      "┌ Info: (Dict{Symbol, Any}(:weighting => Dict{Symbol, Any}(:weighting => :tfidf, :weighting_at_inference => false), :topk => 283.0, :normalize => true, :normalize_similarity => true, :shrink => 0.28027327441026734), (ndcg10 = 0.2572926462374295, precision10 = 0.20202127659574382, recall10 = 0.18662831853808032))\n",
      "└ @ Main In[8]:5\n",
      "┌ Info: fmin: 100 / 100 trials carried out\n",
      "└ @ TreeParzen.API /Users/keisuke.yanagi/.julia/packages/TreeParzen/Iw2mh/src/API.jl:176\n",
      "┌ Info: Successfully completed fmin \n",
      "└ @ TreeParzen.API /Users/keisuke.yanagi/.julia/packages/TreeParzen/Iw2mh/src/API.jl:231\n"
     ]
    },
    {
     "output_type": "execute_result",
     "data": {
      "text/plain": [
       "Dict{Symbol, Any} with 5 entries:\n",
       "  :weighting            => Dict{Symbol, Any}(:weighting=>:bm25, :weighting_at_i…\n",
       "  :topk                 => 358.0\n",
       "  :normalize            => true\n",
       "  :normalize_similarity => true\n",
       "  :shrink               => 0.00258278"
      ]
     },
     "metadata": {},
     "execution_count": 9
    }
   ],
   "metadata": {}
  },
  {
   "cell_type": "code",
   "execution_count": 10,
   "source": [
    "best_model = ItemkNN(convert(Int, best[:topk]), best[:shrink],best[:weighting][:weighting],best[:weighting][:weighting_at_inference],best[:normalize],best[:normalize_similarity])\n",
    "evaluate_u2i(best_model, train_valid_table, test_table, metrics, 10, col_user=:userid, col_item=:movieid, col_rating=:rating, drop_history=true)"
   ],
   "outputs": [
    {
     "output_type": "execute_result",
     "data": {
      "text/plain": [
       "(ndcg10 = 0.39856188059055203,\n",
       " precision10 = 0.3284199363732762,\n",
       " recall10 = 0.21803020561045208,)"
      ]
     },
     "metadata": {},
     "execution_count": 10
    }
   ],
   "metadata": {}
  },
  {
   "cell_type": "code",
   "execution_count": null,
   "source": [],
   "outputs": [],
   "metadata": {}
  }
 ],
 "metadata": {
  "kernelspec": {
   "name": "julia-1.6",
   "display_name": "Julia 1.6.0",
   "language": "julia"
  },
  "language_info": {
   "file_extension": ".jl",
   "name": "julia",
   "mimetype": "application/julia",
   "version": "1.6.0"
  },
  "orig_nbformat": 2,
  "interpreter": {
   "hash": "f62af6671f35730163be90a87b8e97b9066fc95b883f1028997e4df817c92215"
  }
 },
 "nbformat": 4,
 "nbformat_minor": 2
}