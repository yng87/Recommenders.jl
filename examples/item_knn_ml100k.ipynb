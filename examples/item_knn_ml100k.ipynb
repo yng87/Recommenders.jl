{
 "cells": [
  {
   "cell_type": "code",
   "execution_count": 1,
   "source": [
    "using DataFrames, TableOperations, Tables, Random\n",
    "using Recommender: Movielens100k, load_dataset, ratio_split, ItemkNN, evaluate_u2i, PrecisionAtK, RecallAtK, NDCG, fit!, predict_u2i"
   ],
   "outputs": [
    {
     "output_type": "stream",
     "name": "stderr",
     "text": [
      "┌ Info: Precompiling Recommender [f1dcbcfb-0b1d-45c0-883e-2edcfc1d4c23]\n",
      "└ @ Base loading.jl:1317\n"
     ]
    }
   ],
   "metadata": {}
  },
  {
   "cell_type": "code",
   "execution_count": 2,
   "source": [
    "ml100k = Movielens100k()\n",
    "download(ml100k)\n",
    "rating, user, movie = load_dataset(ml100k);"
   ],
   "outputs": [],
   "metadata": {}
  },
  {
   "cell_type": "code",
   "execution_count": 3,
   "source": [
    "rating = rating |> TableOperations.filter(x->Tables.getcolumn(x, :rating) >= 4)\n",
    "rating = rating |> TableOperations.transform(Dict(:rating=>x->1))"
   ],
   "outputs": [
    {
     "output_type": "execute_result",
     "data": {
      "text/plain": [
       "TableOperations.Transforms{false, TableOperations.Filter{var\"#1#2\", CSV.File{false}}, Dict{Symbol, var\"#3#4\"}}(TableOperations.Filter{var\"#1#2\", CSV.File{false}}(var\"#1#2\"(), CSV.File(\"/Users/keisuke.yanagi/workspace/Recommender.jl/src/dataset/../../dataset/movielens100k/u.data\"):\n",
       "Size: 100000 x 4\n",
       "Tables.Schema:\n",
       " :userid     Int64\n",
       " :movieid    Int64\n",
       " :rating     Int64\n",
       " :timestamp  Int64), Dict(:rating => var\"#3#4\"()))"
      ]
     },
     "metadata": {},
     "execution_count": 3
    }
   ],
   "metadata": {}
  },
  {
   "cell_type": "code",
   "execution_count": 4,
   "source": [
    "movie2title = Dict()\n",
    "for row in Tables.rows(movie)\n",
    "    movie2title[row[:movieid]] = row[:movie_title]\n",
    "end\n",
    "rating = rating |> TableOperations.transform(Dict(:movieid=>x->movie2title[x]))"
   ],
   "outputs": [
    {
     "output_type": "execute_result",
     "data": {
      "text/plain": [
       "TableOperations.Transforms{false, TableOperations.Transforms{false, TableOperations.Filter{var\"#1#2\", CSV.File{false}}, Dict{Symbol, var\"#3#4\"}}, Dict{Symbol, var\"#5#6\"}}(TableOperations.Transforms{false, TableOperations.Filter{var\"#1#2\", CSV.File{false}}, Dict{Symbol, var\"#3#4\"}}(TableOperations.Filter{var\"#1#2\", CSV.File{false}}(var\"#1#2\"(), CSV.File(\"/Users/keisuke.yanagi/workspace/Recommender.jl/src/dataset/../../dataset/movielens100k/u.data\"):\n",
       "Size: 100000 x 4\n",
       "Tables.Schema:\n",
       " :userid     Int64\n",
       " :movieid    Int64\n",
       " :rating     Int64\n",
       " :timestamp  Int64), Dict(:rating => var\"#3#4\"())), Dict(:movieid => var\"#5#6\"()))"
      ]
     },
     "metadata": {},
     "execution_count": 4
    }
   ],
   "metadata": {}
  },
  {
   "cell_type": "code",
   "execution_count": 5,
   "source": [
    "Random.seed!(1234);\n",
    "train_valid_table, test_table = ratio_split(rating, 0.8)\n",
    "\n",
    "train_table, valid_table = ratio_split(train_valid_table, 0.8)\n",
    "length(Tables.rows(train_table)), length(Tables.rows(valid_table)), length(Tables.rows(test_table))\n"
   ],
   "outputs": [
    {
     "output_type": "execute_result",
     "data": {
      "text/plain": [
       "(35440, 8860, 11075)"
      ]
     },
     "metadata": {},
     "execution_count": 5
    }
   ],
   "metadata": {}
  },
  {
   "cell_type": "code",
   "execution_count": 6,
   "source": [
    "prec10 = PrecisionAtK(10)\n",
    "recall10 = RecallAtK(10)\n",
    "ndcg10 = NDCG(10)\n",
    "metrics = [prec10, recall10, ndcg10]"
   ],
   "outputs": [
    {
     "output_type": "execute_result",
     "data": {
      "text/plain": [
       "3-element Vector{Recommender.AbstractMetric}:\n",
       " PrecisionAtK(10)\n",
       " RecallAtK(10)\n",
       " NDCG(10)"
      ]
     },
     "metadata": {},
     "execution_count": 6
    }
   ],
   "metadata": {}
  },
  {
   "cell_type": "code",
   "execution_count": 7,
   "source": [
    "using TreeParzen"
   ],
   "outputs": [],
   "metadata": {}
  },
  {
   "cell_type": "code",
   "execution_count": 8,
   "source": [
    "space = Dict(\n",
    "    :topk=>HP.QuantUniform(:topk, 10., 500., 1.),\n",
    "    :shrink=>HP.LogUniform(:shrink, log(1e-3), log(1e3)),\n",
    "    :weighting=>HP.Choice(:weighting, \n",
    "        [\n",
    "            Dict(:weighting=>:dummy, :weighting_at_inference=>false),\n",
    "            Dict(:weighting=>:tfidf, :weighting_at_inference=>false),\n",
    "            Dict(:weighting=>:bm25, :weighting_at_inference=>HP.Choice(:weighting_at_inference, [true, false]))\n",
    "        ]\n",
    "    ),\n",
    "    :normalize=>HP.Choice(:normalize, [true, false])\n",
    ")"
   ],
   "outputs": [
    {
     "output_type": "execute_result",
     "data": {
      "text/plain": [
       "Dict{Symbol, TreeParzen.Types.AbstractDelayed} with 4 entries:\n",
       "  :weighting => Choice(Param(:weighting, RandIndex(3)), Dict{Symbol, Any}[Dict(…\n",
       "  :topk      => QuantUniform(:topk, QuantUniform(10.0, 500.0, 1.0))\n",
       "  :normalize => Choice(Param(:normalize, RandIndex(2)), Bool[1, 0])\n",
       "  :shrink    => LogUniform(:shrink, LogUniform(-6.90776, 6.90776))"
      ]
     },
     "metadata": {},
     "execution_count": 8
    }
   ],
   "metadata": {}
  },
  {
   "cell_type": "code",
   "execution_count": 9,
   "source": [
    "function invert_output(params)\n",
    "    k = convert(Int, params[:topk])\n",
    "    model = ItemkNN(k, params[:shrink],params[:weighting][:weighting],params[:weighting][:weighting_at_inference],params[:normalize])\n",
    "    result = evaluate_u2i(model, train_table, valid_table, metrics, 10, col_user=:userid, col_item=:movieid, col_rating=:rating, drop_history=true)\n",
    "    @show params, result\n",
    "    return -result[end]\n",
    "end"
   ],
   "outputs": [
    {
     "output_type": "execute_result",
     "data": {
      "text/plain": [
       "invert_output (generic function with 1 method)"
      ]
     },
     "metadata": {},
     "execution_count": 9
    }
   ],
   "metadata": {}
  },
  {
   "cell_type": "code",
   "execution_count": 10,
   "source": [
    "best = fmin(invert_output, space, 20, logging_interval=-1)"
   ],
   "outputs": [
    {
     "output_type": "stream",
     "name": "stdout",
     "text": [
      "(params, result) = (Dict{Symbol, Any}(:weighting => Dict{Symbol, Any}(:weighting => :bm25, :weighting_at_inference => false), :topk => 326.0, :normalize => false, :shrink => 4.881008704229105), (NDCG(10) = 0.18504434322533067, RecallAtK(10) = 0.1773478885693898, PrecisionAtK(10) = 0.13555555555555507))\n",
      "(params, result) = (Dict{Symbol, Any}(:weighting => Dict{Symbol, Any}(:weighting => :dummy, :weighting_at_inference => false), :topk => 482.0, :normalize => true, :shrink => 693.233059620366), (NDCG(10) = 0.16872632219578537, RecallAtK(10) = 0.15231583884427402, PrecisionAtK(10) = 0.11611111111111079))\n",
      "(params, result) = (Dict{Symbol, Any}(:weighting => Dict{Symbol, Any}(:weighting => :bm25, :weighting_at_inference => true), :topk => 210.0, :normalize => true, :shrink => 0.027243650448104388), (NDCG(10) = 0.17794004484727266, RecallAtK(10) = 0.16963180670598263, PrecisionAtK(10) = 0.13044444444444414))\n",
      "(params, result) = (Dict{Symbol, Any}(:weighting => Dict{Symbol, Any}(:weighting => :dummy, :weighting_at_inference => false), :topk => 416.0, :normalize => false, :shrink => 1.1295458653728592), (NDCG(10) = 0.1643445267326925, RecallAtK(10) = 0.146174942426399, PrecisionAtK(10) = 0.11455555555555527))\n",
      "(params, result) = (Dict{Symbol, Any}(:weighting => Dict{Symbol, Any}(:weighting => :bm25, :weighting_at_inference => true), :topk => 202.0, :normalize => false, :shrink => 19.98376475688196), (NDCG(10) = 0.1639954195115726, RecallAtK(10) = 0.15587302367368738, PrecisionAtK(10) = 0.12222222222222197))\n",
      "(params, result) = (Dict{Symbol, Any}(:weighting => Dict{Symbol, Any}(:weighting => :bm25, :weighting_at_inference => true), :topk => 162.0, :normalize => false, :shrink => 19.474884450076562), (NDCG(10) = 0.163028646415673, RecallAtK(10) = 0.15077989841395562, PrecisionAtK(10) = 0.11977777777777755))\n",
      "(params, result) = (Dict{Symbol, Any}(:weighting => Dict{Symbol, Any}(:weighting => :dummy, :weighting_at_inference => false), :topk => 348.0, :normalize => false, :shrink => 0.08841142423377392), (NDCG(10) = 0.16415388424857877, RecallAtK(10) = 0.14580721755867412, PrecisionAtK(10) = 0.11444444444444414))\n",
      "(params, result) = (Dict{Symbol, Any}(:weighting => Dict{Symbol, Any}(:weighting => :tfidf, :weighting_at_inference => false), :topk => 473.0, :normalize => true, :shrink => 0.0028157581595767245), (NDCG(10) = 0.19079168304393768, RecallAtK(10) = 0.1777975455408004, PrecisionAtK(10) = 0.13522222222222177))\n",
      "(params, result) = (Dict{Symbol, Any}(:weighting => Dict{Symbol, Any}(:weighting => :bm25, :weighting_at_inference => false), :topk => 376.0, :normalize => false, :shrink => 0.0011758132539063694), (NDCG(10) = 0.18585904933233172, RecallAtK(10) = 0.1799266828957964, PrecisionAtK(10) = 0.13611111111111077))\n",
      "(params, result) = (Dict{Symbol, Any}(:weighting => Dict{Symbol, Any}(:weighting => :bm25, :weighting_at_inference => true), :topk => 381.0, :normalize => false, :shrink => 0.7665272759884095), (NDCG(10) = 0.15655372642217544, RecallAtK(10) = 0.14654955579209428, PrecisionAtK(10) = 0.11855555555555528))\n",
      "(params, result) = (Dict{Symbol, Any}(:weighting => Dict{Symbol, Any}(:weighting => :dummy, :weighting_at_inference => false), :topk => 284.0, :normalize => false, :shrink => 647.0383557839028), (NDCG(10) = 0.1637966748331599, RecallAtK(10) = 0.1453089812271045, PrecisionAtK(10) = 0.11422222222222195))\n",
      "(params, result) = (Dict{Symbol, Any}(:weighting => Dict{Symbol, Any}(:weighting => :tfidf, :weighting_at_inference => false), :topk => 437.0, :normalize => true, :shrink => 806.1296147116107), (NDCG(10) = 0.18772612724975418, RecallAtK(10) = 0.17973873258177503, PrecisionAtK(10) = 0.13111111111111076))\n",
      "(params, result) = (Dict{Symbol, Any}(:weighting => Dict{Symbol, Any}(:weighting => :tfidf, :weighting_at_inference => false), :topk => 458.0, :normalize => true, :shrink => 0.7858045130947957), (NDCG(10) = 0.19159455108331447, RecallAtK(10) = 0.17933925751121635, PrecisionAtK(10) = 0.13577777777777736))\n",
      "(params, result) = (Dict{Symbol, Any}(:weighting => Dict{Symbol, Any}(:weighting => :dummy, :weighting_at_inference => false), :topk => 196.0, :normalize => true, :shrink => 312.67059551490786), (NDCG(10) = 0.16940045084920718, RecallAtK(10) = 0.15140242813761617, PrecisionAtK(10) = 0.11688888888888861))\n",
      "(params, result) = (Dict{Symbol, Any}(:weighting => Dict{Symbol, Any}(:weighting => :dummy, :weighting_at_inference => false), :topk => 338.0, :normalize => false, :shrink => 56.02677216465986), (NDCG(10) = 0.16404260191626927, RecallAtK(10) = 0.14564848739994396, PrecisionAtK(10) = 0.11433333333333302))\n",
      "(params, result) = (Dict{Symbol, Any}(:weighting => Dict{Symbol, Any}(:weighting => :bm25, :weighting_at_inference => false), :topk => 403.0, :normalize => false, :shrink => 0.021346630539912564), (NDCG(10) = 0.1848943507028043, RecallAtK(10) = 0.1796706083288413, PrecisionAtK(10) = 0.13588888888888853))\n",
      "(params, result) = (Dict{Symbol, Any}(:weighting => Dict{Symbol, Any}(:weighting => :dummy, :weighting_at_inference => false), :topk => 160.0, :normalize => true, :shrink => 5.574207719501242), (NDCG(10) = 0.18304098024759688, RecallAtK(10) = 0.16543812185944243, PrecisionAtK(10) = 0.1268888888888885))\n",
      "(params, result) = (Dict{Symbol, Any}(:weighting => Dict{Symbol, Any}(:weighting => :bm25, :weighting_at_inference => true), :topk => 363.0, :normalize => false, :shrink => 0.012150959073116474), (NDCG(10) = 0.15635658498448515, RecallAtK(10) = 0.14677883879580061, PrecisionAtK(10) = 0.11799999999999973))\n",
      "(params, result) = (Dict{Symbol, Any}(:weighting => Dict{Symbol, Any}(:weighting => :tfidf, :weighting_at_inference => false), :topk => 402.0, :normalize => true, :shrink => 0.0016130006382433367), (NDCG(10) = 0.19151550682228793, RecallAtK(10) = 0.1803542763305957, PrecisionAtK(10) = 0.13611111111111063))\n",
      "(params, result) = (Dict{Symbol, Any}(:weighting => Dict{Symbol, Any}(:weighting => :tfidf, :weighting_at_inference => false), :topk => 259.0, :normalize => true, :shrink => 0.0013891030483491268), (NDCG(10) = 0.19072948735607298, RecallAtK(10) = 0.17809253540318365, PrecisionAtK(10) = 0.13477777777777736))\n"
     ]
    },
    {
     "output_type": "stream",
     "name": "stderr",
     "text": [
      "┌ Info: fmin: 20 / 20 trials carried out\n",
      "└ @ TreeParzen.API /Users/keisuke.yanagi/.julia/packages/TreeParzen/Iw2mh/src/API.jl:176\n",
      "┌ Info: Successfully completed fmin \n",
      "└ @ TreeParzen.API /Users/keisuke.yanagi/.julia/packages/TreeParzen/Iw2mh/src/API.jl:231\n"
     ]
    },
    {
     "output_type": "execute_result",
     "data": {
      "text/plain": [
       "Dict{Symbol, Any} with 4 entries:\n",
       "  :weighting => Dict{Symbol, Any}(:weighting=>:bm25, :weighting_at_inference=>f…\n",
       "  :topk      => 376.0\n",
       "  :normalize => false\n",
       "  :shrink    => 0.00117581"
      ]
     },
     "metadata": {},
     "execution_count": 10
    }
   ],
   "metadata": {}
  },
  {
   "cell_type": "code",
   "execution_count": 12,
   "source": [
    "best_model = ItemkNN(convert(Int, best[:topk]), best[:shrink],best[:weighting][:weighting],best[:weighting][:weighting_at_inference],best[:normalize])\n",
    "evaluate_u2i(best_model, train_valid_table, test_table, metrics, 10, col_user=:userid, col_item=:movieid, col_rating=:rating, drop_history=true)"
   ],
   "outputs": [
    {
     "output_type": "execute_result",
     "data": {
      "text/plain": [
       "(NDCG(10) = 0.27437213729458143,\n",
       " RecallAtK(10) = 0.22154089430674984,\n",
       " PrecisionAtK(10) = 0.21141304347826015,)"
      ]
     },
     "metadata": {},
     "execution_count": 12
    }
   ],
   "metadata": {}
  },
  {
   "cell_type": "code",
   "execution_count": null,
   "source": [],
   "outputs": [],
   "metadata": {}
  }
 ],
 "metadata": {
  "kernelspec": {
   "display_name": "Julia 1.6.0",
   "language": "julia",
   "name": "julia-1.6"
  },
  "language_info": {
   "file_extension": ".jl",
   "mimetype": "application/julia",
   "name": "julia",
   "version": "1.6.0"
  },
  "orig_nbformat": 2
 },
 "nbformat": 4,
 "nbformat_minor": 2
}