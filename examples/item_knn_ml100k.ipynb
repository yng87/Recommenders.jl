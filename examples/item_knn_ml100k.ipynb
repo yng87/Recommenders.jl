{
 "cells": [
  {
   "cell_type": "code",
   "execution_count": 2,
   "source": [
    "using DataFrames\n",
    "using Recommender: Movielens100k, load_dataset, leave_one_out_split, ItemkNN, fit!, predict, evaluate, RecallAtK"
   ],
   "outputs": [],
   "metadata": {}
  },
  {
   "cell_type": "code",
   "execution_count": 3,
   "source": [
    "ml100k = Movielens100k()\n",
    "download(ml100k)\n",
    "rating, user, movie = load_dataset(ml100k);"
   ],
   "outputs": [],
   "metadata": {}
  },
  {
   "cell_type": "code",
   "execution_count": 4,
   "source": [
    "df = DataFrame(rating)\n",
    "first(df, 10)"
   ],
   "outputs": [
    {
     "output_type": "execute_result",
     "data": {
      "text/plain": [
       "\u001b[1m10×4 DataFrame\u001b[0m\n",
       "\u001b[1m Row \u001b[0m│\u001b[1m userid \u001b[0m\u001b[1m movieid \u001b[0m\u001b[1m rating \u001b[0m\u001b[1m timestamp \u001b[0m\n",
       "\u001b[1m     \u001b[0m│\u001b[90m Int64  \u001b[0m\u001b[90m Int64   \u001b[0m\u001b[90m Int64  \u001b[0m\u001b[90m Int64     \u001b[0m\n",
       "─────┼────────────────────────────────────\n",
       "   1 │    196      242       3  881250949\n",
       "   2 │    186      302       3  891717742\n",
       "   3 │     22      377       1  878887116\n",
       "   4 │    244       51       2  880606923\n",
       "   5 │    166      346       1  886397596\n",
       "   6 │    298      474       4  884182806\n",
       "   7 │    115      265       2  881171488\n",
       "   8 │    253      465       5  891628467\n",
       "   9 │    305      451       3  886324817\n",
       "  10 │      6       86       3  883603013"
      ],
      "text/latex": [
       "\\begin{tabular}{r|cccc}\n",
       "\t& userid & movieid & rating & timestamp\\\\\n",
       "\t\\hline\n",
       "\t& Int64 & Int64 & Int64 & Int64\\\\\n",
       "\t\\hline\n",
       "\t1 & 196 & 242 & 3 & 881250949 \\\\\n",
       "\t2 & 186 & 302 & 3 & 891717742 \\\\\n",
       "\t3 & 22 & 377 & 1 & 878887116 \\\\\n",
       "\t4 & 244 & 51 & 2 & 880606923 \\\\\n",
       "\t5 & 166 & 346 & 1 & 886397596 \\\\\n",
       "\t6 & 298 & 474 & 4 & 884182806 \\\\\n",
       "\t7 & 115 & 265 & 2 & 881171488 \\\\\n",
       "\t8 & 253 & 465 & 5 & 891628467 \\\\\n",
       "\t9 & 305 & 451 & 3 & 886324817 \\\\\n",
       "\t10 & 6 & 86 & 3 & 883603013 \\\\\n",
       "\\end{tabular}\n"
      ],
      "text/html": [
       "<table class=\"data-frame\"><thead><tr><th></th><th>userid</th><th>movieid</th><th>rating</th><th>timestamp</th></tr><tr><th></th><th>Int64</th><th>Int64</th><th>Int64</th><th>Int64</th></tr></thead><tbody><p>10 rows × 4 columns</p><tr><th>1</th><td>196</td><td>242</td><td>3</td><td>881250949</td></tr><tr><th>2</th><td>186</td><td>302</td><td>3</td><td>891717742</td></tr><tr><th>3</th><td>22</td><td>377</td><td>1</td><td>878887116</td></tr><tr><th>4</th><td>244</td><td>51</td><td>2</td><td>880606923</td></tr><tr><th>5</th><td>166</td><td>346</td><td>1</td><td>886397596</td></tr><tr><th>6</th><td>298</td><td>474</td><td>4</td><td>884182806</td></tr><tr><th>7</th><td>115</td><td>265</td><td>2</td><td>881171488</td></tr><tr><th>8</th><td>253</td><td>465</td><td>5</td><td>891628467</td></tr><tr><th>9</th><td>305</td><td>451</td><td>3</td><td>886324817</td></tr><tr><th>10</th><td>6</td><td>86</td><td>3</td><td>883603013</td></tr></tbody></table>"
      ]
     },
     "metadata": {},
     "execution_count": 4
    }
   ],
   "metadata": {}
  },
  {
   "cell_type": "code",
   "execution_count": 5,
   "source": [
    "df[!, :rating] .= 1\n",
    "first(df, 10)"
   ],
   "outputs": [
    {
     "output_type": "execute_result",
     "data": {
      "text/plain": [
       "\u001b[1m10×4 DataFrame\u001b[0m\n",
       "\u001b[1m Row \u001b[0m│\u001b[1m userid \u001b[0m\u001b[1m movieid \u001b[0m\u001b[1m rating \u001b[0m\u001b[1m timestamp \u001b[0m\n",
       "\u001b[1m     \u001b[0m│\u001b[90m Int64  \u001b[0m\u001b[90m Int64   \u001b[0m\u001b[90m Int64  \u001b[0m\u001b[90m Int64     \u001b[0m\n",
       "─────┼────────────────────────────────────\n",
       "   1 │    196      242       1  881250949\n",
       "   2 │    186      302       1  891717742\n",
       "   3 │     22      377       1  878887116\n",
       "   4 │    244       51       1  880606923\n",
       "   5 │    166      346       1  886397596\n",
       "   6 │    298      474       1  884182806\n",
       "   7 │    115      265       1  881171488\n",
       "   8 │    253      465       1  891628467\n",
       "   9 │    305      451       1  886324817\n",
       "  10 │      6       86       1  883603013"
      ],
      "text/latex": [
       "\\begin{tabular}{r|cccc}\n",
       "\t& userid & movieid & rating & timestamp\\\\\n",
       "\t\\hline\n",
       "\t& Int64 & Int64 & Int64 & Int64\\\\\n",
       "\t\\hline\n",
       "\t1 & 196 & 242 & 1 & 881250949 \\\\\n",
       "\t2 & 186 & 302 & 1 & 891717742 \\\\\n",
       "\t3 & 22 & 377 & 1 & 878887116 \\\\\n",
       "\t4 & 244 & 51 & 1 & 880606923 \\\\\n",
       "\t5 & 166 & 346 & 1 & 886397596 \\\\\n",
       "\t6 & 298 & 474 & 1 & 884182806 \\\\\n",
       "\t7 & 115 & 265 & 1 & 881171488 \\\\\n",
       "\t8 & 253 & 465 & 1 & 891628467 \\\\\n",
       "\t9 & 305 & 451 & 1 & 886324817 \\\\\n",
       "\t10 & 6 & 86 & 1 & 883603013 \\\\\n",
       "\\end{tabular}\n"
      ],
      "text/html": [
       "<table class=\"data-frame\"><thead><tr><th></th><th>userid</th><th>movieid</th><th>rating</th><th>timestamp</th></tr><tr><th></th><th>Int64</th><th>Int64</th><th>Int64</th><th>Int64</th></tr></thead><tbody><p>10 rows × 4 columns</p><tr><th>1</th><td>196</td><td>242</td><td>1</td><td>881250949</td></tr><tr><th>2</th><td>186</td><td>302</td><td>1</td><td>891717742</td></tr><tr><th>3</th><td>22</td><td>377</td><td>1</td><td>878887116</td></tr><tr><th>4</th><td>244</td><td>51</td><td>1</td><td>880606923</td></tr><tr><th>5</th><td>166</td><td>346</td><td>1</td><td>886397596</td></tr><tr><th>6</th><td>298</td><td>474</td><td>1</td><td>884182806</td></tr><tr><th>7</th><td>115</td><td>265</td><td>1</td><td>881171488</td></tr><tr><th>8</th><td>253</td><td>465</td><td>1</td><td>891628467</td></tr><tr><th>9</th><td>305</td><td>451</td><td>1</td><td>886324817</td></tr><tr><th>10</th><td>6</td><td>86</td><td>1</td><td>883603013</td></tr></tbody></table>"
      ]
     },
     "metadata": {},
     "execution_count": 5
    }
   ],
   "metadata": {}
  },
  {
   "cell_type": "code",
   "execution_count": 6,
   "source": [
    "df = leave_one_out_split(df, col_group = :userid, col_sort = :timestamp);"
   ],
   "outputs": [],
   "metadata": {}
  },
  {
   "cell_type": "code",
   "execution_count": 7,
   "source": [
    "df_train = df[df.data_split.==:train, :]\n",
    "df_valid = df[df.data_split.==:valid, :]\n",
    "df_test = df[df.data_split.==:test, :]\n",
    "first(df_train, 10)"
   ],
   "outputs": [
    {
     "output_type": "execute_result",
     "data": {
      "text/plain": [
       "\u001b[1m10×5 DataFrame\u001b[0m\n",
       "\u001b[1m Row \u001b[0m│\u001b[1m userid \u001b[0m\u001b[1m movieid \u001b[0m\u001b[1m rating \u001b[0m\u001b[1m timestamp \u001b[0m\u001b[1m data_split \u001b[0m\n",
       "\u001b[1m     \u001b[0m│\u001b[90m Int64  \u001b[0m\u001b[90m Int64   \u001b[0m\u001b[90m Int64  \u001b[0m\u001b[90m Int64     \u001b[0m\u001b[90m Symbol     \u001b[0m\n",
       "─────┼────────────────────────────────────────────────\n",
       "   1 │    196     1118       1  881252128  train\n",
       "   2 │    196      108       1  881252110  train\n",
       "   3 │    196      411       1  881252090  train\n",
       "   4 │    196      580       1  881252056  train\n",
       "   5 │    196       67       1  881252017  train\n",
       "   6 │    196      692       1  881252017  train\n",
       "   7 │    196       25       1  881251955  train\n",
       "   8 │    196       13       1  881251955  train\n",
       "   9 │    196      762       1  881251955  train\n",
       "  10 │    196      845       1  881251954  train"
      ],
      "text/latex": [
       "\\begin{tabular}{r|ccccc}\n",
       "\t& userid & movieid & rating & timestamp & data\\_split\\\\\n",
       "\t\\hline\n",
       "\t& Int64 & Int64 & Int64 & Int64 & Symbol\\\\\n",
       "\t\\hline\n",
       "\t1 & 196 & 1118 & 1 & 881252128 & train \\\\\n",
       "\t2 & 196 & 108 & 1 & 881252110 & train \\\\\n",
       "\t3 & 196 & 411 & 1 & 881252090 & train \\\\\n",
       "\t4 & 196 & 580 & 1 & 881252056 & train \\\\\n",
       "\t5 & 196 & 67 & 1 & 881252017 & train \\\\\n",
       "\t6 & 196 & 692 & 1 & 881252017 & train \\\\\n",
       "\t7 & 196 & 25 & 1 & 881251955 & train \\\\\n",
       "\t8 & 196 & 13 & 1 & 881251955 & train \\\\\n",
       "\t9 & 196 & 762 & 1 & 881251955 & train \\\\\n",
       "\t10 & 196 & 845 & 1 & 881251954 & train \\\\\n",
       "\\end{tabular}\n"
      ],
      "text/html": [
       "<table class=\"data-frame\"><thead><tr><th></th><th>userid</th><th>movieid</th><th>rating</th><th>timestamp</th><th>data_split</th></tr><tr><th></th><th>Int64</th><th>Int64</th><th>Int64</th><th>Int64</th><th>Symbol</th></tr></thead><tbody><p>10 rows × 5 columns</p><tr><th>1</th><td>196</td><td>1118</td><td>1</td><td>881252128</td><td>train</td></tr><tr><th>2</th><td>196</td><td>108</td><td>1</td><td>881252110</td><td>train</td></tr><tr><th>3</th><td>196</td><td>411</td><td>1</td><td>881252090</td><td>train</td></tr><tr><th>4</th><td>196</td><td>580</td><td>1</td><td>881252056</td><td>train</td></tr><tr><th>5</th><td>196</td><td>67</td><td>1</td><td>881252017</td><td>train</td></tr><tr><th>6</th><td>196</td><td>692</td><td>1</td><td>881252017</td><td>train</td></tr><tr><th>7</th><td>196</td><td>25</td><td>1</td><td>881251955</td><td>train</td></tr><tr><th>8</th><td>196</td><td>13</td><td>1</td><td>881251955</td><td>train</td></tr><tr><th>9</th><td>196</td><td>762</td><td>1</td><td>881251955</td><td>train</td></tr><tr><th>10</th><td>196</td><td>845</td><td>1</td><td>881251954</td><td>train</td></tr></tbody></table>"
      ]
     },
     "metadata": {},
     "execution_count": 7
    }
   ],
   "metadata": {}
  },
  {
   "cell_type": "code",
   "execution_count": 8,
   "source": [
    "recall100 = RecallAtK(100)"
   ],
   "outputs": [
    {
     "output_type": "execute_result",
     "data": {
      "text/plain": [
       "RecallAtK(100)"
      ]
     },
     "metadata": {},
     "execution_count": 8
    }
   ],
   "metadata": {}
  },
  {
   "cell_type": "code",
   "execution_count": 9,
   "source": [
    "using TreeParzen"
   ],
   "outputs": [],
   "metadata": {}
  },
  {
   "cell_type": "code",
   "execution_count": 10,
   "source": [
    "space = Dict(\n",
    "    :topk=>HP.QuantUniform(:topk, 10., 500., 1.),\n",
    "    :shrink=>HP.LogUniform(:shrink, log(1e-3), log(1e3)),\n",
    "    :weighting=>HP.Choice(:weighting, [:dummy, :tfidf, :bm25]),\n",
    "    :normalize=>HP.Choice(:normalize, [true, false])\n",
    ")"
   ],
   "outputs": [
    {
     "output_type": "execute_result",
     "data": {
      "text/plain": [
       "Dict{Symbol, TreeParzen.Types.AbstractDelayed} with 4 entries:\n",
       "  :weighting => Choice(Param(:weighting, RandIndex(3)), [:dummy, :tfidf, :bm25])\n",
       "  :topk      => QuantUniform(:topk, QuantUniform(10.0, 500.0, 1.0))\n",
       "  :normalize => Choice(Param(:normalize, RandIndex(2)), Bool[1, 0])\n",
       "  :shrink    => LogUniform(:shrink, LogUniform(-6.90776, 6.90776))"
      ]
     },
     "metadata": {},
     "execution_count": 10
    }
   ],
   "metadata": {}
  },
  {
   "cell_type": "code",
   "execution_count": 11,
   "source": [
    "function invert_output(params)\n",
    "    k = convert(Int, params[:topk])\n",
    "    model = ItemkNN(k, params[:shrink],params[:weighting],params[:normalize])\n",
    "    result = evaluate(model, df_train, df_valid, recall100, 100, col_user=:userid, col_item=:movieid, col_rating=:rating)\n",
    "    @show params, result\n",
    "    return -result\n",
    "end"
   ],
   "outputs": [
    {
     "output_type": "execute_result",
     "data": {
      "text/plain": [
       "invert_output (generic function with 1 method)"
      ]
     },
     "metadata": {},
     "execution_count": 11
    }
   ],
   "metadata": {}
  },
  {
   "cell_type": "code",
   "execution_count": null,
   "source": [],
   "outputs": [],
   "metadata": {}
  },
  {
   "cell_type": "code",
   "execution_count": 12,
   "source": [
    "best = fmin(invert_output, space, 100, logging_interval=-1)"
   ],
   "outputs": [
    {
     "output_type": "stream",
     "name": "stdout",
     "text": [
      "(params, result) = (Dict{Symbol, Any}(:weighting => :tfidf, :topk => 188.0, :normalize => true, :shrink => 0.006671790718082154), 0.3647932131495228)\n",
      "(params, result) = (Dict{Symbol, Any}(:weighting => :dummy, :topk => 178.0, :normalize => true, :shrink => 0.23369578017268589), 0.3753976670201485)\n",
      "(params, result) = (Dict{Symbol, Any}(:weighting => :dummy, :topk => 233.0, :normalize => true, :shrink => 786.2591438595393), 0.24284199363732767)\n",
      "(params, result) = (Dict{Symbol, Any}(:weighting => :bm25, :topk => 336.0, :normalize => true, :shrink => 18.84425440389244), 0.3022269353128314)\n",
      "(params, result) = (Dict{Symbol, Any}(:weighting => :bm25, :topk => 229.0, :normalize => true, :shrink => 0.0031581059048094236), 0.33934252386002123)\n",
      "(params, result) = (Dict{Symbol, Any}(:weighting => :tfidf, :topk => 497.0, :normalize => false, :shrink => 231.9216810633351), 0.13361611876988336)\n",
      "(params, result) = (Dict{Symbol, Any}(:weighting => :tfidf, :topk => 398.0, :normalize => true, :shrink => 0.004119253730008186), 0.31919406150583246)\n",
      "(params, result) = (Dict{Symbol, Any}(:weighting => :bm25, :topk => 172.0, :normalize => false, :shrink => 0.004186849237570064), 0.28844114528101805)\n",
      "(params, result) = (Dict{Symbol, Any}(:weighting => :bm25, :topk => 61.0, :normalize => false, :shrink => 4.23431713183863), 0.28525980911983034)\n",
      "(params, result) = (Dict{Symbol, Any}(:weighting => :tfidf, :topk => 121.0, :normalize => true, :shrink => 347.22539536561885), 0.2523860021208908)\n",
      "(params, result) = (Dict{Symbol, Any}(:weighting => :bm25, :topk => 264.0, :normalize => false, :shrink => 0.8730255831062188), 0.2672322375397667)\n",
      "(params, result) = (Dict{Symbol, Any}(:weighting => :tfidf, :topk => 281.0, :normalize => false, :shrink => 68.54420529256454), 0.010604453870625663)\n",
      "(params, result) = (Dict{Symbol, Any}(:weighting => :tfidf, :topk => 355.0, :normalize => true, :shrink => 0.004445372784138859), 0.32873806998939553)\n",
      "(params, result) = (Dict{Symbol, Any}(:weighting => :tfidf, :topk => 462.0, :normalize => true, :shrink => 12.293607103872617), 0.2926829268292683)\n",
      "(params, result) = (Dict{Symbol, Any}(:weighting => :tfidf, :topk => 420.0, :normalize => false, :shrink => 0.03884997231245244), 0.13467656415694593)\n",
      "(params, result) = (Dict{Symbol, Any}(:weighting => :dummy, :topk => 166.0, :normalize => true, :shrink => 20.225560884091205), 0.2926829268292683)\n",
      "(params, result) = (Dict{Symbol, Any}(:weighting => :tfidf, :topk => 253.0, :normalize => false, :shrink => 3.936666353384839), 0.0010604453870625664)\n",
      "(params, result) = (Dict{Symbol, Any}(:weighting => :bm25, :topk => 295.0, :normalize => true, :shrink => 34.67842695808812), 0.3064687168610817)\n",
      "(params, result) = (Dict{Symbol, Any}(:weighting => :dummy, :topk => 336.0, :normalize => false, :shrink => 1.641467553713501), 0.060445387062566275)\n",
      "(params, result) = (Dict{Symbol, Any}(:weighting => :tfidf, :topk => 271.0, :normalize => false, :shrink => 0.06340102716068205), 0.007423117709437964)\n",
      "(params, result) = (Dict{Symbol, Any}(:weighting => :dummy, :topk => 16.0, :normalize => true, :shrink => 0.10897606891277047), 0.3117709437963945)\n",
      "(params, result) = (Dict{Symbol, Any}(:weighting => :dummy, :topk => 122.0, :normalize => true, :shrink => 0.19111357011510435), 0.39236479321314954)\n",
      "(params, result) = (Dict{Symbol, Any}(:weighting => :dummy, :topk => 90.0, :normalize => true, :shrink => 0.1769121808585468), 0.391304347826087)\n",
      "(params, result) = (Dict{Symbol, Any}(:weighting => :dummy, :topk => 88.0, :normalize => true, :shrink => 0.3663404799018873), 0.39766702014846234)\n",
      "(params, result) = (Dict{Symbol, Any}(:weighting => :dummy, :topk => 24.0, :normalize => true, :shrink => 0.020548406005931257), 0.3584305408271474)\n",
      "(params, result) = (Dict{Symbol, Any}(:weighting => :dummy, :topk => 113.0, :normalize => true, :shrink => 0.4884507080343513), 0.3902439024390244)\n",
      "(params, result) = (Dict{Symbol, Any}(:weighting => :dummy, :topk => 54.0, :normalize => true, :shrink => 0.015541037658670993), 0.3997879109225875)\n",
      "(params, result) = (Dict{Symbol, Any}(:weighting => :dummy, :topk => 60.0, :normalize => true, :shrink => 0.0014374108889101032), 0.39660657476139977)\n",
      "(params, result) = (Dict{Symbol, Any}(:weighting => :dummy, :topk => 46.0, :normalize => true, :shrink => 0.01724498839340946), 0.4093319194061506)\n",
      "(params, result) = (Dict{Symbol, Any}(:weighting => :dummy, :topk => 42.0, :normalize => true, :shrink => 0.01898274885084496), 0.40402969247083775)\n",
      "(params, result) = (Dict{Symbol, Any}(:weighting => :dummy, :topk => 33.0, :normalize => true, :shrink => 0.00140635823886491), 0.3806998939554613)\n",
      "(params, result) = (Dict{Symbol, Any}(:weighting => :dummy, :topk => 78.0, :normalize => true, :shrink => 0.010161595069789125), 0.3987274655355249)\n",
      "(params, result) = (Dict{Symbol, Any}(:weighting => :dummy, :topk => 133.0, :normalize => true, :shrink => 0.014798582838680375), 0.38494167550371156)\n",
      "(params, result) = (Dict{Symbol, Any}(:weighting => :dummy, :topk => 10.0, :normalize => true, :shrink => 0.03624698088076021), 0.0784729586426299)\n",
      "(params, result) = (Dict{Symbol, Any}(:weighting => :dummy, :topk => 86.0, :normalize => true, :shrink => 0.002083568096429605), 0.39766702014846234)\n",
      "(params, result) = (Dict{Symbol, Any}(:weighting => :dummy, :topk => 205.0, :normalize => true, :shrink => 0.0010301758527482294), 0.3722163308589608)\n",
      "(params, result) = (Dict{Symbol, Any}(:weighting => :dummy, :topk => 47.0, :normalize => true, :shrink => 0.011239559446281784), 0.40827147401908803)\n",
      "(params, result) = (Dict{Symbol, Any}(:weighting => :dummy, :topk => 145.0, :normalize => true, :shrink => 0.013298755776226264), 0.38494167550371156)\n",
      "(params, result) = (Dict{Symbol, Any}(:weighting => :dummy, :topk => 53.0, :normalize => true, :shrink => 0.06355688646311894), 0.40084835630965004)\n",
      "(params, result) = (Dict{Symbol, Any}(:weighting => :dummy, :topk => 98.0, :normalize => true, :shrink => 0.02890366786118589), 0.3934252386002121)\n",
      "(params, result) = (Dict{Symbol, Any}(:weighting => :dummy, :topk => 65.0, :normalize => true, :shrink => 0.07048167568001418), 0.391304347826087)\n",
      "(params, result) = (Dict{Symbol, Any}(:weighting => :dummy, :topk => 41.0, :normalize => true, :shrink => 0.4746688889117992), 0.40084835630965004)\n",
      "(params, result) = (Dict{Symbol, Any}(:weighting => :dummy, :topk => 147.0, :normalize => true, :shrink => 0.0021614491673440832), 0.38494167550371156)\n",
      "(params, result) = (Dict{Symbol, Any}(:weighting => :dummy, :topk => 79.0, :normalize => true, :shrink => 0.009474086258077816), 0.3997879109225875)\n",
      "(params, result) = (Dict{Symbol, Any}(:weighting => :dummy, :topk => 40.0, :normalize => true, :shrink => 1.5932425763361722), 0.39236479321314954)\n",
      "(params, result) = (Dict{Symbol, Any}(:weighting => :dummy, :topk => 104.0, :normalize => true, :shrink => 0.007935075971194763), 0.3870625662778367)\n",
      "(params, result) = (Dict{Symbol, Any}(:weighting => :dummy, :topk => 76.0, :normalize => true, :shrink => 0.10125768404203563), 0.4050901378579003)\n",
      "(params, result) = (Dict{Symbol, Any}(:weighting => :dummy, :topk => 207.0, :normalize => true, :shrink => 0.10427611284342417), 0.3722163308589608)\n",
      "(params, result) = (Dict{Symbol, Any}(:weighting => :dummy, :topk => 47.0, :normalize => true, :shrink => 0.6055470171746521), 0.40721102863202546)\n",
      "(params, result) = (Dict{Symbol, Any}(:weighting => :dummy, :topk => 76.0, :normalize => true, :shrink => 0.22678757504888303), 0.4019088016967126)\n",
      "(params, result) = (Dict{Symbol, Any}(:weighting => :bm25, :topk => 11.0, :normalize => true, :shrink => 0.024004707022260725), 0.2417815482502651)\n",
      "(params, result) = (Dict{Symbol, Any}(:weighting => :dummy, :topk => 151.0, :normalize => true, :shrink => 0.04902478369033879), 0.37857900318133614)\n",
      "(params, result) = (Dict{Symbol, Any}(:weighting => :dummy, :topk => 49.0, :normalize => true, :shrink => 0.2678950058542698), 0.4061505832449629)\n",
      "(params, result) = (Dict{Symbol, Any}(:weighting => :dummy, :topk => 78.0, :normalize => true, :shrink => 0.7125050545384062), 0.40084835630965004)\n",
      "(params, result) = (Dict{Symbol, Any}(:weighting => :dummy, :topk => 50.0, :normalize => false, :shrink => 3.2149546002741896), 0.03923647932131495)\n",
      "(params, result) = (Dict{Symbol, Any}(:weighting => :dummy, :topk => 104.0, :normalize => true, :shrink => 0.3201647862520543), 0.39236479321314954)\n",
      "(params, result) = (Dict{Symbol, Any}(:weighting => :dummy, :topk => 78.0, :normalize => true, :shrink => 0.14986600835217934), 0.3987274655355249)\n",
      "(params, result) = (Dict{Symbol, Any}(:weighting => :bm25, :topk => 310.0, :normalize => true, :shrink => 0.0021374978785556175), 0.3075291622481442)\n",
      "(params, result) = (Dict{Symbol, Any}(:weighting => :dummy, :topk => 203.0, :normalize => true, :shrink => 0.0011288829521686203), 0.37327677624602335)\n",
      "(params, result) = (Dict{Symbol, Any}(:weighting => :dummy, :topk => 36.0, :normalize => true, :shrink => 1.621714412581788), 0.3806998939554613)\n",
      "(params, result) = (Dict{Symbol, Any}(:weighting => :dummy, :topk => 133.0, :normalize => true, :shrink => 0.00751568234902369), 0.38494167550371156)\n",
      "(params, result) = (Dict{Symbol, Any}(:weighting => :dummy, :topk => 69.0, :normalize => true, :shrink => 0.5308199340701305), 0.39766702014846234)\n",
      "(params, result) = (Dict{Symbol, Any}(:weighting => :dummy, :topk => 93.0, :normalize => false, :shrink => 0.014378615125185505), 0.018027571580063628)\n",
      "(params, result) = (Dict{Symbol, Any}(:weighting => :dummy, :topk => 230.0, :normalize => true, :shrink => 0.08280311651741253), 0.3605514316012725)\n",
      "(params, result) = (Dict{Symbol, Any}(:weighting => :dummy, :topk => 161.0, :normalize => true, :shrink => 0.4508810310932623), 0.37645811240721105)\n",
      "(params, result) = (Dict{Symbol, Any}(:weighting => :dummy, :topk => 78.0, :normalize => true, :shrink => 6.821183210600142), 0.352067868504772)\n",
      "(params, result) = (Dict{Symbol, Any}(:weighting => :dummy, :topk => 45.0, :normalize => true, :shrink => 0.6674689393084613), 0.4061505832449629)\n",
      "(params, result) = (Dict{Symbol, Any}(:weighting => :dummy, :topk => 111.0, :normalize => true, :shrink => 0.16091231140706536), 0.3944856839872747)\n",
      "(params, result) = (Dict{Symbol, Any}(:weighting => :dummy, :topk => 25.0, :normalize => true, :shrink => 0.7492131226238256), 0.36267232237539765)\n",
      "(params, result) = (Dict{Symbol, Any}(:weighting => :dummy, :topk => 45.0, :normalize => true, :shrink => 1.358464558183053), 0.4050901378579003)\n",
      "(params, result) = (Dict{Symbol, Any}(:weighting => :dummy, :topk => 135.0, :normalize => true, :shrink => 0.2832674746459515), 0.3870625662778367)\n",
      "(params, result) = (Dict{Symbol, Any}(:weighting => :dummy, :topk => 67.0, :normalize => true, :shrink => 1.2698253002974054), 0.39236479321314954)\n",
      "(params, result) = (Dict{Symbol, Any}(:weighting => :dummy, :topk => 48.0, :normalize => true, :shrink => 2.3062047136706947), 0.40084835630965004)\n",
      "(params, result) = (Dict{Symbol, Any}(:weighting => :dummy, :topk => 52.0, :normalize => true, :shrink => 0.1301875706872123), 0.40084835630965004)\n",
      "(params, result) = (Dict{Symbol, Any}(:weighting => :dummy, :topk => 40.0, :normalize => true, :shrink => 0.00957219484919541), 0.40084835630965004)\n",
      "(params, result) = (Dict{Symbol, Any}(:weighting => :dummy, :topk => 123.0, :normalize => true, :shrink => 0.3361076467687389), 0.39236479321314954)\n",
      "(params, result) = (Dict{Symbol, Any}(:weighting => :dummy, :topk => 107.0, :normalize => true, :shrink => 69.54671516291772), 0.2354188759278897)\n",
      "(params, result) = (Dict{Symbol, Any}(:weighting => :dummy, :topk => 48.0, :normalize => true, :shrink => 0.057063265409504564), 0.40827147401908803)\n",
      "(params, result) = (Dict{Symbol, Any}(:weighting => :dummy, :topk => 186.0, :normalize => true, :shrink => 0.05695579948058488), 0.37645811240721105)\n",
      "(params, result) = (Dict{Symbol, Any}(:weighting => :dummy, :topk => 35.0, :normalize => true, :shrink => 0.006010121411543019), 0.3828207847295864)\n",
      "(params, result) = (Dict{Symbol, Any}(:weighting => :dummy, :topk => 53.0, :normalize => true, :shrink => 0.011165640256374405), 0.3987274655355249)\n",
      "(params, result) = (Dict{Symbol, Any}(:weighting => :dummy, :topk => 69.0, :normalize => true, :shrink => 0.14215524399247922), 0.3987274655355249)\n",
      "(params, result) = (Dict{Symbol, Any}(:weighting => :dummy, :topk => 24.0, :normalize => true, :shrink => 0.027712973991821623), 0.3584305408271474)\n",
      "(params, result) = (Dict{Symbol, Any}(:weighting => :dummy, :topk => 86.0, :normalize => true, :shrink => 0.011022731564902228), 0.39766702014846234)\n",
      "(params, result) = (Dict{Symbol, Any}(:weighting => :bm25, :topk => 49.0, :normalize => true, :shrink => 0.04347589621321415), 0.3669141039236479)\n",
      "(params, result) = (Dict{Symbol, Any}(:weighting => :dummy, :topk => 96.0, :normalize => true, :shrink => 0.009856917482591002), 0.391304347826087)\n",
      "(params, result) = (Dict{Symbol, Any}(:weighting => :dummy, :topk => 74.0, :normalize => true, :shrink => 0.003350468272237273), 0.3987274655355249)\n",
      "(params, result) = (Dict{Symbol, Any}(:weighting => :dummy, :topk => 153.0, :normalize => true, :shrink => 0.01823875832251177), 0.383881230116649)\n",
      "(params, result) = (Dict{Symbol, Any}(:weighting => :dummy, :topk => 117.0, :normalize => true, :shrink => 0.001688539351397043), 0.3870625662778367)\n",
      "(params, result) = (Dict{Symbol, Any}(:weighting => :dummy, :topk => 136.0, :normalize => true, :shrink => 0.002514926529572615), 0.3828207847295864)\n",
      "(params, result) = (Dict{Symbol, Any}(:weighting => :dummy, :topk => 70.0, :normalize => true, :shrink => 0.07778223311249516), 0.3934252386002121)\n",
      "(params, result) = (Dict{Symbol, Any}(:weighting => :dummy, :topk => 84.0, :normalize => true, :shrink => 0.153591048890747), 0.39766702014846234)\n",
      "(params, result) = (Dict{Symbol, Any}(:weighting => :dummy, :topk => 43.0, :normalize => true, :shrink => 0.13352742859811223), 0.4029692470837752)\n",
      "(params, result) = (Dict{Symbol, Any}(:weighting => :bm25, :topk => 97.0, :normalize => true, :shrink => 0.21319929825608588), 0.37327677624602335)\n",
      "(params, result) = (Dict{Symbol, Any}(:weighting => :dummy, :topk => 63.0, :normalize => false, :shrink => 0.00588555544696743), 0.02863202545068929)\n",
      "(params, result) = (Dict{Symbol, Any}(:weighting => :dummy, :topk => 193.0, :normalize => true, :shrink => 0.13301424697931852), 0.37327677624602335)\n",
      "(params, result) = (Dict{Symbol, Any}(:weighting => :dummy, :topk => 158.0, :normalize => true, :shrink => 0.03185196480558269), 0.3828207847295864)\n",
      "(params, result) = (Dict{Symbol, Any}(:weighting => :dummy, :topk => 243.0, :normalize => true, :shrink => 0.010786467159959987), 0.35949098621421)\n",
      "(params, result) = (Dict{Symbol, Any}(:weighting => :dummy, :topk => 128.0, :normalize => true, :shrink => 0.00294341867742595), 0.383881230116649)\n",
      "(params, result) = (Dict{Symbol, Any}(:weighting => :dummy, :topk => 139.0, :normalize => true, :shrink => 1.050267731363609), 0.3828207847295864)\n"
     ]
    },
    {
     "output_type": "stream",
     "name": "stderr",
     "text": [
      "┌ Info: fmin: 100 / 100 trials carried out\n",
      "└ @ TreeParzen.API /Users/keisuke.yanagi/.julia/packages/TreeParzen/Iw2mh/src/API.jl:176\n",
      "┌ Info: Successfully completed fmin \n",
      "└ @ TreeParzen.API /Users/keisuke.yanagi/.julia/packages/TreeParzen/Iw2mh/src/API.jl:231\n"
     ]
    },
    {
     "output_type": "execute_result",
     "data": {
      "text/plain": [
       "Dict{Symbol, Any} with 4 entries:\n",
       "  :weighting => :dummy\n",
       "  :topk      => 46.0\n",
       "  :normalize => true\n",
       "  :shrink    => 0.017245"
      ]
     },
     "metadata": {},
     "execution_count": 12
    }
   ],
   "metadata": {}
  },
  {
   "cell_type": "code",
   "execution_count": 21,
   "source": [
    "df_train_valid = df[df.data_split.!=:test, :];\n",
    "\n",
    "best_model = ItemkNN(convert(Int, best[:topk]), best[:shrink],best[:weighting],best[:normalize])\n",
    "evaluate(best_model, df_train_valid, df_test, recall100, 100, col_user=:userid, col_item=:movieid, col_rating=:rating)"
   ],
   "outputs": [
    {
     "output_type": "execute_result",
     "data": {
      "text/plain": [
       "0.3637327677624602"
      ]
     },
     "metadata": {},
     "execution_count": 21
    }
   ],
   "metadata": {}
  },
  {
   "cell_type": "code",
   "execution_count": null,
   "source": [],
   "outputs": [],
   "metadata": {}
  },
  {
   "cell_type": "code",
   "execution_count": null,
   "source": [],
   "outputs": [],
   "metadata": {}
  }
 ],
 "metadata": {
  "kernelspec": {
   "display_name": "Julia 1.6.0",
   "language": "julia",
   "name": "julia-1.6"
  },
  "language_info": {
   "file_extension": ".jl",
   "mimetype": "application/julia",
   "name": "julia",
   "version": "1.6.0"
  },
  "orig_nbformat": 2
 },
 "nbformat": 4,
 "nbformat_minor": 2
}