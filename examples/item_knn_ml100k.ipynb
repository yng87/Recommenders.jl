{
 "cells": [
  {
   "cell_type": "code",
   "execution_count": 1,
   "source": [
    "using DataFrames, TableOperations, Tables\n",
    "using Recommender: Movielens100k, load_dataset, ratio_split, ItemkNN, evaluate_u2i, PrecisionAtK"
   ],
   "outputs": [],
   "metadata": {}
  },
  {
   "cell_type": "code",
   "execution_count": 2,
   "source": [
    "ml100k = Movielens100k()\n",
    "download(ml100k)\n",
    "rating, user, movie = load_dataset(ml100k);"
   ],
   "outputs": [],
   "metadata": {}
  },
  {
   "cell_type": "code",
   "execution_count": 3,
   "source": [
    "rating = rating |> TableOperations.filter(x->Tables.getcolumn(x, :rating) >= 4)"
   ],
   "outputs": [
    {
     "output_type": "execute_result",
     "data": {
      "text/plain": [
       "TableOperations.Filter{var\"#1#2\", CSV.File{false}}(var\"#1#2\"(), CSV.File(\"/Users/keisuke.yanagi/workspace/Recommender.jl/src/dataset/../../dataset/movielens100k/u.data\"):\n",
       "Size: 100000 x 4\n",
       "Tables.Schema:\n",
       " :userid     Int64\n",
       " :movieid    Int64\n",
       " :rating     Int64\n",
       " :timestamp  Int64)"
      ]
     },
     "metadata": {},
     "execution_count": 3
    }
   ],
   "metadata": {}
  },
  {
   "cell_type": "code",
   "execution_count": 4,
   "source": [
    "train_valid_table, test_table = ratio_split(rating, 0.8)\n",
    "train_table, valid_table = ratio_split(train_valid_table, 0.8)\n",
    "length(Tables.rows(train_table)), length(Tables.rows(valid_table)), length(Tables.rows(test_table))\n"
   ],
   "outputs": [
    {
     "output_type": "execute_result",
     "data": {
      "text/plain": [
       "(35440, 8860, 11075)"
      ]
     },
     "metadata": {},
     "execution_count": 4
    }
   ],
   "metadata": {}
  },
  {
   "cell_type": "code",
   "execution_count": 5,
   "source": [
    "metric = PrecisionAtK(10)"
   ],
   "outputs": [
    {
     "output_type": "execute_result",
     "data": {
      "text/plain": [
       "PrecisionAtK(10)"
      ]
     },
     "metadata": {},
     "execution_count": 5
    }
   ],
   "metadata": {}
  },
  {
   "cell_type": "code",
   "execution_count": 6,
   "source": [
    "using TreeParzen"
   ],
   "outputs": [],
   "metadata": {}
  },
  {
   "cell_type": "code",
   "execution_count": 7,
   "source": [
    "space = Dict(\n",
    "    :topk=>HP.QuantUniform(:topk, 10., 500., 1.),\n",
    "    :shrink=>HP.LogUniform(:shrink, log(1e-3), log(1e3)),\n",
    "    :weighting=>HP.Choice(:weighting, \n",
    "        [\n",
    "            Dict(:weighting=>:dummy, :weighting_at_inference=>false),\n",
    "            Dict(:weighting=>:tfidf, :weighting_at_inference=>false),\n",
    "            Dict(:weighting=>:bm25, :weighting_at_inference=>HP.Choice(:weighting_at_inference, [true, false]))\n",
    "        ]\n",
    "    ),\n",
    "    :normalize=>HP.Choice(:normalize, [true, false])\n",
    ")"
   ],
   "outputs": [
    {
     "output_type": "execute_result",
     "data": {
      "text/plain": [
       "Dict{Symbol, TreeParzen.Types.AbstractDelayed} with 4 entries:\n",
       "  :weighting => Choice(Param(:weighting, RandIndex(3)), Dict{Symbol, Any}[Dict(…\n",
       "  :topk      => QuantUniform(:topk, QuantUniform(10.0, 500.0, 1.0))\n",
       "  :normalize => Choice(Param(:normalize, RandIndex(2)), Bool[1, 0])\n",
       "  :shrink    => LogUniform(:shrink, LogUniform(-6.90776, 6.90776))"
      ]
     },
     "metadata": {},
     "execution_count": 7
    }
   ],
   "metadata": {}
  },
  {
   "cell_type": "code",
   "execution_count": 8,
   "source": [
    "function invert_output(params)\n",
    "    k = convert(Int, params[:topk])\n",
    "    model = ItemkNN(k, params[:shrink],params[:weighting][:weighting],params[:weighting][:weighting_at_inference],params[:normalize])\n",
    "    result = evaluate_u2i(model, train_table, valid_table, metric, 10, col_user=:userid, col_item=:movieid, col_rating=:rating, drop_history=false)\n",
    "    @show params, result\n",
    "    return -result\n",
    "end"
   ],
   "outputs": [
    {
     "output_type": "execute_result",
     "data": {
      "text/plain": [
       "invert_output (generic function with 1 method)"
      ]
     },
     "metadata": {},
     "execution_count": 8
    }
   ],
   "metadata": {}
  },
  {
   "cell_type": "code",
   "execution_count": 9,
   "source": [
    "best = fmin(invert_output, space, 20, logging_interval=-1)"
   ],
   "outputs": [
    {
     "output_type": "stream",
     "name": "stdout",
     "text": [
      "(params, result) = (Dict{Symbol, Any}(:weighting => Dict{Symbol, Any}(:weighting => :tfidf, :weighting_at_inference => false), :topk => 177.0, :normalize => false, :shrink => 46.22912837052113), 0.07989071038251382)\n",
      "(params, result) = (Dict{Symbol, Any}(:weighting => Dict{Symbol, Any}(:weighting => :bm25, :weighting_at_inference => false), :topk => 478.0, :normalize => true, :shrink => 63.285714744110635), 0.07136612021857967)\n",
      "(params, result) = (Dict{Symbol, Any}(:weighting => Dict{Symbol, Any}(:weighting => :tfidf, :weighting_at_inference => false), :topk => 398.0, :normalize => true, :shrink => 16.428419575262215), 0.0720218579234977)\n",
      "(params, result) = (Dict{Symbol, Any}(:weighting => Dict{Symbol, Any}(:weighting => :bm25, :weighting_at_inference => false), :topk => 147.0, :normalize => true, :shrink => 0.06413473810114018), 0.071147540983607)\n",
      "(params, result) = (Dict{Symbol, Any}(:weighting => Dict{Symbol, Any}(:weighting => :tfidf, :weighting_at_inference => false), :topk => 309.0, :normalize => true, :shrink => 10.735473254162834), 0.07060109289617532)\n",
      "(params, result) = (Dict{Symbol, Any}(:weighting => Dict{Symbol, Any}(:weighting => :dummy, :weighting_at_inference => false), :topk => 303.0, :normalize => false, :shrink => 0.0013112802532518118), 0.07551912568306038)\n",
      "(params, result) = (Dict{Symbol, Any}(:weighting => Dict{Symbol, Any}(:weighting => :bm25, :weighting_at_inference => false), :topk => 240.0, :normalize => true, :shrink => 0.4829353650474982), 0.06972677595628457)\n",
      "(params, result) = (Dict{Symbol, Any}(:weighting => Dict{Symbol, Any}(:weighting => :bm25, :weighting_at_inference => false), :topk => 313.0, :normalize => false, :shrink => 729.4571333543054), 0.06601092896174904)\n",
      "(params, result) = (Dict{Symbol, Any}(:weighting => Dict{Symbol, Any}(:weighting => :tfidf, :weighting_at_inference => false), :topk => 206.0, :normalize => true, :shrink => 87.64447904934237), 0.07049180327868898)\n",
      "(params, result) = (Dict{Symbol, Any}(:weighting => Dict{Symbol, Any}(:weighting => :dummy, :weighting_at_inference => false), :topk => 494.0, :normalize => false, :shrink => 0.2068144866750951), 0.07551912568306038)\n",
      "(params, result) = (Dict{Symbol, Any}(:weighting => Dict{Symbol, Any}(:weighting => :tfidf, :weighting_at_inference => false), :topk => 90.0, :normalize => true, :shrink => 0.018643241115200788), 0.06907103825136655)\n",
      "(params, result) = (Dict{Symbol, Any}(:weighting => Dict{Symbol, Any}(:weighting => :dummy, :weighting_at_inference => false), :topk => 467.0, :normalize => true, :shrink => 15.077350935583311), 0.07333333333333368)\n",
      "(params, result) = (Dict{Symbol, Any}(:weighting => Dict{Symbol, Any}(:weighting => :bm25, :weighting_at_inference => false), :topk => 334.0, :normalize => true, :shrink => 172.93678760913883), 0.07125683060109335)\n",
      "(params, result) = (Dict{Symbol, Any}(:weighting => Dict{Symbol, Any}(:weighting => :dummy, :weighting_at_inference => false), :topk => 212.0, :normalize => false, :shrink => 0.016338203504541373), 0.07562841530054672)\n",
      "(params, result) = (Dict{Symbol, Any}(:weighting => Dict{Symbol, Any}(:weighting => :dummy, :weighting_at_inference => false), :topk => 324.0, :normalize => false, :shrink => 0.01822170939014819), 0.07551912568306038)\n",
      "(params, result) = (Dict{Symbol, Any}(:weighting => Dict{Symbol, Any}(:weighting => :bm25, :weighting_at_inference => true), :topk => 354.0, :normalize => true, :shrink => 0.041670378671304915), 0.05049180327868882)\n",
      "(params, result) = (Dict{Symbol, Any}(:weighting => Dict{Symbol, Any}(:weighting => :dummy, :weighting_at_inference => false), :topk => 87.0, :normalize => true, :shrink => 0.1687222800061535), 0.06885245901639388)\n",
      "(params, result) = (Dict{Symbol, Any}(:weighting => Dict{Symbol, Any}(:weighting => :tfidf, :weighting_at_inference => false), :topk => 63.0, :normalize => true, :shrink => 0.8456009107101236), 0.06928961748633923)\n",
      "(params, result) = (Dict{Symbol, Any}(:weighting => Dict{Symbol, Any}(:weighting => :tfidf, :weighting_at_inference => false), :topk => 61.0, :normalize => true, :shrink => 2.063060675044879), 0.07027322404371629)\n",
      "(params, result) = (Dict{Symbol, Any}(:weighting => Dict{Symbol, Any}(:weighting => :tfidf, :weighting_at_inference => false), :topk => 157.0, :normalize => true, :shrink => 0.009447131940263745), 0.07092896174863432)\n"
     ]
    },
    {
     "output_type": "stream",
     "name": "stderr",
     "text": [
      "┌ Info: fmin: 20 / 20 trials carried out\n",
      "└ @ TreeParzen.API /Users/keisuke.yanagi/.julia/packages/TreeParzen/Iw2mh/src/API.jl:176\n",
      "┌ Info: Successfully completed fmin \n",
      "└ @ TreeParzen.API /Users/keisuke.yanagi/.julia/packages/TreeParzen/Iw2mh/src/API.jl:231\n"
     ]
    },
    {
     "output_type": "execute_result",
     "data": {
      "text/plain": [
       "Dict{Symbol, Any} with 4 entries:\n",
       "  :weighting => Dict{Symbol, Any}(:weighting=>:tfidf, :weighting_at_inference=>…\n",
       "  :topk      => 177.0\n",
       "  :normalize => false\n",
       "  :shrink    => 46.2291"
      ]
     },
     "metadata": {},
     "execution_count": 9
    }
   ],
   "metadata": {}
  },
  {
   "cell_type": "code",
   "execution_count": 10,
   "source": [
    "best_model = ItemkNN(convert(Int, best[:topk]), best[:shrink],best[:weighting][:weighting],best[:weighting][:weighting_at_inference],best[:normalize])\n",
    "evaluate_u2i(best_model, train_valid_table, test_table, metric, 10, col_user=:userid, col_item=:movieid, col_rating=:rating)"
   ],
   "outputs": [
    {
     "output_type": "execute_result",
     "data": {
      "text/plain": [
       "0.09816216216216192"
      ]
     },
     "metadata": {},
     "execution_count": 10
    }
   ],
   "metadata": {}
  },
  {
   "cell_type": "code",
   "execution_count": null,
   "source": [],
   "outputs": [],
   "metadata": {}
  }
 ],
 "metadata": {
  "kernelspec": {
   "display_name": "Julia 1.6.0",
   "language": "julia",
   "name": "julia-1.6"
  },
  "language_info": {
   "file_extension": ".jl",
   "mimetype": "application/julia",
   "name": "julia",
   "version": "1.6.0"
  },
  "orig_nbformat": 2
 },
 "nbformat": 4,
 "nbformat_minor": 2
}