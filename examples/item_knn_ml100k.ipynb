{
 "cells": [
  {
   "cell_type": "code",
   "execution_count": 1,
   "source": [
    "using DataFrames, TableOperations, Tables, Random\n",
    "using Recommender: Movielens100k, load_dataset, ratio_split, ItemkNN, evaluate_u2i, MeanPrecision, MeanRecall, MeanNDCG"
   ],
   "outputs": [],
   "metadata": {}
  },
  {
   "cell_type": "code",
   "execution_count": 2,
   "source": [
    "ml100k = Movielens100k()\n",
    "download(ml100k)\n",
    "rating, user, movie = load_dataset(ml100k);"
   ],
   "outputs": [],
   "metadata": {}
  },
  {
   "cell_type": "code",
   "execution_count": 3,
   "source": [
    "rating = rating |> TableOperations.transform(Dict(:rating=>x->1.))"
   ],
   "outputs": [
    {
     "output_type": "execute_result",
     "data": {
      "text/plain": [
       "TableOperations.Transforms{true, CSV.File{false}, Dict{Symbol, var\"#1#2\"}}(CSV.File(\"/Users/keisuke.yanagi/workspace/Recommender.jl/src/dataset/../../dataset/movielens100k/u.data\"):\n",
       "Size: 100000 x 4\n",
       "Tables.Schema:\n",
       " :userid     Int64\n",
       " :movieid    Int64\n",
       " :rating     Int64\n",
       " :timestamp  Int64, Dict(:rating => var\"#1#2\"()))"
      ]
     },
     "metadata": {},
     "execution_count": 3
    }
   ],
   "metadata": {}
  },
  {
   "cell_type": "code",
   "execution_count": 4,
   "source": [
    "Random.seed!(1234);\n",
    "train_valid_table, test_table = ratio_split(rating, 0.8)\n",
    "\n",
    "train_table, valid_table = ratio_split(train_valid_table, 0.8)\n",
    "length(Tables.rows(train_table)), length(Tables.rows(valid_table)), length(Tables.rows(test_table))\n"
   ],
   "outputs": [
    {
     "output_type": "execute_result",
     "data": {
      "text/plain": [
       "(64000, 16000, 20000)"
      ]
     },
     "metadata": {},
     "execution_count": 4
    }
   ],
   "metadata": {}
  },
  {
   "cell_type": "code",
   "execution_count": 5,
   "source": [
    "prec10 = MeanPrecision(10)\n",
    "recall10 = MeanRecall(10)\n",
    "ndcg10 = MeanNDCG(10)\n",
    "metrics = [prec10, recall10, ndcg10]"
   ],
   "outputs": [
    {
     "output_type": "execute_result",
     "data": {
      "text/plain": [
       "3-element Vector{Recommender.MeanMetric}:\n",
       " Recommender.MeanMetric{Recommender.Precision}(Recommender.Precision(10, \"precision\"))\n",
       " Recommender.MeanMetric{Recommender.Recall}(Recommender.Recall(10, \"recall\"))\n",
       " Recommender.MeanMetric{Recommender.NDCG}(Recommender.NDCG(10, \"ndcg\"))"
      ]
     },
     "metadata": {},
     "execution_count": 5
    }
   ],
   "metadata": {}
  },
  {
   "cell_type": "code",
   "execution_count": 6,
   "source": [
    "using TreeParzen"
   ],
   "outputs": [],
   "metadata": {}
  },
  {
   "cell_type": "code",
   "execution_count": 7,
   "source": [
    "space = Dict(\n",
    "    :topk=>HP.QuantUniform(:topk, 10., 500., 1.),\n",
    "    :shrink=>HP.LogUniform(:shrink, log(1e-3), log(1e3)),\n",
    "    :weighting=>HP.Choice(:weighting, \n",
    "        [\n",
    "            Dict(:weighting=>:dummy, :weighting_at_inference=>false),\n",
    "            Dict(:weighting=>:tfidf, :weighting_at_inference=>false),\n",
    "            Dict(:weighting=>:bm25, :weighting_at_inference=>HP.Choice(:weighting_at_inference, [true, false]))\n",
    "        ]\n",
    "    ),\n",
    "    :normalize=>HP.Choice(:normalize, [true, false]),\n",
    "    :normalize_similarity=>HP.Choice(:normalize_similarity, [true, false])\n",
    ")"
   ],
   "outputs": [
    {
     "output_type": "execute_result",
     "data": {
      "text/plain": [
       "Dict{Symbol, TreeParzen.Types.AbstractDelayed} with 5 entries:\n",
       "  :weighting            => Choice(Param(:weighting, RandIndex(3)), Dict{Symbol,…\n",
       "  :topk                 => QuantUniform(:topk, QuantUniform(10.0, 500.0, 1.0))\n",
       "  :normalize            => Choice(Param(:normalize, RandIndex(2)), Bool[1, 0])\n",
       "  :normalize_similarity => Choice(Param(:normalize_similarity, RandIndex(2)), B…\n",
       "  :shrink               => LogUniform(:shrink, LogUniform(-6.90776, 6.90776))"
      ]
     },
     "metadata": {},
     "execution_count": 7
    }
   ],
   "metadata": {}
  },
  {
   "cell_type": "code",
   "execution_count": 8,
   "source": [
    "function invert_output(params)\n",
    "    k = convert(Int, params[:topk])\n",
    "    model = ItemkNN(k, params[:shrink],params[:weighting][:weighting],params[:weighting][:weighting_at_inference],params[:normalize],params[:normalize_similarity])\n",
    "    result = evaluate_u2i(model, train_table, valid_table, metrics, 10, col_user=:userid, col_item=:movieid, col_rating=:rating, drop_history=true)\n",
    "    @info params, result\n",
    "    return -result[:ndcg]\n",
    "end"
   ],
   "outputs": [
    {
     "output_type": "execute_result",
     "data": {
      "text/plain": [
       "invert_output (generic function with 1 method)"
      ]
     },
     "metadata": {},
     "execution_count": 8
    }
   ],
   "metadata": {}
  },
  {
   "cell_type": "code",
   "execution_count": 9,
   "source": [
    "best = fmin(invert_output, space, 100, logging_interval=-1)"
   ],
   "outputs": [
    {
     "output_type": "stream",
     "name": "stderr",
     "text": [
      "┌ Info: (Dict{Symbol, Any}(:weighting => Dict{Symbol, Any}(:weighting => :bm25, :weighting_at_inference => true), :topk => 244.0, :normalize => false, :normalize_similarity => true, :shrink => 0.08889649400194267), (recall = 0.16726506459396742, precision = 0.19617021276595664, ndcg = 0.2352782433710405))\n",
      "└ @ Main In[8]:5\n",
      "┌ Info: (Dict{Symbol, Any}(:weighting => Dict{Symbol, Any}(:weighting => :dummy, :weighting_at_inference => false), :topk => 439.0, :normalize => true, :normalize_similarity => false, :shrink => 255.10416104188548), (recall = 0.14910090825488115, precision = 0.17351063829787158, ndcg = 0.21904387894039185))\n",
      "└ @ Main In[8]:5\n",
      "┌ Info: (Dict{Symbol, Any}(:weighting => Dict{Symbol, Any}(:weighting => :tfidf, :weighting_at_inference => false), :topk => 203.0, :normalize => false, :normalize_similarity => true, :shrink => 0.0012425645571008473), (recall = 0.16640877284141148, precision = 0.18180851063829703, ndcg = 0.2285782440878047))\n",
      "└ @ Main In[8]:5\n",
      "┌ Info: (Dict{Symbol, Any}(:weighting => Dict{Symbol, Any}(:weighting => :dummy, :weighting_at_inference => false), :topk => 52.0, :normalize => true, :normalize_similarity => false, :shrink => 0.0028112266166039905), (recall = 0.1673188503160992, precision = 0.18308510638297806, ndcg = 0.23340428767250554))\n",
      "└ @ Main In[8]:5\n",
      "┌ Info: (Dict{Symbol, Any}(:weighting => Dict{Symbol, Any}(:weighting => :tfidf, :weighting_at_inference => false), :topk => 214.0, :normalize => true, :normalize_similarity => true, :shrink => 7.087327223871402), (recall = 0.1865440599948403, precision = 0.20148936170212664, ndcg = 0.2582379464238945))\n",
      "└ @ Main In[8]:5\n",
      "┌ Info: (Dict{Symbol, Any}(:weighting => Dict{Symbol, Any}(:weighting => :bm25, :weighting_at_inference => false), :topk => 229.0, :normalize => false, :normalize_similarity => false, :shrink => 144.80001574679065), (recall = 0.17797028196724413, precision = 0.20531914893616904, ndcg = 0.2497978649227217))\n",
      "└ @ Main In[8]:5\n",
      "┌ Info: (Dict{Symbol, Any}(:weighting => Dict{Symbol, Any}(:weighting => :dummy, :weighting_at_inference => false), :topk => 100.0, :normalize => true, :normalize_similarity => true, :shrink => 0.18715606722102013), (recall = 0.17362829854813086, precision = 0.1895744680851055, ndcg = 0.24188325477627742))\n",
      "└ @ Main In[8]:5\n",
      "┌ Info: (Dict{Symbol, Any}(:weighting => Dict{Symbol, Any}(:weighting => :bm25, :weighting_at_inference => false), :topk => 358.0, :normalize => true, :normalize_similarity => true, :shrink => 0.002582779009313792), (recall = 0.18921283250760043, precision = 0.2047872340425523, ndcg = 0.25934285445021404))\n",
      "└ @ Main In[8]:5\n",
      "┌ Info: (Dict{Symbol, Any}(:weighting => Dict{Symbol, Any}(:weighting => :dummy, :weighting_at_inference => false), :topk => 409.0, :normalize => false, :normalize_similarity => true, :shrink => 11.15286458102084), (recall = 0.15370826154262485, precision = 0.17595744680850978, ndcg = 0.22000049979090108))\n",
      "└ @ Main In[8]:5\n",
      "┌ Info: (Dict{Symbol, Any}(:weighting => Dict{Symbol, Any}(:weighting => :bm25, :weighting_at_inference => false), :topk => 407.0, :normalize => false, :normalize_similarity => true, :shrink => 12.873037853757337), (recall = 0.18056429017312378, precision = 0.20957446808510538, ndcg = 0.24925740527004694))\n",
      "└ @ Main In[8]:5\n",
      "┌ Info: (Dict{Symbol, Any}(:weighting => Dict{Symbol, Any}(:weighting => :bm25, :weighting_at_inference => true), :topk => 297.0, :normalize => true, :normalize_similarity => false, :shrink => 0.8010281926410224), (recall = 0.18547557129258277, precision = 0.20085106382978637, ndcg = 0.25264290830356695))\n",
      "└ @ Main In[8]:5\n",
      "┌ Info: (Dict{Symbol, Any}(:weighting => Dict{Symbol, Any}(:weighting => :tfidf, :weighting_at_inference => false), :topk => 263.0, :normalize => true, :normalize_similarity => false, :shrink => 0.0013364041006199991), (recall = 0.18340899105601433, precision = 0.19819148936170122, ndcg = 0.25225947425294837))\n",
      "└ @ Main In[8]:5\n",
      "┌ Info: (Dict{Symbol, Any}(:weighting => Dict{Symbol, Any}(:weighting => :tfidf, :weighting_at_inference => false), :topk => 138.0, :normalize => true, :normalize_similarity => true, :shrink => 0.0032267879690756887), (recall = 0.1872803607799393, precision = 0.19999999999999915, ndcg = 0.2561271991391986))\n",
      "└ @ Main In[8]:5\n",
      "┌ Info: (Dict{Symbol, Any}(:weighting => Dict{Symbol, Any}(:weighting => :tfidf, :weighting_at_inference => false), :topk => 467.0, :normalize => false, :normalize_similarity => true, :shrink => 0.1759468285542923), (recall = 0.1665175708343824, precision = 0.18127659574468, ndcg = 0.22830304327726123))\n",
      "└ @ Main In[8]:5\n",
      "┌ Info: (Dict{Symbol, Any}(:weighting => Dict{Symbol, Any}(:weighting => :bm25, :weighting_at_inference => false), :topk => 345.0, :normalize => false, :normalize_similarity => false, :shrink => 0.039665607057597044), (recall = 0.1773174226648599, precision = 0.20734042553191376, ndcg = 0.2492259560653164))\n",
      "└ @ Main In[8]:5\n",
      "┌ Info: (Dict{Symbol, Any}(:weighting => Dict{Symbol, Any}(:weighting => :tfidf, :weighting_at_inference => false), :topk => 191.0, :normalize => false, :normalize_similarity => true, :shrink => 250.2030468024594), (recall = 0.16632752712040436, precision = 0.18180851063829703, ndcg = 0.22861961969547254))\n",
      "└ @ Main In[8]:5\n",
      "┌ Info: (Dict{Symbol, Any}(:weighting => Dict{Symbol, Any}(:weighting => :bm25, :weighting_at_inference => true), :topk => 211.0, :normalize => true, :normalize_similarity => false, :shrink => 818.1226940498697), (recall = 0.17976651963572587, precision = 0.2035106382978712, ndcg = 0.24871607895406106))\n",
      "└ @ Main In[8]:5\n",
      "┌ Info: (Dict{Symbol, Any}(:weighting => Dict{Symbol, Any}(:weighting => :tfidf, :weighting_at_inference => false), :topk => 139.0, :normalize => false, :normalize_similarity => false, :shrink => 0.09899095038862474), (recall = 0.15690151723840096, precision = 0.17446808510638198, ndcg = 0.22040194299719992))\n",
      "└ @ Main In[8]:5\n",
      "┌ Info: (Dict{Symbol, Any}(:weighting => Dict{Symbol, Any}(:weighting => :bm25, :weighting_at_inference => false), :topk => 43.0, :normalize => false, :normalize_similarity => true, :shrink => 10.632881743431115), (recall = 0.1679189475145408, precision = 0.19117021276595672, ndcg = 0.2294433218232718))\n",
      "└ @ Main In[8]:5\n",
      "┌ Info: (Dict{Symbol, Any}(:weighting => Dict{Symbol, Any}(:weighting => :bm25, :weighting_at_inference => true), :topk => 439.0, :normalize => true, :normalize_similarity => false, :shrink => 0.05341687453623977), (recall = 0.1880934094333908, precision = 0.20436170212765878, ndcg = 0.2554808279011451))\n",
      "└ @ Main In[8]:5\n",
      "┌ Info: (Dict{Symbol, Any}(:weighting => Dict{Symbol, Any}(:weighting => :tfidf, :weighting_at_inference => false), :topk => 353.0, :normalize => true, :normalize_similarity => true, :shrink => 2.3105538395447796), (recall = 0.18859975310898264, precision = 0.20425531914893538, ndcg = 0.2586240718144842))\n",
      "└ @ Main In[8]:5\n",
      "┌ Info: (Dict{Symbol, Any}(:weighting => Dict{Symbol, Any}(:weighting => :tfidf, :weighting_at_inference => false), :topk => 346.0, :normalize => true, :normalize_similarity => true, :shrink => 0.013402948663749217), (recall = 0.18757530945750928, precision = 0.20287234042553112, ndcg = 0.25803201012776816))\n",
      "└ @ Main In[8]:5\n",
      "┌ Info: (Dict{Symbol, Any}(:weighting => Dict{Symbol, Any}(:weighting => :tfidf, :weighting_at_inference => false), :topk => 344.0, :normalize => true, :normalize_similarity => true, :shrink => 2.203167861057871), (recall = 0.18771048276526286, precision = 0.20319148936170126, ndcg = 0.25801401694010356))\n",
      "└ @ Main In[8]:5\n",
      "┌ Info: (Dict{Symbol, Any}(:weighting => Dict{Symbol, Any}(:weighting => :bm25, :weighting_at_inference => true), :topk => 294.0, :normalize => true, :normalize_similarity => true, :shrink => 0.6926204815752278), (recall = 0.18368057971119156, precision = 0.2021276595744671, ndcg = 0.2516063605370561))\n",
      "└ @ Main In[8]:5\n",
      "┌ Info: (Dict{Symbol, Any}(:weighting => Dict{Symbol, Any}(:weighting => :bm25, :weighting_at_inference => true), :topk => 488.0, :normalize => true, :normalize_similarity => true, :shrink => 46.12626227628972), (recall = 0.18356767932820447, precision = 0.2043617021276587, ndcg = 0.25183548581179277))\n",
      "└ @ Main In[8]:5\n",
      "┌ Info: (Dict{Symbol, Any}(:weighting => Dict{Symbol, Any}(:weighting => :tfidf, :weighting_at_inference => false), :topk => 386.0, :normalize => true, :normalize_similarity => true, :shrink => 2.0279399058391645), (recall = 0.18763216031804977, precision = 0.20265957446808433, ndcg = 0.25680463304458045))\n",
      "└ @ Main In[8]:5\n",
      "┌ Info: (Dict{Symbol, Any}(:weighting => Dict{Symbol, Any}(:weighting => :dummy, :weighting_at_inference => false), :topk => 297.0, :normalize => true, :normalize_similarity => true, :shrink => 0.011286761396775083), (recall = 0.17377775123383668, precision = 0.18819148936170121, ndcg = 0.24065594715470465))\n",
      "└ @ Main In[8]:5\n",
      "┌ Info: (Dict{Symbol, Any}(:weighting => Dict{Symbol, Any}(:weighting => :bm25, :weighting_at_inference => true), :topk => 371.0, :normalize => true, :normalize_similarity => true, :shrink => 0.3716263407522711), (recall = 0.1855166140482781, precision = 0.20436170212765872, ndcg = 0.2522838720862917))\n",
      "└ @ Main In[8]:5\n",
      "┌ Info: (Dict{Symbol, Any}(:weighting => Dict{Symbol, Any}(:weighting => :tfidf, :weighting_at_inference => false), :topk => 311.0, :normalize => true, :normalize_similarity => true, :shrink => 2.61617783240122), (recall = 0.18751353048275182, precision = 0.20276595744680756, ndcg = 0.25782078880454107))\n",
      "└ @ Main In[8]:5\n",
      "┌ Info: (Dict{Symbol, Any}(:weighting => Dict{Symbol, Any}(:weighting => :tfidf, :weighting_at_inference => false), :topk => 485.0, :normalize => true, :normalize_similarity => true, :shrink => 33.790270557870954), (recall = 0.18924544397309423, precision = 0.20489361702127573, ndcg = 0.2590938806375941))\n",
      "└ @ Main In[8]:5\n",
      "┌ Info: (Dict{Symbol, Any}(:weighting => Dict{Symbol, Any}(:weighting => :tfidf, :weighting_at_inference => false), :topk => 496.0, :normalize => true, :normalize_similarity => true, :shrink => 880.404792540767), (recall = 0.18143733552029764, precision = 0.19851063829787158, ndcg = 0.24962992743200416))\n",
      "└ @ Main In[8]:5\n",
      "┌ Info: (Dict{Symbol, Any}(:weighting => Dict{Symbol, Any}(:weighting => :tfidf, :weighting_at_inference => false), :topk => 451.0, :normalize => true, :normalize_similarity => true, :shrink => 33.12108925800419), (recall = 0.18809584776114172, precision = 0.20361702127659487, ndcg = 0.2577897557691675))\n",
      "└ @ Main In[8]:5\n",
      "┌ Info: (Dict{Symbol, Any}(:weighting => Dict{Symbol, Any}(:weighting => :dummy, :weighting_at_inference => false), :topk => 408.0, :normalize => true, :normalize_similarity => true, :shrink => 3.6989133001783623), (recall = 0.17605953439881153, precision = 0.19138297872340332, ndcg = 0.24501541057551945))\n",
      "└ @ Main In[8]:5\n",
      "┌ Info: (Dict{Symbol, Any}(:weighting => Dict{Symbol, Any}(:weighting => :tfidf, :weighting_at_inference => false), :topk => 322.0, :normalize => true, :normalize_similarity => true, :shrink => 54.16745216630885), (recall = 0.18807816998788374, precision = 0.2040425531914884, ndcg = 0.2586686308830628))\n",
      "└ @ Main In[8]:5\n",
      "┌ Info: (Dict{Symbol, Any}(:weighting => Dict{Symbol, Any}(:weighting => :bm25, :weighting_at_inference => true), :topk => 495.0, :normalize => true, :normalize_similarity => true, :shrink => 113.51683486539494), (recall = 0.18598645309272183, precision = 0.20627659574467977, ndcg = 0.2533058580942554))\n",
      "└ @ Main In[8]:5\n",
      "┌ Info: (Dict{Symbol, Any}(:weighting => Dict{Symbol, Any}(:weighting => :tfidf, :weighting_at_inference => false), :topk => 374.0, :normalize => true, :normalize_similarity => true, :shrink => 27.398395980444405), (recall = 0.1881842733450131, precision = 0.20361702127659476, ndcg = 0.258637139429747))\n",
      "└ @ Main In[8]:5\n",
      "┌ Info: (Dict{Symbol, Any}(:weighting => Dict{Symbol, Any}(:weighting => :tfidf, :weighting_at_inference => false), :topk => 326.0, :normalize => true, :normalize_similarity => true, :shrink => 0.013497702257427103), (recall = 0.18729202183115318, precision = 0.20244680851063743, ndcg = 0.2576407614765306))\n",
      "└ @ Main In[8]:5\n",
      "┌ Info: (Dict{Symbol, Any}(:weighting => Dict{Symbol, Any}(:weighting => :tfidf, :weighting_at_inference => false), :topk => 459.0, :normalize => true, :normalize_similarity => true, :shrink => 17.24873680305441), (recall = 0.18839985425296757, precision = 0.2029787234042544, ndcg = 0.25727269205399855))\n",
      "└ @ Main In[8]:5\n",
      "┌ Info: (Dict{Symbol, Any}(:weighting => Dict{Symbol, Any}(:weighting => :bm25, :weighting_at_inference => true), :topk => 378.0, :normalize => true, :normalize_similarity => true, :shrink => 4.671101363113948), (recall = 0.18423836579670885, precision = 0.20414893617021185, ndcg = 0.25226714019569213))\n",
      "└ @ Main In[8]:5\n",
      "┌ Info: (Dict{Symbol, Any}(:weighting => Dict{Symbol, Any}(:weighting => :tfidf, :weighting_at_inference => false), :topk => 260.0, :normalize => true, :normalize_similarity => true, :shrink => 96.9806551428723), (recall = 0.18573445028925387, precision = 0.2009574468085097, ndcg = 0.25704677780522317))\n",
      "└ @ Main In[8]:5\n",
      "┌ Info: (Dict{Symbol, Any}(:weighting => Dict{Symbol, Any}(:weighting => :tfidf, :weighting_at_inference => false), :topk => 319.0, :normalize => true, :normalize_similarity => true, :shrink => 422.3446051843512), (recall = 0.18405630450701607, precision = 0.2020212765957438, ndcg = 0.2542023862860529))\n",
      "└ @ Main In[8]:5\n",
      "┌ Info: (Dict{Symbol, Any}(:weighting => Dict{Symbol, Any}(:weighting => :bm25, :weighting_at_inference => true), :topk => 469.0, :normalize => true, :normalize_similarity => true, :shrink => 28.23146830523059), (recall = 0.18412676735005232, precision = 0.20329787234042476, ndcg = 0.25109826713720573))\n",
      "└ @ Main In[8]:5\n",
      "┌ Info: (Dict{Symbol, Any}(:weighting => Dict{Symbol, Any}(:weighting => :tfidf, :weighting_at_inference => false), :topk => 424.0, :normalize => true, :normalize_similarity => true, :shrink => 1.773291206516042), (recall = 0.18883126524081773, precision = 0.20489361702127562, ndcg = 0.25847257925745726))\n",
      "└ @ Main In[8]:5\n",
      "┌ Info: (Dict{Symbol, Any}(:weighting => Dict{Symbol, Any}(:weighting => :dummy, :weighting_at_inference => false), :topk => 164.0, :normalize => true, :normalize_similarity => true, :shrink => 0.006263907483831819), (recall = 0.17487904021921682, precision = 0.18957446808510547, ndcg = 0.24189928862977442))\n",
      "└ @ Main In[8]:5\n",
      "┌ Info: (Dict{Symbol, Any}(:weighting => Dict{Symbol, Any}(:weighting => :tfidf, :weighting_at_inference => false), :topk => 274.0, :normalize => true, :normalize_similarity => true, :shrink => 0.023708319557059255), (recall = 0.18591032477463568, precision = 0.2023404255319141, ndcg = 0.25736852730506277))\n",
      "└ @ Main In[8]:5\n",
      "┌ Info: (Dict{Symbol, Any}(:weighting => Dict{Symbol, Any}(:weighting => :tfidf, :weighting_at_inference => false), :topk => 368.0, :normalize => true, :normalize_similarity => true, :shrink => 1.135176538454345), (recall = 0.18822833687456297, precision = 0.20287234042553115, ndcg = 0.2577091949411697))\n",
      "└ @ Main In[8]:5\n",
      "┌ Info: (Dict{Symbol, Any}(:weighting => Dict{Symbol, Any}(:weighting => :tfidf, :weighting_at_inference => false), :topk => 389.0, :normalize => true, :normalize_similarity => true, :shrink => 6.744753369064296), (recall = 0.1878754014548609, precision = 0.20319148936170134, ndcg = 0.25721247809567915))\n",
      "└ @ Main In[8]:5\n",
      "┌ Info: (Dict{Symbol, Any}(:weighting => Dict{Symbol, Any}(:weighting => :bm25, :weighting_at_inference => true), :topk => 334.0, :normalize => true, :normalize_similarity => true, :shrink => 1.3289965254183929), (recall = 0.18327119745842574, precision = 0.20297872340425446, ndcg = 0.2510892209945477))\n",
      "└ @ Main In[8]:5\n",
      "┌ Info: (Dict{Symbol, Any}(:weighting => Dict{Symbol, Any}(:weighting => :tfidf, :weighting_at_inference => false), :topk => 475.0, :normalize => true, :normalize_similarity => true, :shrink => 59.771564768062625), (recall = 0.18955078272950857, precision = 0.20478723404255234, ndcg = 0.25856943280344485))\n",
      "└ @ Main In[8]:5\n",
      "┌ Info: (Dict{Symbol, Any}(:weighting => Dict{Symbol, Any}(:weighting => :tfidf, :weighting_at_inference => false), :topk => 428.0, :normalize => true, :normalize_similarity => true, :shrink => 67.0440008343328), (recall = 0.1881677398432175, precision = 0.20340425531914816, ndcg = 0.2575540280740489))\n",
      "└ @ Main In[8]:5\n",
      "┌ Info: (Dict{Symbol, Any}(:weighting => Dict{Symbol, Any}(:weighting => :bm25, :weighting_at_inference => true), :topk => 355.0, :normalize => true, :normalize_similarity => true, :shrink => 0.4423442960858234), (recall = 0.1855993193307696, precision = 0.20468085106382883, ndcg = 0.25206090000118303))\n",
      "└ @ Main In[8]:5\n",
      "┌ Info: (Dict{Symbol, Any}(:weighting => Dict{Symbol, Any}(:weighting => :tfidf, :weighting_at_inference => false), :topk => 399.0, :normalize => true, :normalize_similarity => true, :shrink => 20.19644370512853), (recall = 0.18908203971505622, precision = 0.203936170212765, ndcg = 0.25824883559112777))\n",
      "└ @ Main In[8]:5\n",
      "┌ Info: (Dict{Symbol, Any}(:weighting => Dict{Symbol, Any}(:weighting => :tfidf, :weighting_at_inference => false), :topk => 425.0, :normalize => true, :normalize_similarity => true, :shrink => 448.2042094732886), (recall = 0.18602974489027, precision = 0.20425531914893533, ndcg = 0.2558863390212061))\n",
      "└ @ Main In[8]:5\n",
      "┌ Info: (Dict{Symbol, Any}(:weighting => Dict{Symbol, Any}(:weighting => :dummy, :weighting_at_inference => false), :topk => 449.0, :normalize => true, :normalize_similarity => true, :shrink => 39.66923646991766), (recall = 0.17820679404327103, precision = 0.19446808510638214, ndcg = 0.24616843600549052))\n",
      "└ @ Main In[8]:5\n",
      "┌ Info: (Dict{Symbol, Any}(:weighting => Dict{Symbol, Any}(:weighting => :tfidf, :weighting_at_inference => false), :topk => 280.0, :normalize => true, :normalize_similarity => true, :shrink => 21.349031773363965), (recall = 0.18664691010437692, precision = 0.20287234042553104, ndcg = 0.25809422889908323))\n",
      "└ @ Main In[8]:5\n",
      "┌ Info: (Dict{Symbol, Any}(:weighting => Dict{Symbol, Any}(:weighting => :bm25, :weighting_at_inference => true), :topk => 356.0, :normalize => true, :normalize_similarity => true, :shrink => 5.689826958005611), (recall = 0.1867379320674602, precision = 0.20606382978723314, ndcg = 0.25381139104740214))\n",
      "└ @ Main In[8]:5\n",
      "┌ Info: (Dict{Symbol, Any}(:weighting => Dict{Symbol, Any}(:weighting => :tfidf, :weighting_at_inference => false), :topk => 485.0, :normalize => true, :normalize_similarity => true, :shrink => 0.003730498520864264), (recall = 0.18787891381322194, precision = 0.20382978723404155, ndcg = 0.2579115836647322))\n",
      "└ @ Main In[8]:5\n",
      "┌ Info: (Dict{Symbol, Any}(:weighting => Dict{Symbol, Any}(:weighting => :tfidf, :weighting_at_inference => false), :topk => 479.0, :normalize => true, :normalize_similarity => true, :shrink => 20.99570401945692), (recall = 0.1885992071954794, precision = 0.2041489361702119, ndcg = 0.2579184900369108))\n",
      "└ @ Main In[8]:5\n",
      "┌ Info: (Dict{Symbol, Any}(:weighting => Dict{Symbol, Any}(:weighting => :tfidf, :weighting_at_inference => false), :topk => 314.0, :normalize => true, :normalize_similarity => true, :shrink => 0.02250359613777375), (recall = 0.18664793690949089, precision = 0.20223404255319052, ndcg = 0.2572362994467946))\n",
      "└ @ Main In[8]:5\n",
      "┌ Info: (Dict{Symbol, Any}(:weighting => Dict{Symbol, Any}(:weighting => :bm25, :weighting_at_inference => true), :topk => 396.0, :normalize => true, :normalize_similarity => true, :shrink => 0.0017220573150066318), (recall = 0.18502658900117838, precision = 0.20521276595744598, ndcg = 0.25224990417141774))\n",
      "└ @ Main In[8]:5\n",
      "┌ Info: (Dict{Symbol, Any}(:weighting => Dict{Symbol, Any}(:weighting => :tfidf, :weighting_at_inference => false), :topk => 241.0, :normalize => true, :normalize_similarity => true, :shrink => 0.3364532057618936), (recall = 0.1867566919808693, precision = 0.2013829787234033, ndcg = 0.2576107185120705))\n",
      "└ @ Main In[8]:5\n",
      "┌ Info: (Dict{Symbol, Any}(:weighting => Dict{Symbol, Any}(:weighting => :tfidf, :weighting_at_inference => false), :topk => 74.0, :normalize => true, :normalize_similarity => true, :shrink => 76.94940288435004), (recall = 0.18546792734691317, precision = 0.19957446808510562, ndcg = 0.2555422380648413))\n",
      "└ @ Main In[8]:5\n",
      "┌ Info: (Dict{Symbol, Any}(:weighting => Dict{Symbol, Any}(:weighting => :dummy, :weighting_at_inference => false), :topk => 15.0, :normalize => false, :normalize_similarity => false, :shrink => 2.594292810108565), (recall = 0.14032132467912, precision = 0.1657446808510632, ndcg = 0.20651796485851748))\n",
      "└ @ Main In[8]:5\n",
      "┌ Info: (Dict{Symbol, Any}(:weighting => Dict{Symbol, Any}(:weighting => :tfidf, :weighting_at_inference => false), :topk => 278.0, :normalize => true, :normalize_similarity => true, :shrink => 0.005125772505511088), (recall = 0.18620617907611467, precision = 0.20234042553191411, ndcg = 0.25738100216972126))\n",
      "└ @ Main In[8]:5\n",
      "┌ Info: (Dict{Symbol, Any}(:weighting => Dict{Symbol, Any}(:weighting => :bm25, :weighting_at_inference => true), :topk => 426.0, :normalize => true, :normalize_similarity => true, :shrink => 188.53926525844315), (recall = 0.18408323060205972, precision = 0.20489361702127537, ndcg = 0.25177864603388317))\n",
      "└ @ Main In[8]:5\n",
      "┌ Info: (Dict{Symbol, Any}(:weighting => Dict{Symbol, Any}(:weighting => :tfidf, :weighting_at_inference => false), :topk => 367.0, :normalize => true, :normalize_similarity => true, :shrink => 514.3605065909836), (recall = 0.1837529685205678, precision = 0.20265957446808425, ndcg = 0.2540148810340417))\n",
      "└ @ Main In[8]:5\n",
      "┌ Info: (Dict{Symbol, Any}(:weighting => Dict{Symbol, Any}(:weighting => :tfidf, :weighting_at_inference => false), :topk => 310.0, :normalize => true, :normalize_similarity => true, :shrink => 53.15022218529054), (recall = 0.1869471218686215, precision = 0.20223404255319047, ndcg = 0.25735733563754476))\n",
      "└ @ Main In[8]:5\n",
      "┌ Info: (Dict{Symbol, Any}(:weighting => Dict{Symbol, Any}(:weighting => :tfidf, :weighting_at_inference => false), :topk => 332.0, :normalize => true, :normalize_similarity => true, :shrink => 18.071797314665748), (recall = 0.18690897361832426, precision = 0.2029787234042544, ndcg = 0.2570623144471358))\n",
      "└ @ Main In[8]:5\n",
      "┌ Info: (Dict{Symbol, Any}(:weighting => Dict{Symbol, Any}(:weighting => :tfidf, :weighting_at_inference => false), :topk => 276.0, :normalize => true, :normalize_similarity => true, :shrink => 63.137668818180394), (recall = 0.18593609846506004, precision = 0.20170212765957346, ndcg = 0.25705759703273673))\n",
      "└ @ Main In[8]:5\n",
      "┌ Info: (Dict{Symbol, Any}(:weighting => Dict{Symbol, Any}(:weighting => :tfidf, :weighting_at_inference => false), :topk => 174.0, :normalize => true, :normalize_similarity => true, :shrink => 27.13423761848906), (recall = 0.18698365944151515, precision = 0.20170212765957352, ndcg = 0.2582032368107057))\n",
      "└ @ Main In[8]:5\n",
      "┌ Info: (Dict{Symbol, Any}(:weighting => Dict{Symbol, Any}(:weighting => :tfidf, :weighting_at_inference => false), :topk => 235.0, :normalize => true, :normalize_similarity => true, :shrink => 8.262278005899946), (recall = 0.18663715363959357, precision = 0.20127659574467993, ndcg = 0.25772057111682123))\n",
      "└ @ Main In[8]:5\n",
      "┌ Info: (Dict{Symbol, Any}(:weighting => Dict{Symbol, Any}(:weighting => :tfidf, :weighting_at_inference => false), :topk => 288.0, :normalize => true, :normalize_similarity => true, :shrink => 3.826854405482723), (recall = 0.18671237132457735, precision = 0.20255319148936085, ndcg = 0.2574769423674209))\n",
      "└ @ Main In[8]:5\n",
      "┌ Info: (Dict{Symbol, Any}(:weighting => Dict{Symbol, Any}(:weighting => :tfidf, :weighting_at_inference => false), :topk => 230.0, :normalize => true, :normalize_similarity => true, :shrink => 1.3557833629426266), (recall = 0.187454367854486, precision = 0.20202127659574368, ndcg = 0.25843389571889114))\n",
      "└ @ Main In[8]:5\n",
      "┌ Info: (Dict{Symbol, Any}(:weighting => Dict{Symbol, Any}(:weighting => :tfidf, :weighting_at_inference => false), :topk => 253.0, :normalize => true, :normalize_similarity => true, :shrink => 20.5524166768758), (recall = 0.186332839701813, precision = 0.20223404255319066, ndcg = 0.25744865698518715))\n",
      "└ @ Main In[8]:5\n",
      "┌ Info: (Dict{Symbol, Any}(:weighting => Dict{Symbol, Any}(:weighting => :tfidf, :weighting_at_inference => false), :topk => 224.0, :normalize => true, :normalize_similarity => true, :shrink => 315.7478996191588), (recall = 0.18551157285820719, precision = 0.20244680851063743, ndcg = 0.256666950751449))\n",
      "└ @ Main In[8]:5\n",
      "┌ Info: (Dict{Symbol, Any}(:weighting => Dict{Symbol, Any}(:weighting => :tfidf, :weighting_at_inference => false), :topk => 306.0, :normalize => true, :normalize_similarity => true, :shrink => 82.01336269344473), (recall = 0.18663051149822735, precision = 0.20287234042553096, ndcg = 0.25819381395680424))\n",
      "└ @ Main In[8]:5\n",
      "┌ Info: (Dict{Symbol, Any}(:weighting => Dict{Symbol, Any}(:weighting => :tfidf, :weighting_at_inference => false), :topk => 330.0, :normalize => true, :normalize_similarity => true, :shrink => 149.10623043316068), (recall = 0.18747501366000827, precision = 0.20404255319148853, ndcg = 0.2582943924904434))\n",
      "└ @ Main In[8]:5\n",
      "┌ Info: (Dict{Symbol, Any}(:weighting => Dict{Symbol, Any}(:weighting => :tfidf, :weighting_at_inference => false), :topk => 327.0, :normalize => true, :normalize_similarity => true, :shrink => 105.98759144597186), (recall = 0.18721163164644283, precision = 0.2032978723404247, ndcg = 0.2581623118824712))\n",
      "└ @ Main In[8]:5\n",
      "┌ Info: (Dict{Symbol, Any}(:weighting => Dict{Symbol, Any}(:weighting => :tfidf, :weighting_at_inference => false), :topk => 180.0, :normalize => true, :normalize_similarity => true, :shrink => 710.845384886091), (recall = 0.17935510196428248, precision = 0.19872340425531845, ndcg = 0.24947429210114236))\n",
      "└ @ Main In[8]:5\n",
      "┌ Info: (Dict{Symbol, Any}(:weighting => Dict{Symbol, Any}(:weighting => :tfidf, :weighting_at_inference => false), :topk => 337.0, :normalize => true, :normalize_similarity => true, :shrink => 8.207704326086976), (recall = 0.18750921997907305, precision = 0.20287234042553104, ndcg = 0.25831002113879176))\n",
      "└ @ Main In[8]:5\n",
      "┌ Info: (Dict{Symbol, Any}(:weighting => Dict{Symbol, Any}(:weighting => :tfidf, :weighting_at_inference => false), :topk => 363.0, :normalize => true, :normalize_similarity => true, :shrink => 32.74444424452485), (recall = 0.18916739244965258, precision = 0.20436170212765864, ndcg = 0.2591056622764693))\n",
      "└ @ Main In[8]:5\n",
      "┌ Info: (Dict{Symbol, Any}(:weighting => Dict{Symbol, Any}(:weighting => :tfidf, :weighting_at_inference => false), :topk => 480.0, :normalize => true, :normalize_similarity => true, :shrink => 32.45421694895795), (recall = 0.18850985160288194, precision = 0.20404255319148848, ndcg = 0.25847017363588237))\n",
      "└ @ Main In[8]:5\n",
      "┌ Info: (Dict{Symbol, Any}(:weighting => Dict{Symbol, Any}(:weighting => :tfidf, :weighting_at_inference => false), :topk => 443.0, :normalize => true, :normalize_similarity => true, :shrink => 14.801007996254718), (recall = 0.188055267327803, precision = 0.20382978723404155, ndcg = 0.25790235803050415))\n",
      "└ @ Main In[8]:5\n",
      "┌ Info: (Dict{Symbol, Any}(:weighting => Dict{Symbol, Any}(:weighting => :tfidf, :weighting_at_inference => false), :topk => 458.0, :normalize => true, :normalize_similarity => true, :shrink => 1.7135852496800543), (recall = 0.18752287253695524, precision = 0.20414893617021176, ndcg = 0.2580896139712691))\n",
      "└ @ Main In[8]:5\n",
      "┌ Info: (Dict{Symbol, Any}(:weighting => Dict{Symbol, Any}(:weighting => :tfidf, :weighting_at_inference => false), :topk => 384.0, :normalize => true, :normalize_similarity => true, :shrink => 8.014547194203198), (recall = 0.18792142767530495, precision = 0.20340425531914813, ndcg = 0.2579857916854956))\n",
      "└ @ Main In[8]:5\n",
      "┌ Info: (Dict{Symbol, Any}(:weighting => Dict{Symbol, Any}(:weighting => :tfidf, :weighting_at_inference => false), :topk => 360.0, :normalize => true, :normalize_similarity => true, :shrink => 3.8579049760204307), (recall = 0.1881519746068059, precision = 0.20308510638297791, ndcg = 0.2578252220753729))\n",
      "└ @ Main In[8]:5\n",
      "┌ Info: (Dict{Symbol, Any}(:weighting => Dict{Symbol, Any}(:weighting => :tfidf, :weighting_at_inference => false), :topk => 398.0, :normalize => true, :normalize_similarity => true, :shrink => 26.21436353764364), (recall = 0.18898493185283635, precision = 0.20382978723404163, ndcg = 0.25847901172917326))\n",
      "└ @ Main In[8]:5\n",
      "┌ Info: (Dict{Symbol, Any}(:weighting => Dict{Symbol, Any}(:weighting => :tfidf, :weighting_at_inference => false), :topk => 398.0, :normalize => true, :normalize_similarity => true, :shrink => 1.6481396752795654), (recall = 0.18834946119652207, precision = 0.2029787234042545, ndcg = 0.2569571710202321))\n",
      "└ @ Main In[8]:5\n",
      "┌ Info: (Dict{Symbol, Any}(:weighting => Dict{Symbol, Any}(:weighting => :bm25, :weighting_at_inference => true), :topk => 457.0, :normalize => true, :normalize_similarity => true, :shrink => 0.8724562209764758), (recall = 0.18336850375177113, precision = 0.2024468085106374, ndcg = 0.2505377112548074))\n",
      "└ @ Main In[8]:5\n",
      "┌ Info: (Dict{Symbol, Any}(:weighting => Dict{Symbol, Any}(:weighting => :tfidf, :weighting_at_inference => false), :topk => 376.0, :normalize => true, :normalize_similarity => true, :shrink => 155.35611086493276), (recall = 0.18731101969977024, precision = 0.20351063829787153, ndcg = 0.25843192463755216))\n",
      "└ @ Main In[8]:5\n",
      "┌ Info: (Dict{Symbol, Any}(:weighting => Dict{Symbol, Any}(:weighting => :tfidf, :weighting_at_inference => false), :topk => 321.0, :normalize => true, :normalize_similarity => true, :shrink => 0.22250141126060977), (recall = 0.1869072319013355, precision = 0.20159574468085015, ndcg = 0.2568917769522755))\n",
      "└ @ Main In[8]:5\n",
      "┌ Info: (Dict{Symbol, Any}(:weighting => Dict{Symbol, Any}(:weighting => :tfidf, :weighting_at_inference => false), :topk => 476.0, :normalize => true, :normalize_similarity => true, :shrink => 0.6079155557476733), (recall = 0.18802020279346957, precision = 0.20382978723404155, ndcg = 0.2579934868660333))\n",
      "└ @ Main In[8]:5\n",
      "┌ Info: (Dict{Symbol, Any}(:weighting => Dict{Symbol, Any}(:weighting => :tfidf, :weighting_at_inference => false), :topk => 340.0, :normalize => true, :normalize_similarity => true, :shrink => 126.06062421041608), (recall = 0.18748353747257773, precision = 0.2041489361702119, ndcg = 0.2580321088349889))\n",
      "└ @ Main In[8]:5\n",
      "┌ Info: (Dict{Symbol, Any}(:weighting => Dict{Symbol, Any}(:weighting => :dummy, :weighting_at_inference => false), :topk => 417.0, :normalize => true, :normalize_similarity => true, :shrink => 35.30493719922195), (recall = 0.17876632330101186, precision = 0.19499999999999917, ndcg = 0.24708059230678714))\n",
      "└ @ Main In[8]:5\n",
      "┌ Info: (Dict{Symbol, Any}(:weighting => Dict{Symbol, Any}(:weighting => :bm25, :weighting_at_inference => true), :topk => 435.0, :normalize => false, :normalize_similarity => true, :shrink => 586.4110594500602), (recall = 0.1636642964377965, precision = 0.19606382978723336, ndcg = 0.23165736866445766))\n",
      "└ @ Main In[8]:5\n",
      "┌ Info: (Dict{Symbol, Any}(:weighting => Dict{Symbol, Any}(:weighting => :tfidf, :weighting_at_inference => false), :topk => 268.0, :normalize => true, :normalize_similarity => true, :shrink => 3.432996908604847), (recall = 0.18595084046128668, precision = 0.2024468085106374, ndcg = 0.257722956013868))\n",
      "└ @ Main In[8]:5\n",
      "┌ Info: (Dict{Symbol, Any}(:weighting => Dict{Symbol, Any}(:weighting => :tfidf, :weighting_at_inference => false), :topk => 382.0, :normalize => true, :normalize_similarity => true, :shrink => 6.536839443727386), (recall = 0.1873975416210147, precision = 0.20276595744680775, ndcg = 0.25729000869464225))\n",
      "└ @ Main In[8]:5\n",
      "┌ Info: (Dict{Symbol, Any}(:weighting => Dict{Symbol, Any}(:weighting => :tfidf, :weighting_at_inference => false), :topk => 366.0, :normalize => true, :normalize_similarity => true, :shrink => 8.422952170238847), (recall = 0.18778804636861643, precision = 0.20212765957446727, ndcg = 0.2574317521062753))\n",
      "└ @ Main In[8]:5\n",
      "┌ Info: (Dict{Symbol, Any}(:weighting => Dict{Symbol, Any}(:weighting => :bm25, :weighting_at_inference => true), :topk => 305.0, :normalize => true, :normalize_similarity => true, :shrink => 0.5264497634211864), (recall = 0.18357576917673407, precision = 0.20276595744680756, ndcg = 0.2520457394025544))\n",
      "└ @ Main In[8]:5\n",
      "┌ Info: (Dict{Symbol, Any}(:weighting => Dict{Symbol, Any}(:weighting => :tfidf, :weighting_at_inference => false), :topk => 283.0, :normalize => true, :normalize_similarity => true, :shrink => 0.28027327441026734), (recall = 0.18662831853808032, precision = 0.20202127659574382, ndcg = 0.2572926462374295))\n",
      "└ @ Main In[8]:5\n",
      "┌ Info: fmin: 100 / 100 trials carried out\n",
      "└ @ TreeParzen.API /Users/keisuke.yanagi/.julia/packages/TreeParzen/Iw2mh/src/API.jl:176\n",
      "┌ Info: Successfully completed fmin \n",
      "└ @ TreeParzen.API /Users/keisuke.yanagi/.julia/packages/TreeParzen/Iw2mh/src/API.jl:231\n"
     ]
    },
    {
     "output_type": "execute_result",
     "data": {
      "text/plain": [
       "Dict{Symbol, Any} with 5 entries:\n",
       "  :weighting            => Dict{Symbol, Any}(:weighting=>:bm25, :weighting_at_i…\n",
       "  :topk                 => 358.0\n",
       "  :normalize            => true\n",
       "  :normalize_similarity => true\n",
       "  :shrink               => 0.00258278"
      ]
     },
     "metadata": {},
     "execution_count": 9
    }
   ],
   "metadata": {}
  },
  {
   "cell_type": "code",
   "execution_count": 10,
   "source": [
    "best_model = ItemkNN(convert(Int, best[:topk]), best[:shrink],best[:weighting][:weighting],best[:weighting][:weighting_at_inference],best[:normalize],best[:normalize_similarity])\n",
    "evaluate_u2i(best_model, train_valid_table, test_table, metrics, 10, col_user=:userid, col_item=:movieid, col_rating=:rating, drop_history=true)"
   ],
   "outputs": [
    {
     "output_type": "execute_result",
     "data": {
      "text/plain": [
       "(recall = 0.21803020561045208,\n",
       " precision = 0.3284199363732762,\n",
       " ndcg = 0.39856188059055203,)"
      ]
     },
     "metadata": {},
     "execution_count": 10
    }
   ],
   "metadata": {}
  },
  {
   "cell_type": "code",
   "execution_count": null,
   "source": [],
   "outputs": [],
   "metadata": {}
  }
 ],
 "metadata": {
  "kernelspec": {
   "display_name": "Julia 1.6.0",
   "language": "julia",
   "name": "julia-1.6"
  },
  "language_info": {
   "file_extension": ".jl",
   "mimetype": "application/julia",
   "name": "julia",
   "version": "1.6.0"
  },
  "orig_nbformat": 2
 },
 "nbformat": 4,
 "nbformat_minor": 2
}