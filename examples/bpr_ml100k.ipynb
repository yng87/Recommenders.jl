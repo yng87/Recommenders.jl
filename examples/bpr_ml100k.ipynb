{
 "cells": [
  {
   "cell_type": "code",
   "execution_count": 1,
   "source": [
    "using DataFrames, TableOperations, Tables, Random\n",
    "using Recommenders: Movielens100k, load_dataset, ratio_split, BPR, evaluate_u2i, MeanPrecision, MeanRecall, MeanNDCG, fit!, predict_u2i, make_u2i_dataset"
   ],
   "outputs": [],
   "metadata": {}
  },
  {
   "cell_type": "code",
   "execution_count": 2,
   "source": [
    "ml100k = Movielens100k()\n",
    "download(ml100k)\n",
    "rating, user, movie = load_dataset(ml100k);"
   ],
   "outputs": [],
   "metadata": {}
  },
  {
   "cell_type": "code",
   "execution_count": 3,
   "source": [
    "Random.seed!(1234);\n",
    "train_valid_table, test_table = ratio_split(rating, 0.8)\n",
    "\n",
    "train_table, valid_table = ratio_split(train_valid_table, 0.8)\n",
    "length(Tables.rows(train_table)), length(Tables.rows(valid_table)), length(Tables.rows(test_table))"
   ],
   "outputs": [
    {
     "output_type": "execute_result",
     "data": {
      "text/plain": [
       "(64000, 16000, 20000)"
      ]
     },
     "metadata": {},
     "execution_count": 3
    }
   ],
   "metadata": {}
  },
  {
   "cell_type": "code",
   "execution_count": 4,
   "source": [
    "prec10 = MeanPrecision(10)\n",
    "recall10 = MeanRecall(10)\n",
    "ndcg10 = MeanNDCG(10)\n",
    "metrics = [prec10, recall10, ndcg10]"
   ],
   "outputs": [
    {
     "output_type": "execute_result",
     "data": {
      "text/plain": [
       "3-element Vector{Recommenders.MeanMetric}:\n",
       " Recommenders.MeanMetric{Recommenders.Precision}(Recommenders.Precision(10, \"precision\"))\n",
       " Recommenders.MeanMetric{Recommenders.Recall}(Recommenders.Recall(10, \"recall\"))\n",
       " Recommenders.MeanMetric{Recommenders.NDCG}(Recommenders.NDCG(10, \"ndcg\"))"
      ]
     },
     "metadata": {},
     "execution_count": 4
    }
   ],
   "metadata": {}
  },
  {
   "cell_type": "code",
   "execution_count": 5,
   "source": [
    "model = BPR(2^9, 0.015587614364453028)"
   ],
   "outputs": [
    {
     "output_type": "execute_result",
     "data": {
      "text/plain": [
       "BPR(512, Recommenders.BPRLoss(), 0.015587614364453028, nothing, nothing, nothing, nothing, nothing, nothing)"
      ]
     },
     "metadata": {},
     "execution_count": 5
    }
   ],
   "metadata": {}
  },
  {
   "cell_type": "code",
   "execution_count": 6,
   "source": [
    "evaluate_u2i(model, train_valid_table, test_table, metrics, 10, col_item=:movieid, n_epochs=128, learning_rate=0.007785000886303088, n_negatives=12, drop_history=true, verbose=16)"
   ],
   "outputs": [
    {
     "output_type": "stream",
     "name": "stderr",
     "text": [
      "┌ Info: epoch=16: train_loss=0.15129748219506578, val_metric=0.0, best_val_metric=0.0, best_epoch=1\n",
      "└ @ Recommenders /Users/keisuke.yanagi/workspace/Recommender.jl/src/model/bpr.jl:133\n",
      "┌ Info: epoch=32: train_loss=0.14974151893965998, val_metric=0.0, best_val_metric=0.0, best_epoch=1\n",
      "└ @ Recommenders /Users/keisuke.yanagi/workspace/Recommender.jl/src/model/bpr.jl:133\n",
      "┌ Info: epoch=48: train_loss=0.1485660155304567, val_metric=0.0, best_val_metric=0.0, best_epoch=1\n",
      "└ @ Recommenders /Users/keisuke.yanagi/workspace/Recommender.jl/src/model/bpr.jl:133\n",
      "┌ Info: epoch=64: train_loss=0.14852505953421827, val_metric=0.0, best_val_metric=0.0, best_epoch=1\n",
      "└ @ Recommenders /Users/keisuke.yanagi/workspace/Recommender.jl/src/model/bpr.jl:133\n",
      "┌ Info: epoch=80: train_loss=0.14878208646946864, val_metric=0.0, best_val_metric=0.0, best_epoch=1\n",
      "└ @ Recommenders /Users/keisuke.yanagi/workspace/Recommender.jl/src/model/bpr.jl:133\n",
      "┌ Info: epoch=96: train_loss=0.1492600311157595, val_metric=0.0, best_val_metric=0.0, best_epoch=1\n",
      "└ @ Recommenders /Users/keisuke.yanagi/workspace/Recommender.jl/src/model/bpr.jl:133\n",
      "┌ Info: epoch=112: train_loss=0.1487549167259875, val_metric=0.0, best_val_metric=0.0, best_epoch=1\n",
      "└ @ Recommenders /Users/keisuke.yanagi/workspace/Recommender.jl/src/model/bpr.jl:133\n",
      "┌ Info: epoch=128: train_loss=0.1492216609481166, val_metric=0.0, best_val_metric=0.0, best_epoch=1\n",
      "└ @ Recommenders /Users/keisuke.yanagi/workspace/Recommender.jl/src/model/bpr.jl:133\n"
     ]
    },
    {
     "output_type": "execute_result",
     "data": {
      "text/plain": [
       "(ndcg10 = 0.4083240486460882, precision10 = 0.34634146341463407, recall10 = 0.23163689943564778)"
      ]
     },
     "metadata": {},
     "execution_count": 6
    }
   ],
   "metadata": {}
  },
  {
   "cell_type": "code",
   "execution_count": null,
   "source": [],
   "outputs": [],
   "metadata": {}
  }
 ],
 "metadata": {
  "orig_nbformat": 4,
  "language_info": {
   "file_extension": ".jl",
   "name": "julia",
   "mimetype": "application/julia",
   "version": "1.6.0"
  },
  "kernelspec": {
   "name": "julia-1.6",
   "display_name": "Julia 1.6.0",
   "language": "julia"
  },
  "interpreter": {
   "hash": "767d51c1340bd893661ea55ea3124f6de3c7a262a8b4abca0554b478b1e2ff90"
  }
 },
 "nbformat": 4,
 "nbformat_minor": 2
}