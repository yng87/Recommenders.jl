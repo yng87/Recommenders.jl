{
 "cells": [
  {
   "cell_type": "code",
   "execution_count": 1,
   "source": [
    "using DataFrames, TableOperations, Tables, Random\n",
    "using Recommenders: Movielens1M, load_dataset, ratio_split, MostPopular, evaluate_u2i, MeanPrecision, MeanRecall, MeanNDCG"
   ],
   "outputs": [],
   "metadata": {}
  },
  {
   "cell_type": "code",
   "execution_count": 2,
   "source": [
    "ml1M = Movielens1M()\n",
    "download(ml1M)\n",
    "rating, user, movie = load_dataset(ml1M);"
   ],
   "outputs": [],
   "metadata": {}
  },
  {
   "cell_type": "code",
   "execution_count": 3,
   "source": [
    "Random.seed!(1234);\n",
    "train_table, test_table = ratio_split(rating, 0.8)\n",
    "length(Tables.rows(train_table)), length(Tables.rows(test_table))\n"
   ],
   "outputs": [
    {
     "output_type": "execute_result",
     "data": {
      "text/plain": [
       "(800167, 200042)"
      ]
     },
     "metadata": {},
     "execution_count": 3
    }
   ],
   "metadata": {}
  },
  {
   "cell_type": "code",
   "execution_count": 4,
   "source": [
    "prec10 = MeanPrecision(10)\n",
    "recall10 = MeanRecall(10)\n",
    "ndcg10 = MeanNDCG(10)\n",
    "metrics = [prec10, recall10, ndcg10]"
   ],
   "outputs": [
    {
     "output_type": "execute_result",
     "data": {
      "text/plain": [
       "3-element Vector{Recommenders.MeanMetric}:\n",
       " Recommenders.MeanMetric{Recommenders.Precision}(Recommenders.Precision(10, \"precision\"))\n",
       " Recommenders.MeanMetric{Recommenders.Recall}(Recommenders.Recall(10, \"recall\"))\n",
       " Recommenders.MeanMetric{Recommenders.NDCG}(Recommenders.NDCG(10, \"ndcg\"))"
      ]
     },
     "metadata": {},
     "execution_count": 4
    }
   ],
   "metadata": {}
  },
  {
   "cell_type": "code",
   "execution_count": 5,
   "source": [
    "model = MostPopular()"
   ],
   "outputs": [
    {
     "output_type": "execute_result",
     "data": {
      "text/plain": [
       "MostPopular(nothing, nothing, nothing)"
      ]
     },
     "metadata": {},
     "execution_count": 5
    }
   ],
   "metadata": {}
  },
  {
   "cell_type": "code",
   "execution_count": 6,
   "source": [
    "evaluate_u2i(model, train_table, test_table, metrics, 10, col_item=:movieid, drop_history=true)"
   ],
   "outputs": [
    {
     "output_type": "execute_result",
     "data": {
      "text/plain": [
       "(ndcg10 = 0.20385831790624612, precision10 = 0.18360655737705195, recall10 = 0.06749803010639498)"
      ]
     },
     "metadata": {},
     "execution_count": 6
    }
   ],
   "metadata": {}
  },
  {
   "cell_type": "code",
   "execution_count": 7,
   "source": [
    "function one_evaluate()\n",
    "    train_table, test_table = ratio_split(rating, 0.8)\n",
    "    length(Tables.rows(train_table)), length(Tables.rows(test_table))\n",
    "    model = MostPopular()\n",
    "    result = evaluate_u2i(model, train_table, test_table, metrics, 10, col_item=:movieid, drop_history=true)\n",
    "    return result\n",
    "end"
   ],
   "outputs": [
    {
     "output_type": "execute_result",
     "data": {
      "text/plain": [
       "one_evaluate (generic function with 1 method)"
      ]
     },
     "metadata": {},
     "execution_count": 7
    }
   ],
   "metadata": {}
  },
  {
   "cell_type": "code",
   "execution_count": 8,
   "source": [
    "res=one_evaluate()"
   ],
   "outputs": [
    {
     "output_type": "execute_result",
     "data": {
      "text/plain": [
       "(ndcg10 = 0.20218824556366202, precision10 = 0.1815741507870785, recall10 = 0.06660820497035641)"
      ]
     },
     "metadata": {},
     "execution_count": 8
    }
   ],
   "metadata": {}
  },
  {
   "cell_type": "code",
   "execution_count": 9,
   "source": [
    "ndcg = []\n",
    "prec = []\n",
    "rec = []\n",
    "for _ in 1:100\n",
    "    res = one_evaluate()\n",
    "    push!(ndcg, res[:ndcg10])\n",
    "    push!(prec, res[:precision10])\n",
    "    push!(rec, res[:recall10])\n",
    "end"
   ],
   "outputs": [],
   "metadata": {}
  },
  {
   "cell_type": "code",
   "execution_count": 10,
   "source": [
    "using Statistics"
   ],
   "outputs": [],
   "metadata": {}
  },
  {
   "cell_type": "code",
   "execution_count": 11,
   "source": [
    "mean(rec), std(rec)"
   ],
   "outputs": [
    {
     "output_type": "execute_result",
     "data": {
      "text/plain": [
       "(0.06723354687546526, 0.00077335686677182)"
      ]
     },
     "metadata": {},
     "execution_count": 11
    }
   ],
   "metadata": {}
  },
  {
   "cell_type": "code",
   "execution_count": 12,
   "source": [
    "mean(prec), std(prec)"
   ],
   "outputs": [
    {
     "output_type": "execute_result",
     "data": {
      "text/plain": [
       "(0.18227774280834755, 0.001146247633157552)"
      ]
     },
     "metadata": {},
     "execution_count": 12
    }
   ],
   "metadata": {}
  },
  {
   "cell_type": "code",
   "execution_count": 13,
   "source": [
    "mean(ndcg), std(ndcg)"
   ],
   "outputs": [
    {
     "output_type": "execute_result",
     "data": {
      "text/plain": [
       "(0.20319183100221225, 0.001374768550095795)"
      ]
     },
     "metadata": {},
     "execution_count": 13
    }
   ],
   "metadata": {}
  },
  {
   "cell_type": "code",
   "execution_count": null,
   "source": [],
   "outputs": [],
   "metadata": {}
  }
 ],
 "metadata": {
  "orig_nbformat": 4,
  "language_info": {
   "file_extension": ".jl",
   "name": "julia",
   "mimetype": "application/julia",
   "version": "1.6.0"
  },
  "kernelspec": {
   "name": "julia-1.6",
   "display_name": "Julia 1.6.0",
   "language": "julia"
  }
 },
 "nbformat": 4,
 "nbformat_minor": 2
}