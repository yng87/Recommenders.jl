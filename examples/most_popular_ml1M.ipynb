{
 "cells": [
  {
   "cell_type": "code",
   "execution_count": 1,
   "source": [
    "using DataFrames, TableOperations, Tables, Random\n",
    "using Recommender: Movielens1M, load_dataset, ratio_split, MostPopular, evaluate_u2i, PrecisionAtK, RecallAtK, NDCG"
   ],
   "outputs": [],
   "metadata": {}
  },
  {
   "cell_type": "code",
   "execution_count": 2,
   "source": [
    "ml1M = Movielens1M()\n",
    "download(ml1M)\n",
    "rating, user, movie = load_dataset(ml1M);"
   ],
   "outputs": [],
   "metadata": {}
  },
  {
   "cell_type": "code",
   "execution_count": 3,
   "source": [
    "rating = rating |> TableOperations.filter(x->Tables.getcolumn(x, :rating) >= 4)"
   ],
   "outputs": [
    {
     "output_type": "execute_result",
     "data": {
      "text/plain": [
       "TableOperations.Filter{var\"#1#2\", CSV.File{false}}(var\"#1#2\"(), CSV.File(\"/Users/keisuke.yanagi/workspace/Recommender.jl/src/dataset/../../dataset/movielens1m/ratings.dat\"):\n",
       "Size: 1000209 x 4\n",
       "Tables.Schema:\n",
       " :userid     Int64\n",
       " :movieid    Int64\n",
       " :rating     Int64\n",
       " :timestamp  Int64)"
      ]
     },
     "metadata": {},
     "execution_count": 3
    }
   ],
   "metadata": {}
  },
  {
   "cell_type": "code",
   "execution_count": 4,
   "source": [
    "Random.seed!(1234);\n",
    "train_table, test_table = ratio_split(rating, 0.8)\n",
    "length(Tables.rows(train_table)), length(Tables.rows(test_table))\n"
   ],
   "outputs": [
    {
     "output_type": "execute_result",
     "data": {
      "text/plain": [
       "(460225, 115056)"
      ]
     },
     "metadata": {},
     "execution_count": 4
    }
   ],
   "metadata": {}
  },
  {
   "cell_type": "code",
   "execution_count": 5,
   "source": [
    "prec10 = PrecisionAtK(10)\n",
    "recall10 = RecallAtK(10)\n",
    "ndcg10 = NDCG(10)\n",
    "metrics = [prec10, recall10, ndcg10]"
   ],
   "outputs": [
    {
     "output_type": "error",
     "ename": "LoadError",
     "evalue": "UndefVarError: RecallAtK not defined",
     "traceback": [
      "UndefVarError: RecallAtK not defined",
      "",
      "Stacktrace:",
      " [1] top-level scope",
      "   @ In[5]:2",
      " [2] eval",
      "   @ ./boot.jl:360 [inlined]",
      " [3] include_string(mapexpr::typeof(REPL.softscope), mod::Module, code::String, filename::String)",
      "   @ Base ./loading.jl:1094"
     ]
    }
   ],
   "metadata": {}
  },
  {
   "cell_type": "code",
   "execution_count": null,
   "source": [
    "model = MostPopular()"
   ],
   "outputs": [
    {
     "output_type": "execute_result",
     "data": {
      "text/plain": [
       "MostPopular(nothing, nothing)"
      ]
     },
     "metadata": {},
     "execution_count": 6
    }
   ],
   "metadata": {}
  },
  {
   "cell_type": "code",
   "execution_count": null,
   "source": [
    "evaluate_u2i(model, train_table, test_table, metrics, 10, col_item=:movieid)"
   ],
   "outputs": [
    {
     "output_type": "execute_result",
     "data": {
      "text/plain": [
       "0.07573677160080518"
      ]
     },
     "metadata": {},
     "execution_count": 7
    }
   ],
   "metadata": {}
  },
  {
   "cell_type": "code",
   "execution_count": null,
   "source": [],
   "outputs": [],
   "metadata": {}
  }
 ],
 "metadata": {
  "orig_nbformat": 4,
  "language_info": {
   "file_extension": ".jl",
   "name": "julia",
   "mimetype": "application/julia",
   "version": "1.6.0"
  },
  "kernelspec": {
   "name": "julia-1.6",
   "display_name": "Julia 1.6.0",
   "language": "julia"
  }
 },
 "nbformat": 4,
 "nbformat_minor": 2
}