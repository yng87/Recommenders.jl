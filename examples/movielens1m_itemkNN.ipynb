{
 "cells": [
  {
   "cell_type": "code",
   "execution_count": 15,
   "metadata": {},
   "outputs": [],
   "source": [
    "using DataFrames\n",
    "using Recommender: Movielens100k, load_dataset, rows2sparse, leave_one_out_split, reindex_id_column!"
   ]
  },
  {
   "cell_type": "code",
   "execution_count": 6,
   "metadata": {},
   "outputs": [],
   "source": [
    "ml100k = Movielens100k()\n",
    "download(ml100k)\n",
    "rating, user, movie = load_dataset(ml100k);"
   ]
  },
  {
   "cell_type": "code",
   "execution_count": 21,
   "metadata": {},
   "outputs": [
    {
     "data": {
      "text/html": [
       "<table class=\"data-frame\"><thead><tr><th></th><th>userid</th><th>movieid</th><th>rating</th><th>timestamp</th></tr><tr><th></th><th>Int64</th><th>Int64</th><th>Int64</th><th>Int64</th></tr></thead><tbody><p>10 rows × 4 columns</p><tr><th>1</th><td>196</td><td>242</td><td>3</td><td>881250949</td></tr><tr><th>2</th><td>186</td><td>302</td><td>3</td><td>891717742</td></tr><tr><th>3</th><td>22</td><td>377</td><td>1</td><td>878887116</td></tr><tr><th>4</th><td>244</td><td>51</td><td>2</td><td>880606923</td></tr><tr><th>5</th><td>166</td><td>346</td><td>1</td><td>886397596</td></tr><tr><th>6</th><td>298</td><td>474</td><td>4</td><td>884182806</td></tr><tr><th>7</th><td>115</td><td>265</td><td>2</td><td>881171488</td></tr><tr><th>8</th><td>253</td><td>465</td><td>5</td><td>891628467</td></tr><tr><th>9</th><td>305</td><td>451</td><td>3</td><td>886324817</td></tr><tr><th>10</th><td>6</td><td>86</td><td>3</td><td>883603013</td></tr></tbody></table>"
      ],
      "text/latex": [
       "\\begin{tabular}{r|cccc}\n",
       "\t& userid & movieid & rating & timestamp\\\\\n",
       "\t\\hline\n",
       "\t& Int64 & Int64 & Int64 & Int64\\\\\n",
       "\t\\hline\n",
       "\t1 & 196 & 242 & 3 & 881250949 \\\\\n",
       "\t2 & 186 & 302 & 3 & 891717742 \\\\\n",
       "\t3 & 22 & 377 & 1 & 878887116 \\\\\n",
       "\t4 & 244 & 51 & 2 & 880606923 \\\\\n",
       "\t5 & 166 & 346 & 1 & 886397596 \\\\\n",
       "\t6 & 298 & 474 & 4 & 884182806 \\\\\n",
       "\t7 & 115 & 265 & 2 & 881171488 \\\\\n",
       "\t8 & 253 & 465 & 5 & 891628467 \\\\\n",
       "\t9 & 305 & 451 & 3 & 886324817 \\\\\n",
       "\t10 & 6 & 86 & 3 & 883603013 \\\\\n",
       "\\end{tabular}\n"
      ],
      "text/plain": [
       "\u001b[1m10×4 DataFrame\u001b[0m\n",
       "\u001b[1m Row \u001b[0m│\u001b[1m userid \u001b[0m\u001b[1m movieid \u001b[0m\u001b[1m rating \u001b[0m\u001b[1m timestamp \u001b[0m\n",
       "\u001b[1m     \u001b[0m│\u001b[90m Int64  \u001b[0m\u001b[90m Int64   \u001b[0m\u001b[90m Int64  \u001b[0m\u001b[90m Int64     \u001b[0m\n",
       "─────┼────────────────────────────────────\n",
       "   1 │    196      242       3  881250949\n",
       "   2 │    186      302       3  891717742\n",
       "   3 │     22      377       1  878887116\n",
       "   4 │    244       51       2  880606923\n",
       "   5 │    166      346       1  886397596\n",
       "   6 │    298      474       4  884182806\n",
       "   7 │    115      265       2  881171488\n",
       "   8 │    253      465       5  891628467\n",
       "   9 │    305      451       3  886324817\n",
       "  10 │      6       86       3  883603013"
      ]
     },
     "execution_count": 21,
     "metadata": {},
     "output_type": "execute_result"
    }
   ],
   "source": [
    "df = DataFrame(rating)\n",
    "first(df, 10)"
   ]
  },
  {
   "cell_type": "code",
   "execution_count": 28,
   "metadata": {},
   "outputs": [
    {
     "data": {
      "text/html": [
       "<table class=\"data-frame\"><thead><tr><th></th><th>userid</th><th>movieid</th><th>rating</th><th>timestamp</th><th>data_split</th></tr><tr><th></th><th>Int64</th><th>Int64</th><th>Int64</th><th>Int64</th><th>Symbol</th></tr></thead><tbody><p>10 rows × 5 columns</p><tr><th>1</th><td>196</td><td>110</td><td>1</td><td>881252305</td><td>test</td></tr><tr><th>2</th><td>196</td><td>94</td><td>1</td><td>881252172</td><td>valid</td></tr><tr><th>3</th><td>196</td><td>1118</td><td>1</td><td>881252128</td><td>train</td></tr><tr><th>4</th><td>196</td><td>108</td><td>1</td><td>881252110</td><td>train</td></tr><tr><th>5</th><td>196</td><td>411</td><td>1</td><td>881252090</td><td>train</td></tr><tr><th>6</th><td>196</td><td>580</td><td>1</td><td>881252056</td><td>train</td></tr><tr><th>7</th><td>196</td><td>67</td><td>1</td><td>881252017</td><td>train</td></tr><tr><th>8</th><td>196</td><td>692</td><td>1</td><td>881252017</td><td>train</td></tr><tr><th>9</th><td>196</td><td>25</td><td>1</td><td>881251955</td><td>train</td></tr><tr><th>10</th><td>196</td><td>13</td><td>1</td><td>881251955</td><td>train</td></tr></tbody></table>"
      ],
      "text/latex": [
       "\\begin{tabular}{r|ccccc}\n",
       "\t& userid & movieid & rating & timestamp & data\\_split\\\\\n",
       "\t\\hline\n",
       "\t& Int64 & Int64 & Int64 & Int64 & Symbol\\\\\n",
       "\t\\hline\n",
       "\t1 & 196 & 110 & 1 & 881252305 & test \\\\\n",
       "\t2 & 196 & 94 & 1 & 881252172 & valid \\\\\n",
       "\t3 & 196 & 1118 & 1 & 881252128 & train \\\\\n",
       "\t4 & 196 & 108 & 1 & 881252110 & train \\\\\n",
       "\t5 & 196 & 411 & 1 & 881252090 & train \\\\\n",
       "\t6 & 196 & 580 & 1 & 881252056 & train \\\\\n",
       "\t7 & 196 & 67 & 1 & 881252017 & train \\\\\n",
       "\t8 & 196 & 692 & 1 & 881252017 & train \\\\\n",
       "\t9 & 196 & 25 & 1 & 881251955 & train \\\\\n",
       "\t10 & 196 & 13 & 1 & 881251955 & train \\\\\n",
       "\\end{tabular}\n"
      ],
      "text/plain": [
       "\u001b[1m10×5 DataFrame\u001b[0m\n",
       "\u001b[1m Row \u001b[0m│\u001b[1m userid \u001b[0m\u001b[1m movieid \u001b[0m\u001b[1m rating \u001b[0m\u001b[1m timestamp \u001b[0m\u001b[1m data_split \u001b[0m\n",
       "\u001b[1m     \u001b[0m│\u001b[90m Int64  \u001b[0m\u001b[90m Int64   \u001b[0m\u001b[90m Int64  \u001b[0m\u001b[90m Int64     \u001b[0m\u001b[90m Symbol     \u001b[0m\n",
       "─────┼────────────────────────────────────────────────\n",
       "   1 │    196      110       1  881252305  test\n",
       "   2 │    196       94       1  881252172  valid\n",
       "   3 │    196     1118       1  881252128  train\n",
       "   4 │    196      108       1  881252110  train\n",
       "   5 │    196      411       1  881252090  train\n",
       "   6 │    196      580       1  881252056  train\n",
       "   7 │    196       67       1  881252017  train\n",
       "   8 │    196      692       1  881252017  train\n",
       "   9 │    196       25       1  881251955  train\n",
       "  10 │    196       13       1  881251955  train"
      ]
     },
     "execution_count": 28,
     "metadata": {},
     "output_type": "execute_result"
    }
   ],
   "source": [
    "df[!, :rating] .= 1\n",
    "first(df, 10)"
   ]
  },
  {
   "cell_type": "code",
   "execution_count": 29,
   "metadata": {},
   "outputs": [],
   "source": [
    "df = leave_one_out_split(df, col_group = :userid, col_sort = :timestamp);"
   ]
  },
  {
   "cell_type": "code",
   "execution_count": 30,
   "metadata": {},
   "outputs": [
    {
     "data": {
      "text/html": [
       "<table class=\"data-frame\"><thead><tr><th></th><th>userid</th><th>movieid</th><th>rating</th><th>timestamp</th><th>data_split</th></tr><tr><th></th><th>Int64</th><th>Int64</th><th>Int64</th><th>Int64</th><th>Symbol</th></tr></thead><tbody><p>10 rows × 5 columns</p><tr><th>1</th><td>196</td><td>1118</td><td>1</td><td>881252128</td><td>train</td></tr><tr><th>2</th><td>196</td><td>108</td><td>1</td><td>881252110</td><td>train</td></tr><tr><th>3</th><td>196</td><td>411</td><td>1</td><td>881252090</td><td>train</td></tr><tr><th>4</th><td>196</td><td>580</td><td>1</td><td>881252056</td><td>train</td></tr><tr><th>5</th><td>196</td><td>67</td><td>1</td><td>881252017</td><td>train</td></tr><tr><th>6</th><td>196</td><td>692</td><td>1</td><td>881252017</td><td>train</td></tr><tr><th>7</th><td>196</td><td>25</td><td>1</td><td>881251955</td><td>train</td></tr><tr><th>8</th><td>196</td><td>13</td><td>1</td><td>881251955</td><td>train</td></tr><tr><th>9</th><td>196</td><td>762</td><td>1</td><td>881251955</td><td>train</td></tr><tr><th>10</th><td>196</td><td>845</td><td>1</td><td>881251954</td><td>train</td></tr></tbody></table>"
      ],
      "text/latex": [
       "\\begin{tabular}{r|ccccc}\n",
       "\t& userid & movieid & rating & timestamp & data\\_split\\\\\n",
       "\t\\hline\n",
       "\t& Int64 & Int64 & Int64 & Int64 & Symbol\\\\\n",
       "\t\\hline\n",
       "\t1 & 196 & 1118 & 1 & 881252128 & train \\\\\n",
       "\t2 & 196 & 108 & 1 & 881252110 & train \\\\\n",
       "\t3 & 196 & 411 & 1 & 881252090 & train \\\\\n",
       "\t4 & 196 & 580 & 1 & 881252056 & train \\\\\n",
       "\t5 & 196 & 67 & 1 & 881252017 & train \\\\\n",
       "\t6 & 196 & 692 & 1 & 881252017 & train \\\\\n",
       "\t7 & 196 & 25 & 1 & 881251955 & train \\\\\n",
       "\t8 & 196 & 13 & 1 & 881251955 & train \\\\\n",
       "\t9 & 196 & 762 & 1 & 881251955 & train \\\\\n",
       "\t10 & 196 & 845 & 1 & 881251954 & train \\\\\n",
       "\\end{tabular}\n"
      ],
      "text/plain": [
       "\u001b[1m10×5 DataFrame\u001b[0m\n",
       "\u001b[1m Row \u001b[0m│\u001b[1m userid \u001b[0m\u001b[1m movieid \u001b[0m\u001b[1m rating \u001b[0m\u001b[1m timestamp \u001b[0m\u001b[1m data_split \u001b[0m\n",
       "\u001b[1m     \u001b[0m│\u001b[90m Int64  \u001b[0m\u001b[90m Int64   \u001b[0m\u001b[90m Int64  \u001b[0m\u001b[90m Int64     \u001b[0m\u001b[90m Symbol     \u001b[0m\n",
       "─────┼────────────────────────────────────────────────\n",
       "   1 │    196     1118       1  881252128  train\n",
       "   2 │    196      108       1  881252110  train\n",
       "   3 │    196      411       1  881252090  train\n",
       "   4 │    196      580       1  881252056  train\n",
       "   5 │    196       67       1  881252017  train\n",
       "   6 │    196      692       1  881252017  train\n",
       "   7 │    196       25       1  881251955  train\n",
       "   8 │    196       13       1  881251955  train\n",
       "   9 │    196      762       1  881251955  train\n",
       "  10 │    196      845       1  881251954  train"
      ]
     },
     "execution_count": 30,
     "metadata": {},
     "output_type": "execute_result"
    }
   ],
   "source": [
    "df_train = df[df.data_split.==:train, :]\n",
    "df_valid = df[df.data_split.==:valid, :]\n",
    "df_test = df[df.data_split.==:test, :]\n",
    "first(df_train, 10)"
   ]
  },
  {
   "cell_type": "code",
   "execution_count": 31,
   "metadata": {},
   "outputs": [],
   "source": [
    "df_train, user2uidx = reindex_id_column!(df_train, :userid)\n",
    "df_train, item2iidx = reindex_id_column!(df_train, :movieid);"
   ]
  },
  {
   "cell_type": "code",
   "execution_count": 32,
   "metadata": {},
   "outputs": [
    {
     "data": {
      "text/html": [
       "<table class=\"data-frame\"><thead><tr><th></th><th>userid</th><th>movieid</th><th>rating</th><th>timestamp</th><th>data_split</th><th>userid_index</th><th>movieid_index</th></tr><tr><th></th><th>Int64</th><th>Int64</th><th>Int64</th><th>Int64</th><th>Symbol</th><th>Int64</th><th>Int64</th></tr></thead><tbody><p>10 rows × 7 columns</p><tr><th>1</th><td>196</td><td>1118</td><td>1</td><td>881252128</td><td>train</td><td>1</td><td>1</td></tr><tr><th>2</th><td>196</td><td>108</td><td>1</td><td>881252110</td><td>train</td><td>1</td><td>2</td></tr><tr><th>3</th><td>196</td><td>411</td><td>1</td><td>881252090</td><td>train</td><td>1</td><td>3</td></tr><tr><th>4</th><td>196</td><td>580</td><td>1</td><td>881252056</td><td>train</td><td>1</td><td>4</td></tr><tr><th>5</th><td>196</td><td>67</td><td>1</td><td>881252017</td><td>train</td><td>1</td><td>5</td></tr><tr><th>6</th><td>196</td><td>692</td><td>1</td><td>881252017</td><td>train</td><td>1</td><td>6</td></tr><tr><th>7</th><td>196</td><td>25</td><td>1</td><td>881251955</td><td>train</td><td>1</td><td>7</td></tr><tr><th>8</th><td>196</td><td>13</td><td>1</td><td>881251955</td><td>train</td><td>1</td><td>8</td></tr><tr><th>9</th><td>196</td><td>762</td><td>1</td><td>881251955</td><td>train</td><td>1</td><td>9</td></tr><tr><th>10</th><td>196</td><td>845</td><td>1</td><td>881251954</td><td>train</td><td>1</td><td>10</td></tr></tbody></table>"
      ],
      "text/latex": [
       "\\begin{tabular}{r|ccccccc}\n",
       "\t& userid & movieid & rating & timestamp & data\\_split & userid\\_index & movieid\\_index\\\\\n",
       "\t\\hline\n",
       "\t& Int64 & Int64 & Int64 & Int64 & Symbol & Int64 & Int64\\\\\n",
       "\t\\hline\n",
       "\t1 & 196 & 1118 & 1 & 881252128 & train & 1 & 1 \\\\\n",
       "\t2 & 196 & 108 & 1 & 881252110 & train & 1 & 2 \\\\\n",
       "\t3 & 196 & 411 & 1 & 881252090 & train & 1 & 3 \\\\\n",
       "\t4 & 196 & 580 & 1 & 881252056 & train & 1 & 4 \\\\\n",
       "\t5 & 196 & 67 & 1 & 881252017 & train & 1 & 5 \\\\\n",
       "\t6 & 196 & 692 & 1 & 881252017 & train & 1 & 6 \\\\\n",
       "\t7 & 196 & 25 & 1 & 881251955 & train & 1 & 7 \\\\\n",
       "\t8 & 196 & 13 & 1 & 881251955 & train & 1 & 8 \\\\\n",
       "\t9 & 196 & 762 & 1 & 881251955 & train & 1 & 9 \\\\\n",
       "\t10 & 196 & 845 & 1 & 881251954 & train & 1 & 10 \\\\\n",
       "\\end{tabular}\n"
      ],
      "text/plain": [
       "\u001b[1m10×7 DataFrame\u001b[0m\n",
       "\u001b[1m Row \u001b[0m│\u001b[1m userid \u001b[0m\u001b[1m movieid \u001b[0m\u001b[1m rating \u001b[0m\u001b[1m timestamp \u001b[0m\u001b[1m data_split \u001b[0m\u001b[1m userid_index \u001b[0m\u001b[1m movieid_i\u001b[0m ⋯\n",
       "\u001b[1m     \u001b[0m│\u001b[90m Int64  \u001b[0m\u001b[90m Int64   \u001b[0m\u001b[90m Int64  \u001b[0m\u001b[90m Int64     \u001b[0m\u001b[90m Symbol     \u001b[0m\u001b[90m Int64        \u001b[0m\u001b[90m Int64    \u001b[0m ⋯\n",
       "─────┼──────────────────────────────────────────────────────────────────────────\n",
       "   1 │    196     1118       1  881252128  train                  1            ⋯\n",
       "   2 │    196      108       1  881252110  train                  1\n",
       "   3 │    196      411       1  881252090  train                  1\n",
       "   4 │    196      580       1  881252056  train                  1\n",
       "   5 │    196       67       1  881252017  train                  1            ⋯\n",
       "   6 │    196      692       1  881252017  train                  1\n",
       "   7 │    196       25       1  881251955  train                  1\n",
       "   8 │    196       13       1  881251955  train                  1\n",
       "   9 │    196      762       1  881251955  train                  1            ⋯\n",
       "  10 │    196      845       1  881251954  train                  1\n",
       "\u001b[36m                                                                1 column omitted\u001b[0m"
      ]
     },
     "execution_count": 32,
     "metadata": {},
     "output_type": "execute_result"
    }
   ],
   "source": [
    "first(df_train, 10)"
   ]
  },
  {
   "cell_type": "code",
   "execution_count": null,
   "metadata": {},
   "outputs": [],
   "source": [
    "X_valid = "
   ]
  },
  {
   "cell_type": "code",
   "execution_count": 35,
   "metadata": {},
   "outputs": [],
   "source": [
    "X_train = rows2sparse(df_train, col_user=:userid_index, col_item=:movieid_index, col_rating=:rating);"
   ]
  },
  {
   "cell_type": "code",
   "execution_count": 38,
   "metadata": {},
   "outputs": [],
   "source": [
    "using Recommender: tfidf, bm25, compute_similarity, predict_u2i"
   ]
  },
  {
   "cell_type": "code",
   "execution_count": 37,
   "metadata": {},
   "outputs": [
    {
     "data": {
      "text/plain": [
       "train_item_knn (generic function with 1 method)"
      ]
     },
     "execution_count": 37,
     "metadata": {},
     "output_type": "execute_result"
    }
   ],
   "source": [
    "function train_item_knn(X, k, shirnk, weighting, normalize)\n",
    "    if weighting==:tfidf\n",
    "        X = tfidf(X)\n",
    "    elseif weighting==:bm25\n",
    "        X=bm25(X)\n",
    "    end\n",
    "\n",
    "    return compute_similarity(X, k, shirnk, normalize)\n",
    "end"
   ]
  },
  {
   "cell_type": "code",
   "execution_count": null,
   "metadata": {},
   "outputs": [],
   "source": [
    "function predict_u2i(similarity, user_histories, userids, user2uidx, item2iidx, n)\n",
    "    uidxs = [user2uidx[userid] for userid in userids]\n",
    "    preds = [predict_u2i(similarity, user_histories[uidx, :], n) for uidxs]\n",
    "end"
   ]
  },
  {
   "cell_type": "code",
   "execution_count": null,
   "metadata": {},
   "outputs": [],
   "source": [
    "function evaluate_item_knn(X_train, X_valid, k, shirnk, weighting, normalize)\n",
    "    similarity = train_item_knn(X_train, k, shirnk, weighting, normalize)"
   ]
  }
 ],
 "metadata": {
  "kernelspec": {
   "display_name": "Julia 1.6.0",
   "language": "julia",
   "name": "julia-1.6"
  },
  "language_info": {
   "file_extension": ".jl",
   "mimetype": "application/julia",
   "name": "julia",
   "version": "1.6.0"
  },
  "orig_nbformat": 2
 },
 "nbformat": 4,
 "nbformat_minor": 2
}