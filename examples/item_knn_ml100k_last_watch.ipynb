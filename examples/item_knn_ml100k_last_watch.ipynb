{
 "cells": [
  {
   "cell_type": "code",
   "execution_count": 1,
   "source": [
    "using DataFrames\n",
    "using Recommender: Movielens100k, load_dataset, leave_one_out_split, ItemkNN, fit!, predict, evaluate, RecallAtK"
   ],
   "outputs": [],
   "metadata": {}
  },
  {
   "cell_type": "code",
   "execution_count": 2,
   "source": [
    "ml100k = Movielens100k()\n",
    "download(ml100k)\n",
    "rating, user, movie = load_dataset(ml100k);"
   ],
   "outputs": [],
   "metadata": {}
  },
  {
   "cell_type": "code",
   "execution_count": 3,
   "source": [
    "df = DataFrame(rating)\n",
    "first(df, 10)"
   ],
   "outputs": [
    {
     "output_type": "execute_result",
     "data": {
      "text/plain": [
       "\u001b[1m10×4 DataFrame\u001b[0m\n",
       "\u001b[1m Row \u001b[0m│\u001b[1m userid \u001b[0m\u001b[1m movieid \u001b[0m\u001b[1m rating \u001b[0m\u001b[1m timestamp \u001b[0m\n",
       "\u001b[1m     \u001b[0m│\u001b[90m Int64  \u001b[0m\u001b[90m Int64   \u001b[0m\u001b[90m Int64  \u001b[0m\u001b[90m Int64     \u001b[0m\n",
       "─────┼────────────────────────────────────\n",
       "   1 │    196      242       3  881250949\n",
       "   2 │    186      302       3  891717742\n",
       "   3 │     22      377       1  878887116\n",
       "   4 │    244       51       2  880606923\n",
       "   5 │    166      346       1  886397596\n",
       "   6 │    298      474       4  884182806\n",
       "   7 │    115      265       2  881171488\n",
       "   8 │    253      465       5  891628467\n",
       "   9 │    305      451       3  886324817\n",
       "  10 │      6       86       3  883603013"
      ],
      "text/latex": [
       "\\begin{tabular}{r|cccc}\n",
       "\t& userid & movieid & rating & timestamp\\\\\n",
       "\t\\hline\n",
       "\t& Int64 & Int64 & Int64 & Int64\\\\\n",
       "\t\\hline\n",
       "\t1 & 196 & 242 & 3 & 881250949 \\\\\n",
       "\t2 & 186 & 302 & 3 & 891717742 \\\\\n",
       "\t3 & 22 & 377 & 1 & 878887116 \\\\\n",
       "\t4 & 244 & 51 & 2 & 880606923 \\\\\n",
       "\t5 & 166 & 346 & 1 & 886397596 \\\\\n",
       "\t6 & 298 & 474 & 4 & 884182806 \\\\\n",
       "\t7 & 115 & 265 & 2 & 881171488 \\\\\n",
       "\t8 & 253 & 465 & 5 & 891628467 \\\\\n",
       "\t9 & 305 & 451 & 3 & 886324817 \\\\\n",
       "\t10 & 6 & 86 & 3 & 883603013 \\\\\n",
       "\\end{tabular}\n"
      ],
      "text/html": [
       "<table class=\"data-frame\"><thead><tr><th></th><th>userid</th><th>movieid</th><th>rating</th><th>timestamp</th></tr><tr><th></th><th>Int64</th><th>Int64</th><th>Int64</th><th>Int64</th></tr></thead><tbody><p>10 rows × 4 columns</p><tr><th>1</th><td>196</td><td>242</td><td>3</td><td>881250949</td></tr><tr><th>2</th><td>186</td><td>302</td><td>3</td><td>891717742</td></tr><tr><th>3</th><td>22</td><td>377</td><td>1</td><td>878887116</td></tr><tr><th>4</th><td>244</td><td>51</td><td>2</td><td>880606923</td></tr><tr><th>5</th><td>166</td><td>346</td><td>1</td><td>886397596</td></tr><tr><th>6</th><td>298</td><td>474</td><td>4</td><td>884182806</td></tr><tr><th>7</th><td>115</td><td>265</td><td>2</td><td>881171488</td></tr><tr><th>8</th><td>253</td><td>465</td><td>5</td><td>891628467</td></tr><tr><th>9</th><td>305</td><td>451</td><td>3</td><td>886324817</td></tr><tr><th>10</th><td>6</td><td>86</td><td>3</td><td>883603013</td></tr></tbody></table>"
      ]
     },
     "metadata": {},
     "execution_count": 3
    }
   ],
   "metadata": {}
  },
  {
   "cell_type": "code",
   "execution_count": 4,
   "source": [
    "df[!, :rating] .= 1\n",
    "first(df, 10)"
   ],
   "outputs": [
    {
     "output_type": "execute_result",
     "data": {
      "text/plain": [
       "\u001b[1m10×4 DataFrame\u001b[0m\n",
       "\u001b[1m Row \u001b[0m│\u001b[1m userid \u001b[0m\u001b[1m movieid \u001b[0m\u001b[1m rating \u001b[0m\u001b[1m timestamp \u001b[0m\n",
       "\u001b[1m     \u001b[0m│\u001b[90m Int64  \u001b[0m\u001b[90m Int64   \u001b[0m\u001b[90m Int64  \u001b[0m\u001b[90m Int64     \u001b[0m\n",
       "─────┼────────────────────────────────────\n",
       "   1 │    196      242       1  881250949\n",
       "   2 │    186      302       1  891717742\n",
       "   3 │     22      377       1  878887116\n",
       "   4 │    244       51       1  880606923\n",
       "   5 │    166      346       1  886397596\n",
       "   6 │    298      474       1  884182806\n",
       "   7 │    115      265       1  881171488\n",
       "   8 │    253      465       1  891628467\n",
       "   9 │    305      451       1  886324817\n",
       "  10 │      6       86       1  883603013"
      ],
      "text/latex": [
       "\\begin{tabular}{r|cccc}\n",
       "\t& userid & movieid & rating & timestamp\\\\\n",
       "\t\\hline\n",
       "\t& Int64 & Int64 & Int64 & Int64\\\\\n",
       "\t\\hline\n",
       "\t1 & 196 & 242 & 1 & 881250949 \\\\\n",
       "\t2 & 186 & 302 & 1 & 891717742 \\\\\n",
       "\t3 & 22 & 377 & 1 & 878887116 \\\\\n",
       "\t4 & 244 & 51 & 1 & 880606923 \\\\\n",
       "\t5 & 166 & 346 & 1 & 886397596 \\\\\n",
       "\t6 & 298 & 474 & 1 & 884182806 \\\\\n",
       "\t7 & 115 & 265 & 1 & 881171488 \\\\\n",
       "\t8 & 253 & 465 & 1 & 891628467 \\\\\n",
       "\t9 & 305 & 451 & 1 & 886324817 \\\\\n",
       "\t10 & 6 & 86 & 1 & 883603013 \\\\\n",
       "\\end{tabular}\n"
      ],
      "text/html": [
       "<table class=\"data-frame\"><thead><tr><th></th><th>userid</th><th>movieid</th><th>rating</th><th>timestamp</th></tr><tr><th></th><th>Int64</th><th>Int64</th><th>Int64</th><th>Int64</th></tr></thead><tbody><p>10 rows × 4 columns</p><tr><th>1</th><td>196</td><td>242</td><td>1</td><td>881250949</td></tr><tr><th>2</th><td>186</td><td>302</td><td>1</td><td>891717742</td></tr><tr><th>3</th><td>22</td><td>377</td><td>1</td><td>878887116</td></tr><tr><th>4</th><td>244</td><td>51</td><td>1</td><td>880606923</td></tr><tr><th>5</th><td>166</td><td>346</td><td>1</td><td>886397596</td></tr><tr><th>6</th><td>298</td><td>474</td><td>1</td><td>884182806</td></tr><tr><th>7</th><td>115</td><td>265</td><td>1</td><td>881171488</td></tr><tr><th>8</th><td>253</td><td>465</td><td>1</td><td>891628467</td></tr><tr><th>9</th><td>305</td><td>451</td><td>1</td><td>886324817</td></tr><tr><th>10</th><td>6</td><td>86</td><td>1</td><td>883603013</td></tr></tbody></table>"
      ]
     },
     "metadata": {},
     "execution_count": 4
    }
   ],
   "metadata": {}
  },
  {
   "cell_type": "code",
   "execution_count": 5,
   "source": [
    "df = leave_one_out_split(df, col_group = :userid, col_sort = :timestamp);"
   ],
   "outputs": [],
   "metadata": {}
  },
  {
   "cell_type": "code",
   "execution_count": 6,
   "source": [
    "df_train = df[df.data_split.==:train, :]\n",
    "df_valid = df[df.data_split.==:valid, :]\n",
    "df_test = df[df.data_split.==:test, :]\n",
    "df_train_valid = df[df.data_split.!=:test, :]\n",
    "first(df_train, 10)"
   ],
   "outputs": [
    {
     "output_type": "execute_result",
     "data": {
      "text/plain": [
       "\u001b[1m10×5 DataFrame\u001b[0m\n",
       "\u001b[1m Row \u001b[0m│\u001b[1m userid \u001b[0m\u001b[1m movieid \u001b[0m\u001b[1m rating \u001b[0m\u001b[1m timestamp \u001b[0m\u001b[1m data_split \u001b[0m\n",
       "\u001b[1m     \u001b[0m│\u001b[90m Int64  \u001b[0m\u001b[90m Int64   \u001b[0m\u001b[90m Int64  \u001b[0m\u001b[90m Int64     \u001b[0m\u001b[90m Symbol     \u001b[0m\n",
       "─────┼────────────────────────────────────────────────\n",
       "   1 │    196     1118       1  881252128  train\n",
       "   2 │    196      108       1  881252110  train\n",
       "   3 │    196      411       1  881252090  train\n",
       "   4 │    196      580       1  881252056  train\n",
       "   5 │    196       67       1  881252017  train\n",
       "   6 │    196      692       1  881252017  train\n",
       "   7 │    196       25       1  881251955  train\n",
       "   8 │    196       13       1  881251955  train\n",
       "   9 │    196      762       1  881251955  train\n",
       "  10 │    196      845       1  881251954  train"
      ],
      "text/latex": [
       "\\begin{tabular}{r|ccccc}\n",
       "\t& userid & movieid & rating & timestamp & data\\_split\\\\\n",
       "\t\\hline\n",
       "\t& Int64 & Int64 & Int64 & Int64 & Symbol\\\\\n",
       "\t\\hline\n",
       "\t1 & 196 & 1118 & 1 & 881252128 & train \\\\\n",
       "\t2 & 196 & 108 & 1 & 881252110 & train \\\\\n",
       "\t3 & 196 & 411 & 1 & 881252090 & train \\\\\n",
       "\t4 & 196 & 580 & 1 & 881252056 & train \\\\\n",
       "\t5 & 196 & 67 & 1 & 881252017 & train \\\\\n",
       "\t6 & 196 & 692 & 1 & 881252017 & train \\\\\n",
       "\t7 & 196 & 25 & 1 & 881251955 & train \\\\\n",
       "\t8 & 196 & 13 & 1 & 881251955 & train \\\\\n",
       "\t9 & 196 & 762 & 1 & 881251955 & train \\\\\n",
       "\t10 & 196 & 845 & 1 & 881251954 & train \\\\\n",
       "\\end{tabular}\n"
      ],
      "text/html": [
       "<table class=\"data-frame\"><thead><tr><th></th><th>userid</th><th>movieid</th><th>rating</th><th>timestamp</th><th>data_split</th></tr><tr><th></th><th>Int64</th><th>Int64</th><th>Int64</th><th>Int64</th><th>Symbol</th></tr></thead><tbody><p>10 rows × 5 columns</p><tr><th>1</th><td>196</td><td>1118</td><td>1</td><td>881252128</td><td>train</td></tr><tr><th>2</th><td>196</td><td>108</td><td>1</td><td>881252110</td><td>train</td></tr><tr><th>3</th><td>196</td><td>411</td><td>1</td><td>881252090</td><td>train</td></tr><tr><th>4</th><td>196</td><td>580</td><td>1</td><td>881252056</td><td>train</td></tr><tr><th>5</th><td>196</td><td>67</td><td>1</td><td>881252017</td><td>train</td></tr><tr><th>6</th><td>196</td><td>692</td><td>1</td><td>881252017</td><td>train</td></tr><tr><th>7</th><td>196</td><td>25</td><td>1</td><td>881251955</td><td>train</td></tr><tr><th>8</th><td>196</td><td>13</td><td>1</td><td>881251955</td><td>train</td></tr><tr><th>9</th><td>196</td><td>762</td><td>1</td><td>881251955</td><td>train</td></tr><tr><th>10</th><td>196</td><td>845</td><td>1</td><td>881251954</td><td>train</td></tr></tbody></table>"
      ]
     },
     "metadata": {},
     "execution_count": 6
    }
   ],
   "metadata": {}
  },
  {
   "cell_type": "code",
   "execution_count": 7,
   "source": [
    "recall100 = RecallAtK(100)"
   ],
   "outputs": [
    {
     "output_type": "execute_result",
     "data": {
      "text/plain": [
       "RecallAtK(100)"
      ]
     },
     "metadata": {},
     "execution_count": 7
    }
   ],
   "metadata": {}
  },
  {
   "cell_type": "code",
   "execution_count": 8,
   "source": [
    "using TreeParzen"
   ],
   "outputs": [],
   "metadata": {}
  },
  {
   "cell_type": "code",
   "execution_count": 9,
   "source": [
    "space = Dict(\n",
    "    :topk=>HP.QuantUniform(:topk, 10., 500., 1.),\n",
    "    :shrink=>HP.LogUniform(:shrink, log(1e-3), log(1e3)),\n",
    "    :weighting=>HP.Choice(:weighting, \n",
    "        [\n",
    "            Dict(:weighting=>:dummy, :weighting_at_inference=>false),\n",
    "            Dict(:weighting=>:tfidf, :weighting_at_inference=>false),\n",
    "            Dict(:weighting=>:bm25, :weighting_at_inference=>HP.Choice(:weighting_at_inference, [true, false]))\n",
    "        ]\n",
    "    ),\n",
    "    :normalize=>HP.Choice(:normalize, [true, false])\n",
    ")"
   ],
   "outputs": [
    {
     "output_type": "execute_result",
     "data": {
      "text/plain": [
       "Dict{Symbol, TreeParzen.Types.AbstractDelayed} with 4 entries:\n",
       "  :weighting => Choice(Param(:weighting, RandIndex(3)), Dict{Symbol, Any}[Dict(…\n",
       "  :topk      => QuantUniform(:topk, QuantUniform(10.0, 500.0, 1.0))\n",
       "  :normalize => Choice(Param(:normalize, RandIndex(2)), Bool[1, 0])\n",
       "  :shrink    => LogUniform(:shrink, LogUniform(-6.90776, 6.90776))"
      ]
     },
     "metadata": {},
     "execution_count": 9
    }
   ],
   "metadata": {}
  },
  {
   "cell_type": "code",
   "execution_count": 10,
   "source": [
    "function invert_output(params)\n",
    "    k = convert(Int, params[:topk])\n",
    "    model = ItemkNN(k, params[:shrink],params[:weighting][:weighting],params[:weighting][:weighting_at_inference],params[:normalize])\n",
    "    result = evaluate(model, df_train, df_valid, recall100, 100, col_user=:userid, col_item=:movieid, col_rating=:rating)\n",
    "    @show params, result\n",
    "    return -result\n",
    "end"
   ],
   "outputs": [
    {
     "output_type": "execute_result",
     "data": {
      "text/plain": [
       "invert_output (generic function with 1 method)"
      ]
     },
     "metadata": {},
     "execution_count": 10
    }
   ],
   "metadata": {}
  },
  {
   "cell_type": "code",
   "execution_count": 11,
   "source": [
    "best = fmin(invert_output, space, 100, logging_interval=-1)"
   ],
   "outputs": [
    {
     "output_type": "stream",
     "name": "stdout",
     "text": [
      "(params, result) = (Dict{Symbol, Any}(:weighting => Dict{Symbol, Any}(:weighting => :dummy, :weighting_at_inference => false), :topk => 172.0, :normalize => false, :shrink => 0.0999893647034245), 0.0021208907741251328)\n",
      "(params, result) = (Dict{Symbol, Any}(:weighting => Dict{Symbol, Any}(:weighting => :bm25, :weighting_at_inference => false), :topk => 497.0, :normalize => false, :shrink => 31.819143729255575), 0.2598091198303287)\n",
      "(params, result) = (Dict{Symbol, Any}(:weighting => Dict{Symbol, Any}(:weighting => :dummy, :weighting_at_inference => false), :topk => 379.0, :normalize => false, :shrink => 3.032711021890305), 0.09331919406150584)\n",
      "(params, result) = (Dict{Symbol, Any}(:weighting => Dict{Symbol, Any}(:weighting => :tfidf, :weighting_at_inference => false), :topk => 335.0, :normalize => true, :shrink => 0.010056893175197357), 0.33085896076352067)\n",
      "(params, result) = (Dict{Symbol, Any}(:weighting => Dict{Symbol, Any}(:weighting => :dummy, :weighting_at_inference => false), :topk => 444.0, :normalize => true, :shrink => 53.32555448558419), 0.26299045599151644)\n",
      "(params, result) = (Dict{Symbol, Any}(:weighting => Dict{Symbol, Any}(:weighting => :dummy, :weighting_at_inference => false), :topk => 446.0, :normalize => false, :shrink => 0.007862714868695135), 0.13679745493107104)\n",
      "(params, result) = (Dict{Symbol, Any}(:weighting => Dict{Symbol, Any}(:weighting => :bm25, :weighting_at_inference => false), :topk => 29.0, :normalize => false, :shrink => 0.006484124946055563), 0.23435843054082714)\n",
      "(params, result) = (Dict{Symbol, Any}(:weighting => Dict{Symbol, Any}(:weighting => :tfidf, :weighting_at_inference => false), :topk => 431.0, :normalize => true, :shrink => 0.9954812238702485), 0.31283138918345704)\n",
      "(params, result) = (Dict{Symbol, Any}(:weighting => Dict{Symbol, Any}(:weighting => :tfidf, :weighting_at_inference => false), :topk => 363.0, :normalize => true, :shrink => 1.0780705649831634), 0.32025450689289503)\n",
      "(params, result) = (Dict{Symbol, Any}(:weighting => Dict{Symbol, Any}(:weighting => :dummy, :weighting_at_inference => false), :topk => 209.0, :normalize => false, :shrink => 7.560440562127767), 0.0021208907741251328)\n",
      "(params, result) = (Dict{Symbol, Any}(:weighting => Dict{Symbol, Any}(:weighting => :bm25, :weighting_at_inference => false), :topk => 351.0, :normalize => true, :shrink => 0.24122479051396395), 0.31919406150583246)\n",
      "(params, result) = (Dict{Symbol, Any}(:weighting => Dict{Symbol, Any}(:weighting => :dummy, :weighting_at_inference => false), :topk => 132.0, :normalize => true, :shrink => 0.007610353241429361), 0.38176033934252385)\n",
      "(params, result) = (Dict{Symbol, Any}(:weighting => Dict{Symbol, Any}(:weighting => :bm25, :weighting_at_inference => false), :topk => 121.0, :normalize => false, :shrink => 4.245276837660981), 0.3266171792152704)\n",
      "(params, result) = (Dict{Symbol, Any}(:weighting => Dict{Symbol, Any}(:weighting => :bm25, :weighting_at_inference => false), :topk => 253.0, :normalize => true, :shrink => 522.8428538514777), 0.3213149522799576)\n",
      "(params, result) = (Dict{Symbol, Any}(:weighting => Dict{Symbol, Any}(:weighting => :bm25, :weighting_at_inference => false), :topk => 441.0, :normalize => true, :shrink => 210.97844227441357), 0.295864262990456)\n",
      "(params, result) = (Dict{Symbol, Any}(:weighting => Dict{Symbol, Any}(:weighting => :dummy, :weighting_at_inference => false), :topk => 115.0, :normalize => true, :shrink => 11.459525955905468), 0.3107104984093319)\n",
      "(params, result) = (Dict{Symbol, Any}(:weighting => Dict{Symbol, Any}(:weighting => :dummy, :weighting_at_inference => false), :topk => 82.0, :normalize => false, :shrink => 0.00832844377702799), 0.021208907741251327)\n",
      "(params, result) = (Dict{Symbol, Any}(:weighting => Dict{Symbol, Any}(:weighting => :bm25, :weighting_at_inference => false), :topk => 238.0, :normalize => true, :shrink => 345.0416362051324), 0.33085896076352067)\n",
      "(params, result) = (Dict{Symbol, Any}(:weighting => Dict{Symbol, Any}(:weighting => :bm25, :weighting_at_inference => true), :topk => 213.0, :normalize => false, :shrink => 43.74142285885627), 0.28101802757158006)\n",
      "(params, result) = (Dict{Symbol, Any}(:weighting => Dict{Symbol, Any}(:weighting => :tfidf, :weighting_at_inference => false), :topk => 214.0, :normalize => true, :shrink => 933.5923423032727), 0.24390243902439024)\n",
      "(params, result) = (Dict{Symbol, Any}(:weighting => Dict{Symbol, Any}(:weighting => :tfidf, :weighting_at_inference => false), :topk => 315.0, :normalize => true, :shrink => 0.0011428066901817198), 0.33085896076352067)\n",
      "(params, result) = (Dict{Symbol, Any}(:weighting => Dict{Symbol, Any}(:weighting => :tfidf, :weighting_at_inference => false), :topk => 304.0, :normalize => true, :shrink => 0.0013308383775147495), 0.3361611876988335)\n",
      "(params, result) = (Dict{Symbol, Any}(:weighting => Dict{Symbol, Any}(:weighting => :tfidf, :weighting_at_inference => false), :topk => 296.0, :normalize => true, :shrink => 0.0013579565460677893), 0.33934252386002123)\n",
      "(params, result) = (Dict{Symbol, Any}(:weighting => Dict{Symbol, Any}(:weighting => :tfidf, :weighting_at_inference => false), :topk => 37.0, :normalize => true, :shrink => 0.06189348681715262), 0.3955461293743372)\n",
      "(params, result) = (Dict{Symbol, Any}(:weighting => Dict{Symbol, Any}(:weighting => :tfidf, :weighting_at_inference => false), :topk => 14.0, :normalize => true, :shrink => 0.061911395905418394), 0.30858960763520676)\n",
      "(params, result) = (Dict{Symbol, Any}(:weighting => Dict{Symbol, Any}(:weighting => :dummy, :weighting_at_inference => false), :topk => 60.0, :normalize => true, :shrink => 0.026557181411837556), 0.39660657476139977)\n",
      "(params, result) = (Dict{Symbol, Any}(:weighting => Dict{Symbol, Any}(:weighting => :tfidf, :weighting_at_inference => false), :topk => 53.0, :normalize => true, :shrink => 0.030022344712089033), 0.3997879109225875)\n",
      "(params, result) = (Dict{Symbol, Any}(:weighting => Dict{Symbol, Any}(:weighting => :dummy, :weighting_at_inference => false), :topk => 48.0, :normalize => true, :shrink => 0.02650528444977596), 0.4093319194061506)\n",
      "(params, result) = (Dict{Symbol, Any}(:weighting => Dict{Symbol, Any}(:weighting => :dummy, :weighting_at_inference => false), :topk => 66.0, :normalize => true, :shrink => 0.2837532067893681), 0.3955461293743372)\n",
      "(params, result) = (Dict{Symbol, Any}(:weighting => Dict{Symbol, Any}(:weighting => :tfidf, :weighting_at_inference => false), :topk => 147.0, :normalize => true, :shrink => 0.02171275996596311), 0.3796394485683987)\n",
      "(params, result) = (Dict{Symbol, Any}(:weighting => Dict{Symbol, Any}(:weighting => :dummy, :weighting_at_inference => false), :topk => 79.0, :normalize => true, :shrink => 0.0031032200649473117), 0.3997879109225875)\n",
      "(params, result) = (Dict{Symbol, Any}(:weighting => Dict{Symbol, Any}(:weighting => :dummy, :weighting_at_inference => false), :topk => 89.0, :normalize => true, :shrink => 0.02482933154017017), 0.3955461293743372)\n",
      "(params, result) = (Dict{Symbol, Any}(:weighting => Dict{Symbol, Any}(:weighting => :tfidf, :weighting_at_inference => false), :topk => 53.0, :normalize => true, :shrink => 0.2544149616086002), 0.3997879109225875)\n",
      "(params, result) = (Dict{Symbol, Any}(:weighting => Dict{Symbol, Any}(:weighting => :tfidf, :weighting_at_inference => false), :topk => 171.0, :normalize => true, :shrink => 0.13993839334490418), 0.3753976670201485)\n",
      "(params, result) = (Dict{Symbol, Any}(:weighting => Dict{Symbol, Any}(:weighting => :dummy, :weighting_at_inference => false), :topk => 11.0, :normalize => true, :shrink => 0.6384476945547861), 0.18769883351007424)\n",
      "(params, result) = (Dict{Symbol, Any}(:weighting => Dict{Symbol, Any}(:weighting => :dummy, :weighting_at_inference => false), :topk => 45.0, :normalize => true, :shrink => 0.0027142905456978765), 0.4050901378579003)\n",
      "(params, result) = (Dict{Symbol, Any}(:weighting => Dict{Symbol, Any}(:weighting => :dummy, :weighting_at_inference => false), :topk => 44.0, :normalize => true, :shrink => 0.0032136207729041265), 0.3987274655355249)\n",
      "(params, result) = (Dict{Symbol, Any}(:weighting => Dict{Symbol, Any}(:weighting => :dummy, :weighting_at_inference => false), :topk => 96.0, :normalize => true, :shrink => 0.004024908362663925), 0.39236479321314954)\n",
      "(params, result) = (Dict{Symbol, Any}(:weighting => Dict{Symbol, Any}(:weighting => :dummy, :weighting_at_inference => false), :topk => 58.0, :normalize => true, :shrink => 0.002417403547604328), 0.40402969247083775)\n",
      "(params, result) = (Dict{Symbol, Any}(:weighting => Dict{Symbol, Any}(:weighting => :dummy, :weighting_at_inference => false), :topk => 163.0, :normalize => true, :shrink => 0.002084492849233088), 0.37645811240721105)\n",
      "(params, result) = (Dict{Symbol, Any}(:weighting => Dict{Symbol, Any}(:weighting => :dummy, :weighting_at_inference => false), :topk => 50.0, :normalize => true, :shrink => 0.04067634671609072), 0.40827147401908803)\n",
      "(params, result) = (Dict{Symbol, Any}(:weighting => Dict{Symbol, Any}(:weighting => :dummy, :weighting_at_inference => false), :topk => 107.0, :normalize => true, :shrink => 0.014710304127232015), 0.39236479321314954)\n",
      "(params, result) = (Dict{Symbol, Any}(:weighting => Dict{Symbol, Any}(:weighting => :dummy, :weighting_at_inference => false), :topk => 55.0, :normalize => true, :shrink => 0.04005288094326592), 0.40721102863202546)\n",
      "(params, result) = (Dict{Symbol, Any}(:weighting => Dict{Symbol, Any}(:weighting => :dummy, :weighting_at_inference => false), :topk => 68.0, :normalize => true, :shrink => 0.0561919995864358), 0.3987274655355249)\n",
      "(params, result) = (Dict{Symbol, Any}(:weighting => Dict{Symbol, Any}(:weighting => :dummy, :weighting_at_inference => false), :topk => 30.0, :normalize => true, :shrink => 0.46611963579252186), 0.37645811240721105)\n",
      "(params, result) = (Dict{Symbol, Any}(:weighting => Dict{Symbol, Any}(:weighting => :dummy, :weighting_at_inference => false), :topk => 282.0, :normalize => true, :shrink => 0.12894770387317955), 0.34782608695652173)\n",
      "(params, result) = (Dict{Symbol, Any}(:weighting => Dict{Symbol, Any}(:weighting => :dummy, :weighting_at_inference => false), :topk => 141.0, :normalize => true, :shrink => 0.03805388335661022), 0.3860021208907741)\n",
      "(params, result) = (Dict{Symbol, Any}(:weighting => Dict{Symbol, Any}(:weighting => :dummy, :weighting_at_inference => false), :topk => 194.0, :normalize => true, :shrink => 0.04379434060373383), 0.37327677624602335)\n",
      "(params, result) = (Dict{Symbol, Any}(:weighting => Dict{Symbol, Any}(:weighting => :dummy, :weighting_at_inference => false), :topk => 49.0, :normalize => true, :shrink => 1.966698135415924), 0.39660657476139977)\n",
      "(params, result) = (Dict{Symbol, Any}(:weighting => Dict{Symbol, Any}(:weighting => :dummy, :weighting_at_inference => false), :topk => 74.0, :normalize => true, :shrink => 0.01716576544892633), 0.3997879109225875)\n",
      "(params, result) = (Dict{Symbol, Any}(:weighting => Dict{Symbol, Any}(:weighting => :dummy, :weighting_at_inference => false), :topk => 10.0, :normalize => true, :shrink => 0.2761698695645768), 0.10180275715800637)\n",
      "(params, result) = (Dict{Symbol, Any}(:weighting => Dict{Symbol, Any}(:weighting => :dummy, :weighting_at_inference => false), :topk => 66.0, :normalize => true, :shrink => 0.08525209614837555), 0.39660657476139977)\n",
      "(params, result) = (Dict{Symbol, Any}(:weighting => Dict{Symbol, Any}(:weighting => :dummy, :weighting_at_inference => false), :topk => 96.0, :normalize => true, :shrink => 0.012821808907131922), 0.391304347826087)\n",
      "(params, result) = (Dict{Symbol, Any}(:weighting => Dict{Symbol, Any}(:weighting => :dummy, :weighting_at_inference => false), :topk => 51.0, :normalize => false, :shrink => 0.002968806926123321), 0.03817603393425239)\n",
      "(params, result) = (Dict{Symbol, Any}(:weighting => Dict{Symbol, Any}(:weighting => :dummy, :weighting_at_inference => false), :topk => 153.0, :normalize => true, :shrink => 0.004938423251347127), 0.38494167550371156)\n",
      "(params, result) = (Dict{Symbol, Any}(:weighting => Dict{Symbol, Any}(:weighting => :dummy, :weighting_at_inference => false), :topk => 103.0, :normalize => true, :shrink => 0.02505249202401439), 0.38812301166489926)\n",
      "(params, result) = (Dict{Symbol, Any}(:weighting => Dict{Symbol, Any}(:weighting => :dummy, :weighting_at_inference => false), :topk => 130.0, :normalize => true, :shrink => 0.18938030421941004), 0.3860021208907741)\n",
      "(params, result) = (Dict{Symbol, Any}(:weighting => Dict{Symbol, Any}(:weighting => :dummy, :weighting_at_inference => false), :topk => 187.0, :normalize => true, :shrink => 0.0021322364120925147), 0.3796394485683987)\n",
      "(params, result) = (Dict{Symbol, Any}(:weighting => Dict{Symbol, Any}(:weighting => :dummy, :weighting_at_inference => false), :topk => 76.0, :normalize => true, :shrink => 0.015670837976664607), 0.4050901378579003)\n",
      "(params, result) = (Dict{Symbol, Any}(:weighting => Dict{Symbol, Any}(:weighting => :dummy, :weighting_at_inference => false), :topk => 269.0, :normalize => true, :shrink => 1.6005638978549535), 0.3531283138918346)\n",
      "(params, result) = (Dict{Symbol, Any}(:weighting => Dict{Symbol, Any}(:weighting => :dummy, :weighting_at_inference => false), :topk => 229.0, :normalize => true, :shrink => 0.4495033928891135), 0.35418875927889715)\n",
      "(params, result) = (Dict{Symbol, Any}(:weighting => Dict{Symbol, Any}(:weighting => :dummy, :weighting_at_inference => false), :topk => 77.0, :normalize => false, :shrink => 0.014422610562509573), 0.021208907741251327)\n",
      "(params, result) = (Dict{Symbol, Any}(:weighting => Dict{Symbol, Any}(:weighting => :dummy, :weighting_at_inference => false), :topk => 25.0, :normalize => true, :shrink => 0.0045462780073627414), 0.3647932131495228)\n",
      "(params, result) = (Dict{Symbol, Any}(:weighting => Dict{Symbol, Any}(:weighting => :dummy, :weighting_at_inference => false), :topk => 61.0, :normalize => true, :shrink => 0.03336346712563817), 0.40084835630965004)\n",
      "(params, result) = (Dict{Symbol, Any}(:weighting => Dict{Symbol, Any}(:weighting => :dummy, :weighting_at_inference => false), :topk => 192.0, :normalize => true, :shrink => 0.031475727524881286), 0.37327677624602335)\n",
      "(params, result) = (Dict{Symbol, Any}(:weighting => Dict{Symbol, Any}(:weighting => :dummy, :weighting_at_inference => false), :topk => 99.0, :normalize => true, :shrink => 0.06842587575701764), 0.3987274655355249)\n",
      "(params, result) = (Dict{Symbol, Any}(:weighting => Dict{Symbol, Any}(:weighting => :dummy, :weighting_at_inference => false), :topk => 43.0, :normalize => true, :shrink => 0.08853052346369998), 0.4019088016967126)\n",
      "(params, result) = (Dict{Symbol, Any}(:weighting => Dict{Symbol, Any}(:weighting => :dummy, :weighting_at_inference => false), :topk => 50.0, :normalize => true, :shrink => 0.0467694832497893), 0.40827147401908803)\n",
      "(params, result) = (Dict{Symbol, Any}(:weighting => Dict{Symbol, Any}(:weighting => :dummy, :weighting_at_inference => false), :topk => 56.0, :normalize => true, :shrink => 0.04535276988144964), 0.40721102863202546)\n",
      "(params, result) = (Dict{Symbol, Any}(:weighting => Dict{Symbol, Any}(:weighting => :dummy, :weighting_at_inference => false), :topk => 40.0, :normalize => true, :shrink => 0.09253437798068574), 0.3997879109225875)\n",
      "(params, result) = (Dict{Symbol, Any}(:weighting => Dict{Symbol, Any}(:weighting => :dummy, :weighting_at_inference => false), :topk => 60.0, :normalize => true, :shrink => 0.49303812257596846), 0.3934252386002121)\n",
      "(params, result) = (Dict{Symbol, Any}(:weighting => Dict{Symbol, Any}(:weighting => :dummy, :weighting_at_inference => false), :topk => 41.0, :normalize => true, :shrink => 0.08595292618793193), 0.3997879109225875)\n",
      "(params, result) = (Dict{Symbol, Any}(:weighting => Dict{Symbol, Any}(:weighting => :dummy, :weighting_at_inference => false), :topk => 129.0, :normalize => true, :shrink => 0.17117762041442514), 0.3860021208907741)\n",
      "(params, result) = (Dict{Symbol, Any}(:weighting => Dict{Symbol, Any}(:weighting => :dummy, :weighting_at_inference => false), :topk => 91.0, :normalize => true, :shrink => 0.044412683140693965), 0.39236479321314954)\n",
      "(params, result) = (Dict{Symbol, Any}(:weighting => Dict{Symbol, Any}(:weighting => :dummy, :weighting_at_inference => false), :topk => 38.0, :normalize => true, :shrink => 0.7200417404946263), 0.38918345705196183)\n",
      "(params, result) = (Dict{Symbol, Any}(:weighting => Dict{Symbol, Any}(:weighting => :dummy, :weighting_at_inference => false), :topk => 113.0, :normalize => true, :shrink => 0.01969756553448032), 0.3944856839872747)\n",
      "(params, result) = (Dict{Symbol, Any}(:weighting => Dict{Symbol, Any}(:weighting => :dummy, :weighting_at_inference => false), :topk => 66.0, :normalize => true, :shrink => 0.3737993803324898), 0.39660657476139977)\n",
      "(params, result) = (Dict{Symbol, Any}(:weighting => Dict{Symbol, Any}(:weighting => :dummy, :weighting_at_inference => false), :topk => 23.0, :normalize => true, :shrink => 0.09568552403313543), 0.35100742311770944)\n",
      "(params, result) = (Dict{Symbol, Any}(:weighting => Dict{Symbol, Any}(:weighting => :dummy, :weighting_at_inference => false), :topk => 70.0, :normalize => true, :shrink => 0.01938554187319932), 0.39766702014846234)\n",
      "(params, result) = (Dict{Symbol, Any}(:weighting => Dict{Symbol, Any}(:weighting => :dummy, :weighting_at_inference => false), :topk => 88.0, :normalize => true, :shrink => 0.05070102444849872), 0.39660657476139977)\n",
      "(params, result) = (Dict{Symbol, Any}(:weighting => Dict{Symbol, Any}(:weighting => :dummy, :weighting_at_inference => false), :topk => 153.0, :normalize => true, :shrink => 0.011432633792763332), 0.38494167550371156)\n",
      "(params, result) = (Dict{Symbol, Any}(:weighting => Dict{Symbol, Any}(:weighting => :dummy, :weighting_at_inference => false), :topk => 44.0, :normalize => true, :shrink => 0.18760572201564735), 0.40084835630965004)\n",
      "(params, result) = (Dict{Symbol, Any}(:weighting => Dict{Symbol, Any}(:weighting => :dummy, :weighting_at_inference => false), :topk => 139.0, :normalize => true, :shrink => 0.0060412944090674145), 0.3860021208907741)\n",
      "(params, result) = (Dict{Symbol, Any}(:weighting => Dict{Symbol, Any}(:weighting => :dummy, :weighting_at_inference => false), :topk => 62.0, :normalize => true, :shrink => 0.03179495781402013), 0.3955461293743372)\n",
      "(params, result) = (Dict{Symbol, Any}(:weighting => Dict{Symbol, Any}(:weighting => :dummy, :weighting_at_inference => false), :topk => 107.0, :normalize => true, :shrink => 0.01826826263505942), 0.39236479321314954)\n",
      "(params, result) = (Dict{Symbol, Any}(:weighting => Dict{Symbol, Any}(:weighting => :bm25, :weighting_at_inference => true), :topk => 46.0, :normalize => true, :shrink => 0.07863105460300505), 0.3605514316012725)\n",
      "(params, result) = (Dict{Symbol, Any}(:weighting => Dict{Symbol, Any}(:weighting => :dummy, :weighting_at_inference => false), :topk => 76.0, :normalize => true, :shrink => 0.001793937754403875), 0.4050901378579003)\n",
      "(params, result) = (Dict{Symbol, Any}(:weighting => Dict{Symbol, Any}(:weighting => :dummy, :weighting_at_inference => false), :topk => 18.0, :normalize => true, :shrink => 0.21028865330365326), 0.31919406150583246)\n",
      "(params, result) = (Dict{Symbol, Any}(:weighting => Dict{Symbol, Any}(:weighting => :dummy, :weighting_at_inference => false), :topk => 86.0, :normalize => true, :shrink => 0.0036085860084276865), 0.39766702014846234)\n",
      "(params, result) = (Dict{Symbol, Any}(:weighting => Dict{Symbol, Any}(:weighting => :dummy, :weighting_at_inference => false), :topk => 164.0, :normalize => true, :shrink => 0.05281203475962632), 0.37645811240721105)\n",
      "(params, result) = (Dict{Symbol, Any}(:weighting => Dict{Symbol, Any}(:weighting => :dummy, :weighting_at_inference => false), :topk => 122.0, :normalize => true, :shrink => 0.331462037825178), 0.39236479321314954)\n",
      "(params, result) = (Dict{Symbol, Any}(:weighting => Dict{Symbol, Any}(:weighting => :dummy, :weighting_at_inference => false), :topk => 37.0, :normalize => true, :shrink => 2.3636645926165016), 0.383881230116649)\n",
      "(params, result) = (Dict{Symbol, Any}(:weighting => Dict{Symbol, Any}(:weighting => :dummy, :weighting_at_inference => false), :topk => 182.0, :normalize => true, :shrink => 0.12646895878041203), 0.37327677624602335)\n",
      "(params, result) = (Dict{Symbol, Any}(:weighting => Dict{Symbol, Any}(:weighting => :dummy, :weighting_at_inference => false), :topk => 74.0, :normalize => true, :shrink => 0.03509737813240521), 0.40084835630965004)\n",
      "(params, result) = (Dict{Symbol, Any}(:weighting => Dict{Symbol, Any}(:weighting => :bm25, :weighting_at_inference => true), :topk => 98.0, :normalize => true, :shrink => 1.0444154287844927), 0.36903499469777307)\n",
      "(params, result) = (Dict{Symbol, Any}(:weighting => Dict{Symbol, Any}(:weighting => :dummy, :weighting_at_inference => false), :topk => 57.0, :normalize => false, :shrink => 0.03304958912568387), 0.033934252386002124)\n",
      "(params, result) = (Dict{Symbol, Any}(:weighting => Dict{Symbol, Any}(:weighting => :dummy, :weighting_at_inference => false), :topk => 71.0, :normalize => true, :shrink => 0.0015938279247141502), 0.4019088016967126)\n",
      "(params, result) = (Dict{Symbol, Any}(:weighting => Dict{Symbol, Any}(:weighting => :dummy, :weighting_at_inference => false), :topk => 72.0, :normalize => true, :shrink => 0.0018072149132433953), 0.4029692470837752)\n",
      "(params, result) = (Dict{Symbol, Any}(:weighting => Dict{Symbol, Any}(:weighting => :dummy, :weighting_at_inference => false), :topk => 402.0, :normalize => true, :shrink => 0.002720930434532421), 0.34146341463414637)\n",
      "(params, result) = (Dict{Symbol, Any}(:weighting => Dict{Symbol, Any}(:weighting => :dummy, :weighting_at_inference => false), :topk => 73.0, :normalize => true, :shrink => 0.1556990239662677), 0.3997879109225875)\n"
     ]
    },
    {
     "output_type": "stream",
     "name": "stderr",
     "text": [
      "┌ Info: fmin: 100 / 100 trials carried out\n",
      "└ @ TreeParzen.API /Users/keisuke.yanagi/.julia/packages/TreeParzen/Iw2mh/src/API.jl:176\n",
      "┌ Info: Successfully completed fmin \n",
      "└ @ TreeParzen.API /Users/keisuke.yanagi/.julia/packages/TreeParzen/Iw2mh/src/API.jl:231\n"
     ]
    },
    {
     "output_type": "execute_result",
     "data": {
      "text/plain": [
       "Dict{Symbol, Any} with 4 entries:\n",
       "  :weighting => Dict{Symbol, Any}(:weighting=>:dummy, :weighting_at_inference=>…\n",
       "  :topk      => 48.0\n",
       "  :normalize => true\n",
       "  :shrink    => 0.0265053"
      ]
     },
     "metadata": {},
     "execution_count": 11
    }
   ],
   "metadata": {}
  },
  {
   "cell_type": "code",
   "execution_count": 12,
   "source": [
    "best_model = ItemkNN(convert(Int, best[:topk]), best[:shrink],best[:weighting][:weighting],best[:weighting][:weighting_at_inference],best[:normalize])\n",
    "evaluate(best_model, df_train_valid, df_test, recall100, 100, col_user=:userid, col_item=:movieid, col_rating=:rating)"
   ],
   "outputs": [
    {
     "output_type": "execute_result",
     "data": {
      "text/plain": [
       "0.3637327677624602"
      ]
     },
     "metadata": {},
     "execution_count": 12
    }
   ],
   "metadata": {}
  },
  {
   "cell_type": "code",
   "execution_count": null,
   "source": [],
   "outputs": [],
   "metadata": {}
  }
 ],
 "metadata": {
  "kernelspec": {
   "display_name": "Julia 1.6.0",
   "language": "julia",
   "name": "julia-1.6"
  },
  "language_info": {
   "file_extension": ".jl",
   "mimetype": "application/julia",
   "name": "julia",
   "version": "1.6.0"
  },
  "orig_nbformat": 2
 },
 "nbformat": 4,
 "nbformat_minor": 2
}