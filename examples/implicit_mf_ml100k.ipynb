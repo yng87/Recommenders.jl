{
 "cells": [
  {
   "cell_type": "code",
   "execution_count": 1,
   "source": [
    "using DataFrames, TableOperations, Tables, Random\n",
    "using Recommenders: Movielens100k, load_dataset, ratio_split, ImplicitMF, evaluate_u2i, MeanPrecision, MeanRecall, MeanNDCG, fit!, predict_u2i, make_u2i_dataset"
   ],
   "outputs": [],
   "metadata": {}
  },
  {
   "cell_type": "code",
   "execution_count": 2,
   "source": [
    "ml100k = Movielens100k()\n",
    "download(ml100k)\n",
    "rating, user, movie = load_dataset(ml100k);"
   ],
   "outputs": [],
   "metadata": {}
  },
  {
   "cell_type": "code",
   "execution_count": 3,
   "source": [
    "Random.seed!(1234);\n",
    "train_valid_table, test_table = ratio_split(rating, 0.8)\n",
    "\n",
    "train_table, valid_table = ratio_split(train_valid_table, 0.8)\n",
    "length(Tables.rows(train_table)), length(Tables.rows(valid_table)), length(Tables.rows(test_table))"
   ],
   "outputs": [
    {
     "output_type": "execute_result",
     "data": {
      "text/plain": [
       "(64000, 16000, 20000)"
      ]
     },
     "metadata": {},
     "execution_count": 3
    }
   ],
   "metadata": {}
  },
  {
   "cell_type": "code",
   "execution_count": 4,
   "source": [
    "prec10 = MeanPrecision(10)\n",
    "recall10 = MeanRecall(10)\n",
    "ndcg10 = MeanNDCG(10)\n",
    "metrics = [prec10, recall10, ndcg10]"
   ],
   "outputs": [
    {
     "output_type": "execute_result",
     "data": {
      "text/plain": [
       "3-element Vector{Recommenders.MeanMetric}:\n",
       " Recommenders.MeanMetric{Recommenders.Precision}(Recommenders.Precision(10, \"precision\"))\n",
       " Recommenders.MeanMetric{Recommenders.Recall}(Recommenders.Recall(10, \"recall\"))\n",
       " Recommenders.MeanMetric{Recommenders.NDCG}(Recommenders.NDCG(10, \"ndcg\"))"
      ]
     },
     "metadata": {},
     "execution_count": 4
    }
   ],
   "metadata": {}
  },
  {
   "cell_type": "code",
   "execution_count": 5,
   "source": [
    "model = ImplicitMF(32, true, 0.01797358830471941)"
   ],
   "outputs": [
    {
     "output_type": "execute_result",
     "data": {
      "text/plain": [
       "ImplicitMF(32, Recommenders.Logloss(), true, 0.01797358830471941, nothing, nothing, nothing, nothing, nothing, nothing, nothing, nothing, nothing)"
      ]
     },
     "metadata": {},
     "execution_count": 5
    }
   ],
   "metadata": {}
  },
  {
   "cell_type": "code",
   "execution_count": 6,
   "source": [
    "evaluate_u2i(model, train_valid_table, test_table, metrics, 10, col_item=:movieid, n_epochs=128, n_negatives=7, learning_rate=0.017678089718746345, drop_history=true, verbose=2)"
   ],
   "outputs": [
    {
     "output_type": "stream",
     "name": "stderr",
     "text": [
      "┌ Info: epoch=2: train_loss=0.3346071608338988, val_metric=0.0, best_val_metric=0.0, best_epoch=1\n",
      "└ @ Recommenders /Users/keisuke.yanagi/workspace/Recommender.jl/src/model/implicit_mf.jl:176\n",
      "┌ Info: epoch=4: train_loss=0.3145640408963267, val_metric=0.0, best_val_metric=0.0, best_epoch=1\n",
      "└ @ Recommenders /Users/keisuke.yanagi/workspace/Recommender.jl/src/model/implicit_mf.jl:176\n",
      "┌ Info: epoch=6: train_loss=0.30340284882417046, val_metric=0.0, best_val_metric=0.0, best_epoch=1\n",
      "└ @ Recommenders /Users/keisuke.yanagi/workspace/Recommender.jl/src/model/implicit_mf.jl:176\n",
      "┌ Info: epoch=8: train_loss=0.29420683893976274, val_metric=0.0, best_val_metric=0.0, best_epoch=1\n",
      "└ @ Recommenders /Users/keisuke.yanagi/workspace/Recommender.jl/src/model/implicit_mf.jl:176\n",
      "┌ Info: epoch=10: train_loss=0.28796252356613267, val_metric=0.0, best_val_metric=0.0, best_epoch=1\n",
      "└ @ Recommenders /Users/keisuke.yanagi/workspace/Recommender.jl/src/model/implicit_mf.jl:176\n",
      "┌ Info: epoch=12: train_loss=0.28413580093148605, val_metric=0.0, best_val_metric=0.0, best_epoch=1\n",
      "└ @ Recommenders /Users/keisuke.yanagi/workspace/Recommender.jl/src/model/implicit_mf.jl:176\n",
      "┌ Info: epoch=14: train_loss=0.28078400075066134, val_metric=0.0, best_val_metric=0.0, best_epoch=1\n",
      "└ @ Recommenders /Users/keisuke.yanagi/workspace/Recommender.jl/src/model/implicit_mf.jl:176\n",
      "┌ Info: epoch=16: train_loss=0.2785498781635966, val_metric=0.0, best_val_metric=0.0, best_epoch=1\n",
      "└ @ Recommenders /Users/keisuke.yanagi/workspace/Recommender.jl/src/model/implicit_mf.jl:176\n",
      "┌ Info: epoch=18: train_loss=0.2768760463608447, val_metric=0.0, best_val_metric=0.0, best_epoch=1\n",
      "└ @ Recommenders /Users/keisuke.yanagi/workspace/Recommender.jl/src/model/implicit_mf.jl:176\n",
      "┌ Info: epoch=20: train_loss=0.27472347414446446, val_metric=0.0, best_val_metric=0.0, best_epoch=1\n",
      "└ @ Recommenders /Users/keisuke.yanagi/workspace/Recommender.jl/src/model/implicit_mf.jl:176\n",
      "┌ Info: epoch=22: train_loss=0.2736478310423702, val_metric=0.0, best_val_metric=0.0, best_epoch=1\n",
      "└ @ Recommenders /Users/keisuke.yanagi/workspace/Recommender.jl/src/model/implicit_mf.jl:176\n",
      "┌ Info: epoch=24: train_loss=0.2728946119353513, val_metric=0.0, best_val_metric=0.0, best_epoch=1\n",
      "└ @ Recommenders /Users/keisuke.yanagi/workspace/Recommender.jl/src/model/implicit_mf.jl:176\n",
      "┌ Info: epoch=26: train_loss=0.2719859941308968, val_metric=0.0, best_val_metric=0.0, best_epoch=1\n",
      "└ @ Recommenders /Users/keisuke.yanagi/workspace/Recommender.jl/src/model/implicit_mf.jl:176\n",
      "┌ Info: epoch=28: train_loss=0.2716424536934357, val_metric=0.0, best_val_metric=0.0, best_epoch=1\n",
      "└ @ Recommenders /Users/keisuke.yanagi/workspace/Recommender.jl/src/model/implicit_mf.jl:176\n",
      "┌ Info: epoch=30: train_loss=0.2711879387093787, val_metric=0.0, best_val_metric=0.0, best_epoch=1\n",
      "└ @ Recommenders /Users/keisuke.yanagi/workspace/Recommender.jl/src/model/implicit_mf.jl:176\n",
      "┌ Info: epoch=32: train_loss=0.27032168937679474, val_metric=0.0, best_val_metric=0.0, best_epoch=1\n",
      "└ @ Recommenders /Users/keisuke.yanagi/workspace/Recommender.jl/src/model/implicit_mf.jl:176\n",
      "┌ Info: epoch=34: train_loss=0.2701774938906073, val_metric=0.0, best_val_metric=0.0, best_epoch=1\n",
      "└ @ Recommenders /Users/keisuke.yanagi/workspace/Recommender.jl/src/model/implicit_mf.jl:176\n",
      "┌ Info: epoch=36: train_loss=0.2694974193790538, val_metric=0.0, best_val_metric=0.0, best_epoch=1\n",
      "└ @ Recommenders /Users/keisuke.yanagi/workspace/Recommender.jl/src/model/implicit_mf.jl:176\n",
      "┌ Info: epoch=38: train_loss=0.2694500193943739, val_metric=0.0, best_val_metric=0.0, best_epoch=1\n",
      "└ @ Recommenders /Users/keisuke.yanagi/workspace/Recommender.jl/src/model/implicit_mf.jl:176\n",
      "┌ Info: epoch=40: train_loss=0.2694790580207406, val_metric=0.0, best_val_metric=0.0, best_epoch=1\n",
      "└ @ Recommenders /Users/keisuke.yanagi/workspace/Recommender.jl/src/model/implicit_mf.jl:176\n",
      "┌ Info: epoch=42: train_loss=0.26888607905957884, val_metric=0.0, best_val_metric=0.0, best_epoch=1\n",
      "└ @ Recommenders /Users/keisuke.yanagi/workspace/Recommender.jl/src/model/implicit_mf.jl:176\n",
      "┌ Info: epoch=44: train_loss=0.2689615622292155, val_metric=0.0, best_val_metric=0.0, best_epoch=1\n",
      "└ @ Recommenders /Users/keisuke.yanagi/workspace/Recommender.jl/src/model/implicit_mf.jl:176\n",
      "┌ Info: epoch=46: train_loss=0.26882576206831393, val_metric=0.0, best_val_metric=0.0, best_epoch=1\n",
      "└ @ Recommenders /Users/keisuke.yanagi/workspace/Recommender.jl/src/model/implicit_mf.jl:176\n",
      "┌ Info: epoch=48: train_loss=0.2687346587490043, val_metric=0.0, best_val_metric=0.0, best_epoch=1\n",
      "└ @ Recommenders /Users/keisuke.yanagi/workspace/Recommender.jl/src/model/implicit_mf.jl:176\n",
      "┌ Info: epoch=50: train_loss=0.26840133708788616, val_metric=0.0, best_val_metric=0.0, best_epoch=1\n",
      "└ @ Recommenders /Users/keisuke.yanagi/workspace/Recommender.jl/src/model/implicit_mf.jl:176\n",
      "┌ Info: epoch=52: train_loss=0.26834603775637456, val_metric=0.0, best_val_metric=0.0, best_epoch=1\n",
      "└ @ Recommenders /Users/keisuke.yanagi/workspace/Recommender.jl/src/model/implicit_mf.jl:176\n",
      "┌ Info: epoch=54: train_loss=0.26812638865089883, val_metric=0.0, best_val_metric=0.0, best_epoch=1\n",
      "└ @ Recommenders /Users/keisuke.yanagi/workspace/Recommender.jl/src/model/implicit_mf.jl:176\n",
      "┌ Info: epoch=56: train_loss=0.26826532932356933, val_metric=0.0, best_val_metric=0.0, best_epoch=1\n",
      "└ @ Recommenders /Users/keisuke.yanagi/workspace/Recommender.jl/src/model/implicit_mf.jl:176\n",
      "┌ Info: epoch=58: train_loss=0.2678879978749036, val_metric=0.0, best_val_metric=0.0, best_epoch=1\n",
      "└ @ Recommenders /Users/keisuke.yanagi/workspace/Recommender.jl/src/model/implicit_mf.jl:176\n",
      "┌ Info: epoch=60: train_loss=0.26822274211810015, val_metric=0.0, best_val_metric=0.0, best_epoch=1\n",
      "└ @ Recommenders /Users/keisuke.yanagi/workspace/Recommender.jl/src/model/implicit_mf.jl:176\n",
      "┌ Info: epoch=62: train_loss=0.2679805284658523, val_metric=0.0, best_val_metric=0.0, best_epoch=1\n",
      "└ @ Recommenders /Users/keisuke.yanagi/workspace/Recommender.jl/src/model/implicit_mf.jl:176\n",
      "┌ Info: epoch=64: train_loss=0.2675791681486055, val_metric=0.0, best_val_metric=0.0, best_epoch=1\n",
      "└ @ Recommenders /Users/keisuke.yanagi/workspace/Recommender.jl/src/model/implicit_mf.jl:176\n",
      "┌ Info: epoch=66: train_loss=0.2679812940524374, val_metric=0.0, best_val_metric=0.0, best_epoch=1\n",
      "└ @ Recommenders /Users/keisuke.yanagi/workspace/Recommender.jl/src/model/implicit_mf.jl:176\n",
      "┌ Info: epoch=68: train_loss=0.2674672837557397, val_metric=0.0, best_val_metric=0.0, best_epoch=1\n",
      "└ @ Recommenders /Users/keisuke.yanagi/workspace/Recommender.jl/src/model/implicit_mf.jl:176\n",
      "┌ Info: epoch=70: train_loss=0.26734274175004136, val_metric=0.0, best_val_metric=0.0, best_epoch=1\n",
      "└ @ Recommenders /Users/keisuke.yanagi/workspace/Recommender.jl/src/model/implicit_mf.jl:176\n",
      "┌ Info: epoch=72: train_loss=0.2675787501853767, val_metric=0.0, best_val_metric=0.0, best_epoch=1\n",
      "└ @ Recommenders /Users/keisuke.yanagi/workspace/Recommender.jl/src/model/implicit_mf.jl:176\n",
      "┌ Info: epoch=74: train_loss=0.26692325886963647, val_metric=0.0, best_val_metric=0.0, best_epoch=1\n",
      "└ @ Recommenders /Users/keisuke.yanagi/workspace/Recommender.jl/src/model/implicit_mf.jl:176\n",
      "┌ Info: epoch=76: train_loss=0.26767785081336903, val_metric=0.0, best_val_metric=0.0, best_epoch=1\n",
      "└ @ Recommenders /Users/keisuke.yanagi/workspace/Recommender.jl/src/model/implicit_mf.jl:176\n",
      "┌ Info: epoch=78: train_loss=0.2672885469742364, val_metric=0.0, best_val_metric=0.0, best_epoch=1\n",
      "└ @ Recommenders /Users/keisuke.yanagi/workspace/Recommender.jl/src/model/implicit_mf.jl:176\n",
      "┌ Info: epoch=80: train_loss=0.267345545367239, val_metric=0.0, best_val_metric=0.0, best_epoch=1\n",
      "└ @ Recommenders /Users/keisuke.yanagi/workspace/Recommender.jl/src/model/implicit_mf.jl:176\n",
      "┌ Info: epoch=82: train_loss=0.26717561270859824, val_metric=0.0, best_val_metric=0.0, best_epoch=1\n",
      "└ @ Recommenders /Users/keisuke.yanagi/workspace/Recommender.jl/src/model/implicit_mf.jl:176\n",
      "┌ Info: epoch=84: train_loss=0.26726484746972035, val_metric=0.0, best_val_metric=0.0, best_epoch=1\n",
      "└ @ Recommenders /Users/keisuke.yanagi/workspace/Recommender.jl/src/model/implicit_mf.jl:176\n",
      "┌ Info: epoch=86: train_loss=0.2672414434784869, val_metric=0.0, best_val_metric=0.0, best_epoch=1\n",
      "└ @ Recommenders /Users/keisuke.yanagi/workspace/Recommender.jl/src/model/implicit_mf.jl:176\n",
      "┌ Info: epoch=88: train_loss=0.2671354277001356, val_metric=0.0, best_val_metric=0.0, best_epoch=1\n",
      "└ @ Recommenders /Users/keisuke.yanagi/workspace/Recommender.jl/src/model/implicit_mf.jl:176\n",
      "┌ Info: epoch=90: train_loss=0.2676767900359467, val_metric=0.0, best_val_metric=0.0, best_epoch=1\n",
      "└ @ Recommenders /Users/keisuke.yanagi/workspace/Recommender.jl/src/model/implicit_mf.jl:176\n",
      "┌ Info: epoch=92: train_loss=0.2672001392983897, val_metric=0.0, best_val_metric=0.0, best_epoch=1\n",
      "└ @ Recommenders /Users/keisuke.yanagi/workspace/Recommender.jl/src/model/implicit_mf.jl:176\n",
      "┌ Info: epoch=94: train_loss=0.2672571706848232, val_metric=0.0, best_val_metric=0.0, best_epoch=1\n",
      "└ @ Recommenders /Users/keisuke.yanagi/workspace/Recommender.jl/src/model/implicit_mf.jl:176\n",
      "┌ Info: epoch=96: train_loss=0.26721782842707414, val_metric=0.0, best_val_metric=0.0, best_epoch=1\n",
      "└ @ Recommenders /Users/keisuke.yanagi/workspace/Recommender.jl/src/model/implicit_mf.jl:176\n",
      "┌ Info: epoch=98: train_loss=0.26708624093579464, val_metric=0.0, best_val_metric=0.0, best_epoch=1\n",
      "└ @ Recommenders /Users/keisuke.yanagi/workspace/Recommender.jl/src/model/implicit_mf.jl:176\n",
      "┌ Info: epoch=100: train_loss=0.2668598945173603, val_metric=0.0, best_val_metric=0.0, best_epoch=1\n",
      "└ @ Recommenders /Users/keisuke.yanagi/workspace/Recommender.jl/src/model/implicit_mf.jl:176\n",
      "┌ Info: epoch=102: train_loss=0.266563601705513, val_metric=0.0, best_val_metric=0.0, best_epoch=1\n",
      "└ @ Recommenders /Users/keisuke.yanagi/workspace/Recommender.jl/src/model/implicit_mf.jl:176\n",
      "┌ Info: epoch=104: train_loss=0.26715212460864357, val_metric=0.0, best_val_metric=0.0, best_epoch=1\n",
      "└ @ Recommenders /Users/keisuke.yanagi/workspace/Recommender.jl/src/model/implicit_mf.jl:176\n",
      "┌ Info: epoch=106: train_loss=0.26699431542522406, val_metric=0.0, best_val_metric=0.0, best_epoch=1\n",
      "└ @ Recommenders /Users/keisuke.yanagi/workspace/Recommender.jl/src/model/implicit_mf.jl:176\n",
      "┌ Info: epoch=108: train_loss=0.26705092241817685, val_metric=0.0, best_val_metric=0.0, best_epoch=1\n",
      "└ @ Recommenders /Users/keisuke.yanagi/workspace/Recommender.jl/src/model/implicit_mf.jl:176\n",
      "┌ Info: epoch=110: train_loss=0.266691974661148, val_metric=0.0, best_val_metric=0.0, best_epoch=1\n",
      "└ @ Recommenders /Users/keisuke.yanagi/workspace/Recommender.jl/src/model/implicit_mf.jl:176\n",
      "┌ Info: epoch=112: train_loss=0.26670153904188676, val_metric=0.0, best_val_metric=0.0, best_epoch=1\n",
      "└ @ Recommenders /Users/keisuke.yanagi/workspace/Recommender.jl/src/model/implicit_mf.jl:176\n",
      "┌ Info: epoch=114: train_loss=0.26688532300023915, val_metric=0.0, best_val_metric=0.0, best_epoch=1\n",
      "└ @ Recommenders /Users/keisuke.yanagi/workspace/Recommender.jl/src/model/implicit_mf.jl:176\n",
      "┌ Info: epoch=116: train_loss=0.26713400875416093, val_metric=0.0, best_val_metric=0.0, best_epoch=1\n",
      "└ @ Recommenders /Users/keisuke.yanagi/workspace/Recommender.jl/src/model/implicit_mf.jl:176\n",
      "┌ Info: epoch=118: train_loss=0.26683493122405205, val_metric=0.0, best_val_metric=0.0, best_epoch=1\n",
      "└ @ Recommenders /Users/keisuke.yanagi/workspace/Recommender.jl/src/model/implicit_mf.jl:176\n",
      "┌ Info: epoch=120: train_loss=0.26712816538889195, val_metric=0.0, best_val_metric=0.0, best_epoch=1\n",
      "└ @ Recommenders /Users/keisuke.yanagi/workspace/Recommender.jl/src/model/implicit_mf.jl:176\n",
      "┌ Info: epoch=122: train_loss=0.2670549087262832, val_metric=0.0, best_val_metric=0.0, best_epoch=1\n",
      "└ @ Recommenders /Users/keisuke.yanagi/workspace/Recommender.jl/src/model/implicit_mf.jl:176\n",
      "┌ Info: epoch=124: train_loss=0.2670256204648903, val_metric=0.0, best_val_metric=0.0, best_epoch=1\n",
      "└ @ Recommenders /Users/keisuke.yanagi/workspace/Recommender.jl/src/model/implicit_mf.jl:176\n",
      "┌ Info: epoch=126: train_loss=0.266932735904043, val_metric=0.0, best_val_metric=0.0, best_epoch=1\n",
      "└ @ Recommenders /Users/keisuke.yanagi/workspace/Recommender.jl/src/model/implicit_mf.jl:176\n",
      "┌ Info: epoch=128: train_loss=0.26642492346273644, val_metric=0.0, best_val_metric=0.0, best_epoch=1\n",
      "└ @ Recommenders /Users/keisuke.yanagi/workspace/Recommender.jl/src/model/implicit_mf.jl:176\n"
     ]
    },
    {
     "output_type": "execute_result",
     "data": {
      "text/plain": [
       "(ndcg10 = 0.44084736020813536, precision10 = 0.3657476139978791, recall10 = 0.24173671290934215)"
      ]
     },
     "metadata": {},
     "execution_count": 6
    }
   ],
   "metadata": {}
  },
  {
   "cell_type": "code",
   "execution_count": null,
   "source": [],
   "outputs": [],
   "metadata": {}
  }
 ],
 "metadata": {
  "orig_nbformat": 4,
  "language_info": {
   "file_extension": ".jl",
   "name": "julia",
   "mimetype": "application/julia",
   "version": "1.6.0"
  },
  "kernelspec": {
   "name": "julia-1.6",
   "display_name": "Julia 1.6.0",
   "language": "julia"
  }
 },
 "nbformat": 4,
 "nbformat_minor": 2
}