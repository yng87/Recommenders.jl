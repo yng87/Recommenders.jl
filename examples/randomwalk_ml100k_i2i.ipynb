{
 "cells": [
  {
   "cell_type": "code",
   "execution_count": 1,
   "metadata": {},
   "outputs": [],
   "source": [
    "using DataFrames, TableOperations, Tables, Random\n",
    "using Recommenders: Movielens100k, load_dataset, Randomwalk, fit!, predict_i2i"
   ]
  },
  {
   "cell_type": "code",
   "execution_count": 2,
   "metadata": {},
   "outputs": [],
   "source": [
    "ml100k = Movielens100k()\n",
    "download(ml100k)\n",
    "rating, user, movie = load_dataset(ml100k);"
   ]
  },
  {
   "cell_type": "code",
   "execution_count": 3,
   "metadata": {},
   "outputs": [
    {
     "data": {
      "text/plain": [
       "TableOperations.Transforms{true, CSV.File, Dict{Symbol, var\"#3#4\"}}(CSV.File(\"/Users/keisuke.yanagi/workspace/Recommender.jl/src/dataset/../../dataset/movielens100k/u.data\"):\n",
       "Size: 100000 x 4\n",
       "Tables.Schema:\n",
       " :userid     Int64\n",
       " :movieid    Int64\n",
       " :rating     Int64\n",
       " :timestamp  Int64, Dict(:rating => var\"#3#4\"()))"
      ]
     },
     "metadata": {},
     "output_type": "display_data"
    }
   ],
   "source": [
    "rating = rating |> TableOperations.transform(Dict(:rating=>x->1.))"
   ]
  },
  {
   "cell_type": "code",
   "execution_count": 4,
   "metadata": {},
   "outputs": [],
   "source": [
    "item2title = Dict()\n",
    "for row in Tables.rows(movie)\n",
    "    item2title[row[:movieid]] = row[:movie_title]\n",
    "end"
   ]
  },
  {
   "cell_type": "code",
   "execution_count": 5,
   "metadata": {},
   "outputs": [
    {
     "data": {
      "text/plain": [
       "Randomwalk(nothing, nothing, nothing, nothing, nothing, nothing, nothing)"
      ]
     },
     "metadata": {},
     "output_type": "display_data"
    }
   ],
   "source": [
    "model = Randomwalk()"
   ]
  },
  {
   "cell_type": "code",
   "execution_count": 6,
   "metadata": {},
   "outputs": [],
   "source": [
    "fit!(model, rating, col_user=:userid, col_item=:movieid);"
   ]
  },
  {
   "cell_type": "code",
   "execution_count": 8,
   "metadata": {},
   "outputs": [
    {
     "data": {
      "text/plain": [
       "Dict{Symbol, Real} with 6 entries:\n",
       "  :pixie_walk_length_scaling    => false\n",
       "  :pixie_multi_hit_boosting     => false\n",
       "  :terminate_prob               => 0.9\n",
       "  :total_walk_length            => 51307\n",
       "  :min_high_visited_candidates  => 500\n",
       "  :high_visited_count_threshold => 64"
      ]
     },
     "metadata": {},
     "output_type": "display_data"
    }
   ],
   "source": [
    "model_params = Dict(\n",
    "    :pixie_walk_length_scaling=>false,\n",
    "    :pixie_multi_hit_boosting=>false,\n",
    "    :terminate_prob=>0.9,\n",
    "    :total_walk_length=>51307,\n",
    "    :min_high_visited_candidates=>500,\n",
    "    :high_visited_count_threshold=>64\n",
    ")"
   ]
  },
  {
   "cell_type": "code",
   "execution_count": 16,
   "metadata": {},
   "outputs": [
    {
     "name": "stdout",
     "output_type": "stream",
     "text": [
      "Star Trek: First Contact (1996)\n",
      "222:Star Trek: First Contact (1996)\n",
      "181:Return of the Jedi (1983)\n",
      "50:Star Wars (1977)\n",
      "1:Toy Story (1995)\n",
      "100:Fargo (1996)\n",
      "121:Independence Day (ID4) (1996)\n",
      "258:Contact (1997)\n",
      "7:Twelve Monkeys (1995)\n",
      "294:Liar Liar (1997)\n",
      "117:Rock, The (1996)\n"
     ]
    }
   ],
   "source": [
    "itemid=222\n",
    "println(item2title[itemid])\n",
    "for p in predict_i2i(model, itemid, 10; model_params...)\n",
    "    println(p, \":\", item2title[p])\n",
    "end"
   ]
  },
  {
   "cell_type": "code",
   "execution_count": 11,
   "metadata": {},
   "outputs": [
    {
     "name": "stdout",
     "output_type": "stream",
     "text": [
      "Alien (1979)\n",
      "183:Alien (1979)\n",
      "50:Star Wars (1977)\n",
      "56:Pulp Fiction (1994)\n",
      "79:Fugitive, The (1993)\n",
      "98:Silence of the Lambs, The (1991)\n",
      "181:Return of the Jedi (1983)\n",
      "174:Raiders of the Lost Ark (1981)\n",
      "100:Fargo (1996)\n",
      "195:Terminator, The (1984)\n",
      "172:Empire Strikes Back, The (1980)\n"
     ]
    }
   ],
   "source": [
    "itemid=183\n",
    "println(item2title[itemid])\n",
    "for p in predict_i2i(model, itemid, 10; model_params...)\n",
    "    println(p, \":\", item2title[p])\n",
    "end"
   ]
  },
  {
   "cell_type": "code",
   "execution_count": 14,
   "metadata": {},
   "outputs": [
    {
     "name": "stdout",
     "output_type": "stream",
     "text": [
      "Terminator, The (1984)\n",
      "195:Terminator, The (1984)\n",
      "50:Star Wars (1977)\n",
      "174:Raiders of the Lost Ark (1981)\n",
      "172:Empire Strikes Back, The (1980)\n",
      "56:Pulp Fiction (1994)\n",
      "96:Terminator 2: Judgment Day (1991)\n",
      "98:Silence of the Lambs, The (1991)\n",
      "181:Return of the Jedi (1983)\n",
      "204:Back to the Future (1985)\n",
      "183:Alien (1979)\n"
     ]
    }
   ],
   "source": [
    "itemid=195\n",
    "println(item2title[itemid])\n",
    "for p in predict_i2i(model, itemid, 10; model_params...)\n",
    "    println(p, \":\", item2title[p])\n",
    "end"
   ]
  },
  {
   "cell_type": "code",
   "execution_count": 32,
   "metadata": {},
   "outputs": [],
   "source": []
  }
 ],
 "metadata": {
  "interpreter": {
   "hash": "f62af6671f35730163be90a87b8e97b9066fc95b883f1028997e4df817c92215"
  },
  "kernelspec": {
   "display_name": "Julia 1.7.0",
   "language": "julia",
   "name": "julia-1.7"
  },
  "language_info": {
   "file_extension": ".jl",
   "mimetype": "application/julia",
   "name": "julia",
   "version": "1.7.0"
  },
  "orig_nbformat": 2
 },
 "nbformat": 4,
 "nbformat_minor": 2
}
